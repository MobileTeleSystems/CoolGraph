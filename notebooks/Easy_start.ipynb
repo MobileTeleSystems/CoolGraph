{
 "cells": [
  {
   "cell_type": "markdown",
   "id": "bdde75cc",
   "metadata": {},
   "source": [
    "# Easy Start"
   ]
  },
  {
   "cell_type": "markdown",
   "id": "56d499f9",
   "metadata": {},
   "source": [
    "1. [Runner Usage](#p1)\n",
    "2. [HypeRunner Usage](#p2)"
   ]
  },
  {
   "cell_type": "markdown",
   "id": "57309806",
   "metadata": {},
   "source": [
    "### Summary:\n",
    "##### Importing Amazon Computers dataset from `PyG.datasets` <br> Initializing `Runner` and running it using `run()` function <br> Using `HypeRunner` to find model with best parameters using `optimize_run()` function"
   ]
  },
  {
   "cell_type": "markdown",
   "id": "42733c02",
   "metadata": {},
   "source": [
    "## 1. <a id=\"p1\"> Runner Usage </a>"
   ]
  },
  {
   "cell_type": "code",
   "execution_count": 4,
   "id": "330861b1",
   "metadata": {
    "execution": {
     "iopub.execute_input": "2024-07-26T00:54:11.732382Z",
     "iopub.status.busy": "2024-07-26T00:54:11.731863Z",
     "iopub.status.idle": "2024-07-26T00:54:13.120174Z",
     "shell.execute_reply": "2024-07-26T00:54:13.119534Z",
     "shell.execute_reply.started": "2024-07-26T00:54:11.732352Z"
    }
   },
   "outputs": [],
   "source": [
    "# imports for loading the dataset\n",
    "from torch_geometric import datasets\n",
    "import torch\n",
    "import pandas as pd\n",
    "from torch_geometric.data import Data\n",
    "# importing Runner\n",
    "from cool_graph.runners import Runner"
   ]
  },
  {
   "cell_type": "code",
   "execution_count": 5,
   "id": "0176bba2",
   "metadata": {
    "execution": {
     "iopub.execute_input": "2024-07-26T00:54:31.047417Z",
     "iopub.status.busy": "2024-07-26T00:54:31.046295Z",
     "iopub.status.idle": "2024-07-26T00:54:31.125573Z",
     "shell.execute_reply": "2024-07-26T00:54:31.124861Z",
     "shell.execute_reply.started": "2024-07-26T00:54:31.047384Z"
    }
   },
   "outputs": [
    {
     "data": {
      "text/plain": [
       "Data(x=[13752, 767], edge_index=[2, 491722], y=[13752])"
      ]
     },
     "execution_count": 5,
     "metadata": {},
     "output_type": "execute_result"
    }
   ],
   "source": [
    "# use simple Amazon dataset with Computers\n",
    "dataset = datasets.Amazon(root='./data/Amazon', name='Computers')\n",
    "data = dataset.data\n",
    "data"
   ]
  },
  {
   "cell_type": "code",
   "execution_count": 6,
   "id": "e9e02e76",
   "metadata": {
    "execution": {
     "iopub.execute_input": "2024-07-26T00:55:20.951587Z",
     "iopub.status.busy": "2024-07-26T00:55:20.950674Z",
     "iopub.status.idle": "2024-07-26T00:56:39.212719Z",
     "shell.execute_reply": "2024-07-26T00:56:39.211765Z",
     "shell.execute_reply.started": "2024-07-26T00:55:20.951557Z"
    }
   },
   "outputs": [
    {
     "name": "stderr",
     "output_type": "stream",
     "text": [
      "Sample data: 100%|██████████| 42/42 [00:05<00:00,  7.48it/s]\n",
      "Sample data: 100%|██████████| 14/14 [00:02<00:00,  6.97it/s]\n",
      "2024-07-26 03:55:37.076 | INFO     | cool_graph.train.helpers:eval_epoch:218 - test:\n",
      " {'accuracy': 0.547, 'cross_entropy': 1.307, 'f1_weighted': 0.502, 'calc_time': 0.012, 'main_metric': 0.547}\n",
      "2024-07-26 03:55:38.566 | INFO     | cool_graph.train.helpers:eval_epoch:218 - train:\n",
      " {'accuracy': 0.559, 'cross_entropy': 1.288, 'f1_weighted': 0.511, 'calc_time': 0.025, 'main_metric': 0.559}\n",
      "2024-07-26 03:55:52.695 | INFO     | cool_graph.train.helpers:eval_epoch:218 - test:\n",
      " {'accuracy': 0.9, 'cross_entropy': 0.319, 'f1_weighted': 0.899, 'calc_time': 0.009, 'main_metric': 0.9}\n",
      "2024-07-26 03:55:54.262 | INFO     | cool_graph.train.helpers:eval_epoch:218 - train:\n",
      " {'accuracy': 0.919, 'cross_entropy': 0.253, 'f1_weighted': 0.919, 'calc_time': 0.026, 'main_metric': 0.919}\n",
      "2024-07-26 03:56:08.729 | INFO     | cool_graph.train.helpers:eval_epoch:218 - test:\n",
      " {'accuracy': 0.917, 'cross_entropy': 0.28, 'f1_weighted': 0.916, 'calc_time': 0.011, 'main_metric': 0.917}\n",
      "2024-07-26 03:56:10.056 | INFO     | cool_graph.train.helpers:eval_epoch:218 - train:\n",
      " {'accuracy': 0.954, 'cross_entropy': 0.15, 'f1_weighted': 0.954, 'calc_time': 0.022, 'main_metric': 0.954}\n",
      "2024-07-26 03:56:24.023 | INFO     | cool_graph.train.helpers:eval_epoch:218 - test:\n",
      " {'accuracy': 0.913, 'cross_entropy': 0.28, 'f1_weighted': 0.913, 'calc_time': 0.009, 'main_metric': 0.913}\n",
      "2024-07-26 03:56:25.228 | INFO     | cool_graph.train.helpers:eval_epoch:218 - train:\n",
      " {'accuracy': 0.965, 'cross_entropy': 0.117, 'f1_weighted': 0.965, 'calc_time': 0.02, 'main_metric': 0.965}\n",
      "2024-07-26 03:56:37.795 | INFO     | cool_graph.train.helpers:eval_epoch:218 - test:\n",
      " {'accuracy': 0.918, 'cross_entropy': 0.296, 'f1_weighted': 0.918, 'calc_time': 0.011, 'main_metric': 0.918}\n",
      "2024-07-26 03:56:39.064 | INFO     | cool_graph.train.helpers:eval_epoch:218 - train:\n",
      " {'accuracy': 0.974, 'cross_entropy': 0.088, 'f1_weighted': 0.973, 'calc_time': 0.021, 'main_metric': 0.974}\n"
     ]
    }
   ],
   "source": [
    "# initializing Runner\n",
    "runner = Runner(data)\n",
    "# running (training and testing)\n",
    "result = runner.run()"
   ]
  },
  {
   "cell_type": "code",
   "execution_count": 7,
   "id": "90b042f4",
   "metadata": {
    "execution": {
     "iopub.execute_input": "2024-07-26T00:56:39.215358Z",
     "iopub.status.busy": "2024-07-26T00:56:39.214794Z",
     "iopub.status.idle": "2024-07-26T00:56:39.221439Z",
     "shell.execute_reply": "2024-07-26T00:56:39.220836Z",
     "shell.execute_reply.started": "2024-07-26T00:56:39.215327Z"
    }
   },
   "outputs": [
    {
     "data": {
      "text/plain": [
       "{'accuracy': 0.918,\n",
       " 'cross_entropy': 0.296,\n",
       " 'f1_weighted': 0.918,\n",
       " 'calc_time': 0.011,\n",
       " 'main_metric': 0.918,\n",
       " 'tasks': {'y': {'accuracy': 0.9179755671902269,\n",
       "   'cross_entropy': 0.2957859933376312,\n",
       "   'f1_weighted': 0.9177619027180643}},\n",
       " 'epoch': 20}"
      ]
     },
     "execution_count": 7,
     "metadata": {},
     "output_type": "execute_result"
    }
   ],
   "source": [
    "# checking scores\n",
    "result[\"best_loss\"]"
   ]
  },
  {
   "cell_type": "markdown",
   "id": "272f20b6",
   "metadata": {},
   "source": [
    "## 2. <a id=\"p2\"> HypeRunner Usage </a>"
   ]
  },
  {
   "cell_type": "code",
   "execution_count": 12,
   "id": "ef5500b5",
   "metadata": {
    "execution": {
     "iopub.execute_input": "2024-07-26T13:54:43.617569Z",
     "iopub.status.busy": "2024-07-26T13:54:43.616794Z",
     "iopub.status.idle": "2024-07-26T13:59:15.517490Z",
     "shell.execute_reply": "2024-07-26T13:59:15.516858Z",
     "shell.execute_reply.started": "2024-07-26T13:54:43.617536Z"
    }
   },
   "outputs": [
    {
     "name": "stderr",
     "output_type": "stream",
     "text": [
      "Sample data: 100%|██████████| 42/42 [00:05<00:00,  8.05it/s]\n",
      "Sample data: 100%|██████████| 14/14 [00:01<00:00,  8.47it/s]\n",
      "\u001b[32m[I 2024-07-26 16:54:50,944]\u001b[0m A new study created in memory with name: no-name-327b99a6-a635-4cde-ad49-43e632999580\u001b[0m\n",
      "2024-07-26 16:54:53.727 | INFO     | cool_graph.train.helpers:eval_epoch:218 - test:\n",
      " {'accuracy': 0.53, 'cross_entropy': 1.337, 'f1_weighted': 0.47, 'calc_time': 0.005, 'main_metric': 0.53}\n",
      "2024-07-26 16:54:54.741 | INFO     | cool_graph.train.helpers:eval_epoch:218 - train:\n",
      " {'accuracy': 0.526, 'cross_entropy': 1.33, 'f1_weighted': 0.469, 'calc_time': 0.017, 'main_metric': 0.526}\n",
      "2024-07-26 16:55:03.457 | INFO     | cool_graph.train.helpers:eval_epoch:218 - test:\n",
      " {'accuracy': 0.896, 'cross_entropy': 0.31, 'f1_weighted': 0.897, 'calc_time': 0.008, 'main_metric': 0.896}\n",
      "2024-07-26 16:55:04.513 | INFO     | cool_graph.train.helpers:eval_epoch:218 - train:\n",
      " {'accuracy': 0.91, 'cross_entropy': 0.265, 'f1_weighted': 0.911, 'calc_time': 0.017, 'main_metric': 0.91}\n",
      "2024-07-26 16:55:14.182 | INFO     | cool_graph.train.helpers:eval_epoch:218 - test:\n",
      " {'accuracy': 0.92, 'cross_entropy': 0.279, 'f1_weighted': 0.919, 'calc_time': 0.007, 'main_metric': 0.92}\n",
      "2024-07-26 16:55:15.465 | INFO     | cool_graph.train.helpers:eval_epoch:218 - train:\n",
      " {'accuracy': 0.948, 'cross_entropy': 0.162, 'f1_weighted': 0.947, 'calc_time': 0.021, 'main_metric': 0.948}\n",
      "2024-07-26 16:55:26.124 | INFO     | cool_graph.train.helpers:eval_epoch:218 - test:\n",
      " {'accuracy': 0.916, 'cross_entropy': 0.303, 'f1_weighted': 0.914, 'calc_time': 0.007, 'main_metric': 0.916}\n",
      "2024-07-26 16:55:27.336 | INFO     | cool_graph.train.helpers:eval_epoch:218 - train:\n",
      " {'accuracy': 0.957, 'cross_entropy': 0.134, 'f1_weighted': 0.956, 'calc_time': 0.02, 'main_metric': 0.957}\n",
      "2024-07-26 16:55:37.105 | INFO     | cool_graph.train.helpers:eval_epoch:218 - test:\n",
      " {'accuracy': 0.923, 'cross_entropy': 0.306, 'f1_weighted': 0.923, 'calc_time': 0.005, 'main_metric': 0.923}\n",
      "2024-07-26 16:55:37.917 | INFO     | cool_graph.train.helpers:eval_epoch:218 - train:\n",
      " {'accuracy': 0.968, 'cross_entropy': 0.103, 'f1_weighted': 0.968, 'calc_time': 0.013, 'main_metric': 0.968}\n",
      "\u001b[32m[I 2024-07-26 16:55:37,977]\u001b[0m Trial 0 finished with value: 0.923 and parameters: {'activation': 'leakyrelu', 'lin_prep_len': 1, 'lin_prep_dropout_rate': 0.4, 'lin_prep_weight_norm_flag': True, 'lin_prep_size_common': 512, 'lin_prep_size0_fraction': 0.5, 'conv1_aggrs_mean_fraction': 0.5, 'conv1_aggrs_max_fraction': 0.25, 'conv1_aggrs_add_fraction': 0.125, 'conv1_dropout_rate': 0.2, 'conv2_aggrs_mean_fraction': 0.2857142857142857, 'conv2_aggrs_max_fraction': 0.14285714285714285, 'conv2_aggrs_add_fraction': 0.07142857142857142, 'conv2_dropout_rate': 0.2, 'graph_conv_weight_norm_flag': True}. Best is trial 0 with value: 0.923.\u001b[0m\n",
      "2024-07-26 16:55:40.034 | INFO     | cool_graph.train.helpers:eval_epoch:218 - test:\n",
      " {'accuracy': 0.36, 'cross_entropy': 2.056, 'f1_weighted': 0.2, 'calc_time': 0.004, 'main_metric': 0.36}\n",
      "2024-07-26 16:55:40.730 | INFO     | cool_graph.train.helpers:eval_epoch:218 - train:\n",
      " {'accuracy': 0.368, 'cross_entropy': 2.045, 'f1_weighted': 0.207, 'calc_time': 0.012, 'main_metric': 0.368}\n",
      "2024-07-26 16:55:47.674 | INFO     | cool_graph.train.helpers:eval_epoch:218 - test:\n",
      " {'accuracy': 0.717, 'cross_entropy': 0.904, 'f1_weighted': 0.662, 'calc_time': 0.005, 'main_metric': 0.717}\n",
      "2024-07-26 16:55:48.748 | INFO     | cool_graph.train.helpers:eval_epoch:218 - train:\n",
      " {'accuracy': 0.732, 'cross_entropy': 0.87, 'f1_weighted': 0.679, 'calc_time': 0.018, 'main_metric': 0.732}\n",
      "2024-07-26 16:55:56.178 | INFO     | cool_graph.train.helpers:eval_epoch:218 - test:\n",
      " {'accuracy': 0.766, 'cross_entropy': 0.744, 'f1_weighted': 0.741, 'calc_time': 0.006, 'main_metric': 0.766}\n",
      "2024-07-26 16:55:57.200 | INFO     | cool_graph.train.helpers:eval_epoch:218 - train:\n",
      " {'accuracy': 0.788, 'cross_entropy': 0.702, 'f1_weighted': 0.765, 'calc_time': 0.017, 'main_metric': 0.788}\n",
      "2024-07-26 16:56:04.488 | INFO     | cool_graph.train.helpers:eval_epoch:218 - test:\n",
      " {'accuracy': 0.789, 'cross_entropy': 0.708, 'f1_weighted': 0.768, 'calc_time': 0.007, 'main_metric': 0.789}\n",
      "2024-07-26 16:56:05.345 | INFO     | cool_graph.train.helpers:eval_epoch:218 - train:\n",
      " {'accuracy': 0.811, 'cross_entropy': 0.667, 'f1_weighted': 0.791, 'calc_time': 0.014, 'main_metric': 0.811}\n",
      "2024-07-26 16:56:12.336 | INFO     | cool_graph.train.helpers:eval_epoch:218 - test:\n",
      " {'accuracy': 0.832, 'cross_entropy': 0.65, 'f1_weighted': 0.814, 'calc_time': 0.005, 'main_metric': 0.832}\n",
      "2024-07-26 16:56:13.179 | INFO     | cool_graph.train.helpers:eval_epoch:218 - train:\n",
      " {'accuracy': 0.842, 'cross_entropy': 0.611, 'f1_weighted': 0.825, 'calc_time': 0.014, 'main_metric': 0.842}\n",
      "\u001b[32m[I 2024-07-26 16:56:13,212]\u001b[0m Trial 1 finished with value: 0.832 and parameters: {'activation': 'relu', 'lin_prep_len': 2, 'lin_prep_dropout_rate': 0.49228779953902047, 'lin_prep_weight_norm_flag': False, 'lin_prep_size_common': 64, 'lin_prep_size0_fraction': 0.3050786910504537, 'lin_prep_size1_fraction': 0.22256263818314473, 'conv1_aggrs_mean_fraction': 0.44354226147505976, 'conv1_aggrs_max_fraction': 0.3332191740894263, 'conv1_aggrs_add_fraction': 0.12627500595768346, 'conv1_dropout_rate': 0.47627173886539176, 'conv2_aggrs_mean_fraction': 0.318593423901017, 'conv2_aggrs_max_fraction': 0.49371487206634385, 'conv2_aggrs_add_fraction': 0.174841107689478, 'conv2_dropout_rate': 0.035856314252957044, 'graph_conv_weight_norm_flag': True}. Best is trial 0 with value: 0.923.\u001b[0m\n",
      "2024-07-26 16:56:15.769 | INFO     | cool_graph.train.helpers:eval_epoch:218 - test:\n",
      " {'accuracy': 0.566, 'cross_entropy': 1.296, 'f1_weighted': 0.476, 'calc_time': 0.006, 'main_metric': 0.566}\n",
      "2024-07-26 16:56:16.707 | INFO     | cool_graph.train.helpers:eval_epoch:218 - train:\n",
      " {'accuracy': 0.575, 'cross_entropy': 1.29, 'f1_weighted': 0.484, 'calc_time': 0.016, 'main_metric': 0.575}\n",
      "2024-07-26 16:56:27.464 | INFO     | cool_graph.train.helpers:eval_epoch:218 - test:\n",
      " {'accuracy': 0.905, 'cross_entropy': 0.303, 'f1_weighted': 0.904, 'calc_time': 0.008, 'main_metric': 0.905}\n",
      "2024-07-26 16:56:29.292 | INFO     | cool_graph.train.helpers:eval_epoch:218 - train:\n",
      " {'accuracy': 0.935, 'cross_entropy': 0.214, 'f1_weighted': 0.934, 'calc_time': 0.03, 'main_metric': 0.935}\n",
      "2024-07-26 16:56:41.499 | INFO     | cool_graph.train.helpers:eval_epoch:218 - test:\n",
      " {'accuracy': 0.919, 'cross_entropy': 0.325, 'f1_weighted': 0.918, 'calc_time': 0.01, 'main_metric': 0.919}\n",
      "2024-07-26 16:56:43.276 | INFO     | cool_graph.train.helpers:eval_epoch:218 - train:\n",
      " {'accuracy': 0.964, 'cross_entropy': 0.115, 'f1_weighted': 0.964, 'calc_time': 0.03, 'main_metric': 0.964}\n",
      "2024-07-26 16:56:55.683 | INFO     | cool_graph.train.helpers:eval_epoch:218 - test:\n",
      " {'accuracy': 0.911, 'cross_entropy': 0.374, 'f1_weighted': 0.911, 'calc_time': 0.009, 'main_metric': 0.911}\n",
      "2024-07-26 16:56:57.646 | INFO     | cool_graph.train.helpers:eval_epoch:218 - train:\n",
      " {'accuracy': 0.973, 'cross_entropy': 0.088, 'f1_weighted': 0.973, 'calc_time': 0.033, 'main_metric': 0.973}\n",
      "2024-07-26 16:57:09.729 | INFO     | cool_graph.train.helpers:eval_epoch:218 - test:\n",
      " {'accuracy': 0.914, 'cross_entropy': 0.425, 'f1_weighted': 0.913, 'calc_time': 0.009, 'main_metric': 0.914}\n",
      "2024-07-26 16:57:10.831 | INFO     | cool_graph.train.helpers:eval_epoch:218 - train:\n",
      " {'accuracy': 0.982, 'cross_entropy': 0.055, 'f1_weighted': 0.982, 'calc_time': 0.018, 'main_metric': 0.982}\n",
      "\u001b[32m[I 2024-07-26 16:57:10,912]\u001b[0m Trial 2 finished with value: 0.919 and parameters: {'activation': 'gelu', 'lin_prep_len': 2, 'lin_prep_dropout_rate': 0.033314942420079485, 'lin_prep_weight_norm_flag': False, 'lin_prep_size_common': 934, 'lin_prep_size0_fraction': 0.6273008349624243, 'lin_prep_size1_fraction': 0.22853002339679804, 'conv1_aggrs_mean_fraction': 0.35348410661054686, 'conv1_aggrs_max_fraction': 0.07281720264701268, 'conv1_aggrs_add_fraction': 0.06635131289214365, 'conv1_dropout_rate': 0.308789308964974, 'conv2_aggrs_mean_fraction': 0.5896874327555484, 'conv2_aggrs_max_fraction': 0.4020484310634823, 'conv2_aggrs_add_fraction': 0.06385376808420273, 'conv2_dropout_rate': 0.16970097118337318, 'graph_conv_weight_norm_flag': True}. Best is trial 0 with value: 0.923.\u001b[0m\n",
      "2024-07-26 16:57:13.888 | INFO     | cool_graph.train.helpers:eval_epoch:218 - test:\n",
      " {'accuracy': 0.465, 'cross_entropy': 1.361, 'f1_weighted': 0.312, 'calc_time': 0.007, 'main_metric': 0.465}\n",
      "2024-07-26 16:57:15.325 | INFO     | cool_graph.train.helpers:eval_epoch:218 - train:\n",
      " {'accuracy': 0.462, 'cross_entropy': 1.324, 'f1_weighted': 0.31, 'calc_time': 0.024, 'main_metric': 0.462}\n",
      "2024-07-26 16:57:29.969 | INFO     | cool_graph.train.helpers:eval_epoch:218 - test:\n",
      " {'accuracy': 0.862, 'cross_entropy': 0.411, 'f1_weighted': 0.861, 'calc_time': 0.012, 'main_metric': 0.862}\n",
      "2024-07-26 16:57:31.945 | INFO     | cool_graph.train.helpers:eval_epoch:218 - train:\n",
      " {'accuracy': 0.884, 'cross_entropy': 0.347, 'f1_weighted': 0.886, 'calc_time': 0.033, 'main_metric': 0.884}\n",
      "2024-07-26 16:57:44.853 | INFO     | cool_graph.train.helpers:eval_epoch:218 - test:\n",
      " {'accuracy': 0.911, 'cross_entropy': 0.304, 'f1_weighted': 0.911, 'calc_time': 0.015, 'main_metric': 0.911}\n",
      "2024-07-26 16:57:46.406 | INFO     | cool_graph.train.helpers:eval_epoch:218 - train:\n",
      " {'accuracy': 0.959, 'cross_entropy': 0.14, 'f1_weighted': 0.959, 'calc_time': 0.026, 'main_metric': 0.959}\n",
      "2024-07-26 16:57:59.952 | INFO     | cool_graph.train.helpers:eval_epoch:218 - test:\n",
      " {'accuracy': 0.909, 'cross_entropy': 0.357, 'f1_weighted': 0.907, 'calc_time': 0.009, 'main_metric': 0.909}\n",
      "2024-07-26 16:58:01.804 | INFO     | cool_graph.train.helpers:eval_epoch:218 - train:\n",
      " {'accuracy': 0.969, 'cross_entropy': 0.102, 'f1_weighted': 0.969, 'calc_time': 0.031, 'main_metric': 0.969}\n",
      "2024-07-26 16:58:15.765 | INFO     | cool_graph.train.helpers:eval_epoch:218 - test:\n",
      " {'accuracy': 0.91, 'cross_entropy': 0.398, 'f1_weighted': 0.909, 'calc_time': 0.009, 'main_metric': 0.91}\n",
      "2024-07-26 16:58:17.073 | INFO     | cool_graph.train.helpers:eval_epoch:218 - train:\n",
      " {'accuracy': 0.979, 'cross_entropy': 0.071, 'f1_weighted': 0.979, 'calc_time': 0.022, 'main_metric': 0.979}\n",
      "\u001b[32m[I 2024-07-26 16:58:17,106]\u001b[0m Trial 3 finished with value: 0.911 and parameters: {'activation': 'leakyrelu', 'lin_prep_len': 2, 'lin_prep_dropout_rate': 0.03216814875183499, 'lin_prep_weight_norm_flag': False, 'lin_prep_size_common': 612, 'lin_prep_size0_fraction': 0.3344212649023246, 'lin_prep_size1_fraction': 0.6076400765009213, 'conv1_aggrs_mean_fraction': 0.20608731054927523, 'conv1_aggrs_max_fraction': 0.4162586955785716, 'conv1_aggrs_add_fraction': 0.053083237253291615, 'conv1_dropout_rate': 0.10284542450454603, 'conv2_aggrs_mean_fraction': 0.344344621689061, 'conv2_aggrs_max_fraction': 0.25423201214781616, 'conv2_aggrs_add_fraction': 0.10170884413199745, 'conv2_dropout_rate': 0.07029018277225962, 'graph_conv_weight_norm_flag': False}. Best is trial 0 with value: 0.923.\u001b[0m\n",
      "2024-07-26 16:58:20.103 | INFO     | cool_graph.train.helpers:eval_epoch:218 - test:\n",
      " {'accuracy': 0.579, 'cross_entropy': 1.399, 'f1_weighted': 0.497, 'calc_time': 0.006, 'main_metric': 0.579}\n",
      "2024-07-26 16:58:22.241 | INFO     | cool_graph.train.helpers:eval_epoch:218 - train:\n",
      " {'accuracy': 0.588, 'cross_entropy': 1.367, 'f1_weighted': 0.506, 'calc_time': 0.036, 'main_metric': 0.588}\n",
      "2024-07-26 16:58:34.322 | INFO     | cool_graph.train.helpers:eval_epoch:218 - test:\n",
      " {'accuracy': 0.88, 'cross_entropy': 0.359, 'f1_weighted': 0.871, 'calc_time': 0.008, 'main_metric': 0.88}\n",
      "2024-07-26 16:58:35.518 | INFO     | cool_graph.train.helpers:eval_epoch:218 - train:\n",
      " {'accuracy': 0.889, 'cross_entropy': 0.341, 'f1_weighted': 0.883, 'calc_time': 0.02, 'main_metric': 0.889}\n",
      "2024-07-26 16:58:47.201 | INFO     | cool_graph.train.helpers:eval_epoch:218 - test:\n",
      " {'accuracy': 0.913, 'cross_entropy': 0.285, 'f1_weighted': 0.913, 'calc_time': 0.007, 'main_metric': 0.913}\n",
      "2024-07-26 16:58:48.710 | INFO     | cool_graph.train.helpers:eval_epoch:218 - train:\n",
      " {'accuracy': 0.921, 'cross_entropy': 0.244, 'f1_weighted': 0.921, 'calc_time': 0.025, 'main_metric': 0.921}\n",
      "2024-07-26 16:58:59.622 | INFO     | cool_graph.train.helpers:eval_epoch:218 - test:\n",
      " {'accuracy': 0.917, 'cross_entropy': 0.273, 'f1_weighted': 0.916, 'calc_time': 0.009, 'main_metric': 0.917}\n",
      "2024-07-26 16:59:01.104 | INFO     | cool_graph.train.helpers:eval_epoch:218 - train:\n",
      " {'accuracy': 0.93, 'cross_entropy': 0.218, 'f1_weighted': 0.929, 'calc_time': 0.025, 'main_metric': 0.93}\n",
      "2024-07-26 16:59:13.324 | INFO     | cool_graph.train.helpers:eval_epoch:218 - test:\n",
      " {'accuracy': 0.917, 'cross_entropy': 0.268, 'f1_weighted': 0.917, 'calc_time': 0.011, 'main_metric': 0.917}\n",
      "2024-07-26 16:59:15.111 | INFO     | cool_graph.train.helpers:eval_epoch:218 - train:\n",
      " {'accuracy': 0.937, 'cross_entropy': 0.192, 'f1_weighted': 0.937, 'calc_time': 0.03, 'main_metric': 0.937}\n",
      "\u001b[32m[I 2024-07-26 16:59:15,187]\u001b[0m Trial 4 finished with value: 0.917 and parameters: {'activation': 'leakyrelu', 'lin_prep_len': 0, 'lin_prep_dropout_rate': 0.003322666748311276, 'lin_prep_weight_norm_flag': True, 'lin_prep_size_common': 43, 'conv1_aggrs_mean_fraction': 0.19165056285752852, 'conv1_aggrs_max_fraction': 0.23650251920422125, 'conv1_aggrs_add_fraction': 0.36009567539843895, 'conv1_dropout_rate': 0.4187524224170593, 'conv2_aggrs_mean_fraction': 0.6538587969195193, 'conv2_aggrs_max_fraction': 0.3425977792131315, 'conv2_aggrs_add_fraction': 0.24460695410414887, 'conv2_dropout_rate': 0.1053275785815212, 'graph_conv_weight_norm_flag': True}. Best is trial 0 with value: 0.923.\u001b[0m\n"
     ]
    },
    {
     "name": "stdout",
     "output_type": "stream",
     "text": [
      "Study statistics: \n",
      "  Number of finished trials:  5\n",
      "  Number of complete trials:  5\n",
      "Best trial:\n",
      "  Value:  0.923\n",
      "  Params: \n",
      "{'conv_type': 'GraphConv', 'activation': 'leakyrelu', 'lin_prep_len': 1, 'lin_prep_dropout_rate': 0.4, 'lin_prep_weight_norm_flag': True, 'lin_prep_size_common': 512, 'lin_prep_sizes': [256], 'n_hops': 2, 'conv1_aggrs': {'mean': 128, 'max': 64, 'add': 32}, 'conv1_dropout_rate': 0.2, 'conv2_aggrs': {'mean': 64, 'max': 32, 'add': 16}, 'conv2_dropout_rate': 0.2, 'graph_conv_weight_norm_flag': True}\n"
     ]
    }
   ],
   "source": [
    "# importing and initializing HypeRunner\n",
    "from cool_graph.runners import HypeRunner\n",
    "hyperunner = HypeRunner(data)\n",
    "# running (training and validating)\n",
    "result = hyperunner.optimize_run(n_trials=5)"
   ]
  },
  {
   "cell_type": "code",
   "execution_count": 13,
   "id": "61e46cac",
   "metadata": {
    "execution": {
     "iopub.execute_input": "2024-07-26T13:59:15.518880Z",
     "iopub.status.busy": "2024-07-26T13:59:15.518656Z",
     "iopub.status.idle": "2024-07-26T13:59:15.537372Z",
     "shell.execute_reply": "2024-07-26T13:59:15.536832Z",
     "shell.execute_reply.started": "2024-07-26T13:59:15.518862Z"
    }
   },
   "outputs": [
    {
     "data": {
      "text/html": [
       "<div>\n",
       "<style scoped>\n",
       "    .dataframe tbody tr th:only-of-type {\n",
       "        vertical-align: middle;\n",
       "    }\n",
       "\n",
       "    .dataframe tbody tr th {\n",
       "        vertical-align: top;\n",
       "    }\n",
       "\n",
       "    .dataframe thead th {\n",
       "        text-align: right;\n",
       "    }\n",
       "</style>\n",
       "<table border=\"1\" class=\"dataframe\">\n",
       "  <thead>\n",
       "    <tr style=\"text-align: right;\">\n",
       "      <th></th>\n",
       "      <th>number</th>\n",
       "      <th>value</th>\n",
       "      <th>datetime_start</th>\n",
       "      <th>datetime_complete</th>\n",
       "      <th>duration</th>\n",
       "      <th>system_attrs_fixed_params</th>\n",
       "      <th>state</th>\n",
       "      <th>conv_type</th>\n",
       "      <th>activation</th>\n",
       "      <th>lin_prep_len</th>\n",
       "      <th>lin_prep_dropout_rate</th>\n",
       "      <th>lin_prep_weight_norm_flag</th>\n",
       "      <th>lin_prep_size_common</th>\n",
       "      <th>lin_prep_sizes</th>\n",
       "      <th>n_hops</th>\n",
       "      <th>conv1_aggrs</th>\n",
       "      <th>conv1_dropout_rate</th>\n",
       "      <th>conv2_aggrs</th>\n",
       "      <th>conv2_dropout_rate</th>\n",
       "      <th>graph_conv_weight_norm_flag</th>\n",
       "    </tr>\n",
       "  </thead>\n",
       "  <tbody>\n",
       "    <tr>\n",
       "      <th>0</th>\n",
       "      <td>0</td>\n",
       "      <td>0.923</td>\n",
       "      <td>2024-07-26 16:54:50.948065</td>\n",
       "      <td>2024-07-26 16:55:37.976471</td>\n",
       "      <td>0 days 00:00:47.028406</td>\n",
       "      <td>{'activation': 'leakyrelu', 'lin_prep_len': 1,...</td>\n",
       "      <td>COMPLETE</td>\n",
       "      <td>GraphConv</td>\n",
       "      <td>leakyrelu</td>\n",
       "      <td>1</td>\n",
       "      <td>0.4</td>\n",
       "      <td>True</td>\n",
       "      <td>512</td>\n",
       "      <td>[256]</td>\n",
       "      <td>2</td>\n",
       "      <td>{'mean': 128, 'max': 64, 'add': 32}</td>\n",
       "      <td>0.2</td>\n",
       "      <td>{'mean': 64, 'max': 32, 'add': 16}</td>\n",
       "      <td>0.2</td>\n",
       "      <td>True</td>\n",
       "    </tr>\n",
       "    <tr>\n",
       "      <th>1</th>\n",
       "      <td>1</td>\n",
       "      <td>0.832</td>\n",
       "      <td>2024-07-26 16:55:38.299892</td>\n",
       "      <td>2024-07-26 16:56:13.211492</td>\n",
       "      <td>0 days 00:00:34.911600</td>\n",
       "      <td>NaN</td>\n",
       "      <td>COMPLETE</td>\n",
       "      <td>GraphConv</td>\n",
       "      <td>relu</td>\n",
       "      <td>2</td>\n",
       "      <td>0.492288</td>\n",
       "      <td>False</td>\n",
       "      <td>64</td>\n",
       "      <td>[20, 16]</td>\n",
       "      <td>2</td>\n",
       "      <td>{'mean': 8, 'max': 5, 'add': 2}</td>\n",
       "      <td>0.476272</td>\n",
       "      <td>{'mean': 8, 'max': 7, 'add': 3}</td>\n",
       "      <td>0.035856</td>\n",
       "      <td>True</td>\n",
       "    </tr>\n",
       "    <tr>\n",
       "      <th>2</th>\n",
       "      <td>2</td>\n",
       "      <td>0.919</td>\n",
       "      <td>2024-07-26 16:56:13.528731</td>\n",
       "      <td>2024-07-26 16:57:10.911863</td>\n",
       "      <td>0 days 00:00:57.383132</td>\n",
       "      <td>NaN</td>\n",
       "      <td>COMPLETE</td>\n",
       "      <td>GraphConv</td>\n",
       "      <td>gelu</td>\n",
       "      <td>2</td>\n",
       "      <td>0.033315</td>\n",
       "      <td>False</td>\n",
       "      <td>934</td>\n",
       "      <td>[586, 134]</td>\n",
       "      <td>2</td>\n",
       "      <td>{'mean': 47, 'max': 10, 'add': 9}</td>\n",
       "      <td>0.308789</td>\n",
       "      <td>{'mean': 39, 'max': 27, 'add': 4}</td>\n",
       "      <td>0.169701</td>\n",
       "      <td>True</td>\n",
       "    </tr>\n",
       "    <tr>\n",
       "      <th>3</th>\n",
       "      <td>3</td>\n",
       "      <td>0.911</td>\n",
       "      <td>2024-07-26 16:57:11.239410</td>\n",
       "      <td>2024-07-26 16:58:17.105583</td>\n",
       "      <td>0 days 00:01:05.866173</td>\n",
       "      <td>NaN</td>\n",
       "      <td>COMPLETE</td>\n",
       "      <td>GraphConv</td>\n",
       "      <td>leakyrelu</td>\n",
       "      <td>2</td>\n",
       "      <td>0.032168</td>\n",
       "      <td>False</td>\n",
       "      <td>612</td>\n",
       "      <td>[205, 125]</td>\n",
       "      <td>2</td>\n",
       "      <td>{'mean': 26, 'max': 52, 'add': 7}</td>\n",
       "      <td>0.102845</td>\n",
       "      <td>{'mean': 29, 'max': 22, 'add': 9}</td>\n",
       "      <td>0.07029</td>\n",
       "      <td>False</td>\n",
       "    </tr>\n",
       "    <tr>\n",
       "      <th>4</th>\n",
       "      <td>4</td>\n",
       "      <td>0.917</td>\n",
       "      <td>2024-07-26 16:58:17.434460</td>\n",
       "      <td>2024-07-26 16:59:15.186724</td>\n",
       "      <td>0 days 00:00:57.752264</td>\n",
       "      <td>NaN</td>\n",
       "      <td>COMPLETE</td>\n",
       "      <td>GraphConv</td>\n",
       "      <td>leakyrelu</td>\n",
       "      <td>0</td>\n",
       "      <td>0.003323</td>\n",
       "      <td>True</td>\n",
       "      <td>43</td>\n",
       "      <td>[]</td>\n",
       "      <td>2</td>\n",
       "      <td>{'mean': 8, 'max': 10, 'add': 15}</td>\n",
       "      <td>0.418752</td>\n",
       "      <td>{'mean': 22, 'max': 11, 'add': 8}</td>\n",
       "      <td>0.105328</td>\n",
       "      <td>True</td>\n",
       "    </tr>\n",
       "  </tbody>\n",
       "</table>\n",
       "</div>"
      ],
      "text/plain": [
       "   number  value             datetime_start          datetime_complete  \\\n",
       "0       0  0.923 2024-07-26 16:54:50.948065 2024-07-26 16:55:37.976471   \n",
       "1       1  0.832 2024-07-26 16:55:38.299892 2024-07-26 16:56:13.211492   \n",
       "2       2  0.919 2024-07-26 16:56:13.528731 2024-07-26 16:57:10.911863   \n",
       "3       3  0.911 2024-07-26 16:57:11.239410 2024-07-26 16:58:17.105583   \n",
       "4       4  0.917 2024-07-26 16:58:17.434460 2024-07-26 16:59:15.186724   \n",
       "\n",
       "                duration                          system_attrs_fixed_params  \\\n",
       "0 0 days 00:00:47.028406  {'activation': 'leakyrelu', 'lin_prep_len': 1,...   \n",
       "1 0 days 00:00:34.911600                                                NaN   \n",
       "2 0 days 00:00:57.383132                                                NaN   \n",
       "3 0 days 00:01:05.866173                                                NaN   \n",
       "4 0 days 00:00:57.752264                                                NaN   \n",
       "\n",
       "      state  conv_type activation lin_prep_len lin_prep_dropout_rate  \\\n",
       "0  COMPLETE  GraphConv  leakyrelu            1                   0.4   \n",
       "1  COMPLETE  GraphConv       relu            2              0.492288   \n",
       "2  COMPLETE  GraphConv       gelu            2              0.033315   \n",
       "3  COMPLETE  GraphConv  leakyrelu            2              0.032168   \n",
       "4  COMPLETE  GraphConv  leakyrelu            0              0.003323   \n",
       "\n",
       "  lin_prep_weight_norm_flag lin_prep_size_common lin_prep_sizes n_hops  \\\n",
       "0                      True                  512          [256]      2   \n",
       "1                     False                   64       [20, 16]      2   \n",
       "2                     False                  934     [586, 134]      2   \n",
       "3                     False                  612     [205, 125]      2   \n",
       "4                      True                   43             []      2   \n",
       "\n",
       "                           conv1_aggrs conv1_dropout_rate  \\\n",
       "0  {'mean': 128, 'max': 64, 'add': 32}                0.2   \n",
       "1      {'mean': 8, 'max': 5, 'add': 2}           0.476272   \n",
       "2    {'mean': 47, 'max': 10, 'add': 9}           0.308789   \n",
       "3    {'mean': 26, 'max': 52, 'add': 7}           0.102845   \n",
       "4    {'mean': 8, 'max': 10, 'add': 15}           0.418752   \n",
       "\n",
       "                          conv2_aggrs conv2_dropout_rate  \\\n",
       "0  {'mean': 64, 'max': 32, 'add': 16}                0.2   \n",
       "1     {'mean': 8, 'max': 7, 'add': 3}           0.035856   \n",
       "2   {'mean': 39, 'max': 27, 'add': 4}           0.169701   \n",
       "3   {'mean': 29, 'max': 22, 'add': 9}            0.07029   \n",
       "4   {'mean': 22, 'max': 11, 'add': 8}           0.105328   \n",
       "\n",
       "  graph_conv_weight_norm_flag  \n",
       "0                        True  \n",
       "1                        True  \n",
       "2                        True  \n",
       "3                       False  \n",
       "4                        True  "
      ]
     },
     "execution_count": 13,
     "metadata": {},
     "output_type": "execute_result"
    }
   ],
   "source": [
    "result"
   ]
  },
  {
   "cell_type": "code",
   "execution_count": null,
   "id": "fa83972b",
   "metadata": {},
   "outputs": [],
   "source": []
  }
 ],
 "metadata": {
  "kernelspec": {
   "display_name": "CGKernel",
   "language": "python",
   "name": "cgkernel"
  },
  "language_info": {
   "codemirror_mode": {
    "name": "ipython",
    "version": 3
   },
   "file_extension": ".py",
   "mimetype": "text/x-python",
   "name": "python",
   "nbconvert_exporter": "python",
   "pygments_lexer": "ipython3",
   "version": "3.8.13"
  }
 },
 "nbformat": 4,
 "nbformat_minor": 5
}
