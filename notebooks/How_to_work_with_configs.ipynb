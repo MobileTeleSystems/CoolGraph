{
 "cells": [
  {
   "cell_type": "markdown",
   "id": "37204099",
   "metadata": {},
   "source": [
    "# How to work with config in CoolGraph <a name=\"toc\"></a>\n",
    "1. [Without changing files (runner.cfg)](#p2)\n",
    "2. [Making dict with config parameters](#p3)\n",
    "3. [Passing path to your config file](#p4)"
   ]
  },
  {
   "cell_type": "markdown",
   "id": "8c1e6321",
   "metadata": {},
   "source": [
    "# 1. Without changing files (runner.cfg) <a id=\"p2\"></a>"
   ]
  },
  {
   "cell_type": "markdown",
   "id": "8165b70e",
   "metadata": {},
   "source": [
    "#### Runner and HypeRunner have default config parameters but they can be changed by changing `runner.cfg` dict"
   ]
  },
  {
   "cell_type": "code",
   "execution_count": 2,
   "id": "fe22a280",
   "metadata": {
    "execution": {
     "iopub.execute_input": "2024-07-26T13:58:42.491044Z",
     "iopub.status.busy": "2024-07-26T13:58:42.490603Z",
     "iopub.status.idle": "2024-07-26T13:58:49.522039Z",
     "shell.execute_reply": "2024-07-26T13:58:49.520610Z",
     "shell.execute_reply.started": "2024-07-26T13:58:42.491018Z"
    }
   },
   "outputs": [],
   "source": [
    "from cool_graph.runners import Runner, HypeRunner\n",
    "from torch_geometric import datasets\n",
    "import torch"
   ]
  },
  {
   "cell_type": "code",
   "execution_count": 2,
   "id": "55698f18",
   "metadata": {
    "execution": {
     "iopub.execute_input": "2024-07-17T11:07:50.530926Z",
     "iopub.status.busy": "2024-07-17T11:07:50.530398Z",
     "iopub.status.idle": "2024-07-17T11:07:50.774942Z",
     "shell.execute_reply": "2024-07-17T11:07:50.774443Z",
     "shell.execute_reply.started": "2024-07-17T11:07:50.530901Z"
    }
   },
   "outputs": [
    {
     "data": {
      "text/plain": [
       "Data(x=[13752, 767], edge_index=[2, 491722], y=[13752], index=[13752])"
      ]
     },
     "execution_count": 2,
     "metadata": {},
     "output_type": "execute_result"
    }
   ],
   "source": [
    "# taking Amazon Computers as an Example\n",
    "dataset = datasets.Amazon(root='./data/Amazon', name='Computers')\n",
    "data = dataset.data\n",
    "data"
   ]
  },
  {
   "cell_type": "code",
   "execution_count": 3,
   "id": "a2e41de6",
   "metadata": {
    "execution": {
     "iopub.execute_input": "2024-07-17T11:07:55.570612Z",
     "iopub.status.busy": "2024-07-17T11:07:55.570260Z",
     "iopub.status.idle": "2024-07-17T11:07:55.573121Z",
     "shell.execute_reply": "2024-07-17T11:07:55.572669Z",
     "shell.execute_reply.started": "2024-07-17T11:07:55.570593Z"
    }
   },
   "outputs": [],
   "source": [
    "# Runner has attributes: \n",
    "# config: Union[omegaconf.dictconfig.DictConfig, NoneType] = None,\n",
    "# config_path: Union[str, NoneType] = None,"
   ]
  },
  {
   "cell_type": "code",
   "execution_count": 4,
   "id": "76fe2ae4",
   "metadata": {
    "execution": {
     "iopub.execute_input": "2024-07-17T11:07:56.368556Z",
     "iopub.status.busy": "2024-07-17T11:07:56.368146Z",
     "iopub.status.idle": "2024-07-17T11:07:56.494920Z",
     "shell.execute_reply": "2024-07-17T11:07:56.494322Z",
     "shell.execute_reply.started": "2024-07-17T11:07:56.368540Z"
    }
   },
   "outputs": [],
   "source": [
    "# leaving those attributes empty\n",
    "runner = Runner(data)"
   ]
  },
  {
   "cell_type": "code",
   "execution_count": 5,
   "id": "59859ff5",
   "metadata": {
    "execution": {
     "iopub.execute_input": "2024-07-17T11:07:57.038540Z",
     "iopub.status.busy": "2024-07-17T11:07:57.038285Z",
     "iopub.status.idle": "2024-07-17T11:07:57.042093Z",
     "shell.execute_reply": "2024-07-17T11:07:57.041639Z",
     "shell.execute_reply.started": "2024-07-17T11:07:57.038522Z"
    }
   },
   "outputs": [
    {
     "data": {
      "text/plain": [
       "dict"
      ]
     },
     "execution_count": 5,
     "metadata": {},
     "output_type": "execute_result"
    }
   ],
   "source": [
    "type(runner.cfg)"
   ]
  },
  {
   "cell_type": "code",
   "execution_count": 6,
   "id": "53844eaf",
   "metadata": {
    "execution": {
     "iopub.execute_input": "2024-07-17T11:07:57.857905Z",
     "iopub.status.busy": "2024-07-17T11:07:57.857667Z",
     "iopub.status.idle": "2024-07-17T11:07:57.861224Z",
     "shell.execute_reply": "2024-07-17T11:07:57.860813Z",
     "shell.execute_reply.started": "2024-07-17T11:07:57.857889Z"
    }
   },
   "outputs": [
    {
     "data": {
      "text/plain": [
       "dict_keys(['model_params', 'training', 'logging', 'metrics'])"
      ]
     },
     "execution_count": 6,
     "metadata": {},
     "output_type": "execute_result"
    }
   ],
   "source": [
    "runner.cfg.keys()"
   ]
  },
  {
   "cell_type": "code",
   "execution_count": 7,
   "id": "b2a2fa28",
   "metadata": {
    "execution": {
     "iopub.execute_input": "2024-07-17T11:07:58.325989Z",
     "iopub.status.busy": "2024-07-17T11:07:58.325557Z",
     "iopub.status.idle": "2024-07-17T11:07:58.329336Z",
     "shell.execute_reply": "2024-07-17T11:07:58.328937Z",
     "shell.execute_reply.started": "2024-07-17T11:07:58.325975Z"
    }
   },
   "outputs": [
    {
     "data": {
      "text/plain": [
       "{'conv_type': 'GraphConv',\n",
       " 'activation': 'leakyrelu',\n",
       " 'lin_prep_dropout_rate': 0.4,\n",
       " 'lin_prep_len': 1,\n",
       " 'lin_prep_size_common': 512,\n",
       " 'lin_prep_sizes': [256],\n",
       " 'lin_prep_weight_norm_flag': True,\n",
       " 'graph_conv_weight_norm_flag': True,\n",
       " 'n_hops': 2,\n",
       " 'conv1_aggrs': {'mean': 128, 'max': 64, 'add': 32},\n",
       " 'conv1_dropout_rate': 0.2,\n",
       " 'conv2_aggrs': {'mean': 64, 'max': 32, 'add': 16},\n",
       " 'conv2_dropout_rate': 0.2}"
      ]
     },
     "execution_count": 7,
     "metadata": {},
     "output_type": "execute_result"
    }
   ],
   "source": [
    "runner.cfg[\"model_params\"]"
   ]
  },
  {
   "cell_type": "code",
   "execution_count": 8,
   "id": "b41c9532",
   "metadata": {
    "execution": {
     "iopub.execute_input": "2024-07-17T11:08:00.853762Z",
     "iopub.status.busy": "2024-07-17T11:08:00.853266Z",
     "iopub.status.idle": "2024-07-17T11:08:00.857260Z",
     "shell.execute_reply": "2024-07-17T11:08:00.856847Z",
     "shell.execute_reply.started": "2024-07-17T11:08:00.853747Z"
    }
   },
   "outputs": [
    {
     "data": {
      "text/plain": [
       "{'device': 'cuda:0',\n",
       " 'targets': ['y'],\n",
       " 'num_neighbors': [25, 15],\n",
       " 'batch_size': 250,\n",
       " 'initial_lr': 0.0023,\n",
       " 'weight_decay': 0.0001,\n",
       " 'n_epochs': 21,\n",
       " 'eval_freq': 5,\n",
       " 'scheduler_type': 'MultiStepLR',\n",
       " 'scheduler_params': {'milestones': [10, 20, 35, 50, 70, 90, 105],\n",
       "  'gamma': 0.25},\n",
       " 'loss': {'name': 'CrossEntropyLoss',\n",
       "  'label_smoothing': False,\n",
       "  'target_weights': {'y': 1},\n",
       "  'group_weights': [1],\n",
       "  'fill_value': -100}}"
      ]
     },
     "execution_count": 8,
     "metadata": {},
     "output_type": "execute_result"
    }
   ],
   "source": [
    "runner.cfg[\"training\"]"
   ]
  },
  {
   "cell_type": "code",
   "execution_count": 9,
   "id": "136dd0e9",
   "metadata": {
    "execution": {
     "iopub.execute_input": "2024-07-17T11:08:01.555721Z",
     "iopub.status.busy": "2024-07-17T11:08:01.555321Z",
     "iopub.status.idle": "2024-07-17T11:08:01.558727Z",
     "shell.execute_reply": "2024-07-17T11:08:01.558314Z",
     "shell.execute_reply.started": "2024-07-17T11:08:01.555706Z"
    }
   },
   "outputs": [
    {
     "data": {
      "text/plain": [
       "['accuracy', 'cross_entropy', 'f1_weighted']"
      ]
     },
     "execution_count": 9,
     "metadata": {},
     "output_type": "execute_result"
    }
   ],
   "source": [
    "runner.cfg[\"metrics\"]"
   ]
  },
  {
   "cell_type": "code",
   "execution_count": 14,
   "id": "a4d5d6f1",
   "metadata": {
    "execution": {
     "iopub.execute_input": "2024-05-20T12:51:12.108576Z",
     "iopub.status.busy": "2024-05-20T12:51:12.107706Z",
     "iopub.status.idle": "2024-05-20T12:51:12.114942Z",
     "shell.execute_reply": "2024-05-20T12:51:12.113868Z",
     "shell.execute_reply.started": "2024-05-20T12:51:12.108526Z"
    }
   },
   "outputs": [],
   "source": [
    "# The way to change config without changing .yaml files\n",
    "# is to simply change runner.cfg dictionary\n",
    "runner.cfg[\"training\"][\"num_neighbors\"] = [-1, -1]"
   ]
  },
  {
   "cell_type": "code",
   "execution_count": 20,
   "id": "48c87814",
   "metadata": {
    "execution": {
     "iopub.execute_input": "2024-05-20T12:52:11.828188Z",
     "iopub.status.busy": "2024-05-20T12:52:11.827385Z",
     "iopub.status.idle": "2024-05-20T12:52:11.834917Z",
     "shell.execute_reply": "2024-05-20T12:52:11.833588Z",
     "shell.execute_reply.started": "2024-05-20T12:52:11.828140Z"
    }
   },
   "outputs": [],
   "source": [
    "runner.cfg[\"training\"][\"n_epochs\"] = 15"
   ]
  },
  {
   "cell_type": "code",
   "execution_count": 21,
   "id": "1a9fe570",
   "metadata": {
    "execution": {
     "iopub.execute_input": "2024-05-20T12:52:12.494479Z",
     "iopub.status.busy": "2024-05-20T12:52:12.493618Z",
     "iopub.status.idle": "2024-05-20T12:52:12.503913Z",
     "shell.execute_reply": "2024-05-20T12:52:12.502619Z",
     "shell.execute_reply.started": "2024-05-20T12:52:12.494436Z"
    }
   },
   "outputs": [
    {
     "data": {
      "text/plain": [
       "{'device': 'cuda:0',\n",
       " 'targets': ['y'],\n",
       " 'num_neighbors': [-1, -1],\n",
       " 'batch_size': 250,\n",
       " 'initial_lr': 0.0023,\n",
       " 'weight_decay': 0.0001,\n",
       " 'n_epochs': 15,\n",
       " 'eval_freq': 5,\n",
       " 'scheduler_type': 'MultiStepLR',\n",
       " 'scheduler_params': {'milestones': [10, 20, 35, 50, 70, 90, 105],\n",
       "  'gamma': 0.25},\n",
       " 'loss': {'name': 'CrossEntropyLoss',\n",
       "  'label_smoothing': False,\n",
       "  'target_weights': {'y': 1},\n",
       "  'group_weights': [1],\n",
       "  'fill_value': -100}}"
      ]
     },
     "execution_count": 21,
     "metadata": {},
     "output_type": "execute_result"
    }
   ],
   "source": [
    "# checking the changes\n",
    "runner.cfg[\"training\"]"
   ]
  },
  {
   "cell_type": "code",
   "execution_count": 22,
   "id": "6b308a9f",
   "metadata": {
    "execution": {
     "iopub.execute_input": "2024-05-20T12:52:14.691559Z",
     "iopub.status.busy": "2024-05-20T12:52:14.690868Z",
     "iopub.status.idle": "2024-05-20T12:52:14.696191Z",
     "shell.execute_reply": "2024-05-20T12:52:14.695159Z",
     "shell.execute_reply.started": "2024-05-20T12:52:14.691522Z"
    }
   },
   "outputs": [],
   "source": [
    "# success! We've changed config"
   ]
  },
  {
   "cell_type": "code",
   "execution_count": 23,
   "id": "d9a5138a",
   "metadata": {
    "execution": {
     "iopub.execute_input": "2024-05-20T12:52:15.808704Z",
     "iopub.status.busy": "2024-05-20T12:52:15.808086Z",
     "iopub.status.idle": "2024-05-20T12:52:39.569388Z",
     "shell.execute_reply": "2024-05-20T12:52:39.568164Z",
     "shell.execute_reply.started": "2024-05-20T12:52:15.808666Z"
    }
   },
   "outputs": [
    {
     "name": "stderr",
     "output_type": "stream",
     "text": [
      "2024-05-20 15:52:17.855 | INFO     | cool_graph.train.helpers:eval_epoch:199 - test:\n",
      " {'accuracy': 0.506, 'cross_entropy': 1.264, 'f1_weighted': 0.453, 'calc_time': 0.006, 'main_metric': 0.506}\n",
      "2024-05-20 15:52:18.674 | INFO     | cool_graph.train.helpers:eval_epoch:199 - train:\n",
      " {'accuracy': 0.499, 'cross_entropy': 1.278, 'f1_weighted': 0.443, 'calc_time': 0.014, 'main_metric': 0.499}\n",
      "2024-05-20 15:52:25.697 | INFO     | cool_graph.train.helpers:eval_epoch:199 - test:\n",
      " {'accuracy': 0.891, 'cross_entropy': 0.336, 'f1_weighted': 0.884, 'calc_time': 0.005, 'main_metric': 0.891}\n",
      "2024-05-20 15:52:26.575 | INFO     | cool_graph.train.helpers:eval_epoch:199 - train:\n",
      " {'accuracy': 0.908, 'cross_entropy': 0.279, 'f1_weighted': 0.903, 'calc_time': 0.015, 'main_metric': 0.908}\n",
      "2024-05-20 15:52:33.493 | INFO     | cool_graph.train.helpers:eval_epoch:199 - test:\n",
      " {'accuracy': 0.92, 'cross_entropy': 0.276, 'f1_weighted': 0.919, 'calc_time': 0.005, 'main_metric': 0.92}\n",
      "2024-05-20 15:52:34.212 | INFO     | cool_graph.train.helpers:eval_epoch:199 - train:\n",
      " {'accuracy': 0.955, 'cross_entropy': 0.149, 'f1_weighted': 0.955, 'calc_time': 0.012, 'main_metric': 0.955}\n",
      "                                               \r"
     ]
    }
   ],
   "source": [
    "res = runner.run()"
   ]
  },
  {
   "cell_type": "code",
   "execution_count": 24,
   "id": "e126e444",
   "metadata": {
    "execution": {
     "iopub.execute_input": "2024-05-20T12:52:39.571939Z",
     "iopub.status.busy": "2024-05-20T12:52:39.571386Z",
     "iopub.status.idle": "2024-05-20T12:52:39.578434Z",
     "shell.execute_reply": "2024-05-20T12:52:39.577867Z",
     "shell.execute_reply.started": "2024-05-20T12:52:39.571885Z"
    }
   },
   "outputs": [
    {
     "data": {
      "text/plain": [
       "{'accuracy': 0.92,\n",
       " 'cross_entropy': 0.276,\n",
       " 'f1_weighted': 0.919,\n",
       " 'calc_time': 0.005,\n",
       " 'main_metric': 0.92,\n",
       " 'epoch': 10}"
      ]
     },
     "execution_count": 24,
     "metadata": {},
     "output_type": "execute_result"
    }
   ],
   "source": [
    "# as we see, changes have been applied\n",
    "res[\"best_loss\"]"
   ]
  },
  {
   "cell_type": "markdown",
   "id": "eed55c63",
   "metadata": {},
   "source": [
    "# 2. Making dict with config parameters <a id=\"p3\"></a>"
   ]
  },
  {
   "cell_type": "markdown",
   "id": "216aa6aa",
   "metadata": {},
   "source": [
    "#### Another way is to make python dictionary with your config, pass it to config creator `OmegaConf` and then pass resulting config into runner as an attribute"
   ]
  },
  {
   "cell_type": "code",
   "execution_count": 26,
   "id": "b3358abd",
   "metadata": {
    "execution": {
     "iopub.execute_input": "2024-05-20T12:53:08.193061Z",
     "iopub.status.busy": "2024-05-20T12:53:08.192320Z",
     "iopub.status.idle": "2024-05-20T12:53:08.208432Z",
     "shell.execute_reply": "2024-05-20T12:53:08.207359Z",
     "shell.execute_reply.started": "2024-05-20T12:53:08.193014Z"
    }
   },
   "outputs": [],
   "source": [
    "cfg_dict = {'model_params': {'conv_type': 'GraphConv',\n",
    "  'activation': 'leakyrelu',\n",
    "  'lin_prep_dropout_rate': 0.4,\n",
    "  'lin_prep_len': 1,\n",
    "  'lin_prep_size_common': 512,\n",
    "  'lin_prep_sizes': [256],\n",
    "  'lin_prep_weight_norm_flag': True,\n",
    "  'graph_conv_weight_norm_flag': True,\n",
    "  'n_hops': 2,\n",
    "  'conv1_aggrs': {'mean': 128, 'max': 64, 'add': 32},\n",
    "  'conv1_dropout_rate': 0.2,\n",
    "  'conv2_aggrs': {'mean': 64, 'max': 32, 'add': 16},\n",
    "  'conv2_dropout_rate': 0.2},\n",
    " 'training': {'device': 'cuda:0',\n",
    "  'targets': ['y0', 'y1', 'y2', 'y3', 'y4', 'y5', 'y6', 'y7', 'y8', 'y9'],\n",
    "  'num_neighbors': [25, 15],\n",
    "  'batch_size': 250,\n",
    "  'initial_lr': 0.0023,\n",
    "  'weight_decay': 0.0001,\n",
    "  'n_epochs': 1,\n",
    "  'eval_freq': 5,\n",
    "  'scheduler_type': 'MultiStepLR',\n",
    "  'scheduler_params': {'milestones': [10, 20, 35, 50, 70, 90, 105],\n",
    "   'gamma': 0.25},\n",
    "  'loss': {'name': 'CrossEntropyLoss',\n",
    "   'label_smoothing': False,\n",
    "   'target_weights': {'y': 1},\n",
    "   'group_weights': [1],\n",
    "   'fill_value': -100}},\n",
    " 'logging': {'mlflow_experiment_name': 'coolgraph',\n",
    "  'use_mlflow': False,\n",
    "  'checkpoint_dir': './checkpoints'},\n",
    " 'metrics': ['accuracy', 'cross_entropy', 'f1_weighted']}"
   ]
  },
  {
   "cell_type": "code",
   "execution_count": 27,
   "id": "b49707ba",
   "metadata": {
    "execution": {
     "iopub.execute_input": "2024-05-20T12:53:12.920701Z",
     "iopub.status.busy": "2024-05-20T12:53:12.919545Z",
     "iopub.status.idle": "2024-05-20T12:53:12.925484Z",
     "shell.execute_reply": "2024-05-20T12:53:12.924023Z",
     "shell.execute_reply.started": "2024-05-20T12:53:12.920660Z"
    }
   },
   "outputs": [],
   "source": [
    "# creating config from our dictionary for Runner using OmegaConf"
   ]
  },
  {
   "cell_type": "code",
   "execution_count": 28,
   "id": "6c82e07f",
   "metadata": {
    "execution": {
     "iopub.execute_input": "2024-05-20T12:53:14.071503Z",
     "iopub.status.busy": "2024-05-20T12:53:14.070642Z",
     "iopub.status.idle": "2024-05-20T12:53:14.087076Z",
     "shell.execute_reply": "2024-05-20T12:53:14.085941Z",
     "shell.execute_reply.started": "2024-05-20T12:53:14.071468Z"
    }
   },
   "outputs": [],
   "source": [
    "from omegaconf import OmegaConf\n",
    "cfg = OmegaConf.create(cfg_dict)"
   ]
  },
  {
   "cell_type": "code",
   "execution_count": 29,
   "id": "4ef2d772",
   "metadata": {
    "execution": {
     "iopub.execute_input": "2024-05-20T12:53:14.540187Z",
     "iopub.status.busy": "2024-05-20T12:53:14.539377Z",
     "iopub.status.idle": "2024-05-20T12:53:14.565765Z",
     "shell.execute_reply": "2024-05-20T12:53:14.564889Z",
     "shell.execute_reply.started": "2024-05-20T12:53:14.540139Z"
    }
   },
   "outputs": [
    {
     "data": {
      "text/plain": [
       "{'model_params': {'conv_type': 'GraphConv', 'activation': 'leakyrelu', 'lin_prep_dropout_rate': 0.4, 'lin_prep_len': 1, 'lin_prep_size_common': 512, 'lin_prep_sizes': [256], 'lin_prep_weight_norm_flag': True, 'graph_conv_weight_norm_flag': True, 'n_hops': 2, 'conv1_aggrs': {'mean': 128, 'max': 64, 'add': 32}, 'conv1_dropout_rate': 0.2, 'conv2_aggrs': {'mean': 64, 'max': 32, 'add': 16}, 'conv2_dropout_rate': 0.2}, 'training': {'device': 'cuda:0', 'targets': ['y0', 'y1', 'y2', 'y3', 'y4', 'y5', 'y6', 'y7', 'y8', 'y9'], 'num_neighbors': [25, 15], 'batch_size': 250, 'initial_lr': 0.0023, 'weight_decay': 0.0001, 'n_epochs': 1, 'eval_freq': 5, 'scheduler_type': 'MultiStepLR', 'scheduler_params': {'milestones': [10, 20, 35, 50, 70, 90, 105], 'gamma': 0.25}, 'loss': {'name': 'CrossEntropyLoss', 'label_smoothing': False, 'target_weights': {'y': 1}, 'group_weights': [1], 'fill_value': -100}}, 'logging': {'mlflow_experiment_name': 'coolgraph', 'use_mlflow': False, 'checkpoint_dir': './checkpoints'}, 'metrics': ['accuracy', 'cross_entropy', 'f1_weighted']}"
      ]
     },
     "execution_count": 29,
     "metadata": {},
     "output_type": "execute_result"
    }
   ],
   "source": [
    "cfg"
   ]
  },
  {
   "cell_type": "code",
   "execution_count": 30,
   "id": "926d8d30",
   "metadata": {
    "execution": {
     "iopub.execute_input": "2024-05-20T12:53:16.746818Z",
     "iopub.status.busy": "2024-05-20T12:53:16.746241Z",
     "iopub.status.idle": "2024-05-20T12:53:16.751701Z",
     "shell.execute_reply": "2024-05-20T12:53:16.750569Z",
     "shell.execute_reply.started": "2024-05-20T12:53:16.746793Z"
    }
   },
   "outputs": [],
   "source": [
    "# now passing cfg as a parameter into runner"
   ]
  },
  {
   "cell_type": "code",
   "execution_count": 31,
   "id": "f7ec1d35",
   "metadata": {
    "execution": {
     "iopub.execute_input": "2024-05-20T12:53:17.473263Z",
     "iopub.status.busy": "2024-05-20T12:53:17.472348Z",
     "iopub.status.idle": "2024-05-20T12:53:17.481613Z",
     "shell.execute_reply": "2024-05-20T12:53:17.480444Z",
     "shell.execute_reply.started": "2024-05-20T12:53:17.473225Z"
    }
   },
   "outputs": [],
   "source": [
    "runner_hand_cfg = Runner(data, config=cfg)"
   ]
  },
  {
   "cell_type": "code",
   "execution_count": 32,
   "id": "2f5ebd08",
   "metadata": {
    "execution": {
     "iopub.execute_input": "2024-05-20T12:53:29.540845Z",
     "iopub.status.busy": "2024-05-20T12:53:29.539601Z",
     "iopub.status.idle": "2024-05-20T12:53:38.928200Z",
     "shell.execute_reply": "2024-05-20T12:53:38.927462Z",
     "shell.execute_reply.started": "2024-05-20T12:53:29.540795Z"
    }
   },
   "outputs": [
    {
     "name": "stderr",
     "output_type": "stream",
     "text": [
      "Sample data: 100%|██████████| 42/42 [00:04<00:00,  9.51it/s]\n",
      "Sample data: 100%|██████████| 14/14 [00:02<00:00,  6.71it/s]\n",
      "2024-05-20 15:53:38.187 | INFO     | cool_graph.train.helpers:eval_epoch:199 - test:\n",
      " {'accuracy': 0.641, 'cross_entropy': 0.996, 'f1_weighted': 0.586, 'calc_time': 0.004, 'main_metric': 0.641}\n",
      "2024-05-20 15:53:38.881 | INFO     | cool_graph.train.helpers:eval_epoch:199 - train:\n",
      " {'accuracy': 0.622, 'cross_entropy': 1.017, 'f1_weighted': 0.562, 'calc_time': 0.012, 'main_metric': 0.622}\n"
     ]
    }
   ],
   "source": [
    "# success\n",
    "res_hand_cfg = runner_hand_cfg.run()"
   ]
  },
  {
   "cell_type": "markdown",
   "id": "98c44422",
   "metadata": {},
   "source": [
    "# 3. Passing path to your config file <a id=\"p4\"></a>"
   ]
  },
  {
   "cell_type": "code",
   "execution_count": null,
   "id": "a5fb1a12",
   "metadata": {},
   "outputs": [],
   "source": [
    "# if you are not working with the library in dev mode and as a result you do not have the configs folder\n",
    "# can be copied using the terminal with command:\n",
    "# get_config --configs <path/to/config/where/you/need/it>"
   ]
  },
  {
   "cell_type": "code",
   "execution_count": 33,
   "id": "613da226",
   "metadata": {
    "execution": {
     "iopub.execute_input": "2024-05-20T12:53:46.453328Z",
     "iopub.status.busy": "2024-05-20T12:53:46.452569Z",
     "iopub.status.idle": "2024-05-20T12:53:46.917362Z",
     "shell.execute_reply": "2024-05-20T12:53:46.916114Z",
     "shell.execute_reply.started": "2024-05-20T12:53:46.453283Z"
    }
   },
   "outputs": [
    {
     "name": "stdout",
     "output_type": "stream",
     "text": [
      "# this config for runner in notebook (no attrs on edges)\n",
      "defaults:\n",
      "  - model_params: graphconv\n",
      "  - training: in_memory_data\n",
      "  - logging: in_memory_data\n",
      "  - metrics: in_memory_data"
     ]
    }
   ],
   "source": [
    "!cat ../cool_graph/config/in_memory_data.yaml"
   ]
  },
  {
   "cell_type": "code",
   "execution_count": 34,
   "id": "ee9be96a",
   "metadata": {
    "execution": {
     "iopub.execute_input": "2024-05-20T12:53:56.568563Z",
     "iopub.status.busy": "2024-05-20T12:53:56.567601Z",
     "iopub.status.idle": "2024-05-20T12:53:56.575451Z",
     "shell.execute_reply": "2024-05-20T12:53:56.574026Z",
     "shell.execute_reply.started": "2024-05-20T12:53:56.568509Z"
    }
   },
   "outputs": [],
   "source": [
    "# you can also add the path to the configs (by making any changes directly to the yaml files\n",
    "# i.e. I only need to change the confing training: in_memory_data"
   ]
  },
  {
   "cell_type": "code",
   "execution_count": 35,
   "id": "1424d83f",
   "metadata": {
    "execution": {
     "iopub.execute_input": "2024-05-20T12:53:58.404022Z",
     "iopub.status.busy": "2024-05-20T12:53:58.403149Z",
     "iopub.status.idle": "2024-05-20T12:53:58.526831Z",
     "shell.execute_reply": "2024-05-20T12:53:58.525915Z",
     "shell.execute_reply.started": "2024-05-20T12:53:58.403968Z"
    }
   },
   "outputs": [],
   "source": [
    "runner_with_path = Runner(data, config_path=\"../cool_graph/config/in_memory_data.yaml\")"
   ]
  },
  {
   "cell_type": "code",
   "execution_count": 36,
   "id": "d00af7ab",
   "metadata": {
    "execution": {
     "iopub.execute_input": "2024-05-20T12:53:59.187567Z",
     "iopub.status.busy": "2024-05-20T12:53:59.187110Z",
     "iopub.status.idle": "2024-05-20T12:53:59.194769Z",
     "shell.execute_reply": "2024-05-20T12:53:59.193872Z",
     "shell.execute_reply.started": "2024-05-20T12:53:59.187541Z"
    }
   },
   "outputs": [
    {
     "data": {
      "text/plain": [
       "{'model_params': {'conv_type': 'GraphConv',\n",
       "  'activation': 'leakyrelu',\n",
       "  'lin_prep_dropout_rate': 0.4,\n",
       "  'lin_prep_len': 1,\n",
       "  'lin_prep_size_common': 512,\n",
       "  'lin_prep_sizes': [256],\n",
       "  'lin_prep_weight_norm_flag': True,\n",
       "  'graph_conv_weight_norm_flag': True,\n",
       "  'n_hops': 2,\n",
       "  'conv1_aggrs': {'mean': 128, 'max': 64, 'add': 32},\n",
       "  'conv1_dropout_rate': 0.2,\n",
       "  'conv2_aggrs': {'mean': 64, 'max': 32, 'add': 16},\n",
       "  'conv2_dropout_rate': 0.2},\n",
       " 'training': {'device': 'cuda:0',\n",
       "  'targets': ['y'],\n",
       "  'num_neighbors': [25, 15],\n",
       "  'batch_size': 250,\n",
       "  'initial_lr': 0.0023,\n",
       "  'weight_decay': 0.0001,\n",
       "  'n_epochs': 25,\n",
       "  'eval_freq': 5,\n",
       "  'scheduler_type': 'MultiStepLR',\n",
       "  'scheduler_params': {'milestones': [10, 20, 35, 50, 70, 90, 105],\n",
       "   'gamma': 0.25},\n",
       "  'loss': {'name': 'CrossEntropyLoss',\n",
       "   'label_smoothing': False,\n",
       "   'target_weights': {'y': 1},\n",
       "   'group_weights': [1],\n",
       "   'fill_value': -100}},\n",
       " 'logging': {'mlflow_experiment_name': 'coolgraph',\n",
       "  'use_mlflow': False,\n",
       "  'checkpoint_dir': './checkpoints'},\n",
       " 'metrics': ['accuracy', 'cross_entropy', 'f1_weighted']}"
      ]
     },
     "execution_count": 36,
     "metadata": {},
     "output_type": "execute_result"
    }
   ],
   "source": [
    "# we see the same dictionary\n",
    "runner_with_path.cfg"
   ]
  },
  {
   "cell_type": "code",
   "execution_count": 37,
   "id": "518a912e",
   "metadata": {
    "execution": {
     "iopub.execute_input": "2024-05-20T12:54:07.914754Z",
     "iopub.status.busy": "2024-05-20T12:54:07.913881Z",
     "iopub.status.idle": "2024-05-20T12:54:51.205944Z",
     "shell.execute_reply": "2024-05-20T12:54:51.204252Z",
     "shell.execute_reply.started": "2024-05-20T12:54:07.914710Z"
    }
   },
   "outputs": [
    {
     "name": "stderr",
     "output_type": "stream",
     "text": [
      "Sample data: 100%|██████████| 42/42 [00:03<00:00, 11.21it/s]\n",
      "Sample data: 100%|██████████| 14/14 [00:01<00:00, 12.52it/s]\n",
      "2024-05-20 15:54:14.951 | INFO     | cool_graph.train.helpers:eval_epoch:199 - test:\n",
      " {'accuracy': 0.535, 'cross_entropy': 1.368, 'f1_weighted': 0.465, 'calc_time': 0.005, 'main_metric': 0.535}\n",
      "2024-05-20 15:54:15.651 | INFO     | cool_graph.train.helpers:eval_epoch:199 - train:\n",
      " {'accuracy': 0.532, 'cross_entropy': 1.359, 'f1_weighted': 0.461, 'calc_time': 0.012, 'main_metric': 0.532}\n",
      "2024-05-20 15:54:22.374 | INFO     | cool_graph.train.helpers:eval_epoch:199 - test:\n",
      " {'accuracy': 0.9, 'cross_entropy': 0.315, 'f1_weighted': 0.898, 'calc_time': 0.004, 'main_metric': 0.9}\n",
      "2024-05-20 15:54:23.135 | INFO     | cool_graph.train.helpers:eval_epoch:199 - train:\n",
      " {'accuracy': 0.922, 'cross_entropy': 0.258, 'f1_weighted': 0.92, 'calc_time': 0.013, 'main_metric': 0.922}\n",
      "2024-05-20 15:54:30.230 | INFO     | cool_graph.train.helpers:eval_epoch:199 - test:\n",
      " {'accuracy': 0.916, 'cross_entropy': 0.272, 'f1_weighted': 0.915, 'calc_time': 0.006, 'main_metric': 0.916}\n",
      "2024-05-20 15:54:30.963 | INFO     | cool_graph.train.helpers:eval_epoch:199 - train:\n",
      " {'accuracy': 0.951, 'cross_entropy': 0.159, 'f1_weighted': 0.949, 'calc_time': 0.012, 'main_metric': 0.951}\n",
      "2024-05-20 15:54:37.967 | INFO     | cool_graph.train.helpers:eval_epoch:199 - test:\n",
      " {'accuracy': 0.915, 'cross_entropy': 0.3, 'f1_weighted': 0.914, 'calc_time': 0.005, 'main_metric': 0.915}\n",
      "2024-05-20 15:54:38.619 | INFO     | cool_graph.train.helpers:eval_epoch:199 - train:\n",
      " {'accuracy': 0.959, 'cross_entropy': 0.135, 'f1_weighted': 0.958, 'calc_time': 0.011, 'main_metric': 0.959}\n",
      "2024-05-20 15:54:45.277 | INFO     | cool_graph.train.helpers:eval_epoch:199 - test:\n",
      " {'accuracy': 0.921, 'cross_entropy': 0.29, 'f1_weighted': 0.921, 'calc_time': 0.004, 'main_metric': 0.921}\n",
      "2024-05-20 15:54:46.032 | INFO     | cool_graph.train.helpers:eval_epoch:199 - train:\n",
      " {'accuracy': 0.97, 'cross_entropy': 0.097, 'f1_weighted': 0.97, 'calc_time': 0.013, 'main_metric': 0.97}\n",
      "                                               \r"
     ]
    }
   ],
   "source": [
    "# succes\n",
    "res_runner_with_path = runner_with_path.run()"
   ]
  },
  {
   "cell_type": "code",
   "execution_count": 38,
   "id": "24a31c3d",
   "metadata": {
    "execution": {
     "iopub.execute_input": "2024-05-20T12:55:00.793876Z",
     "iopub.status.busy": "2024-05-20T12:55:00.793502Z",
     "iopub.status.idle": "2024-05-20T12:55:00.801163Z",
     "shell.execute_reply": "2024-05-20T12:55:00.800040Z",
     "shell.execute_reply.started": "2024-05-20T12:55:00.793848Z"
    }
   },
   "outputs": [
    {
     "data": {
      "text/plain": [
       "{'accuracy': 0.921,\n",
       " 'cross_entropy': 0.29,\n",
       " 'f1_weighted': 0.921,\n",
       " 'calc_time': 0.004,\n",
       " 'main_metric': 0.921,\n",
       " 'epoch': 20}"
      ]
     },
     "execution_count": 38,
     "metadata": {},
     "output_type": "execute_result"
    }
   ],
   "source": [
    "res_runner_with_path[\"best_loss\"]"
   ]
  }
 ],
 "metadata": {
  "kernelspec": {
   "display_name": "CGKernel",
   "language": "python",
   "name": "cgkernel"
  },
  "language_info": {
   "codemirror_mode": {
    "name": "ipython",
    "version": 3
   },
   "file_extension": ".py",
   "mimetype": "text/x-python",
   "name": "python",
   "nbconvert_exporter": "python",
   "pygments_lexer": "ipython3",
   "version": "3.8.13"
  }
 },
 "nbformat": 4,
 "nbformat_minor": 5
}
