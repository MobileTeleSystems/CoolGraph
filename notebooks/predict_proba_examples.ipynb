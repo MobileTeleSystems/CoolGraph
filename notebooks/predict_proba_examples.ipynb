{
 "cells": [
  {
   "cell_type": "markdown",
   "id": "2a1eeef7",
   "metadata": {},
   "source": [
    "# How to work with predict_proba and calc_metrics in Runner and HypeRunner"
   ]
  },
  {
   "cell_type": "markdown",
   "id": "aa08ae87",
   "metadata": {},
   "source": [
    " 1. [Runner (with calc_metrics example) (Amazon Computers)](#p1)\n",
    " 2. [Runner (Multitarget)](#p2)\n",
    " 3. [HypeRunner (Amazon Computers)](#p3)\n",
    " 4. [HypeRunner (Multitarget)](#p4)"
   ]
  },
  {
   "cell_type": "markdown",
   "id": "ee19b8e0",
   "metadata": {},
   "source": [
    "# 1. <a id=\"p1\">Runner (Amazon Computers) </a>"
   ]
  },
  {
   "cell_type": "markdown",
   "id": "f87a541e",
   "metadata": {},
   "source": [
    "### Summary:\n",
    "#### Training Runner on Amazon Computers Dataset with `runner.run()`. <br> Getting predictions on test sample of Amazon computers using `runner.predict_proba()`. <br> Calculating score on predictions using `calc_metrics()` function"
   ]
  },
  {
   "cell_type": "code",
   "execution_count": 2,
   "id": "a805872e",
   "metadata": {
    "execution": {
     "iopub.execute_input": "2024-07-26T14:00:22.618517Z",
     "iopub.status.busy": "2024-07-26T14:00:22.618081Z",
     "iopub.status.idle": "2024-07-26T14:00:24.685394Z",
     "shell.execute_reply": "2024-07-26T14:00:24.684427Z",
     "shell.execute_reply.started": "2024-07-26T14:00:22.618488Z"
    }
   },
   "outputs": [],
   "source": [
    "from torch_geometric import datasets\n",
    "import torch\n",
    "import pandas as pd"
   ]
  },
  {
   "cell_type": "code",
   "execution_count": 3,
   "id": "f0d6c99f",
   "metadata": {
    "execution": {
     "iopub.execute_input": "2024-07-26T14:00:24.687935Z",
     "iopub.status.busy": "2024-07-26T14:00:24.686958Z",
     "iopub.status.idle": "2024-07-26T14:00:26.356301Z",
     "shell.execute_reply": "2024-07-26T14:00:26.355449Z",
     "shell.execute_reply.started": "2024-07-26T14:00:24.687901Z"
    }
   },
   "outputs": [],
   "source": [
    "from cool_graph.runners import Runner\n",
    "from torch_geometric.data import Data"
   ]
  },
  {
   "cell_type": "code",
   "execution_count": 4,
   "id": "e6da0e6a",
   "metadata": {
    "execution": {
     "iopub.execute_input": "2024-07-26T14:00:26.359042Z",
     "iopub.status.busy": "2024-07-26T14:00:26.358253Z",
     "iopub.status.idle": "2024-07-26T14:00:26.447348Z",
     "shell.execute_reply": "2024-07-26T14:00:26.446224Z",
     "shell.execute_reply.started": "2024-07-26T14:00:26.359013Z"
    }
   },
   "outputs": [
    {
     "data": {
      "text/plain": [
       "Data(x=[13752, 767], edge_index=[2, 491722], y=[13752])"
      ]
     },
     "execution_count": 4,
     "metadata": {},
     "output_type": "execute_result"
    }
   ],
   "source": [
    "# use simple Amazon dataset with Computers\n",
    "dataset = datasets.Amazon(root='./data/Amazon', name='Computers')\n",
    "data = dataset.data\n",
    "data"
   ]
  },
  {
   "cell_type": "code",
   "execution_count": 6,
   "id": "a2571836",
   "metadata": {
    "execution": {
     "iopub.execute_input": "2024-07-26T14:00:39.939263Z",
     "iopub.status.busy": "2024-07-26T14:00:39.938498Z",
     "iopub.status.idle": "2024-07-26T14:00:40.163447Z",
     "shell.execute_reply": "2024-07-26T14:00:40.162558Z",
     "shell.execute_reply.started": "2024-07-26T14:00:39.939234Z"
    }
   },
   "outputs": [],
   "source": [
    "# initializing Runner\n",
    "runner = Runner(data, verbose=False)"
   ]
  },
  {
   "cell_type": "code",
   "execution_count": 7,
   "id": "f99c1787",
   "metadata": {
    "execution": {
     "iopub.execute_input": "2024-07-26T14:00:40.737740Z",
     "iopub.status.busy": "2024-07-26T14:00:40.737276Z",
     "iopub.status.idle": "2024-07-26T14:00:40.745864Z",
     "shell.execute_reply": "2024-07-26T14:00:40.745140Z",
     "shell.execute_reply.started": "2024-07-26T14:00:40.737709Z"
    }
   },
   "outputs": [
    {
     "data": {
      "text/plain": [
       "['accuracy', 'cross_entropy', 'f1_weighted']"
      ]
     },
     "execution_count": 7,
     "metadata": {},
     "output_type": "execute_result"
    }
   ],
   "source": [
    "# let's check metrics\n",
    "runner.cfg[\"metrics\"]"
   ]
  },
  {
   "cell_type": "code",
   "execution_count": 8,
   "id": "6734c776",
   "metadata": {
    "execution": {
     "iopub.execute_input": "2024-07-26T14:00:52.289901Z",
     "iopub.status.busy": "2024-07-26T14:00:52.289438Z",
     "iopub.status.idle": "2024-07-26T14:02:12.860862Z",
     "shell.execute_reply": "2024-07-26T14:02:12.859841Z",
     "shell.execute_reply.started": "2024-07-26T14:00:52.289868Z"
    }
   },
   "outputs": [
    {
     "name": "stdout",
     "output_type": "stream",
     "text": [
      "CPU times: user 43min 18s, sys: 4min 48s, total: 48min 6s\n",
      "Wall time: 1min 20s\n"
     ]
    }
   ],
   "source": [
    "%%time\n",
    "# training \n",
    "result = runner.run()"
   ]
  },
  {
   "cell_type": "code",
   "execution_count": 45,
   "id": "a351fa12",
   "metadata": {
    "execution": {
     "iopub.execute_input": "2024-07-24T20:36:03.772838Z",
     "iopub.status.busy": "2024-07-24T20:36:03.772546Z",
     "iopub.status.idle": "2024-07-24T20:36:03.776932Z",
     "shell.execute_reply": "2024-07-24T20:36:03.776462Z",
     "shell.execute_reply.started": "2024-07-24T20:36:03.772821Z"
    }
   },
   "outputs": [
    {
     "name": "stdout",
     "output_type": "stream",
     "text": [
      "tensor([11144,  8484, 10273,  ..., 12441,  3984,  8292])\n",
      "tensor([7095, 9842, 1553,  ..., 7552, 3983, 8723])\n"
     ]
    }
   ],
   "source": [
    "# checking train/test split in runner\n",
    "print(runner.train_idx)\n",
    "print(runner.test_idx)"
   ]
  },
  {
   "cell_type": "code",
   "execution_count": 46,
   "id": "e8236f9a",
   "metadata": {
    "execution": {
     "iopub.execute_input": "2024-07-24T20:36:05.030225Z",
     "iopub.status.busy": "2024-07-24T20:36:05.029407Z",
     "iopub.status.idle": "2024-07-24T20:36:06.991150Z",
     "shell.execute_reply": "2024-07-24T20:36:06.989845Z",
     "shell.execute_reply.started": "2024-07-24T20:36:05.030204Z"
    }
   },
   "outputs": [
    {
     "name": "stderr",
     "output_type": "stream",
     "text": [
      "Sample data: 100%|██████████| 14/14 [00:01<00:00,  8.55it/s]\n",
      "                                               \r"
     ]
    }
   ],
   "source": [
    "# getting prediction of probabilities of test nodes belonging to each of 10 classes\n",
    "# and indices of nodes from data.x on which predictions were made\n",
    "# now with metrics accuracy and roc_auc\n",
    "preds, indices = runner.predict_proba(data, test_mask=runner.test_idx)"
   ]
  },
  {
   "cell_type": "code",
   "execution_count": 47,
   "id": "25f8cc4c",
   "metadata": {
    "execution": {
     "iopub.execute_input": "2024-07-24T20:36:07.268577Z",
     "iopub.status.busy": "2024-07-24T20:36:07.268309Z",
     "iopub.status.idle": "2024-07-24T20:36:07.273450Z",
     "shell.execute_reply": "2024-07-24T20:36:07.273024Z",
     "shell.execute_reply.started": "2024-07-24T20:36:07.268559Z"
    }
   },
   "outputs": [
    {
     "data": {
      "text/plain": [
       "{'y': array([[9.7961672e-10, 8.9330232e-04, 2.8586419e-08, ..., 1.6820866e-08,\n",
       "         9.9570686e-01, 1.6694018e-07],\n",
       "        [8.2801978e-07, 8.3723069e-07, 9.9650887e-12, ..., 7.4552543e-12,\n",
       "         3.3368945e-06, 3.9771731e-13],\n",
       "        [3.6074553e-06, 1.9758058e-05, 2.0433931e-10, ..., 4.5269075e-10,\n",
       "         1.1946617e-04, 3.9859172e-10],\n",
       "        ...,\n",
       "        [2.4543593e-05, 1.7357592e-02, 1.4163599e-04, ..., 2.2546052e-04,\n",
       "         9.1188085e-01, 3.9362791e-04],\n",
       "        [4.3684584e-05, 6.1099266e-04, 2.0017833e-07, ..., 3.0814186e-07,\n",
       "         1.5478279e-03, 3.5494182e-07],\n",
       "        [2.9600825e-10, 6.3976549e-09, 1.8611238e-17, ..., 4.7020179e-17,\n",
       "         4.6064081e-08, 1.2216913e-17]], dtype=float32)}"
      ]
     },
     "execution_count": 47,
     "metadata": {},
     "output_type": "execute_result"
    }
   ],
   "source": [
    "# looking at predictions\n",
    "preds"
   ]
  },
  {
   "cell_type": "code",
   "execution_count": 48,
   "id": "1c2bd77c",
   "metadata": {
    "execution": {
     "iopub.execute_input": "2024-07-24T20:36:38.854172Z",
     "iopub.status.busy": "2024-07-24T20:36:38.853846Z",
     "iopub.status.idle": "2024-07-24T20:36:38.858335Z",
     "shell.execute_reply": "2024-07-24T20:36:38.857720Z",
     "shell.execute_reply.started": "2024-07-24T20:36:38.854154Z"
    }
   },
   "outputs": [
    {
     "name": "stdout",
     "output_type": "stream",
     "text": [
      "torch.Size([3438])\n",
      "(3438, 10)\n",
      "3438\n"
     ]
    }
   ],
   "source": [
    "# shape of prediction tensor matches with number of nodes in test sample\n",
    "print(runner.test_idx.shape)\n",
    "print(preds[\"y\"].shape)\n",
    "print(len(indices))"
   ]
  },
  {
   "cell_type": "code",
   "execution_count": 12,
   "id": "623baf24",
   "metadata": {
    "execution": {
     "iopub.execute_input": "2024-07-24T18:09:15.274257Z",
     "iopub.status.busy": "2024-07-24T18:09:15.273835Z",
     "iopub.status.idle": "2024-07-24T18:09:15.387876Z",
     "shell.execute_reply": "2024-07-24T18:09:15.387311Z",
     "shell.execute_reply.started": "2024-07-24T18:09:15.274235Z"
    }
   },
   "outputs": [
    {
     "data": {
      "text/plain": [
       "{'y': {'accuracy': 0.9162303664921466}}"
      ]
     },
     "execution_count": 12,
     "metadata": {},
     "output_type": "execute_result"
    }
   ],
   "source": [
    "#lets try to calculate accuracy on our predictions with calc_metrics function\n",
    "from cool_graph.train.metrics import calc_metrics\n",
    "# passing data as our true labels, predictions from predict_proba and indices of nodes from predict_proba\n",
    "metrics = calc_metrics(data, preds, metrics=[\"accuracy\"], indices=indices)\n",
    "metrics"
   ]
  },
  {
   "cell_type": "markdown",
   "id": "b07a3928",
   "metadata": {},
   "source": [
    "# 2. <a id=\"p2\"> Runner (Multitarget dataset) </a>"
   ]
  },
  {
   "cell_type": "markdown",
   "id": "9879baff",
   "metadata": {},
   "source": [
    "### Summary:\n",
    "#### Let's try to work with dataset with multiple targets. We will use Multitarget dataset from `cool_graph.datasets` which has two versions: `50k` - bigger one, `10k` - smaller one.  <br> Training Runner on Multitarget Dataset `50k` with `runner.run()`. <br> Getting predictions for each task on test sample of Multitarget dataset `10k` using `runner.predict_proba()`. <br> Calculating score on predictions for each task of Multitarget `10k` using `calc_metrics()` function"
   ]
  },
  {
   "cell_type": "code",
   "execution_count": 9,
   "id": "01e3c452",
   "metadata": {
    "execution": {
     "iopub.execute_input": "2024-07-26T14:02:12.864274Z",
     "iopub.status.busy": "2024-07-26T14:02:12.863370Z",
     "iopub.status.idle": "2024-07-26T14:02:12.917833Z",
     "shell.execute_reply": "2024-07-26T14:02:12.916840Z",
     "shell.execute_reply.started": "2024-07-26T14:02:12.864237Z"
    }
   },
   "outputs": [],
   "source": [
    "#importing Multitarget dataset loader\n",
    "from cool_graph.datasets.multitarget import Multitarget"
   ]
  },
  {
   "cell_type": "code",
   "execution_count": 10,
   "id": "79e72feb",
   "metadata": {
    "execution": {
     "iopub.execute_input": "2024-07-26T14:02:12.920029Z",
     "iopub.status.busy": "2024-07-26T14:02:12.919559Z",
     "iopub.status.idle": "2024-07-26T14:02:20.989580Z",
     "shell.execute_reply": "2024-07-26T14:02:20.988515Z",
     "shell.execute_reply.started": "2024-07-26T14:02:12.920002Z"
    }
   },
   "outputs": [
    {
     "name": "stderr",
     "output_type": "stream",
     "text": [
      "Using existing file ./data/50k/50k_data.pt\n"
     ]
    }
   ],
   "source": [
    "# Load heterogenious data for 50k dataset\n",
    "multitarget_50k = Multitarget(root=\"./data\", name=\"50k\")\n",
    "hetero_data_50k = multitarget_50k.data"
   ]
  },
  {
   "cell_type": "code",
   "execution_count": 11,
   "id": "befc6c5d",
   "metadata": {
    "execution": {
     "iopub.execute_input": "2024-07-26T14:02:20.999236Z",
     "iopub.status.busy": "2024-07-26T14:02:20.991760Z",
     "iopub.status.idle": "2024-07-26T14:02:21.004571Z",
     "shell.execute_reply": "2024-07-26T14:02:21.003759Z",
     "shell.execute_reply.started": "2024-07-26T14:02:20.999182Z"
    }
   },
   "outputs": [],
   "source": [
    "# Take just <node_1> node type\n",
    "# So we use homogenious data (standard)\n",
    "data_50k = Data(**hetero_data_50k['node_1'], **hetero_data_50k[('node_1', 'to', 'node_1')])"
   ]
  },
  {
   "cell_type": "code",
   "execution_count": 12,
   "id": "c392b435",
   "metadata": {
    "execution": {
     "iopub.execute_input": "2024-07-26T14:02:21.006533Z",
     "iopub.status.busy": "2024-07-26T14:02:21.005990Z",
     "iopub.status.idle": "2024-07-26T14:02:21.012692Z",
     "shell.execute_reply": "2024-07-26T14:02:21.011983Z",
     "shell.execute_reply.started": "2024-07-26T14:02:21.006506Z"
    }
   },
   "outputs": [
    {
     "data": {
      "text/plain": [
       "Data(x=[5860353, 162], edge_index=[2, 4444748], edge_attr=[4444748, 44], y=[5860353, 4], label_3=[5860353], label_4=[5860353], label_5=[5860353], label_6=[5860353], label_mask=[5860353], index=[5860353])"
      ]
     },
     "execution_count": 12,
     "metadata": {},
     "output_type": "execute_result"
    }
   ],
   "source": [
    "data_50k"
   ]
  },
  {
   "cell_type": "code",
   "execution_count": 13,
   "id": "a7745978",
   "metadata": {
    "execution": {
     "iopub.execute_input": "2024-07-26T14:02:21.014580Z",
     "iopub.status.busy": "2024-07-26T14:02:21.014016Z",
     "iopub.status.idle": "2024-07-26T14:02:21.298862Z",
     "shell.execute_reply": "2024-07-26T14:02:21.297124Z",
     "shell.execute_reply.started": "2024-07-26T14:02:21.014555Z"
    }
   },
   "outputs": [],
   "source": [
    "# Initializing runner \n",
    "runner = Runner(data_50k, metrics=['roc_auc','cross_entropy'],\n",
    "                use_edge_attr=True)"
   ]
  },
  {
   "cell_type": "code",
   "execution_count": 18,
   "id": "2c3c3ab9",
   "metadata": {
    "execution": {
     "iopub.execute_input": "2024-07-24T18:09:27.680368Z",
     "iopub.status.busy": "2024-07-24T18:09:27.677832Z",
     "iopub.status.idle": "2024-07-24T18:11:45.502728Z",
     "shell.execute_reply": "2024-07-24T18:11:45.501881Z",
     "shell.execute_reply.started": "2024-07-24T18:09:27.680333Z"
    }
   },
   "outputs": [
    {
     "name": "stderr",
     "output_type": "stream",
     "text": [
      "Sample data: 100%|██████████| 60/60 [00:02<00:00, 25.43it/s]\n",
      "Sample data: 100%|██████████| 20/20 [00:01<00:00, 17.39it/s]\n",
      "2024-07-24 21:09:41.070 | INFO     | cool_graph.train.helpers:eval_epoch:218 - test:\n",
      " {'roc_auc': 0.668, 'cross_entropy': 0.461, 'calc_time': 0.02, 'main_metric': 0.668}\n",
      "2024-07-24 21:09:45.261 | INFO     | cool_graph.train.helpers:eval_epoch:218 - train:\n",
      " {'roc_auc': 0.672, 'cross_entropy': 0.458, 'calc_time': 0.07, 'main_metric': 0.672}\n",
      "2024-07-24 21:10:16.846 | INFO     | cool_graph.train.helpers:eval_epoch:218 - test:\n",
      " {'roc_auc': 0.759, 'cross_entropy': 0.39, 'calc_time': 0.025, 'main_metric': 0.759}\n",
      "2024-07-24 21:10:21.095 | INFO     | cool_graph.train.helpers:eval_epoch:218 - train:\n",
      " {'roc_auc': 0.787, 'cross_entropy': 0.371, 'calc_time': 0.071, 'main_metric': 0.787}\n",
      "2024-07-24 21:10:50.742 | INFO     | cool_graph.train.helpers:eval_epoch:218 - test:\n",
      " {'roc_auc': 0.76, 'cross_entropy': 0.384, 'calc_time': 0.014, 'main_metric': 0.76}\n",
      "2024-07-24 21:10:52.777 | INFO     | cool_graph.train.helpers:eval_epoch:218 - train:\n",
      " {'roc_auc': 0.806, 'cross_entropy': 0.354, 'calc_time': 0.034, 'main_metric': 0.806}\n",
      "2024-07-24 21:11:16.107 | INFO     | cool_graph.train.helpers:eval_epoch:218 - test:\n",
      " {'roc_auc': 0.754, 'cross_entropy': 0.393, 'calc_time': 0.016, 'main_metric': 0.754}\n",
      "2024-07-24 21:11:18.931 | INFO     | cool_graph.train.helpers:eval_epoch:218 - train:\n",
      " {'roc_auc': 0.823, 'cross_entropy': 0.348, 'calc_time': 0.047, 'main_metric': 0.823}\n",
      "2024-07-24 21:11:43.807 | INFO     | cool_graph.train.helpers:eval_epoch:218 - test:\n",
      " {'roc_auc': 0.757, 'cross_entropy': 0.388, 'calc_time': 0.01, 'main_metric': 0.757}\n",
      "2024-07-24 21:11:45.453 | INFO     | cool_graph.train.helpers:eval_epoch:218 - train:\n",
      " {'roc_auc': 0.834, 'cross_entropy': 0.334, 'calc_time': 0.027, 'main_metric': 0.834}\n"
     ]
    }
   ],
   "source": [
    "# Training\n",
    "result = runner.run()"
   ]
  },
  {
   "cell_type": "code",
   "execution_count": 14,
   "id": "405cef84",
   "metadata": {
    "execution": {
     "iopub.execute_input": "2024-07-26T14:02:21.303416Z",
     "iopub.status.busy": "2024-07-26T14:02:21.300616Z",
     "iopub.status.idle": "2024-07-26T14:02:23.228076Z",
     "shell.execute_reply": "2024-07-26T14:02:23.226672Z",
     "shell.execute_reply.started": "2024-07-26T14:02:21.303387Z"
    }
   },
   "outputs": [
    {
     "name": "stderr",
     "output_type": "stream",
     "text": [
      "Using existing file ./data/10k/10k_data.pt\n"
     ]
    }
   ],
   "source": [
    "# Load heterogenious data for 50k dataset\n",
    "hetero_data_10k = Multitarget(root=\"./data\", name=\"10k\")"
   ]
  },
  {
   "cell_type": "code",
   "execution_count": 15,
   "id": "65db7207",
   "metadata": {
    "execution": {
     "iopub.execute_input": "2024-07-26T14:02:23.229602Z",
     "iopub.status.busy": "2024-07-26T14:02:23.229270Z",
     "iopub.status.idle": "2024-07-26T14:02:25.330720Z",
     "shell.execute_reply": "2024-07-26T14:02:25.329139Z",
     "shell.execute_reply.started": "2024-07-26T14:02:23.229574Z"
    }
   },
   "outputs": [
    {
     "name": "stderr",
     "output_type": "stream",
     "text": [
      "Using existing file ./data/10k/10k_data.pt\n"
     ]
    }
   ],
   "source": [
    "# Load heterogenious data for 10k dataset\n",
    "multitarget_10k = Multitarget(root=\"./data\", name=\"10k\")\n",
    "hetero_data_10k = multitarget_10k.data\n",
    "data_10k = Data(**hetero_data_10k['node_1'], **hetero_data_10k[('node_1', 'to', 'node_1')])"
   ]
  },
  {
   "cell_type": "code",
   "execution_count": 16,
   "id": "c3c818e8",
   "metadata": {
    "execution": {
     "iopub.execute_input": "2024-07-26T14:02:25.336255Z",
     "iopub.status.busy": "2024-07-26T14:02:25.335544Z",
     "iopub.status.idle": "2024-07-26T14:02:25.345043Z",
     "shell.execute_reply": "2024-07-26T14:02:25.343697Z",
     "shell.execute_reply.started": "2024-07-26T14:02:25.336216Z"
    }
   },
   "outputs": [
    {
     "data": {
      "text/plain": [
       "Data(x=[1318527, 162], edge_index=[2, 908184], edge_attr=[908184, 44], y=[1318527, 4], label_3=[1318527], label_4=[1318527], label_5=[1318527], label_6=[1318527], label_mask=[1318527], index=[1318527])"
      ]
     },
     "execution_count": 16,
     "metadata": {},
     "output_type": "execute_result"
    }
   ],
   "source": [
    "data_10k"
   ]
  },
  {
   "cell_type": "code",
   "execution_count": 22,
   "id": "e1818c73",
   "metadata": {
    "execution": {
     "iopub.execute_input": "2024-07-24T18:11:49.894028Z",
     "iopub.status.busy": "2024-07-24T18:11:49.893787Z",
     "iopub.status.idle": "2024-07-24T18:13:16.979802Z",
     "shell.execute_reply": "2024-07-24T18:13:16.978815Z",
     "shell.execute_reply.started": "2024-07-24T18:11:49.894010Z"
    }
   },
   "outputs": [
    {
     "name": "stderr",
     "output_type": "stream",
     "text": [
      "Sample data: 100%|██████████| 5275/5275 [00:21<00:00, 246.41it/s]\n",
      "                                                    \r"
     ]
    }
   ],
   "source": [
    "# getting prediction of probabilities of nodes from dataset 10k belonging to each of 2 classes \n",
    "# for each of 4 tasks\n",
    "preds, indices = runner.predict_proba(data_10k)"
   ]
  },
  {
   "cell_type": "code",
   "execution_count": 23,
   "id": "75a8f45c",
   "metadata": {
    "execution": {
     "iopub.execute_input": "2024-07-24T18:13:16.982920Z",
     "iopub.status.busy": "2024-07-24T18:13:16.982697Z",
     "iopub.status.idle": "2024-07-24T18:13:16.991578Z",
     "shell.execute_reply": "2024-07-24T18:13:16.990768Z",
     "shell.execute_reply.started": "2024-07-24T18:13:16.982902Z"
    }
   },
   "outputs": [
    {
     "data": {
      "text/plain": [
       "{'y0': array([[0.72181535, 0.27818468],\n",
       "        [0.84333646, 0.15666354],\n",
       "        [0.7893555 , 0.2106445 ],\n",
       "        ...,\n",
       "        [0.82104754, 0.17895252],\n",
       "        [0.85739976, 0.14260027],\n",
       "        [0.9642006 , 0.03579935]], dtype=float32),\n",
       " 'y1': array([[0.70675004, 0.29324993],\n",
       "        [0.9430329 , 0.05696703],\n",
       "        [0.8798542 , 0.12014585],\n",
       "        ...,\n",
       "        [0.90974367, 0.0902563 ],\n",
       "        [0.9509039 , 0.04909613],\n",
       "        [0.9894342 , 0.01056579]], dtype=float32),\n",
       " 'y2': array([[0.7779555 , 0.22204451],\n",
       "        [0.9375671 , 0.06243285],\n",
       "        [0.83785546, 0.16214459],\n",
       "        ...,\n",
       "        [0.8952226 , 0.10477737],\n",
       "        [0.9379956 , 0.0620044 ],\n",
       "        [0.9786699 , 0.0213301 ]], dtype=float32),\n",
       " 'y3': array([[0.84889936, 0.1511006 ],\n",
       "        [0.964528  , 0.03547203],\n",
       "        [0.9046428 , 0.09535722],\n",
       "        ...,\n",
       "        [0.9203122 , 0.07968783],\n",
       "        [0.9610196 , 0.0389805 ],\n",
       "        [0.9877758 , 0.01222418]], dtype=float32)}"
      ]
     },
     "execution_count": 23,
     "metadata": {},
     "output_type": "execute_result"
    }
   ],
   "source": [
    "preds"
   ]
  },
  {
   "cell_type": "code",
   "execution_count": 24,
   "id": "2eb32ae2",
   "metadata": {
    "execution": {
     "iopub.execute_input": "2024-07-24T18:13:16.992718Z",
     "iopub.status.busy": "2024-07-24T18:13:16.992323Z",
     "iopub.status.idle": "2024-07-24T18:13:17.025638Z",
     "shell.execute_reply": "2024-07-24T18:13:17.024899Z",
     "shell.execute_reply.started": "2024-07-24T18:13:16.992700Z"
    }
   },
   "outputs": [
    {
     "name": "stdout",
     "output_type": "stream",
     "text": [
      "(3999, 2)\n",
      "tensor(3999)\n"
     ]
    }
   ],
   "source": [
    "# shape of prediction matches with data_10k label mask\n",
    "print(preds[\"y0\"].shape)\n",
    "print(data_10k.label_mask.sum())"
   ]
  },
  {
   "cell_type": "code",
   "execution_count": 25,
   "id": "abc2b96a",
   "metadata": {
    "execution": {
     "iopub.execute_input": "2024-07-24T18:13:17.027870Z",
     "iopub.status.busy": "2024-07-24T18:13:17.027233Z",
     "iopub.status.idle": "2024-07-24T18:13:17.328736Z",
     "shell.execute_reply": "2024-07-24T18:13:17.328035Z",
     "shell.execute_reply.started": "2024-07-24T18:13:17.027841Z"
    }
   },
   "outputs": [
    {
     "data": {
      "text/plain": [
       "{'y0': {'roc_auc': 0.7217017954722872, 'cross_entropy': tensor(0.5613)},\n",
       " 'y1': {'roc_auc': 0.7675213178153693, 'cross_entropy': tensor(0.4800)},\n",
       " 'y2': {'roc_auc': 0.8303489127642535, 'cross_entropy': tensor(0.4944)},\n",
       " 'y3': {'roc_auc': 0.8077940777724796, 'cross_entropy': tensor(0.4204)}}"
      ]
     },
     "execution_count": 25,
     "metadata": {},
     "output_type": "execute_result"
    }
   ],
   "source": [
    "#lets try to calculate accuracy on our predictions with calc_metrics function\n",
    "from cool_graph.train.metrics import calc_metrics\n",
    "# passing data_10k as our true labels, predictions from predict_proba and indices of nodes from predict_proba\n",
    "metrics = calc_metrics(data_10k, preds, metrics=[\"roc_auc\", \"cross_entropy\"], indices=indices)\n",
    "metrics"
   ]
  },
  {
   "cell_type": "markdown",
   "id": "a2ae69f6",
   "metadata": {
    "execution": {
     "iopub.execute_input": "2024-07-03T22:18:26.082597Z",
     "iopub.status.busy": "2024-07-03T22:18:26.081812Z",
     "iopub.status.idle": "2024-07-03T22:18:26.092223Z",
     "shell.execute_reply": "2024-07-03T22:18:26.090939Z",
     "shell.execute_reply.started": "2024-07-03T22:18:26.082550Z"
    }
   },
   "source": [
    "# 3. <a id=\"p3\"> HypeRunner (Amazon Computers) </a>"
   ]
  },
  {
   "cell_type": "markdown",
   "id": "b54b3a61",
   "metadata": {},
   "source": [
    "### Summary:\n",
    "#### Let's use HypeRunner to find best hyperparameters on Amazon Computers Dataset validation sample with `hyperunner.optimize_run()`. <br> Getting predictions on test sample of Amazon computers using model with best score on validation sample with `hyperunner.predict_proba()`. <br> Calculating score on predictions using `calc_metrics()` function"
   ]
  },
  {
   "cell_type": "code",
   "execution_count": 17,
   "id": "a9ed5598",
   "metadata": {
    "execution": {
     "iopub.execute_input": "2024-07-26T14:02:34.336040Z",
     "iopub.status.busy": "2024-07-26T14:02:34.335217Z",
     "iopub.status.idle": "2024-07-26T14:02:34.341761Z",
     "shell.execute_reply": "2024-07-26T14:02:34.340492Z",
     "shell.execute_reply.started": "2024-07-26T14:02:34.336005Z"
    }
   },
   "outputs": [],
   "source": [
    "from cool_graph.runners import HypeRunner"
   ]
  },
  {
   "cell_type": "code",
   "execution_count": 18,
   "id": "23f272f0",
   "metadata": {
    "execution": {
     "iopub.execute_input": "2024-07-26T14:02:34.831943Z",
     "iopub.status.busy": "2024-07-26T14:02:34.831413Z",
     "iopub.status.idle": "2024-07-26T14:02:34.895531Z",
     "shell.execute_reply": "2024-07-26T14:02:34.894401Z",
     "shell.execute_reply.started": "2024-07-26T14:02:34.831908Z"
    }
   },
   "outputs": [
    {
     "data": {
      "text/plain": [
       "Data(x=[13752, 767], edge_index=[2, 491722], y=[13752])"
      ]
     },
     "execution_count": 18,
     "metadata": {},
     "output_type": "execute_result"
    }
   ],
   "source": [
    "# use simple Amazon dataset with Computers\n",
    "dataset = datasets.Amazon(root='./data/Amazon', name='Computers')\n",
    "data = dataset.data\n",
    "data"
   ]
  },
  {
   "cell_type": "code",
   "execution_count": 20,
   "id": "3d56809f",
   "metadata": {
    "execution": {
     "iopub.execute_input": "2024-07-26T14:02:52.444758Z",
     "iopub.status.busy": "2024-07-26T14:02:52.444124Z",
     "iopub.status.idle": "2024-07-26T14:02:52.883809Z",
     "shell.execute_reply": "2024-07-26T14:02:52.882764Z",
     "shell.execute_reply.started": "2024-07-26T14:02:52.444727Z"
    }
   },
   "outputs": [],
   "source": [
    "# initializing hyperunner\n",
    "hyperunner = HypeRunner(data, \n",
    "                seed=42,\n",
    "                gc_after_trial=True, \n",
    "                verbose=False)"
   ]
  },
  {
   "cell_type": "code",
   "execution_count": null,
   "id": "a5f5d61f",
   "metadata": {
    "execution": {
     "iopub.execute_input": "2024-07-26T14:03:57.276125Z",
     "iopub.status.busy": "2024-07-26T14:03:57.275335Z"
    }
   },
   "outputs": [],
   "source": [
    "%%time\n",
    "# training and optimizing model\n",
    "result = hyperunner.optimize_run(n_trials=10)"
   ]
  },
  {
   "cell_type": "code",
   "execution_count": 30,
   "id": "dbb5d712",
   "metadata": {
    "execution": {
     "iopub.execute_input": "2024-07-24T18:22:19.191541Z",
     "iopub.status.busy": "2024-07-24T18:22:19.191100Z",
     "iopub.status.idle": "2024-07-24T18:22:22.514424Z",
     "shell.execute_reply": "2024-07-24T18:22:22.513471Z",
     "shell.execute_reply.started": "2024-07-24T18:22:19.191520Z"
    }
   },
   "outputs": [
    {
     "name": "stderr",
     "output_type": "stream",
     "text": [
      "Sample data: 100%|██████████| 14/14 [00:02<00:00,  4.88it/s]\n",
      "                                               \r"
     ]
    }
   ],
   "source": [
    "# getting predictions of model with best score on test sample \n",
    "preds, indices = hyperunner.predict_proba(data, hyperunner.test_idx)"
   ]
  },
  {
   "cell_type": "code",
   "execution_count": 31,
   "id": "a7d55603",
   "metadata": {
    "execution": {
     "iopub.execute_input": "2024-07-24T18:22:22.518223Z",
     "iopub.status.busy": "2024-07-24T18:22:22.517555Z",
     "iopub.status.idle": "2024-07-24T18:22:22.524123Z",
     "shell.execute_reply": "2024-07-24T18:22:22.523547Z",
     "shell.execute_reply.started": "2024-07-24T18:22:22.518197Z"
    }
   },
   "outputs": [
    {
     "data": {
      "text/plain": [
       "{'y': array([[5.9231610e-05, 7.5862028e-02, 5.6601886e-05, ..., 5.6856737e-04,\n",
       "         6.9100869e-01, 5.8191729e-04],\n",
       "        [1.3799192e-07, 7.3974996e-05, 7.7756324e-10, ..., 7.6186633e-11,\n",
       "         1.3674887e-04, 3.1267817e-08],\n",
       "        [2.3962748e-05, 2.4321581e-04, 2.6174927e-09, ..., 3.2020650e-11,\n",
       "         1.5519845e-04, 3.2113654e-09],\n",
       "        ...,\n",
       "        [1.3722478e-05, 5.2405079e-04, 5.2292695e-08, ..., 2.6697531e-09,\n",
       "         1.3829605e-03, 1.3681969e-07],\n",
       "        [9.2862070e-01, 2.8701435e-04, 5.0376218e-02, ..., 5.1513049e-03,\n",
       "         2.3940602e-05, 5.9606627e-06],\n",
       "        [2.0959496e-04, 9.3683237e-01, 1.5941503e-05, ..., 2.1401379e-06,\n",
       "         3.6720554e-03, 5.9063996e-08]], dtype=float32)}"
      ]
     },
     "execution_count": 31,
     "metadata": {},
     "output_type": "execute_result"
    }
   ],
   "source": [
    "preds"
   ]
  },
  {
   "cell_type": "code",
   "execution_count": 32,
   "id": "39514480",
   "metadata": {
    "execution": {
     "iopub.execute_input": "2024-07-24T18:22:22.526070Z",
     "iopub.status.busy": "2024-07-24T18:22:22.525130Z",
     "iopub.status.idle": "2024-07-24T18:22:22.535664Z",
     "shell.execute_reply": "2024-07-24T18:22:22.535081Z",
     "shell.execute_reply.started": "2024-07-24T18:22:22.526047Z"
    }
   },
   "outputs": [
    {
     "data": {
      "text/plain": [
       "tensor([ 2620, 10377, 10084,  ...,  4026,  6051, 12505])"
      ]
     },
     "execution_count": 32,
     "metadata": {},
     "output_type": "execute_result"
    }
   ],
   "source": [
    "torch.tensor(indices)"
   ]
  },
  {
   "cell_type": "code",
   "execution_count": 33,
   "id": "b2b6af66",
   "metadata": {
    "execution": {
     "iopub.execute_input": "2024-07-24T18:22:22.537651Z",
     "iopub.status.busy": "2024-07-24T18:22:22.536720Z",
     "iopub.status.idle": "2024-07-24T18:22:22.558928Z",
     "shell.execute_reply": "2024-07-24T18:22:22.558363Z",
     "shell.execute_reply.started": "2024-07-24T18:22:22.537629Z"
    }
   },
   "outputs": [
    {
     "data": {
      "text/plain": [
       "{'y': {'accuracy': 0.9185573007562536}}"
      ]
     },
     "execution_count": 33,
     "metadata": {},
     "output_type": "execute_result"
    }
   ],
   "source": [
    "#lets try to calculate accuracy on our predictions with calc_metrics function\n",
    "from cool_graph.train.metrics import calc_metrics\n",
    "# passing data as our true labels, predictions from predict_proba and indices of nodes from predict_proba\n",
    "metrics = calc_metrics(data, preds, metrics=[\"accuracy\"], indices=indices)\n",
    "metrics"
   ]
  },
  {
   "cell_type": "markdown",
   "id": "94b67410",
   "metadata": {},
   "source": [
    "# 4. <a id=\"p4\"> HypeRunner (Multitarget Dataset) </a>"
   ]
  },
  {
   "cell_type": "markdown",
   "id": "d52dc009",
   "metadata": {},
   "source": [
    "### Summary:\n",
    "#### Let's try to work with dataset with multiple targets. We will use Multitarget dataset from `cool_graph.datasets` which has two versions: `50k` - bigger one, `10k` - smaller one.  <br> Using HypeRunner to find best hyperparameters on Multitarget `50k` validation sample with `hyperunner.optimize_run()`. <br> Getting predictions on test sample of Multitarget `10k` using model with best score on validation sample of Multitarget `50k` with `hyperunner.predict_proba()`. <br> Calculating score on predictions for each task of Multitarget `10k` using `calc_metrics()` function"
   ]
  },
  {
   "cell_type": "code",
   "execution_count": 21,
   "id": "4059a3f0",
   "metadata": {
    "execution": {
     "iopub.execute_input": "2024-07-26T14:03:36.547045Z",
     "iopub.status.busy": "2024-07-26T14:03:36.546536Z",
     "iopub.status.idle": "2024-07-26T14:03:37.069973Z",
     "shell.execute_reply": "2024-07-26T14:03:37.069044Z",
     "shell.execute_reply.started": "2024-07-26T14:03:36.547016Z"
    }
   },
   "outputs": [],
   "source": [
    "# initializing HypeRunner on 50k dataset\n",
    "hyperunner2 = HypeRunner(data_50k, metrics=['roc_auc','cross_entropy'],\n",
    "                use_edge_attr=True,\n",
    "                verbose=False)"
   ]
  },
  {
   "cell_type": "code",
   "execution_count": null,
   "id": "015bdb76",
   "metadata": {},
   "outputs": [],
   "source": [
    "%%time\n",
    "# training and optimizing model\n",
    "hyperunner2.optimize_run(n_trials=10)"
   ]
  },
  {
   "cell_type": "code",
   "execution_count": 36,
   "id": "c839209f",
   "metadata": {
    "execution": {
     "iopub.execute_input": "2024-07-24T18:43:09.861477Z",
     "iopub.status.busy": "2024-07-24T18:43:09.861178Z",
     "iopub.status.idle": "2024-07-24T18:44:23.525882Z",
     "shell.execute_reply": "2024-07-24T18:44:23.524979Z",
     "shell.execute_reply.started": "2024-07-24T18:43:09.861454Z"
    }
   },
   "outputs": [
    {
     "name": "stderr",
     "output_type": "stream",
     "text": [
      "Sample data: 100%|██████████| 5275/5275 [00:23<00:00, 219.85it/s]\n",
      "                                                    \r"
     ]
    }
   ],
   "source": [
    "# getting predictions of model with best score on test sample on dataset 10k\n",
    "preds, indices = hyperunner2.predict_proba(data_10k)"
   ]
  },
  {
   "cell_type": "code",
   "execution_count": 37,
   "id": "112113f4",
   "metadata": {
    "execution": {
     "iopub.execute_input": "2024-07-24T18:44:23.534569Z",
     "iopub.status.busy": "2024-07-24T18:44:23.532155Z",
     "iopub.status.idle": "2024-07-24T18:44:23.546824Z",
     "shell.execute_reply": "2024-07-24T18:44:23.546227Z",
     "shell.execute_reply.started": "2024-07-24T18:44:23.534537Z"
    }
   },
   "outputs": [
    {
     "data": {
      "text/plain": [
       "{'y0': array([[0.89899224, 0.10100773],\n",
       "        [0.8007417 , 0.1992583 ],\n",
       "        [0.9439511 , 0.05604896],\n",
       "        ...,\n",
       "        [0.7928705 , 0.20712945],\n",
       "        [0.96414244, 0.0358576 ],\n",
       "        [0.9658472 , 0.0341528 ]], dtype=float32),\n",
       " 'y1': array([[0.9562268 , 0.04377312],\n",
       "        [0.87865096, 0.12134909],\n",
       "        [0.9824949 , 0.01750516],\n",
       "        ...,\n",
       "        [0.86804354, 0.13195646],\n",
       "        [0.99174833, 0.00825167],\n",
       "        [0.9919612 , 0.00803886]], dtype=float32),\n",
       " 'y2': array([[0.95747185, 0.04252816],\n",
       "        [0.8765057 , 0.12349433],\n",
       "        [0.98343325, 0.01656678],\n",
       "        ...,\n",
       "        [0.86716884, 0.13283113],\n",
       "        [0.99209213, 0.0079079 ],\n",
       "        [0.9924378 , 0.00756218]], dtype=float32),\n",
       " 'y3': array([[0.97587603, 0.02412396],\n",
       "        [0.91085714, 0.08914288],\n",
       "        [0.99231064, 0.00768937],\n",
       "        ...,\n",
       "        [0.9003777 , 0.09962231],\n",
       "        [0.99687046, 0.00312955],\n",
       "        [0.9970144 , 0.00298564]], dtype=float32)}"
      ]
     },
     "execution_count": 37,
     "metadata": {},
     "output_type": "execute_result"
    }
   ],
   "source": [
    "preds"
   ]
  },
  {
   "cell_type": "code",
   "execution_count": 38,
   "id": "19e5f4ef",
   "metadata": {
    "execution": {
     "iopub.execute_input": "2024-07-24T18:44:23.552762Z",
     "iopub.status.busy": "2024-07-24T18:44:23.550495Z",
     "iopub.status.idle": "2024-07-24T18:44:23.709431Z",
     "shell.execute_reply": "2024-07-24T18:44:23.708705Z",
     "shell.execute_reply.started": "2024-07-24T18:44:23.552737Z"
    }
   },
   "outputs": [
    {
     "data": {
      "text/plain": [
       "{'y0': {'roc_auc': 0.7244340359094457, 'cross_entropy': tensor(0.5673)},\n",
       " 'y1': {'roc_auc': 0.8165323020332796, 'cross_entropy': tensor(0.4702)},\n",
       " 'y2': {'roc_auc': 0.864522417153996, 'cross_entropy': tensor(0.4782)},\n",
       " 'y3': {'roc_auc': 0.8731919628247922, 'cross_entropy': tensor(0.4100)}}"
      ]
     },
     "execution_count": 38,
     "metadata": {},
     "output_type": "execute_result"
    }
   ],
   "source": [
    "#lets try to calculate accuracy on our predictions with calc_metrics function\n",
    "from cool_graph.train.metrics import calc_metrics\n",
    "# passing data_10k as our true labels, predictions from predict_proba and indices of nodes from predict_proba\n",
    "metrics = calc_metrics(data_10k, preds, metrics=[\"roc_auc\", \"cross_entropy\"], indices=indices)\n",
    "metrics"
   ]
  }
 ],
 "metadata": {
  "kernelspec": {
   "display_name": "CGKernel",
   "language": "python",
   "name": "cgkernel"
  },
  "language_info": {
   "codemirror_mode": {
    "name": "ipython",
    "version": 3
   },
   "file_extension": ".py",
   "mimetype": "text/x-python",
   "name": "python",
   "nbconvert_exporter": "python",
   "pygments_lexer": "ipython3",
   "version": "3.8.13"
  }
 },
 "nbformat": 4,
 "nbformat_minor": 5
}
