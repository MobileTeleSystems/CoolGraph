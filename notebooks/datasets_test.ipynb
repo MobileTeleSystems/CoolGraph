{
 "cells": [
  {
   "cell_type": "code",
   "execution_count": 3,
   "id": "b1a80ede",
   "metadata": {
    "execution": {
     "iopub.execute_input": "2024-07-21T23:58:16.564114Z",
     "iopub.status.busy": "2024-07-21T23:58:16.563610Z",
     "iopub.status.idle": "2024-07-21T23:58:16.874815Z",
     "shell.execute_reply": "2024-07-21T23:58:16.873894Z",
     "shell.execute_reply.started": "2024-07-21T23:58:16.564084Z"
    },
    "scrolled": true
   },
   "outputs": [],
   "source": [
    "import inspect\n",
    "import typing\n",
    "from cool_graph.datasets import *\n",
    "import cool_graph.datasets\n",
    "import os.path as osp\n",
    "import sys"
   ]
  },
  {
   "cell_type": "code",
   "execution_count": 4,
   "id": "bffd52fb",
   "metadata": {
    "execution": {
     "iopub.execute_input": "2024-07-21T23:58:19.154974Z",
     "iopub.status.busy": "2024-07-21T23:58:19.154326Z",
     "iopub.status.idle": "2024-07-21T23:58:19.161207Z",
     "shell.execute_reply": "2024-07-21T23:58:19.160515Z",
     "shell.execute_reply.started": "2024-07-21T23:58:19.154940Z"
    }
   },
   "outputs": [],
   "source": [
    "various_names = []\n",
    "for dataset_name in cool_graph.datasets.__all__:\n",
    "    dataset = globals()[dataset_name]\n",
    "    signature = inspect.signature(dataset.__init__)\n",
    "    if 'name' in str(signature):\n",
    "        s = str(signature.parameters['name'].annotation)\n",
    "        names = s[s.find('[') + 1:s.find(']')].split(', ')\n",
    "        for name in names:\n",
    "            various_names.append((dataset_name, name[1:-1]))\n",
    "    else:\n",
    "        various_names.append((dataset_name, ''))\n",
    "        "
   ]
  },
  {
   "cell_type": "code",
   "execution_count": 5,
   "id": "a5359b1a",
   "metadata": {
    "execution": {
     "iopub.execute_input": "2024-07-21T23:58:21.727117Z",
     "iopub.status.busy": "2024-07-21T23:58:21.726616Z",
     "iopub.status.idle": "2024-07-21T23:58:21.733813Z",
     "shell.execute_reply": "2024-07-21T23:58:21.733273Z",
     "shell.execute_reply.started": "2024-07-21T23:58:21.727091Z"
    }
   },
   "outputs": [
    {
     "data": {
      "text/plain": [
       "[('NonHomophilous', 'Penn94'),\n",
       " ('NonHomophilous', 'Genius'),\n",
       " ('AntiFraud', 'YelpChi'),\n",
       " ('AntiFraud', 'Amazon'),\n",
       " ('Multitarget', '10k'),\n",
       " ('Multitarget', '50k'),\n",
       " ('OgbnProteins', ''),\n",
       " ('S_FFSD', '')]"
      ]
     },
     "execution_count": 5,
     "metadata": {},
     "output_type": "execute_result"
    }
   ],
   "source": [
    "various_names"
   ]
  },
  {
   "cell_type": "code",
   "execution_count": 6,
   "id": "120099b4",
   "metadata": {
    "execution": {
     "iopub.execute_input": "2024-07-21T23:58:37.898838Z",
     "iopub.status.busy": "2024-07-21T23:58:37.898165Z",
     "iopub.status.idle": "2024-07-21T23:58:37.905979Z",
     "shell.execute_reply": "2024-07-21T23:58:37.903837Z",
     "shell.execute_reply.started": "2024-07-21T23:58:37.898789Z"
    }
   },
   "outputs": [],
   "source": [
    "root = './data/test'"
   ]
  },
  {
   "cell_type": "code",
   "execution_count": 7,
   "id": "bc1594d5",
   "metadata": {
    "execution": {
     "iopub.execute_input": "2024-07-21T23:58:38.951409Z",
     "iopub.status.busy": "2024-07-21T23:58:38.950017Z",
     "iopub.status.idle": "2024-07-21T23:58:39.102401Z",
     "shell.execute_reply": "2024-07-21T23:58:39.099483Z",
     "shell.execute_reply.started": "2024-07-21T23:58:38.951321Z"
    }
   },
   "outputs": [],
   "source": [
    "rm -rf ./data/test"
   ]
  },
  {
   "cell_type": "code",
   "execution_count": 8,
   "id": "530e4ffc",
   "metadata": {
    "execution": {
     "iopub.execute_input": "2024-07-21T23:58:39.944912Z",
     "iopub.status.busy": "2024-07-21T23:58:39.944237Z",
     "iopub.status.idle": "2024-07-21T23:58:39.950988Z",
     "shell.execute_reply": "2024-07-21T23:58:39.949428Z",
     "shell.execute_reply.started": "2024-07-21T23:58:39.944875Z"
    }
   },
   "outputs": [],
   "source": [
    "masked_names = []"
   ]
  },
  {
   "cell_type": "code",
   "execution_count": 11,
   "id": "1dd1b4d2",
   "metadata": {
    "execution": {
     "iopub.execute_input": "2024-07-21T23:59:17.973664Z",
     "iopub.status.busy": "2024-07-21T23:59:17.973062Z",
     "iopub.status.idle": "2024-07-22T00:08:43.304659Z",
     "shell.execute_reply": "2024-07-22T00:08:43.303479Z",
     "shell.execute_reply.started": "2024-07-21T23:59:17.973627Z"
    },
    "scrolled": true
   },
   "outputs": [
    {
     "name": "stderr",
     "output_type": "stream",
     "text": [
      "NonHomophilous(Penn94):\n",
      "Downloading https://github.com/CUAI/Non-Homophily-Large-Scale/raw/master/data/facebook100/Penn94.mat\n",
      "Preprocessing \n",
      "Processing \n",
      "dataset saved as ./data/test/nonhomophilous/penn94/Penn94_data.pt\n",
      "\n",
      "\n",
      "NonHomophilous(Genius):\n",
      "Downloading https://github.com/CUAI/Non-Homophily-Large-Scale/raw/master/data/genius.mat\n",
      "Preprocessing \n",
      "Processing \n",
      "dataset saved as ./data/test/nonhomophilous/genius/Genius_data.pt\n",
      "\n",
      "\n",
      "AntiFraud(YelpChi):\n",
      "Downloading https://github.com/finint/antifraud/raw/main/data/YelpChi.zip\n",
      "Extracting ./data/test/antifraud/yelpchi/raw/YelpChi_data.zip\n",
      "Preprocessing \n",
      "Processing \n",
      "dataset saved as ./data/test/antifraud/yelpchi/YelpChi_data.pt\n",
      "\n",
      "\n",
      "AntiFraud(Amazon):\n",
      "Downloading https://github.com/finint/antifraud/raw/main/data/Amazon.zip\n",
      "Extracting ./data/test/antifraud/amazon/raw/Amazon_data.zip\n",
      "Preprocessing \n",
      "Processing \n",
      "dataset saved as ./data/test/antifraud/amazon/Amazon_data.pt\n",
      "\n",
      "\n",
      "Multitarget(10k):\n",
      "Downloading https://drive.usercontent.google.com/download?id=1KmxlVj7BhGmvScgT941KKfaX2vT1eBsA&export=download&confirm=t\n",
      "Extracting ./data/test/multitarget/10k/raw/10k_data.zip\n",
      "Preprocessing \n",
      "dataset saved as ./data/test/multitarget/10k/10k_data.pt\n",
      "\n",
      "\n",
      "Multitarget(50k):\n",
      "Downloading https://drive.usercontent.google.com/download?id=1OqXt5I-zUgDJuQx36VvxH2dlAGh1331M&export=download&confirm=t\n",
      "Extracting ./data/test/multitarget/50k/raw/50k_data.zip\n",
      "Preprocessing \n",
      "dataset saved as ./data/test/multitarget/50k/50k_data.pt\n",
      "\n",
      "\n",
      "OgbnProteins():\n",
      "Preprocessing \n"
     ]
    },
    {
     "name": "stdout",
     "output_type": "stream",
     "text": [
      "Downloading http://snap.stanford.edu/ogb/data/nodeproppred/proteins.zip\n"
     ]
    },
    {
     "name": "stderr",
     "output_type": "stream",
     "text": [
      "Downloaded 0.21 GB: 100%|██████████| 216/216 [02:27<00:00,  1.46it/s]\n"
     ]
    },
    {
     "name": "stdout",
     "output_type": "stream",
     "text": [
      "Extracting dataset/proteins.zip\n"
     ]
    },
    {
     "name": "stderr",
     "output_type": "stream",
     "text": [
      "Processing...\n"
     ]
    },
    {
     "name": "stdout",
     "output_type": "stream",
     "text": [
      "Loading necessary files...\n",
      "This might take a while.\n",
      "Processing graphs...\n"
     ]
    },
    {
     "name": "stderr",
     "output_type": "stream",
     "text": [
      "100%|██████████| 1/1 [00:04<00:00,  4.63s/it]\n"
     ]
    },
    {
     "name": "stdout",
     "output_type": "stream",
     "text": [
      "Converting graphs into PyG objects...\n"
     ]
    },
    {
     "name": "stderr",
     "output_type": "stream",
     "text": [
      "100%|██████████| 1/1 [00:00<00:00, 2535.85it/s]\n"
     ]
    },
    {
     "name": "stdout",
     "output_type": "stream",
     "text": [
      "Saving...\n"
     ]
    },
    {
     "name": "stderr",
     "output_type": "stream",
     "text": [
      "Done!\n",
      "dataset saved as ./data/test/ogbnproteins/ogbn-proteins_data.pt\n",
      "\n",
      "\n",
      "S_FFSD():\n",
      "Downloading https://drive.usercontent.google.com/download?id=1pODQWJFS7-dwUmnwl6YNFYQ17241j26b&export=download&confirm=t\n",
      "Preprocessing \n",
      "Source: 100%|██████████| 30346/30346 [00:05<00:00, 5907.77it/s]\n",
      "Target: 100%|██████████| 886/886 [00:00<00:00, 1842.79it/s]\n",
      "Location: 100%|██████████| 296/296 [00:00<00:00, 755.99it/s]\n",
      "Type: 100%|██████████| 166/166 [00:00<00:00, 455.29it/s]\n",
      "dataset saved as ./data/test/s_ffsd/S-FFSD_data.pt\n",
      "\n",
      "\n"
     ]
    }
   ],
   "source": [
    "various_datasets = {}\n",
    "for dataset_name, name in various_names:\n",
    "    if (dataset_name, name) in masked_names:\n",
    "        continue\n",
    "    dataset_root = osp.join(root, dataset_name.lower())\n",
    "    dataset = None\n",
    "    print(f\"{dataset_name}({name}):\", file=sys.stderr)\n",
    "    for i in range(1):\n",
    "        if name != '':\n",
    "            dataset = globals()[dataset_name](root=dataset_root, name=name)\n",
    "        else:\n",
    "            dataset = globals()[dataset_name](root=dataset_root)\n",
    "        print('', file=sys.stderr)\n",
    "    various_datasets[(dataset_name, name)] = dataset\n",
    "    print('', file=sys.stderr)"
   ]
  },
  {
   "cell_type": "code",
   "execution_count": 12,
   "id": "a64c7533",
   "metadata": {
    "execution": {
     "iopub.execute_input": "2024-07-22T00:08:43.308293Z",
     "iopub.status.busy": "2024-07-22T00:08:43.306610Z",
     "iopub.status.idle": "2024-07-22T00:08:43.317722Z",
     "shell.execute_reply": "2024-07-22T00:08:43.316319Z",
     "shell.execute_reply.started": "2024-07-22T00:08:43.308232Z"
    }
   },
   "outputs": [
    {
     "name": "stdout",
     "output_type": "stream",
     "text": [
      "('NonHomophilous', 'Penn94')\n",
      "Data(x=[41554, 6], edge_index=[2, 2724458], y=[41554], num_nodes=41554)\n",
      "\n",
      "('NonHomophilous', 'Genius')\n",
      "Data(x=[421961, 12], edge_index=[2, 984979], y=[421961], num_nodes=421961)\n",
      "\n",
      "('AntiFraud', 'YelpChi')\n",
      "Data(x=[45954, 32], edge_index=[2, 7693958], edge_attr=[7693958, 12], y=[45954])\n",
      "\n",
      "('AntiFraud', 'Amazon')\n",
      "Data(x=[11944, 25], edge_index=[2, 8835152], edge_attr=[8835152, 12], y=[11944])\n",
      "\n",
      "('Multitarget', '10k')\n",
      "HeteroData(\n",
      "  \u001b[1mnode_0\u001b[0m={\n",
      "    x=[950999, 134],\n",
      "    label_3=[950999],\n",
      "    label_4=[950999],\n",
      "    label_5=[950999],\n",
      "    label_6=[950999],\n",
      "    y=[950999, 4],\n",
      "    label_mask=[950999],\n",
      "    index=[950999]\n",
      "  },\n",
      "  \u001b[1mnode_1\u001b[0m={\n",
      "    x=[1318527, 162],\n",
      "    label_3=[1318527],\n",
      "    label_4=[1318527],\n",
      "    label_5=[1318527],\n",
      "    label_6=[1318527],\n",
      "    y=[1318527, 4],\n",
      "    label_mask=[1318527],\n",
      "    index=[1318527]\n",
      "  },\n",
      "  \u001b[1m(node_0, to, node_1)\u001b[0m={\n",
      "    edge_index=[2, 1035880],\n",
      "    edge_attr=[1035880, 44]\n",
      "  },\n",
      "  \u001b[1m(node_1, to, node_0)\u001b[0m={\n",
      "    edge_index=[2, 679228],\n",
      "    edge_attr=[679228, 44]\n",
      "  },\n",
      "  \u001b[1m(node_1, to, node_1)\u001b[0m={\n",
      "    edge_index=[2, 908184],\n",
      "    edge_attr=[908184, 44]\n",
      "  }\n",
      ")\n",
      "\n",
      "('Multitarget', '50k')\n",
      "HeteroData(\n",
      "  \u001b[1mnode_0\u001b[0m={\n",
      "    x=[4430705, 134],\n",
      "    label_3=[4430705],\n",
      "    label_4=[4430705],\n",
      "    label_5=[4430705],\n",
      "    label_6=[4430705],\n",
      "    y=[4430705, 4],\n",
      "    label_mask=[4430705],\n",
      "    index=[4430705]\n",
      "  },\n",
      "  \u001b[1mnode_1\u001b[0m={\n",
      "    x=[5860353, 162],\n",
      "    label_3=[5860353],\n",
      "    label_4=[5860353],\n",
      "    label_5=[5860353],\n",
      "    label_6=[5860353],\n",
      "    y=[5860353, 4],\n",
      "    label_mask=[5860353],\n",
      "    index=[5860353]\n",
      "  },\n",
      "  \u001b[1m(node_0, to, node_1)\u001b[0m={\n",
      "    edge_index=[2, 5054166],\n",
      "    edge_attr=[5054166, 44]\n",
      "  },\n",
      "  \u001b[1m(node_1, to, node_0)\u001b[0m={\n",
      "    edge_index=[2, 3338636],\n",
      "    edge_attr=[3338636, 44]\n",
      "  },\n",
      "  \u001b[1m(node_1, to, node_1)\u001b[0m={\n",
      "    edge_index=[2, 4444748],\n",
      "    edge_attr=[4444748, 44]\n",
      "  }\n",
      ")\n",
      "\n",
      "('OgbnProteins', '')\n",
      "Data(num_nodes=132534, edge_index=[2, 79122504], edge_attr=[79122504, 8], node_species=[132534, 1], y=[132534, 112], x=[132534, 8])\n",
      "\n",
      "('S_FFSD', '')\n",
      "Data(x=[77881, 126], edge_index=[2, 233164], y=[77881])\n",
      "\n"
     ]
    }
   ],
   "source": [
    "for name, dataset in various_datasets.items():\n",
    "    print(name)\n",
    "    print(dataset.data)\n",
    "    print()"
   ]
  },
  {
   "cell_type": "code",
   "execution_count": null,
   "id": "1102a309",
   "metadata": {},
   "outputs": [],
   "source": []
  }
 ],
 "metadata": {
  "kernelspec": {
   "display_name": "CGKerner",
   "language": "python",
   "name": "cgkerner"
  },
  "language_info": {
   "codemirror_mode": {
    "name": "ipython",
    "version": 3
   },
   "file_extension": ".py",
   "mimetype": "text/x-python",
   "name": "python",
   "nbconvert_exporter": "python",
   "pygments_lexer": "ipython3",
   "version": "3.8.13"
  }
 },
 "nbformat": 4,
 "nbformat_minor": 5
}
