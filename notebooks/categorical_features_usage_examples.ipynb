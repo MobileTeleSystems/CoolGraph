{
 "cells": [
  {
   "cell_type": "markdown",
   "id": "3b927a0d",
   "metadata": {},
   "source": [
    "# How to work with categorical features"
   ]
  },
  {
   "cell_type": "markdown",
   "id": "0bdc3707",
   "metadata": {},
   "source": [
    "##### Notebook shows how to work with categorical features using `Penn94` dataset as an example of dataset with categorical features"
   ]
  },
  {
   "cell_type": "code",
   "execution_count": 2,
   "id": "e4c5cf08",
   "metadata": {
    "execution": {
     "iopub.execute_input": "2024-07-26T00:41:39.327702Z",
     "iopub.status.busy": "2024-07-26T00:41:39.327356Z",
     "iopub.status.idle": "2024-07-26T00:41:39.330706Z",
     "shell.execute_reply": "2024-07-26T00:41:39.330142Z",
     "shell.execute_reply.started": "2024-07-26T00:41:39.327681Z"
    }
   },
   "outputs": [],
   "source": [
    "from cool_graph.runners import Runner\n",
    "from torch_geometric.data import Data\n",
    "from torch_geometric import datasets\n",
    "import numpy as np\n",
    "import scipy\n",
    "import pandas as pd\n",
    "import torch"
   ]
  },
  {
   "cell_type": "code",
   "execution_count": 3,
   "id": "78545ece",
   "metadata": {
    "execution": {
     "iopub.execute_input": "2024-07-26T00:41:41.145380Z",
     "iopub.status.busy": "2024-07-26T00:41:41.145195Z",
     "iopub.status.idle": "2024-07-26T00:41:41.148981Z",
     "shell.execute_reply": "2024-07-26T00:41:41.148478Z",
     "shell.execute_reply.started": "2024-07-26T00:41:41.145364Z"
    }
   },
   "outputs": [],
   "source": [
    "# function to descript a dataset\n",
    "def dataset_info(data):\n",
    "    n_features = data.x.shape[1]\n",
    "    n_nodes = data.x.shape[0]\n",
    "    n_edges = data.edge_index.shape[1]\n",
    "    if len(data.y.shape) == 1:\n",
    "        print(f'# nodes    {n_nodes} \\n# features {n_features} \\n# edges    {n_edges} \\n# classes  {len(data.y.unique())}')\n",
    "    else:\n",
    "        print(f'# nodes    {n_nodes} \\n# features {n_features} \\n# edges    {n_edges} \\n# tasks    {data.y.shape[1]}')"
   ]
  },
  {
   "cell_type": "code",
   "execution_count": 9,
   "id": "17c53e2f",
   "metadata": {
    "execution": {
     "iopub.execute_input": "2024-07-26T00:42:25.153153Z",
     "iopub.status.busy": "2024-07-26T00:42:25.152935Z",
     "iopub.status.idle": "2024-07-26T00:42:28.491480Z",
     "shell.execute_reply": "2024-07-26T00:42:28.486133Z",
     "shell.execute_reply.started": "2024-07-26T00:42:25.153136Z"
    }
   },
   "outputs": [
    {
     "name": "stderr",
     "output_type": "stream",
     "text": [
      "Downloading https://github.com/CUAI/Non-Homophily-Large-Scale/raw/master/data/facebook100/Penn94.mat\n",
      "Preprocessing \n",
      "Processing \n",
      "dataset saved as ./data/penn94/Penn94_data.pt\n"
     ]
    }
   ],
   "source": [
    "# importing Penn94 dataset loader\n",
    "from cool_graph.datasets.nonhomophilous import NonHomophilous\n",
    "dataset = NonHomophilous(root=\"./data\", name=\"Penn94\")\n",
    "data = dataset.data"
   ]
  },
  {
   "cell_type": "code",
   "execution_count": 10,
   "id": "0cacd894",
   "metadata": {
    "execution": {
     "iopub.execute_input": "2024-07-26T00:42:32.956890Z",
     "iopub.status.busy": "2024-07-26T00:42:32.956527Z",
     "iopub.status.idle": "2024-07-26T00:42:32.961219Z",
     "shell.execute_reply": "2024-07-26T00:42:32.960622Z",
     "shell.execute_reply.started": "2024-07-26T00:42:32.956864Z"
    }
   },
   "outputs": [
    {
     "name": "stdout",
     "output_type": "stream",
     "text": [
      "# nodes    41554 \n",
      "# features 6 \n",
      "# edges    2724458 \n",
      "# classes  3\n"
     ]
    }
   ],
   "source": [
    "dataset_info(data)"
   ]
  },
  {
   "cell_type": "markdown",
   "id": "03cf61c3",
   "metadata": {},
   "source": [
    "##### In this dataset, all the features are categorical. They are encoded, for example, the student's graduation year, school number, and his specialty\n"
   ]
  },
  {
   "cell_type": "code",
   "execution_count": 11,
   "id": "353e788d",
   "metadata": {
    "execution": {
     "iopub.execute_input": "2024-07-26T00:42:37.121407Z",
     "iopub.status.busy": "2024-07-26T00:42:37.121185Z",
     "iopub.status.idle": "2024-07-26T00:42:37.133705Z",
     "shell.execute_reply": "2024-07-26T00:42:37.133275Z",
     "shell.execute_reply.started": "2024-07-26T00:42:37.121389Z"
    }
   },
   "outputs": [
    {
     "name": "stdout",
     "output_type": "stream",
     "text": [
      "tensor([[    1,   403,   517,     0,  2006, 51881],\n",
      "        [    1,   461,   378,     0,     0, 21512],\n",
      "        [    1,   337,   349,     0,     0,  9092],\n",
      "        [    1,   294,   378,     0,  2007, 20895],\n",
      "        [    1,   273,   362,     0,     0,     0]])\n",
      "[7, 274, 288, 167, 39, 4039]\n"
     ]
    }
   ],
   "source": [
    "# checking features in dataset\n",
    "unique_cnt = [len(np.unique(data.x[:, i])) for i in range(data.x.shape[1])]\n",
    "print(data.x[0:5].long())\n",
    "print(unique_cnt)"
   ]
  },
  {
   "cell_type": "markdown",
   "id": "bca3dff0",
   "metadata": {},
   "source": [
    "##### As we see, features are categorical"
   ]
  },
  {
   "cell_type": "markdown",
   "id": "721f2505",
   "metadata": {},
   "source": [
    "## Processing categorical features"
   ]
  },
  {
   "cell_type": "markdown",
   "id": "c556e4e3",
   "metadata": {},
   "source": [
    "##### in CoolGraph categorical features are automatically transformed into embeddings. To do this write these features in data.x_cat"
   ]
  },
  {
   "cell_type": "code",
   "execution_count": 12,
   "id": "bb4066a2",
   "metadata": {
    "execution": {
     "iopub.execute_input": "2024-07-26T00:42:42.750648Z",
     "iopub.status.busy": "2024-07-26T00:42:42.750436Z",
     "iopub.status.idle": "2024-07-26T00:42:42.753571Z",
     "shell.execute_reply": "2024-07-26T00:42:42.753011Z",
     "shell.execute_reply.started": "2024-07-26T00:42:42.750612Z"
    }
   },
   "outputs": [],
   "source": [
    "# defining categorical features in data.x_cat, so they will be transformed into embeddings\n",
    "data.x_cat = data.x[:, 0:6]\n",
    "data.x = data.x[:, 0:1]"
   ]
  },
  {
   "cell_type": "code",
   "execution_count": 7,
   "id": "ce64c5ef",
   "metadata": {},
   "outputs": [],
   "source": [
    "# initializing runner\n",
    "runner = Runner(data)"
   ]
  },
  {
   "cell_type": "code",
   "execution_count": 8,
   "id": "dfb5ea6e",
   "metadata": {},
   "outputs": [
    {
     "name": "stderr",
     "output_type": "stream",
     "text": [
      "Sample data: 100%|██████████| 117/117 [00:23<00:00,  4.97it/s]\n",
      "Sample data: 100%|██████████| 39/39 [00:07<00:00,  4.89it/s]\n",
      "2024-06-13 07:25:28.445 | INFO     | cool_graph.train.helpers:eval_epoch:209 - test:\n",
      " {'accuracy': 0.527, 'cross_entropy': 0.69, 'f1_weighted': 0.364, 'calc_time': 0.012, 'main_metric': 0.527}\n",
      "2024-06-13 07:25:30.291 | INFO     | cool_graph.train.helpers:eval_epoch:209 - train:\n",
      " {'accuracy': 0.526, 'cross_entropy': 0.688, 'f1_weighted': 0.363, 'calc_time': 0.031, 'main_metric': 0.526}\n",
      "2024-06-13 07:26:01.357 | INFO     | cool_graph.train.helpers:eval_epoch:209 - test:\n",
      " {'accuracy': 0.731, 'cross_entropy': 0.547, 'f1_weighted': 0.728, 'calc_time': 0.012, 'main_metric': 0.731}\n",
      "2024-06-13 07:26:03.614 | INFO     | cool_graph.train.helpers:eval_epoch:209 - train:\n",
      " {'accuracy': 0.737, 'cross_entropy': 0.539, 'f1_weighted': 0.735, 'calc_time': 0.038, 'main_metric': 0.737}\n",
      "2024-06-13 07:26:39.307 | INFO     | cool_graph.train.helpers:eval_epoch:209 - test:\n",
      " {'accuracy': 0.762, 'cross_entropy': 0.479, 'f1_weighted': 0.762, 'calc_time': 0.013, 'main_metric': 0.762}\n",
      "2024-06-13 07:26:41.639 | INFO     | cool_graph.train.helpers:eval_epoch:209 - train:\n",
      " {'accuracy': 0.79, 'cross_entropy': 0.449, 'f1_weighted': 0.79, 'calc_time': 0.039, 'main_metric': 0.79}\n",
      "2024-06-13 07:27:16.275 | INFO     | cool_graph.train.helpers:eval_epoch:209 - test:\n",
      " {'accuracy': 0.765, 'cross_entropy': 0.471, 'f1_weighted': 0.765, 'calc_time': 0.009, 'main_metric': 0.765}\n",
      "2024-06-13 07:27:17.932 | INFO     | cool_graph.train.helpers:eval_epoch:209 - train:\n",
      " {'accuracy': 0.8, 'cross_entropy': 0.433, 'f1_weighted': 0.8, 'calc_time': 0.028, 'main_metric': 0.8}\n",
      "2024-06-13 07:27:44.720 | INFO     | cool_graph.train.helpers:eval_epoch:209 - test:\n",
      " {'accuracy': 0.771, 'cross_entropy': 0.462, 'f1_weighted': 0.771, 'calc_time': 0.01, 'main_metric': 0.771}\n",
      "2024-06-13 07:27:46.517 | INFO     | cool_graph.train.helpers:eval_epoch:209 - train:\n",
      " {'accuracy': 0.812, 'cross_entropy': 0.417, 'f1_weighted': 0.812, 'calc_time': 0.03, 'main_metric': 0.812}\n"
     ]
    }
   ],
   "source": [
    "# training\n",
    "result = runner.run()"
   ]
  },
  {
   "cell_type": "code",
   "execution_count": 9,
   "id": "02798daa",
   "metadata": {},
   "outputs": [
    {
     "data": {
      "text/plain": [
       "{'accuracy': 0.771,\n",
       " 'cross_entropy': 0.462,\n",
       " 'f1_weighted': 0.771,\n",
       " 'calc_time': 0.01,\n",
       " 'main_metric': 0.771,\n",
       " 'tasks': {'y': {'accuracy': 0.7705070074196207,\n",
       "   'cross_entropy': 0.4619738757610321,\n",
       "   'f1_weighted': 0.770662604144089}},\n",
       " 'epoch': 20}"
      ]
     },
     "execution_count": 9,
     "metadata": {},
     "output_type": "execute_result"
    }
   ],
   "source": [
    "# checking the result\n",
    "result['best_loss']"
   ]
  },
  {
   "cell_type": "markdown",
   "id": "8cfdd080",
   "metadata": {},
   "source": [
    "## Index as a feature\n",
    "If you need to use an index as a feature, CoolGraph has the use_index_as_feature flag"
   ]
  },
  {
   "cell_type": "code",
   "execution_count": 10,
   "id": "6c90faee",
   "metadata": {},
   "outputs": [],
   "source": [
    "runner_with_id = Runner(data, use_index_as_feature=True)"
   ]
  },
  {
   "cell_type": "code",
   "execution_count": 11,
   "id": "c19e2528",
   "metadata": {},
   "outputs": [
    {
     "name": "stderr",
     "output_type": "stream",
     "text": [
      "Sample data: 100%|██████████| 117/117 [00:22<00:00,  5.19it/s]\n",
      "Sample data: 100%|██████████| 39/39 [00:07<00:00,  5.20it/s]\n",
      "2024-06-13 07:28:25.794 | INFO     | cool_graph.train.helpers:eval_epoch:209 - test:\n",
      " {'accuracy': 0.527, 'cross_entropy': 0.69, 'f1_weighted': 0.364, 'calc_time': 0.012, 'main_metric': 0.527}\n",
      "2024-06-13 07:28:27.631 | INFO     | cool_graph.train.helpers:eval_epoch:209 - train:\n",
      " {'accuracy': 0.526, 'cross_entropy': 0.69, 'f1_weighted': 0.363, 'calc_time': 0.031, 'main_metric': 0.526}\n",
      "2024-06-13 07:28:54.319 | INFO     | cool_graph.train.helpers:eval_epoch:209 - test:\n",
      " {'accuracy': 0.728, 'cross_entropy': 0.552, 'f1_weighted': 0.727, 'calc_time': 0.01, 'main_metric': 0.728}\n",
      "2024-06-13 07:28:56.085 | INFO     | cool_graph.train.helpers:eval_epoch:209 - train:\n",
      " {'accuracy': 0.737, 'cross_entropy': 0.54, 'f1_weighted': 0.736, 'calc_time': 0.029, 'main_metric': 0.737}\n",
      "2024-06-13 07:29:22.209 | INFO     | cool_graph.train.helpers:eval_epoch:209 - test:\n",
      " {'accuracy': 0.768, 'cross_entropy': 0.47, 'f1_weighted': 0.767, 'calc_time': 0.011, 'main_metric': 0.768}\n",
      "2024-06-13 07:29:23.852 | INFO     | cool_graph.train.helpers:eval_epoch:209 - train:\n",
      " {'accuracy': 0.858, 'cross_entropy': 0.359, 'f1_weighted': 0.858, 'calc_time': 0.027, 'main_metric': 0.858}\n",
      "2024-06-13 07:29:50.582 | INFO     | cool_graph.train.helpers:eval_epoch:209 - test:\n",
      " {'accuracy': 0.758, 'cross_entropy': 0.531, 'f1_weighted': 0.758, 'calc_time': 0.01, 'main_metric': 0.758}\n",
      "2024-06-13 07:29:52.383 | INFO     | cool_graph.train.helpers:eval_epoch:209 - train:\n",
      " {'accuracy': 0.967, 'cross_entropy': 0.114, 'f1_weighted': 0.967, 'calc_time': 0.03, 'main_metric': 0.967}\n",
      "2024-06-13 07:30:19.187 | INFO     | cool_graph.train.helpers:eval_epoch:209 - test:\n",
      " {'accuracy': 0.747, 'cross_entropy': 0.654, 'f1_weighted': 0.747, 'calc_time': 0.012, 'main_metric': 0.747}\n",
      "2024-06-13 07:30:21.003 | INFO     | cool_graph.train.helpers:eval_epoch:209 - train:\n",
      " {'accuracy': 0.995, 'cross_entropy': 0.034, 'f1_weighted': 0.995, 'calc_time': 0.03, 'main_metric': 0.995}\n"
     ]
    }
   ],
   "source": [
    "result2 = runner_with_id.run()"
   ]
  },
  {
   "cell_type": "code",
   "execution_count": 12,
   "id": "b67aa6c5",
   "metadata": {},
   "outputs": [
    {
     "data": {
      "text/plain": [
       "{'accuracy': 0.768,\n",
       " 'cross_entropy': 0.47,\n",
       " 'f1_weighted': 0.767,\n",
       " 'calc_time': 0.011,\n",
       " 'main_metric': 0.768,\n",
       " 'tasks': {'y': {'accuracy': 0.7679307502061006,\n",
       "   'cross_entropy': 0.47012466192245483,\n",
       "   'f1_weighted': 0.7674146249402316}},\n",
       " 'epoch': 10}"
      ]
     },
     "execution_count": 12,
     "metadata": {},
     "output_type": "execute_result"
    }
   ],
   "source": [
    "result2['best_loss']"
   ]
  },
  {
   "cell_type": "code",
   "execution_count": null,
   "id": "5ec6e8c2",
   "metadata": {},
   "outputs": [],
   "source": [
    "%%time\n",
    "#let's try HypeRunner\n",
    "from cool_graph.runners import HypeRunner\n",
    "hyperunner = HypeRunner(data, verbose=False)\n",
    "result3 = hyperunner.optimize_run(n_trials=10)"
   ]
  },
  {
   "cell_type": "code",
   "execution_count": null,
   "id": "d5281023",
   "metadata": {},
   "outputs": [],
   "source": [
    "result3"
   ]
  },
  {
   "cell_type": "code",
   "execution_count": null,
   "id": "1c2684a3",
   "metadata": {},
   "outputs": [],
   "source": []
  }
 ],
 "metadata": {
  "kernelspec": {
   "display_name": "CGKernel",
   "language": "python",
   "name": "cgkernel"
  },
  "language_info": {
   "codemirror_mode": {
    "name": "ipython",
    "version": 3
   },
   "file_extension": ".py",
   "mimetype": "text/x-python",
   "name": "python",
   "nbconvert_exporter": "python",
   "pygments_lexer": "ipython3",
   "version": "3.8.13"
  }
 },
 "nbformat": 4,
 "nbformat_minor": 5
}
