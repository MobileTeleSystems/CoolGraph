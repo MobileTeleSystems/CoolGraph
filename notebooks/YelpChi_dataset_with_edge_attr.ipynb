{
 "cells": [
  {
   "cell_type": "markdown",
   "id": "6467d599",
   "metadata": {},
   "source": [
    "# Load Dataset"
   ]
  },
  {
   "cell_type": "code",
   "execution_count": 14,
   "id": "670053e3",
   "metadata": {
    "execution": {
     "iopub.execute_input": "2024-06-04T10:41:02.091117Z",
     "iopub.status.busy": "2024-06-04T10:41:02.089723Z",
     "iopub.status.idle": "2024-06-04T10:41:02.113480Z",
     "shell.execute_reply": "2024-06-04T10:41:02.112493Z",
     "shell.execute_reply.started": "2024-06-04T10:41:02.091061Z"
    }
   },
   "outputs": [],
   "source": [
    "import sys\n",
    "import os\n",
    "import os.path as osp\n",
    "from zipfile import ZipFile \n",
    "import requests\n",
    "from scipy.io import loadmat\n",
    "\n",
    "import pandas as pd\n",
    "import numpy as np\n",
    "import torch\n",
    "import urllib.request\n",
    "from torch_geometric.data import Data\n",
    "\n",
    "def load_YelpChi_dataset(DATADIR = './data/YelpChi', log=True):   \n",
    "    \"\"\"\n",
    "    load dataset YelpChi (fraud) with edge attributes\n",
    "    \"\"\"\n",
    "    if osp.exists(osp.join(DATADIR,'YelpChi_data.pt')):  \n",
    "        filename = osp.join(DATADIR,'YelpChi_data.pt')\n",
    "        if log:\n",
    "            print(f'Using existing file {filename}', file=sys.stderr)\n",
    "        data = torch.load(filename)\n",
    "        return data\n",
    "        \n",
    "    \n",
    "    else:\n",
    "        if not osp.exists(DATADIR):\n",
    "            os.makedirs(DATADIR)\n",
    "        \n",
    "        download_dir = 'https://github.com/finint/antifraud/raw/main/data/'\n",
    "        filename = 'YelpChi.zip'\n",
    "        url = osp.join(download_dir, filename)\n",
    "        \n",
    "        print(f'Downloading {url}', file=sys.stderr)        \n",
    "        r = requests.get(url)\n",
    "        with open(osp.join(DATADIR, filename),'wb') as f:\n",
    "            f.write(r.content)\n",
    "        \n",
    "        #unzip\n",
    "        print(f'Extracting {osp.join(DATADIR, filename)}', file=sys.stderr)\n",
    "        with ZipFile(osp.join(DATADIR, filename), 'r') as zObject: \n",
    "            zObject.extractall( path=DATADIR\n",
    "                              )        \n",
    "        print(f'Preprocessing ', file=sys.stderr)\n",
    "        yelp = loadmat(osp.join(DATADIR, 'YelpChi.mat'))\n",
    "        net_rur = yelp['net_rur']\n",
    "        net_rtr = yelp['net_rtr']\n",
    "        net_rsr = yelp['net_rsr']\n",
    "        yelp_homo = yelp['homo']\n",
    "\n",
    "        # 1) R-U-R: it connects reviews posted by the same user; \n",
    "        # 2) R-S-R: it connects reviews under the same product with the same star rating (1-5 stars); \n",
    "        # 3) R-T-R: it connects two reviews under the same product posted in the same month.\n",
    "\n",
    "        # Relation\t Edges\n",
    "        # R-U-R\t49,315\n",
    "        # R-T-R\t573,616\n",
    "        # R-S-R\t3,402,743\n",
    "        # All\t3,846,979\n",
    "\n",
    "\n",
    "        data_file = yelp\n",
    "        labels = pd.DataFrame(data_file['label'].flatten())[0]\n",
    "        feat_data = pd.DataFrame(data_file['features'].todense().A)\n",
    "\n",
    "        adj_rur = np.vstack(net_rur.nonzero())\n",
    "        adj_rtr = np.vstack(net_rtr.nonzero())\n",
    "        adj_rsr = np.vstack(net_rsr.nonzero())\n",
    "        adj_homo = np.vstack(yelp_homo.nonzero())\n",
    "\n",
    "        df_rur_edges = pd.DataFrame(adj_rur.T)\n",
    "        df_rtr_edges = pd.DataFrame(adj_rtr.T)\n",
    "        df_rsr_edges = pd.DataFrame(adj_rsr.T)\n",
    "        df_homo_edges = pd.DataFrame(adj_homo.T)\n",
    "\n",
    "        df_rur_edges['rur'] = 1\n",
    "        df_rtr_edges['rtr'] = 1\n",
    "        df_rsr_edges['rsr'] = 1\n",
    "\n",
    "        df_all_edges = df_rtr_edges.merge(\n",
    "                df_rsr_edges,on=[0,1],how='outer'\n",
    "            ).merge(df_rur_edges,on=[0,1],how='outer'\n",
    "               ).fillna(0)\n",
    "\n",
    "        df_all_edges = df_all_edges.rename(columns = {0:'index1', 1:'index2'})\n",
    "\n",
    "        df_all_edges['rstr'] = df_all_edges['rsr'] * df_all_edges['rtr']\n",
    "        extra_feats = df_all_edges.groupby('index1')[['rtr', 'rsr', 'rur', 'rstr']].sum().reset_index()\\\n",
    "            .rename(columns={'index1':'index'})\n",
    "\n",
    "        from sklearn.preprocessing import MinMaxScaler\n",
    "        scaler = MinMaxScaler()\n",
    "\n",
    "        extra_feats[['rsr', 'rur', 'rtr','rstr']] = scaler.fit_transform(\n",
    "            np.log10(extra_feats[['rsr', 'rur', 'rtr','rstr']] + 1)\n",
    "        )\n",
    "\n",
    "        df_all_edges_extra = df_all_edges\\\n",
    "            .merge(\n",
    "                    extra_feats.rename(columns={'index':'index1'}), \n",
    "                    suffixes=('','_lhs'),\n",
    "                    on=['index1']\n",
    "            )\\\n",
    "            .merge(\n",
    "                    extra_feats.rename(columns={'index':'index2'}), \n",
    "                    suffixes=('','_rhs'),\n",
    "                    on=['index2']\n",
    "            )\n",
    "\n",
    "        feat_data['index'] = np.arange(len(feat_data))\n",
    "        df_feats_all = feat_data.drop(columns=['index'])\n",
    "\n",
    "        x = torch.FloatTensor(df_feats_all.values)\n",
    "        edge_index = torch.LongTensor(df_all_edges_extra[['index1','index2']].values.T)\n",
    "\n",
    "        edge_attr = torch.FloatTensor(df_all_edges_extra.drop(columns=['index1','index2']).values)\n",
    "        y = torch.LongTensor(labels.sort_index().values)\n",
    "\n",
    "        data = Data(x=x,edge_index=edge_index, edge_attr=edge_attr, y=y)\n",
    "\n",
    "\n",
    "        torch.save(data,osp.join(DATADIR,'YelpChi_data.pt'))\n",
    "        return data"
   ]
  },
  {
   "cell_type": "code",
   "execution_count": 15,
   "id": "01f91a1a",
   "metadata": {
    "execution": {
     "iopub.execute_input": "2024-06-04T10:41:04.187276Z",
     "iopub.status.busy": "2024-06-04T10:41:04.186574Z",
     "iopub.status.idle": "2024-06-04T10:41:04.629801Z",
     "shell.execute_reply": "2024-06-04T10:41:04.628803Z",
     "shell.execute_reply.started": "2024-06-04T10:41:04.187232Z"
    }
   },
   "outputs": [
    {
     "name": "stderr",
     "output_type": "stream",
     "text": [
      "Using existing file ./data/YelpChi/YelpChi_data.pt\n"
     ]
    },
    {
     "name": "stdout",
     "output_type": "stream",
     "text": [
      "CPU times: user 7.55 ms, sys: 431 ms, total: 439 ms\n",
      "Wall time: 436 ms\n"
     ]
    }
   ],
   "source": [
    "%%time\n",
    "data = load_YelpChi_dataset(DATADIR = './data/YelpChi', log=True)"
   ]
  },
  {
   "cell_type": "code",
   "execution_count": 16,
   "id": "a9101314",
   "metadata": {
    "execution": {
     "iopub.execute_input": "2024-06-04T10:41:08.414002Z",
     "iopub.status.busy": "2024-06-04T10:41:08.413233Z",
     "iopub.status.idle": "2024-06-04T10:41:08.423606Z",
     "shell.execute_reply": "2024-06-04T10:41:08.422464Z",
     "shell.execute_reply.started": "2024-06-04T10:41:08.413960Z"
    }
   },
   "outputs": [
    {
     "data": {
      "text/plain": [
       "Data(x=[45954, 32], edge_index=[2, 7693958], edge_attr=[7693958, 12], y=[45954])"
      ]
     },
     "execution_count": 16,
     "metadata": {},
     "output_type": "execute_result"
    }
   ],
   "source": [
    "data"
   ]
  },
  {
   "cell_type": "markdown",
   "id": "fa550df7",
   "metadata": {},
   "source": [
    "# RUN with edge attr"
   ]
  },
  {
   "cell_type": "code",
   "execution_count": 17,
   "id": "5702c0bf",
   "metadata": {
    "execution": {
     "iopub.execute_input": "2024-06-04T10:41:14.065360Z",
     "iopub.status.busy": "2024-06-04T10:41:14.064412Z",
     "iopub.status.idle": "2024-06-04T10:41:14.072277Z",
     "shell.execute_reply": "2024-06-04T10:41:14.070749Z",
     "shell.execute_reply.started": "2024-06-04T10:41:14.065303Z"
    }
   },
   "outputs": [],
   "source": [
    "from cool_graph.runners import Runner"
   ]
  },
  {
   "cell_type": "code",
   "execution_count": 18,
   "id": "aebe1c4e",
   "metadata": {
    "execution": {
     "iopub.execute_input": "2024-06-04T10:41:17.020400Z",
     "iopub.status.busy": "2024-06-04T10:41:17.019441Z",
     "iopub.status.idle": "2024-06-04T10:41:17.591188Z",
     "shell.execute_reply": "2024-06-04T10:41:17.590056Z",
     "shell.execute_reply.started": "2024-06-04T10:41:17.020343Z"
    }
   },
   "outputs": [],
   "source": [
    "runner = Runner(data, \n",
    "                use_edge_attr=True, \n",
    "                overrides=['training.n_epochs=25',],\n",
    "                seed=42,\n",
    "                metrics = ['roc_auc','accuracy', 'f1'])#'training.initial_lr=0.01'"
   ]
  },
  {
   "cell_type": "code",
   "execution_count": 19,
   "id": "1f692c88",
   "metadata": {
    "execution": {
     "iopub.execute_input": "2024-06-04T10:41:20.734939Z",
     "iopub.status.busy": "2024-06-04T10:41:20.733691Z",
     "iopub.status.idle": "2024-06-04T10:47:37.763078Z",
     "shell.execute_reply": "2024-06-04T10:47:37.761965Z",
     "shell.execute_reply.started": "2024-06-04T10:41:20.734888Z"
    }
   },
   "outputs": [
    {
     "name": "stderr",
     "output_type": "stream",
     "text": [
      "Sample data: 100%|██████████| 138/138 [00:27<00:00,  5.10it/s]\n",
      "Sample data: 100%|██████████| 46/46 [00:08<00:00,  5.73it/s]\n",
      "2024-06-04 13:42:11.738 | INFO     | cool_graph.train.helpers:eval_epoch:216 - test:\n",
      " {'roc_auc': 0.549, 'accuracy': 0.852, 'f1': 0.0, 'calc_time': 0.033, 'main_metric': 0.549}\n",
      "2024-06-04 13:42:16.521 | INFO     | cool_graph.train.helpers:eval_epoch:216 - train:\n",
      " {'roc_auc': 0.554, 'accuracy': 0.856, 'f1': 0.0, 'calc_time': 0.08, 'main_metric': 0.554}\n",
      "2024-06-04 13:43:20.498 | INFO     | cool_graph.train.helpers:eval_epoch:216 - test:\n",
      " {'roc_auc': 0.894, 'accuracy': 0.892, 'f1': 0.563, 'calc_time': 0.03, 'main_metric': 0.894}\n",
      "2024-06-04 13:43:25.192 | INFO     | cool_graph.train.helpers:eval_epoch:216 - train:\n",
      " {'roc_auc': 0.894, 'accuracy': 0.893, 'f1': 0.55, 'calc_time': 0.078, 'main_metric': 0.894}\n",
      "2024-06-04 13:44:28.071 | INFO     | cool_graph.train.helpers:eval_epoch:216 - test:\n",
      " {'roc_auc': 0.902, 'accuracy': 0.898, 'f1': 0.593, 'calc_time': 0.028, 'main_metric': 0.902}\n",
      "2024-06-04 13:44:32.720 | INFO     | cool_graph.train.helpers:eval_epoch:216 - train:\n",
      " {'roc_auc': 0.9, 'accuracy': 0.897, 'f1': 0.572, 'calc_time': 0.077, 'main_metric': 0.9}\n",
      "2024-06-04 13:45:36.396 | INFO     | cool_graph.train.helpers:eval_epoch:216 - test:\n",
      " {'roc_auc': 0.905, 'accuracy': 0.9, 'f1': 0.579, 'calc_time': 0.028, 'main_metric': 0.905}\n",
      "2024-06-04 13:45:41.156 | INFO     | cool_graph.train.helpers:eval_epoch:216 - train:\n",
      " {'roc_auc': 0.905, 'accuracy': 0.901, 'f1': 0.568, 'calc_time': 0.079, 'main_metric': 0.905}\n",
      "2024-06-04 13:46:44.057 | INFO     | cool_graph.train.helpers:eval_epoch:216 - test:\n",
      " {'roc_auc': 0.906, 'accuracy': 0.9, 'f1': 0.548, 'calc_time': 0.026, 'main_metric': 0.906}\n",
      "2024-06-04 13:46:48.785 | INFO     | cool_graph.train.helpers:eval_epoch:216 - train:\n",
      " {'roc_auc': 0.906, 'accuracy': 0.9, 'f1': 0.534, 'calc_time': 0.079, 'main_metric': 0.906}\n",
      "                                                 \r"
     ]
    }
   ],
   "source": [
    "result = runner.run()"
   ]
  },
  {
   "cell_type": "code",
   "execution_count": 44,
   "id": "fd47d34b",
   "metadata": {
    "execution": {
     "iopub.execute_input": "2024-06-04T10:52:15.936510Z",
     "iopub.status.busy": "2024-06-04T10:52:15.935614Z",
     "iopub.status.idle": "2024-06-04T10:52:15.945669Z",
     "shell.execute_reply": "2024-06-04T10:52:15.944724Z",
     "shell.execute_reply.started": "2024-06-04T10:52:15.936457Z"
    }
   },
   "outputs": [
    {
     "data": {
      "text/plain": [
       "0.906"
      ]
     },
     "execution_count": 44,
     "metadata": {},
     "output_type": "execute_result"
    }
   ],
   "source": [
    "result['best_loss']['roc_auc']"
   ]
  },
  {
   "cell_type": "markdown",
   "id": "8cb290b6",
   "metadata": {},
   "source": [
    "# RUN without edge attr"
   ]
  },
  {
   "cell_type": "code",
   "execution_count": 45,
   "id": "e76678be",
   "metadata": {
    "execution": {
     "iopub.execute_input": "2024-06-04T10:52:26.933051Z",
     "iopub.status.busy": "2024-06-04T10:52:26.932179Z",
     "iopub.status.idle": "2024-06-04T10:55:10.241996Z",
     "shell.execute_reply": "2024-06-04T10:55:10.240718Z",
     "shell.execute_reply.started": "2024-06-04T10:52:26.932999Z"
    }
   },
   "outputs": [
    {
     "name": "stderr",
     "output_type": "stream",
     "text": [
      "Sample data: 100%|██████████| 138/138 [00:25<00:00,  5.48it/s]\n",
      "Sample data: 100%|██████████| 46/46 [00:07<00:00,  6.20it/s]\n",
      "2024-06-04 13:53:06.545 | INFO     | cool_graph.train.helpers:eval_epoch:216 - test:\n",
      " {'roc_auc': 0.767, 'accuracy': 0.852, 'f1': 0.0, 'calc_time': 0.01, 'main_metric': 0.767}\n",
      "2024-06-04 13:53:08.263 | INFO     | cool_graph.train.helpers:eval_epoch:216 - train:\n",
      " {'roc_auc': 0.767, 'accuracy': 0.856, 'f1': 0.0, 'calc_time': 0.029, 'main_metric': 0.767}\n",
      "2024-06-04 13:53:32.534 | INFO     | cool_graph.train.helpers:eval_epoch:216 - test:\n",
      " {'roc_auc': 0.833, 'accuracy': 0.877, 'f1': 0.435, 'calc_time': 0.012, 'main_metric': 0.833}\n",
      "2024-06-04 13:53:34.322 | INFO     | cool_graph.train.helpers:eval_epoch:216 - train:\n",
      " {'roc_auc': 0.837, 'accuracy': 0.878, 'f1': 0.427, 'calc_time': 0.03, 'main_metric': 0.837}\n",
      "2024-06-04 13:53:58.779 | INFO     | cool_graph.train.helpers:eval_epoch:216 - test:\n",
      " {'roc_auc': 0.859, 'accuracy': 0.884, 'f1': 0.485, 'calc_time': 0.012, 'main_metric': 0.859}\n",
      "2024-06-04 13:54:01.016 | INFO     | cool_graph.train.helpers:eval_epoch:216 - train:\n",
      " {'roc_auc': 0.864, 'accuracy': 0.889, 'f1': 0.499, 'calc_time': 0.037, 'main_metric': 0.864}\n",
      "2024-06-04 13:54:24.197 | INFO     | cool_graph.train.helpers:eval_epoch:216 - test:\n",
      " {'roc_auc': 0.865, 'accuracy': 0.887, 'f1': 0.462, 'calc_time': 0.01, 'main_metric': 0.865}\n",
      "2024-06-04 13:54:26.312 | INFO     | cool_graph.train.helpers:eval_epoch:216 - train:\n",
      " {'roc_auc': 0.871, 'accuracy': 0.891, 'f1': 0.468, 'calc_time': 0.035, 'main_metric': 0.871}\n",
      "2024-06-04 13:54:50.498 | INFO     | cool_graph.train.helpers:eval_epoch:216 - test:\n",
      " {'roc_auc': 0.868, 'accuracy': 0.888, 'f1': 0.49, 'calc_time': 0.017, 'main_metric': 0.868}\n",
      "2024-06-04 13:54:52.367 | INFO     | cool_graph.train.helpers:eval_epoch:216 - train:\n",
      " {'roc_auc': 0.877, 'accuracy': 0.894, 'f1': 0.505, 'calc_time': 0.031, 'main_metric': 0.877}\n",
      "                                                 \r"
     ]
    }
   ],
   "source": [
    "runner2 = Runner(data, \n",
    "                 use_edge_attr=False, \n",
    "                 overrides=['training.n_epochs=25'],\n",
    "                 seed=42,\n",
    "                 metrics = ['roc_auc','accuracy', 'f1'])\n",
    "result2 = runner2.run()"
   ]
  },
  {
   "cell_type": "code",
   "execution_count": 46,
   "id": "584ee2a7",
   "metadata": {
    "execution": {
     "iopub.execute_input": "2024-06-04T10:55:10.244712Z",
     "iopub.status.busy": "2024-06-04T10:55:10.244426Z",
     "iopub.status.idle": "2024-06-04T10:55:10.251155Z",
     "shell.execute_reply": "2024-06-04T10:55:10.250460Z",
     "shell.execute_reply.started": "2024-06-04T10:55:10.244689Z"
    }
   },
   "outputs": [
    {
     "data": {
      "text/plain": [
       "0.868"
      ]
     },
     "execution_count": 46,
     "metadata": {},
     "output_type": "execute_result"
    }
   ],
   "source": [
    "result2['best_loss']['roc_auc']"
   ]
  },
  {
   "cell_type": "markdown",
   "id": "da73a58a",
   "metadata": {},
   "source": [
    "# So with edge attributes roc_auc better \n",
    "# 0.906 vs 0.868"
   ]
  }
 ],
 "metadata": {
  "kernelspec": {
   "display_name": "coolgraph",
   "language": "python",
   "name": "coolgraph"
  },
  "language_info": {
   "codemirror_mode": {
    "name": "ipython",
    "version": 3
   },
   "file_extension": ".py",
   "mimetype": "text/x-python",
   "name": "python",
   "nbconvert_exporter": "python",
   "pygments_lexer": "ipython3",
   "version": "3.8.13"
  }
 },
 "nbformat": 4,
 "nbformat_minor": 5
}
