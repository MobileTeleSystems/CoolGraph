{
 "cells": [
  {
   "cell_type": "markdown",
   "id": "99d60765",
   "metadata": {},
   "source": [
    "# graph features usage examples"
   ]
  },
  {
   "cell_type": "markdown",
   "id": "2f8f4711",
   "metadata": {},
   "source": [
    "1. [Node Features](#p1)\n",
    "2. [Edge Features](#p2)\n",
    "3. [Use The Node Features when the data.x is empty](#p3)"
   ]
  },
  {
   "cell_type": "code",
   "execution_count": 2,
   "id": "b32d47f5",
   "metadata": {
    "execution": {
     "iopub.execute_input": "2024-07-26T14:23:36.930494Z",
     "iopub.status.busy": "2024-07-26T14:23:36.930299Z",
     "iopub.status.idle": "2024-07-26T14:23:39.738308Z",
     "shell.execute_reply": "2024-07-26T14:23:39.737481Z",
     "shell.execute_reply.started": "2024-07-26T14:23:36.930478Z"
    }
   },
   "outputs": [],
   "source": [
    "from cool_graph.runners import Runner, HypeRunner\n",
    "from cool_graph.datasets import AntiFraud, S_FFSD"
   ]
  },
  {
   "cell_type": "markdown",
   "id": "2dbe2931",
   "metadata": {},
   "source": [
    "# 1. Node Features <a class=\"anchor\" id=\"p1\"></a>"
   ]
  },
  {
   "cell_type": "markdown",
   "id": "858ffaf5",
   "metadata": {},
   "source": [
    "You can use some properties of nodes in the graph as node attributes <br>\n",
    "You can do this using the use_graph_node_features flag <br>\n",
    "By default, networks.degree_centrality and networkx.pagerank are added, processed using quantile transformation"
   ]
  },
  {
   "cell_type": "code",
   "execution_count": 3,
   "id": "c35c6e69",
   "metadata": {
    "execution": {
     "iopub.execute_input": "2024-07-26T14:23:39.742201Z",
     "iopub.status.busy": "2024-07-26T14:23:39.741972Z",
     "iopub.status.idle": "2024-07-26T14:23:40.242844Z",
     "shell.execute_reply": "2024-07-26T14:23:40.242052Z",
     "shell.execute_reply.started": "2024-07-26T14:23:39.742179Z"
    }
   },
   "outputs": [
    {
     "name": "stderr",
     "output_type": "stream",
     "text": [
      "Using existing file ./data/amazon/Amazon_data.pt\n"
     ]
    },
    {
     "data": {
      "text/plain": [
       "Data(x=[11944, 25], edge_index=[2, 8835152], edge_attr=[8835152, 12], y=[11944])"
      ]
     },
     "execution_count": 3,
     "metadata": {},
     "output_type": "execute_result"
    }
   ],
   "source": [
    "amazonfraud = AntiFraud(root='./data', name='Amazon')\n",
    "amazonfraud.data"
   ]
  },
  {
   "cell_type": "code",
   "execution_count": 4,
   "id": "8450b706",
   "metadata": {
    "execution": {
     "iopub.execute_input": "2024-07-26T14:23:40.245012Z",
     "iopub.status.busy": "2024-07-26T14:23:40.244775Z",
     "iopub.status.idle": "2024-07-26T14:25:20.343476Z",
     "shell.execute_reply": "2024-07-26T14:25:20.342693Z",
     "shell.execute_reply.started": "2024-07-26T14:23:40.244994Z"
    }
   },
   "outputs": [
    {
     "data": {
      "text/plain": [
       "Data(x=[11944, 27], edge_index=[2, 8835152], edge_attr=[8835152, 12], y=[11944], group_mask=[11944], label_mask=[11944])"
      ]
     },
     "execution_count": 4,
     "metadata": {},
     "output_type": "execute_result"
    }
   ],
   "source": [
    "runner = Runner(\n",
    "    amazonfraud.data,\n",
    "    use_graph_node_features=True,\n",
    "    overridses=['training.n_epochs=20']\n",
    ")\n",
    "runner.data"
   ]
  },
  {
   "cell_type": "markdown",
   "id": "4b8e90cd",
   "metadata": {},
   "source": [
    "The calculation of features may take some time on large datasets"
   ]
  },
  {
   "cell_type": "code",
   "execution_count": 5,
   "id": "3904c72b",
   "metadata": {
    "execution": {
     "iopub.execute_input": "2024-07-26T14:25:20.345360Z",
     "iopub.status.busy": "2024-07-26T14:25:20.344663Z",
     "iopub.status.idle": "2024-07-26T14:26:49.316792Z",
     "shell.execute_reply": "2024-07-26T14:26:49.315717Z",
     "shell.execute_reply.started": "2024-07-26T14:25:20.345336Z"
    }
   },
   "outputs": [
    {
     "name": "stderr",
     "output_type": "stream",
     "text": [
      "Sample data: 100%|██████████| 36/36 [00:08<00:00,  4.50it/s]\n",
      "Sample data: 100%|██████████| 12/12 [00:02<00:00,  4.69it/s]\n",
      "2024-07-26 17:25:46 - epoch 0 test:            \n",
      " {'accuracy': 0.93, 'cross_entropy': 0.284, 'f1_weighted': 0.896, 'calc_time': 0.007, 'main_metric': 0.93}\n",
      "2024-07-26 17:25:47 - epoch 0 train:           \n",
      " {'accuracy': 0.932, 'cross_entropy': 0.282, 'f1_weighted': 0.899, 'calc_time': 0.018, 'main_metric': 0.932}\n",
      "2024-07-26 17:26:01 - epoch 5 test:            \n",
      " {'accuracy': 0.98, 'cross_entropy': 0.085, 'f1_weighted': 0.979, 'calc_time': 0.009, 'main_metric': 0.98}\n",
      "2024-07-26 17:26:03 - epoch 5 train:           \n",
      " {'accuracy': 0.98, 'cross_entropy': 0.086, 'f1_weighted': 0.979, 'calc_time': 0.032, 'main_metric': 0.98}\n",
      "2024-07-26 17:26:16 - epoch 10 test:           \n",
      " {'accuracy': 0.981, 'cross_entropy': 0.079, 'f1_weighted': 0.98, 'calc_time': 0.009, 'main_metric': 0.981}\n",
      "2024-07-26 17:26:18 - epoch 10 train:          \n",
      " {'accuracy': 0.98, 'cross_entropy': 0.079, 'f1_weighted': 0.98, 'calc_time': 0.021, 'main_metric': 0.98}\n",
      "2024-07-26 17:26:32 - epoch 15 test:           \n",
      " {'accuracy': 0.982, 'cross_entropy': 0.078, 'f1_weighted': 0.981, 'calc_time': 0.012, 'main_metric': 0.982}\n",
      "2024-07-26 17:26:34 - epoch 15 train:          \n",
      " {'accuracy': 0.981, 'cross_entropy': 0.077, 'f1_weighted': 0.98, 'calc_time': 0.029, 'main_metric': 0.981}\n",
      "2024-07-26 17:26:46 - epoch 20 test:           \n",
      " {'accuracy': 0.981, 'cross_entropy': 0.076, 'f1_weighted': 0.98, 'calc_time': 0.007, 'main_metric': 0.981}\n",
      "2024-07-26 17:26:49 - epoch 20 train:          \n",
      " {'accuracy': 0.981, 'cross_entropy': 0.075, 'f1_weighted': 0.98, 'calc_time': 0.036, 'main_metric': 0.981}\n"
     ]
    },
    {
     "name": "stdout",
     "output_type": "stream",
     "text": [
      "{'accuracy': 0.982, 'cross_entropy': 0.078, 'f1_weighted': 0.981, 'calc_time': 0.012, 'main_metric': 0.982, 'tasks': {'y': {'accuracy': 0.9815807099799062, 'cross_entropy': 0.07787884771823883, 'f1_weighted': 0.9807472823965868}}, 'epoch': 15}\n"
     ]
    }
   ],
   "source": [
    "result=runner.run()\n",
    "print(result['best_loss'])"
   ]
  },
  {
   "cell_type": "markdown",
   "id": "d83c384f",
   "metadata": {},
   "source": [
    "# 2. Edge Features <a class=\"anchor\" id=\"p2\"></a>"
   ]
  },
  {
   "cell_type": "markdown",
   "id": "c78cc6c1",
   "metadata": {},
   "source": [
    "You can also calculate the edge features <br>\n",
    "There is a use_graph_edge_features flag for this <br>\n",
    "By default, the total degree of nodes connected by an edge and the number of common neighbors of these nodes are used, processed using quantile transformation"
   ]
  },
  {
   "cell_type": "code",
   "execution_count": 6,
   "id": "d75f8d88",
   "metadata": {
    "execution": {
     "iopub.execute_input": "2024-07-26T14:26:49.318682Z",
     "iopub.status.busy": "2024-07-26T14:26:49.318329Z",
     "iopub.status.idle": "2024-07-26T14:26:49.371545Z",
     "shell.execute_reply": "2024-07-26T14:26:49.370656Z",
     "shell.execute_reply.started": "2024-07-26T14:26:49.318621Z"
    }
   },
   "outputs": [
    {
     "name": "stderr",
     "output_type": "stream",
     "text": [
      "Using existing file ./data/S-FFSD_data.pt\n"
     ]
    },
    {
     "data": {
      "text/plain": [
       "Data(x=[77881, 126], edge_index=[2, 233164], y=[77881])"
      ]
     },
     "execution_count": 6,
     "metadata": {},
     "output_type": "execute_result"
    }
   ],
   "source": [
    "s_ffsd = S_FFSD(root='./data')\n",
    "s_ffsd.data"
   ]
  },
  {
   "cell_type": "code",
   "execution_count": 7,
   "id": "a6252365",
   "metadata": {
    "execution": {
     "iopub.execute_input": "2024-07-26T14:26:49.372998Z",
     "iopub.status.busy": "2024-07-26T14:26:49.372694Z",
     "iopub.status.idle": "2024-07-26T14:26:53.819658Z",
     "shell.execute_reply": "2024-07-26T14:26:53.818869Z",
     "shell.execute_reply.started": "2024-07-26T14:26:49.372976Z"
    }
   },
   "outputs": [
    {
     "data": {
      "text/plain": [
       "Data(x=[77881, 126], edge_index=[2, 233164], y=[77881], edge_attr=[233164, 2], group_mask=[77881], label_mask=[77881])"
      ]
     },
     "execution_count": 7,
     "metadata": {},
     "output_type": "execute_result"
    }
   ],
   "source": [
    "runner = Runner(\n",
    "    s_ffsd.data,\n",
    "    use_graph_edge_features=True,\n",
    "    use_edge_attr=True,\n",
    "    overrides=['training.n_epochs=20']\n",
    ")\n",
    "runner.data"
   ]
  },
  {
   "cell_type": "code",
   "execution_count": 8,
   "id": "3c82fc0f",
   "metadata": {
    "execution": {
     "iopub.execute_input": "2024-07-26T14:26:53.821127Z",
     "iopub.status.busy": "2024-07-26T14:26:53.820775Z",
     "iopub.status.idle": "2024-07-26T14:28:48.710236Z",
     "shell.execute_reply": "2024-07-26T14:28:48.709291Z",
     "shell.execute_reply.started": "2024-07-26T14:26:53.821103Z"
    }
   },
   "outputs": [
    {
     "name": "stderr",
     "output_type": "stream",
     "text": [
      "Sample data: 100%|██████████| 89/89 [00:00<00:00, 181.35it/s]\n",
      "Sample data: 100%|██████████| 30/30 [00:00<00:00, 162.36it/s]\n",
      "2024-07-26 17:27:01 - epoch 0 test:            \n",
      " {'accuracy': 0.887, 'cross_entropy': 0.334, 'f1_weighted': 0.866, 'calc_time': 0.014, 'main_metric': 0.887}\n",
      "2024-07-26 17:27:04 - epoch 0 train:           \n",
      " {'accuracy': 0.887, 'cross_entropy': 0.331, 'f1_weighted': 0.866, 'calc_time': 0.041, 'main_metric': 0.887}\n",
      "2024-07-26 17:27:31 - epoch 5 test:            \n",
      " {'accuracy': 0.893, 'cross_entropy': 0.294, 'f1_weighted': 0.875, 'calc_time': 0.01, 'main_metric': 0.893}\n",
      "2024-07-26 17:27:33 - epoch 5 train:           \n",
      " {'accuracy': 0.891, 'cross_entropy': 0.29, 'f1_weighted': 0.874, 'calc_time': 0.038, 'main_metric': 0.891}\n",
      "2024-07-26 17:28:02 - epoch 10 test:           \n",
      " {'accuracy': 0.896, 'cross_entropy': 0.275, 'f1_weighted': 0.88, 'calc_time': 0.014, 'main_metric': 0.896}\n",
      "2024-07-26 17:28:04 - epoch 10 train:          \n",
      " {'accuracy': 0.894, 'cross_entropy': 0.266, 'f1_weighted': 0.879, 'calc_time': 0.036, 'main_metric': 0.894}\n",
      "2024-07-26 17:28:28 - epoch 15 test:           \n",
      " {'accuracy': 0.894, 'cross_entropy': 0.272, 'f1_weighted': 0.88, 'calc_time': 0.011, 'main_metric': 0.894}\n",
      "2024-07-26 17:28:30 - epoch 15 train:          \n",
      " {'accuracy': 0.895, 'cross_entropy': 0.261, 'f1_weighted': 0.881, 'calc_time': 0.034, 'main_metric': 0.895}\n",
      "                                               "
     ]
    },
    {
     "name": "stdout",
     "output_type": "stream",
     "text": [
      "{'accuracy': 0.896, 'cross_entropy': 0.275, 'f1_weighted': 0.88, 'calc_time': 0.014, 'main_metric': 0.896, 'tasks': {'y': {'accuracy': 0.8956955876399946, 'cross_entropy': 0.275429368019104, 'f1_weighted': 0.880179528219482}}, 'epoch': 10}\n"
     ]
    },
    {
     "name": "stderr",
     "output_type": "stream",
     "text": [
      "\r"
     ]
    }
   ],
   "source": [
    "result = runner.run()\n",
    "print(result['best_loss'])"
   ]
  },
  {
   "cell_type": "markdown",
   "id": "136de709",
   "metadata": {},
   "source": [
    "# 3. Use The Node Features when the data.x is empty <a class=\"anchor\" id=\"p3\"></a>\n",
    "You can use node features even when there is data.x is empty <br>\n",
    "In this case, data.x will be created <br>"
   ]
  },
  {
   "cell_type": "code",
   "execution_count": 9,
   "id": "8550ca82",
   "metadata": {
    "execution": {
     "iopub.execute_input": "2024-07-26T14:28:48.713702Z",
     "iopub.status.busy": "2024-07-26T14:28:48.712403Z",
     "iopub.status.idle": "2024-07-26T14:28:49.231727Z",
     "shell.execute_reply": "2024-07-26T14:28:49.231001Z",
     "shell.execute_reply.started": "2024-07-26T14:28:48.713677Z"
    }
   },
   "outputs": [
    {
     "name": "stderr",
     "output_type": "stream",
     "text": [
      "Using existing file ./data/amazon/Amazon_data.pt\n"
     ]
    }
   ],
   "source": [
    "amazonfraud = AntiFraud(root='./data', name='Amazon')"
   ]
  },
  {
   "cell_type": "code",
   "execution_count": null,
   "id": "3fa3c7b3",
   "metadata": {},
   "outputs": [],
   "source": []
  },
  {
   "cell_type": "code",
   "execution_count": 10,
   "id": "31a563f2",
   "metadata": {
    "execution": {
     "iopub.execute_input": "2024-07-26T14:28:49.232864Z",
     "iopub.status.busy": "2024-07-26T14:28:49.232646Z",
     "iopub.status.idle": "2024-07-26T14:28:49.236068Z",
     "shell.execute_reply": "2024-07-26T14:28:49.235559Z",
     "shell.execute_reply.started": "2024-07-26T14:28:49.232847Z"
    }
   },
   "outputs": [],
   "source": [
    "amazonfraud.data.x = None"
   ]
  },
  {
   "cell_type": "code",
   "execution_count": 11,
   "id": "bfcd68ba",
   "metadata": {
    "execution": {
     "iopub.execute_input": "2024-07-26T14:28:49.236800Z",
     "iopub.status.busy": "2024-07-26T14:28:49.236605Z",
     "iopub.status.idle": "2024-07-26T14:30:55.029399Z",
     "shell.execute_reply": "2024-07-26T14:30:55.028571Z",
     "shell.execute_reply.started": "2024-07-26T14:28:49.236785Z"
    }
   },
   "outputs": [
    {
     "data": {
      "text/plain": [
       "Data(edge_index=[2, 8835152], edge_attr=[8835152, 12], y=[11944], x=[11944, 2], group_mask=[11944], label_mask=[11944])"
      ]
     },
     "execution_count": 11,
     "metadata": {},
     "output_type": "execute_result"
    }
   ],
   "source": [
    "hyperunner = HypeRunner(\n",
    "    amazonfraud.data,\n",
    "    use_graph_node_features=True,\n",
    "    overridses=['training.n_epochs=20']\n",
    ")\n",
    "hyperunner.data"
   ]
  },
  {
   "cell_type": "code",
   "execution_count": 12,
   "id": "64f147e3",
   "metadata": {
    "execution": {
     "iopub.execute_input": "2024-07-26T14:30:55.030987Z",
     "iopub.status.busy": "2024-07-26T14:30:55.030702Z",
     "iopub.status.idle": "2024-07-26T14:32:10.715246Z",
     "shell.execute_reply": "2024-07-26T14:32:10.714318Z",
     "shell.execute_reply.started": "2024-07-26T14:30:55.030967Z"
    }
   },
   "outputs": [
    {
     "name": "stderr",
     "output_type": "stream",
     "text": [
      "Sample data: 100%|██████████| 36/36 [00:09<00:00,  3.81it/s]\n",
      "Sample data: 100%|██████████| 12/12 [00:02<00:00,  4.98it/s]\n",
      "\u001b[32m[I 2024-07-26 17:31:07,890]\u001b[0m A new study created in memory with name: no-name-a8169872-d463-47e0-9842-31f2b9cd3461\u001b[0m\n",
      "2024-07-26 17:31:17 - epoch 0 test:            \n",
      " {'accuracy': 0.928, 'cross_entropy': 0.217, 'f1_weighted': 0.894, 'calc_time': 0.005, 'main_metric': 0.928}\n",
      "2024-07-26 17:31:18 - epoch 0 train:           \n",
      " {'accuracy': 0.932, 'cross_entropy': 0.216, 'f1_weighted': 0.9, 'calc_time': 0.016, 'main_metric': 0.932}\n",
      "2024-07-26 17:31:30 - epoch 5 test:            \n",
      " {'accuracy': 0.928, 'cross_entropy': 0.236, 'f1_weighted': 0.894, 'calc_time': 0.01, 'main_metric': 0.928}\n",
      "2024-07-26 17:31:31 - epoch 5 train:           \n",
      " {'accuracy': 0.932, 'cross_entropy': 0.238, 'f1_weighted': 0.9, 'calc_time': 0.024, 'main_metric': 0.932}\n",
      "2024-07-26 17:31:45 - epoch 10 test:           \n",
      " {'accuracy': 0.928, 'cross_entropy': 0.223, 'f1_weighted': 0.894, 'calc_time': 0.009, 'main_metric': 0.928}\n",
      "2024-07-26 17:31:46 - epoch 10 train:          \n",
      " {'accuracy': 0.932, 'cross_entropy': 0.224, 'f1_weighted': 0.899, 'calc_time': 0.015, 'main_metric': 0.932}\n",
      "2024-07-26 17:31:57 - epoch 15 test:           \n",
      " {'accuracy': 0.928, 'cross_entropy': 0.217, 'f1_weighted': 0.894, 'calc_time': 0.006, 'main_metric': 0.928}\n",
      "2024-07-26 17:31:58 - epoch 15 train:          \n",
      " {'accuracy': 0.932, 'cross_entropy': 0.218, 'f1_weighted': 0.9, 'calc_time': 0.017, 'main_metric': 0.932}\n",
      "2024-07-26 17:32:09 - epoch 20 test:           \n",
      " {'accuracy': 0.928, 'cross_entropy': 0.216, 'f1_weighted': 0.894, 'calc_time': 0.005, 'main_metric': 0.928}\n",
      "2024-07-26 17:32:10 - epoch 20 train:          \n",
      " {'accuracy': 0.932, 'cross_entropy': 0.217, 'f1_weighted': 0.9, 'calc_time': 0.014, 'main_metric': 0.932}\n",
      "\u001b[32m[I 2024-07-26 17:32:10,352]\u001b[0m Trial 0 finished with value: 0.928 and parameters: {'activation': 'leakyrelu', 'lin_prep_len': 1, 'lin_prep_dropout_rate': 0.4, 'lin_prep_weight_norm_flag': True, 'lin_prep_size_common': 512, 'lin_prep_size0_fraction': 0.5, 'conv1_aggrs_mean_fraction': 0.5, 'conv1_aggrs_max_fraction': 0.25, 'conv1_aggrs_add_fraction': 0.125, 'conv1_dropout_rate': 0.2, 'conv2_aggrs_mean_fraction': 0.2857142857142857, 'conv2_aggrs_max_fraction': 0.14285714285714285, 'conv2_aggrs_add_fraction': 0.07142857142857142, 'conv2_dropout_rate': 0.2, 'graph_conv_weight_norm_flag': True}. Best is trial 0 with value: 0.928.\u001b[0m\n"
     ]
    },
    {
     "name": "stdout",
     "output_type": "stream",
     "text": [
      "Study statistics: \n",
      "  Number of finished trials:  1\n",
      "  Number of complete trials:  1\n",
      "Best trial:\n",
      "  Value:  0.928\n",
      "  Params: \n",
      "{'conv_type': 'GraphConv', 'activation': 'leakyrelu', 'lin_prep_len': 1, 'lin_prep_dropout_rate': 0.4, 'lin_prep_weight_norm_flag': True, 'lin_prep_size_common': 512, 'lin_prep_sizes': [256], 'n_hops': 2, 'conv1_aggrs': {'mean': 128, 'max': 64, 'add': 32}, 'conv1_dropout_rate': 0.2, 'conv2_aggrs': {'mean': 64, 'max': 32, 'add': 16}, 'conv2_dropout_rate': 0.2, 'graph_conv_weight_norm_flag': True}\n"
     ]
    }
   ],
   "source": [
    "result = hyperunner.optimize_run(n_trials=1)"
   ]
  },
  {
   "cell_type": "markdown",
   "id": "2d3cbb75",
   "metadata": {},
   "source": [
    "Even without node features, the accuracy is high"
   ]
  },
  {
   "cell_type": "code",
   "execution_count": null,
   "id": "089a7fb4",
   "metadata": {},
   "outputs": [],
   "source": []
  }
 ],
 "metadata": {
  "kernelspec": {
   "display_name": "cool_graph_kernel",
   "language": "python",
   "name": "cool_graph_kernel"
  },
  "language_info": {
   "codemirror_mode": {
    "name": "ipython",
    "version": 3
   },
   "file_extension": ".py",
   "mimetype": "text/x-python",
   "name": "python",
   "nbconvert_exporter": "python",
   "pygments_lexer": "ipython3",
   "version": "3.8.13"
  }
 },
 "nbformat": 4,
 "nbformat_minor": 5
}
