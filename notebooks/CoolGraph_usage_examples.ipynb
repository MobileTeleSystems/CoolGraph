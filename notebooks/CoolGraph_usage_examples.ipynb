{
 "cells": [
  {
   "cell_type": "markdown",
   "id": "07064c5c",
   "metadata": {},
   "source": [
    "# Contents <a name=\"toc\"></a>\n",
    "1. [Default](#p1)\n",
    "2. [Integration with MLFLOW](#p2)\n",
    "3. [Multitarget](#p3)\n",
    "4. [Command line mode](#p4)\n",
    "5. [Optuna](#p5)\n"
   ]
  },
  {
   "cell_type": "code",
   "execution_count": 1,
   "id": "49fb99c6",
   "metadata": {
    "execution": {
     "iopub.execute_input": "2024-06-04T11:05:53.128637Z",
     "iopub.status.busy": "2024-06-04T11:05:53.127858Z",
     "iopub.status.idle": "2024-06-04T11:05:53.145074Z",
     "shell.execute_reply": "2024-06-04T11:05:53.144001Z",
     "shell.execute_reply.started": "2024-06-04T11:05:53.128574Z"
    }
   },
   "outputs": [],
   "source": [
    "def dataset_info(data):\n",
    "    n_features = data.x.shape[1]\n",
    "    n_nodes = data.x.shape[0]\n",
    "    n_edges = data.edge_index.shape[1]\n",
    "    if len(data.y.shape) == 1:\n",
    "        print(f'# nodes    {n_nodes} \\n# features {n_features} \\n# edges    {n_edges} \\n# classes  {len(data.y.unique())}')\n",
    "    else:\n",
    "        print(f'# nodes    {n_nodes} \\n# features {n_features} \\n# edges    {n_edges} \\n# tasks    {data.y.shape[1]}')"
   ]
  },
  {
   "cell_type": "markdown",
   "id": "9544360d",
   "metadata": {},
   "source": [
    "# 1. Default <a name=\"p1\"></a>"
   ]
  },
  {
   "cell_type": "code",
   "execution_count": 2,
   "id": "fb5a746c",
   "metadata": {
    "execution": {
     "iopub.execute_input": "2024-06-04T11:05:55.196802Z",
     "iopub.status.busy": "2024-06-04T11:05:55.196054Z",
     "iopub.status.idle": "2024-06-04T11:05:58.063566Z",
     "shell.execute_reply": "2024-06-04T11:05:58.062498Z",
     "shell.execute_reply.started": "2024-06-04T11:05:55.196757Z"
    }
   },
   "outputs": [
    {
     "name": "stderr",
     "output_type": "stream",
     "text": [
      "/home/dapavlikov/.conda/envs/cool_graph_env/lib/python3.8/site-packages/tqdm/auto.py:22: TqdmWarning: IProgress not found. Please update jupyter and ipywidgets. See https://ipywidgets.readthedocs.io/en/stable/user_install.html\n",
      "  from .autonotebook import tqdm as notebook_tqdm\n"
     ]
    }
   ],
   "source": [
    "from cool_graph.runners import Runner\n",
    "from torch_geometric import datasets\n",
    "import torch\n",
    "import pandas as pd"
   ]
  },
  {
   "cell_type": "code",
   "execution_count": 3,
   "id": "a4a92411",
   "metadata": {
    "execution": {
     "iopub.execute_input": "2024-06-04T11:05:58.065328Z",
     "iopub.status.busy": "2024-06-04T11:05:58.064973Z",
     "iopub.status.idle": "2024-06-04T11:05:58.132231Z",
     "shell.execute_reply": "2024-06-04T11:05:58.131264Z",
     "shell.execute_reply.started": "2024-06-04T11:05:58.065307Z"
    }
   },
   "outputs": [
    {
     "data": {
      "text/plain": [
       "Data(x=[13752, 767], edge_index=[2, 491722], y=[13752])"
      ]
     },
     "execution_count": 3,
     "metadata": {},
     "output_type": "execute_result"
    }
   ],
   "source": [
    "# use simple Amazon dataset with Computers\n",
    "dataset = datasets.Amazon(root='./data/Amazon', name='Computers')\n",
    "data = dataset.data\n",
    "data"
   ]
  },
  {
   "cell_type": "code",
   "execution_count": 4,
   "id": "cd2e9f11",
   "metadata": {
    "execution": {
     "iopub.execute_input": "2024-06-04T11:05:58.133363Z",
     "iopub.status.busy": "2024-06-04T11:05:58.133160Z",
     "iopub.status.idle": "2024-06-04T11:05:58.138908Z",
     "shell.execute_reply": "2024-06-04T11:05:58.137938Z",
     "shell.execute_reply.started": "2024-06-04T11:05:58.133347Z"
    }
   },
   "outputs": [
    {
     "name": "stdout",
     "output_type": "stream",
     "text": [
      "# nodes    13752 \n",
      "# features 767 \n",
      "# edges    491722 \n",
      "# classes  10\n"
     ]
    }
   ],
   "source": [
    "dataset_info(data)"
   ]
  },
  {
   "cell_type": "code",
   "execution_count": 5,
   "id": "4016c576",
   "metadata": {
    "execution": {
     "iopub.execute_input": "2024-06-04T11:06:00.130577Z",
     "iopub.status.busy": "2024-06-04T11:06:00.129380Z",
     "iopub.status.idle": "2024-06-04T11:06:00.283913Z",
     "shell.execute_reply": "2024-06-04T11:06:00.282646Z",
     "shell.execute_reply.started": "2024-06-04T11:06:00.130534Z"
    }
   },
   "outputs": [],
   "source": [
    "# lets split data before training (also split data method include in Runner, so you dont have to do this step)\n",
    "runner = Runner(data)"
   ]
  },
  {
   "cell_type": "code",
   "execution_count": 6,
   "id": "f785a761",
   "metadata": {
    "execution": {
     "iopub.execute_input": "2024-06-04T11:06:01.712639Z",
     "iopub.status.busy": "2024-06-04T11:06:01.711579Z",
     "iopub.status.idle": "2024-06-04T11:06:05.963218Z",
     "shell.execute_reply": "2024-06-04T11:06:05.962067Z",
     "shell.execute_reply.started": "2024-06-04T11:06:01.712580Z"
    }
   },
   "outputs": [
    {
     "name": "stderr",
     "output_type": "stream",
     "text": [
      "Sample data: 100%|██████████| 42/42 [00:03<00:00, 13.58it/s]\n",
      "Sample data: 100%|██████████| 14/14 [00:01<00:00, 13.36it/s]\n"
     ]
    }
   ],
   "source": [
    "loaders = runner.sample_data()"
   ]
  },
  {
   "cell_type": "code",
   "execution_count": 7,
   "id": "78f543d6",
   "metadata": {
    "execution": {
     "iopub.execute_input": "2024-06-04T11:06:05.965772Z",
     "iopub.status.busy": "2024-06-04T11:06:05.965015Z",
     "iopub.status.idle": "2024-06-04T11:06:05.973251Z",
     "shell.execute_reply": "2024-06-04T11:06:05.972323Z",
     "shell.execute_reply.started": "2024-06-04T11:06:05.965744Z"
    }
   },
   "outputs": [
    {
     "data": {
      "text/plain": [
       "dict_keys(['train_loader', 'test_loader'])"
      ]
     },
     "execution_count": 7,
     "metadata": {},
     "output_type": "execute_result"
    }
   ],
   "source": [
    "loaders.keys()"
   ]
  },
  {
   "cell_type": "code",
   "execution_count": 8,
   "id": "c8a9e79a",
   "metadata": {
    "execution": {
     "iopub.execute_input": "2024-06-04T11:06:05.974238Z",
     "iopub.status.busy": "2024-06-04T11:06:05.974064Z",
     "iopub.status.idle": "2024-06-04T11:06:05.980915Z",
     "shell.execute_reply": "2024-06-04T11:06:05.980246Z",
     "shell.execute_reply.started": "2024-06-04T11:06:05.974225Z"
    }
   },
   "outputs": [
    {
     "data": {
      "text/plain": [
       "[Data(x=[10219, 767], edge_index=[2, 48223], y=[10219], group_mask=[10219], label_mask=[10219], input_id=[250], batch_size=250),\n",
       " Data(x=[10038, 767], edge_index=[2, 44787], y=[10038], group_mask=[10038], label_mask=[10038], input_id=[250], batch_size=250),\n",
       " Data(x=[10115, 767], edge_index=[2, 45012], y=[10115], group_mask=[10115], label_mask=[10115], input_id=[250], batch_size=250),\n",
       " Data(x=[10190, 767], edge_index=[2, 47636], y=[10190], group_mask=[10190], label_mask=[10190], input_id=[250], batch_size=250),\n",
       " Data(x=[10129, 767], edge_index=[2, 45880], y=[10129], group_mask=[10129], label_mask=[10129], input_id=[250], batch_size=250)]"
      ]
     },
     "execution_count": 8,
     "metadata": {},
     "output_type": "execute_result"
    }
   ],
   "source": [
    "loaders[\"train_loader\"][:5]"
   ]
  },
  {
   "cell_type": "code",
   "execution_count": 9,
   "id": "fabcc607",
   "metadata": {
    "execution": {
     "iopub.execute_input": "2024-06-04T11:06:05.982956Z",
     "iopub.status.busy": "2024-06-04T11:06:05.982302Z",
     "iopub.status.idle": "2024-06-04T11:06:39.461525Z",
     "shell.execute_reply": "2024-06-04T11:06:39.460481Z",
     "shell.execute_reply.started": "2024-06-04T11:06:05.982937Z"
    }
   },
   "outputs": [
    {
     "name": "stderr",
     "output_type": "stream",
     "text": [
      "2024-06-04 14:06:09.886 | INFO     | cool_graph.train.helpers:eval_epoch:209 - test:\n",
      " {'accuracy': 0.533, 'cross_entropy': 1.386, 'f1_weighted': 0.506, 'calc_time': 0.004, 'main_metric': 0.533}\n",
      "2024-06-04 14:06:10.674 | INFO     | cool_graph.train.helpers:eval_epoch:209 - train:\n",
      " {'accuracy': 0.546, 'cross_entropy': 1.369, 'f1_weighted': 0.517, 'calc_time': 0.013, 'main_metric': 0.546}\n",
      "2024-06-04 14:06:17.035 | INFO     | cool_graph.train.helpers:eval_epoch:209 - test:\n",
      " {'accuracy': 0.883, 'cross_entropy': 0.358, 'f1_weighted': 0.868, 'calc_time': 0.006, 'main_metric': 0.883}\n",
      "2024-06-04 14:06:17.635 | INFO     | cool_graph.train.helpers:eval_epoch:209 - train:\n",
      " {'accuracy': 0.91, 'cross_entropy': 0.272, 'f1_weighted': 0.895, 'calc_time': 0.01, 'main_metric': 0.91}\n",
      "2024-06-04 14:06:24.081 | INFO     | cool_graph.train.helpers:eval_epoch:209 - test:\n",
      " {'accuracy': 0.913, 'cross_entropy': 0.301, 'f1_weighted': 0.912, 'calc_time': 0.005, 'main_metric': 0.913}\n",
      "2024-06-04 14:06:24.746 | INFO     | cool_graph.train.helpers:eval_epoch:209 - train:\n",
      " {'accuracy': 0.957, 'cross_entropy': 0.138, 'f1_weighted': 0.957, 'calc_time': 0.011, 'main_metric': 0.957}\n",
      "2024-06-04 14:06:31.595 | INFO     | cool_graph.train.helpers:eval_epoch:209 - test:\n",
      " {'accuracy': 0.912, 'cross_entropy': 0.312, 'f1_weighted': 0.912, 'calc_time': 0.006, 'main_metric': 0.912}\n",
      "2024-06-04 14:06:32.512 | INFO     | cool_graph.train.helpers:eval_epoch:209 - train:\n",
      " {'accuracy': 0.968, 'cross_entropy': 0.107, 'f1_weighted': 0.968, 'calc_time': 0.015, 'main_metric': 0.968}\n",
      "2024-06-04 14:06:38.851 | INFO     | cool_graph.train.helpers:eval_epoch:209 - test:\n",
      " {'accuracy': 0.912, 'cross_entropy': 0.33, 'f1_weighted': 0.911, 'calc_time': 0.005, 'main_metric': 0.912}\n",
      "2024-06-04 14:06:39.426 | INFO     | cool_graph.train.helpers:eval_epoch:209 - train:\n",
      " {'accuracy': 0.974, 'cross_entropy': 0.085, 'f1_weighted': 0.974, 'calc_time': 0.01, 'main_metric': 0.974}\n"
     ]
    },
    {
     "name": "stdout",
     "output_type": "stream",
     "text": [
      "CPU times: user 27min 17s, sys: 1min 16s, total: 28min 34s\n",
      "Wall time: 33.5 s\n"
     ]
    }
   ],
   "source": [
    "%%time\n",
    "# training\n",
    "result = runner.run(train_loader=loaders[\"train_loader\"],\n",
    "                    test_loader=loaders[\"test_loader\"])"
   ]
  },
  {
   "cell_type": "code",
   "execution_count": 10,
   "id": "5b6d1d2c",
   "metadata": {
    "execution": {
     "iopub.execute_input": "2024-06-04T11:06:39.463847Z",
     "iopub.status.busy": "2024-06-04T11:06:39.463503Z",
     "iopub.status.idle": "2024-06-04T11:06:39.469980Z",
     "shell.execute_reply": "2024-06-04T11:06:39.469324Z",
     "shell.execute_reply.started": "2024-06-04T11:06:39.463812Z"
    }
   },
   "outputs": [
    {
     "data": {
      "text/plain": [
       "0.913"
      ]
     },
     "execution_count": 10,
     "metadata": {},
     "output_type": "execute_result"
    }
   ],
   "source": [
    "result['best_loss'][\"accuracy\"]"
   ]
  },
  {
   "cell_type": "code",
   "execution_count": 11,
   "id": "a3e9f302",
   "metadata": {
    "execution": {
     "iopub.execute_input": "2024-06-04T11:06:50.546401Z",
     "iopub.status.busy": "2024-06-04T11:06:50.545532Z",
     "iopub.status.idle": "2024-06-04T11:06:50.556068Z",
     "shell.execute_reply": "2024-06-04T11:06:50.554740Z",
     "shell.execute_reply.started": "2024-06-04T11:06:50.546350Z"
    }
   },
   "outputs": [
    {
     "data": {
      "text/plain": [
       "'checkpoints/2024-06-04 14:06:00'"
      ]
     },
     "execution_count": 11,
     "metadata": {},
     "output_type": "execute_result"
    }
   ],
   "source": [
    "# local logging \n",
    "str(runner.chkpt_dir)"
   ]
  },
  {
   "cell_type": "code",
   "execution_count": 20,
   "id": "281d75bc",
   "metadata": {
    "execution": {
     "iopub.execute_input": "2024-06-04T11:07:51.753256Z",
     "iopub.status.busy": "2024-06-04T11:07:51.752323Z",
     "iopub.status.idle": "2024-06-04T11:07:51.763567Z",
     "shell.execute_reply": "2024-06-04T11:07:51.762680Z",
     "shell.execute_reply.started": "2024-06-04T11:07:51.753206Z"
    }
   },
   "outputs": [
    {
     "data": {
      "text/plain": [
       "{'y': array([[1.71531334e-09, 3.22356577e-08, 5.37139421e-15, ...,\n",
       "         3.12158238e-15, 6.19763885e-09, 2.53535966e-16],\n",
       "        [2.28220756e-06, 2.24519881e-05, 9.97316778e-01, ...,\n",
       "         1.49518615e-04, 4.87086709e-07, 1.38805498e-13],\n",
       "        [4.34640697e-07, 2.57379119e-03, 3.86692989e-08, ...,\n",
       "         1.10065708e-08, 9.93130863e-01, 3.90740382e-08],\n",
       "        ...,\n",
       "        [1.37076136e-12, 3.96369396e-11, 1.81455073e-20, ...,\n",
       "         1.63082729e-20, 1.29661898e-11, 5.83262216e-21],\n",
       "        [1.04628584e-09, 2.02045940e-05, 2.15618096e-11, ...,\n",
       "         1.01657335e-10, 9.89686430e-01, 7.48045270e-09],\n",
       "        [1.67321905e-05, 3.07874376e-04, 9.87183869e-01, ...,\n",
       "         7.11549248e-04, 1.97213558e-05, 4.04881684e-11]], dtype=float32)}"
      ]
     },
     "execution_count": 20,
     "metadata": {},
     "output_type": "execute_result"
    }
   ],
   "source": [
    "# getting predictionsm (probs for all labels (from 0 to 9))\n",
    "result[\"train_preds\"]"
   ]
  },
  {
   "cell_type": "code",
   "execution_count": 21,
   "id": "7cfc59ea",
   "metadata": {
    "execution": {
     "iopub.execute_input": "2024-06-04T11:07:52.180502Z",
     "iopub.status.busy": "2024-06-04T11:07:52.179619Z",
     "iopub.status.idle": "2024-06-04T11:07:52.190031Z",
     "shell.execute_reply": "2024-06-04T11:07:52.188829Z",
     "shell.execute_reply.started": "2024-06-04T11:07:52.180458Z"
    }
   },
   "outputs": [
    {
     "data": {
      "text/plain": [
       "{'y': array([[1.9071331e-05, 5.5390149e-03, 2.8504763e-07, ..., 2.3533222e-07,\n",
       "         3.0775595e-01, 4.6698706e-06],\n",
       "        [1.8434193e-08, 2.9395288e-04, 8.7993174e-10, ..., 3.0116459e-10,\n",
       "         9.9836153e-01, 4.0763761e-09],\n",
       "        [6.1273308e-06, 5.1038620e-05, 9.9257654e-01, ..., 1.8885201e-04,\n",
       "         3.8187900e-07, 5.0805284e-14],\n",
       "        ...,\n",
       "        [2.6789903e-12, 1.3569391e-09, 1.5660323e-10, ..., 1.6329977e-06,\n",
       "         1.0652494e-07, 4.3612977e-06],\n",
       "        [1.8761559e-08, 1.5271330e-03, 2.1465221e-09, ..., 1.5873597e-09,\n",
       "         9.9539715e-01, 7.7008888e-09],\n",
       "        [5.9854602e-07, 6.2096649e-07, 5.6886674e-12, ..., 3.3290549e-12,\n",
       "         1.1345562e-07, 2.2665092e-13]], dtype=float32)}"
      ]
     },
     "execution_count": 21,
     "metadata": {},
     "output_type": "execute_result"
    }
   ],
   "source": [
    "result[\"test_preds\"]"
   ]
  },
  {
   "cell_type": "markdown",
   "id": "28d99e0b",
   "metadata": {
    "execution": {
     "iopub.execute_input": "2024-05-22T10:18:35.520054Z",
     "iopub.status.busy": "2024-05-22T10:18:35.519259Z",
     "iopub.status.idle": "2024-05-22T10:18:35.525931Z",
     "shell.execute_reply": "2024-05-22T10:18:35.524465Z",
     "shell.execute_reply.started": "2024-05-22T10:18:35.520005Z"
    }
   },
   "source": [
    "### getting embedding "
   ]
  },
  {
   "cell_type": "code",
   "execution_count": 22,
   "id": "9c5f8f96",
   "metadata": {
    "execution": {
     "iopub.execute_input": "2024-06-04T11:07:58.694871Z",
     "iopub.status.busy": "2024-06-04T11:07:58.693881Z",
     "iopub.status.idle": "2024-06-04T11:07:58.818066Z",
     "shell.execute_reply": "2024-06-04T11:07:58.816871Z",
     "shell.execute_reply.started": "2024-06-04T11:07:58.694814Z"
    }
   },
   "outputs": [],
   "source": [
    "runner_emb = Runner(data, embedding_data=True)"
   ]
  },
  {
   "cell_type": "code",
   "execution_count": 23,
   "id": "dbe41552",
   "metadata": {
    "execution": {
     "iopub.execute_input": "2024-06-04T11:07:59.419779Z",
     "iopub.status.busy": "2024-06-04T11:07:59.419480Z",
     "iopub.status.idle": "2024-06-04T11:07:59.425038Z",
     "shell.execute_reply": "2024-06-04T11:07:59.424268Z",
     "shell.execute_reply.started": "2024-06-04T11:07:59.419762Z"
    }
   },
   "outputs": [
    {
     "data": {
      "text/plain": [
       "Data(x=[13752, 767], edge_index=[2, 491722], y=[13752], group_mask=[13752], label_mask=[13752])"
      ]
     },
     "execution_count": 23,
     "metadata": {},
     "output_type": "execute_result"
    }
   ],
   "source": [
    "data"
   ]
  },
  {
   "cell_type": "code",
   "execution_count": 24,
   "id": "599ba711",
   "metadata": {
    "execution": {
     "iopub.execute_input": "2024-06-04T11:08:01.711505Z",
     "iopub.status.busy": "2024-06-04T11:08:01.710775Z",
     "iopub.status.idle": "2024-06-04T11:08:38.069444Z",
     "shell.execute_reply": "2024-06-04T11:08:38.068204Z",
     "shell.execute_reply.started": "2024-06-04T11:08:01.711461Z"
    }
   },
   "outputs": [
    {
     "name": "stderr",
     "output_type": "stream",
     "text": [
      "Sample data: 100%|██████████| 42/42 [00:03<00:00, 11.44it/s]\n",
      "Sample data: 100%|██████████| 14/14 [00:01<00:00, 13.94it/s]\n",
      "2024-06-04 14:08:08.328 | INFO     | cool_graph.train.helpers:eval_epoch:209 - test:\n",
      " {'accuracy': 0.613, 'cross_entropy': 1.196, 'f1_weighted': 0.52, 'calc_time': 0.004, 'main_metric': 0.613}\n",
      "2024-06-04 14:08:09.003 | INFO     | cool_graph.train.helpers:eval_epoch:209 - train:\n",
      " {'accuracy': 0.599, 'cross_entropy': 1.212, 'f1_weighted': 0.504, 'calc_time': 0.011, 'main_metric': 0.599}\n",
      "2024-06-04 14:08:15.570 | INFO     | cool_graph.train.helpers:eval_epoch:209 - test:\n",
      " {'accuracy': 0.903, 'cross_entropy': 0.305, 'f1_weighted': 0.902, 'calc_time': 0.005, 'main_metric': 0.903}\n",
      "2024-06-04 14:08:16.510 | INFO     | cool_graph.train.helpers:eval_epoch:209 - train:\n",
      " {'accuracy': 0.918, 'cross_entropy': 0.249, 'f1_weighted': 0.917, 'calc_time': 0.016, 'main_metric': 0.918}\n",
      "2024-06-04 14:08:23.104 | INFO     | cool_graph.train.helpers:eval_epoch:209 - test:\n",
      " {'accuracy': 0.921, 'cross_entropy': 0.275, 'f1_weighted': 0.921, 'calc_time': 0.006, 'main_metric': 0.921}\n",
      "2024-06-04 14:08:24.024 | INFO     | cool_graph.train.helpers:eval_epoch:209 - train:\n",
      " {'accuracy': 0.952, 'cross_entropy': 0.151, 'f1_weighted': 0.952, 'calc_time': 0.015, 'main_metric': 0.952}\n",
      "2024-06-04 14:08:30.452 | INFO     | cool_graph.train.helpers:eval_epoch:209 - test:\n",
      " {'accuracy': 0.92, 'cross_entropy': 0.288, 'f1_weighted': 0.919, 'calc_time': 0.006, 'main_metric': 0.92}\n",
      "2024-06-04 14:08:31.217 | INFO     | cool_graph.train.helpers:eval_epoch:209 - train:\n",
      " {'accuracy': 0.964, 'cross_entropy': 0.117, 'f1_weighted': 0.964, 'calc_time': 0.013, 'main_metric': 0.964}\n",
      "2024-06-04 14:08:37.228 | INFO     | cool_graph.train.helpers:eval_epoch:209 - test:\n",
      " {'accuracy': 0.92, 'cross_entropy': 0.312, 'f1_weighted': 0.919, 'calc_time': 0.005, 'main_metric': 0.92}\n",
      "2024-06-04 14:08:38.039 | INFO     | cool_graph.train.helpers:eval_epoch:209 - train:\n",
      " {'accuracy': 0.971, 'cross_entropy': 0.092, 'f1_weighted': 0.97, 'calc_time': 0.013, 'main_metric': 0.971}\n"
     ]
    },
    {
     "name": "stdout",
     "output_type": "stream",
     "text": [
      "CPU times: user 31min 5s, sys: 1min 27s, total: 32min 32s\n",
      "Wall time: 36.3 s\n"
     ]
    }
   ],
   "source": [
    "%%time\n",
    "# running without sample data (automatically in runner)\n",
    "result = runner_emb.run()"
   ]
  },
  {
   "cell_type": "code",
   "execution_count": 29,
   "id": "1a586ec4",
   "metadata": {
    "execution": {
     "iopub.execute_input": "2024-06-04T11:10:07.908117Z",
     "iopub.status.busy": "2024-06-04T11:10:07.907281Z",
     "iopub.status.idle": "2024-06-04T11:10:07.917833Z",
     "shell.execute_reply": "2024-06-04T11:10:07.916917Z",
     "shell.execute_reply.started": "2024-06-04T11:10:07.908068Z"
    }
   },
   "outputs": [
    {
     "data": {
      "text/plain": [
       "array([[-2.9838342e-02, -8.2892962e-03, -1.1445961e-02, ...,\n",
       "        -2.6091158e-01, -9.7843327e-02, -3.3539826e-01],\n",
       "       [ 3.5486307e+00, -1.3963007e-02,  5.2889719e+00, ...,\n",
       "         6.0339184e+00, -7.9321809e-02, -4.5517709e-02],\n",
       "       [-2.6562642e-02, -1.8376589e-02, -5.5455822e-03, ...,\n",
       "        -2.9938933e-01,  9.1956482e+00, -2.2355743e-01],\n",
       "       ...,\n",
       "       [-3.8466842e-03,  2.2067773e-01, -3.0117228e-03, ...,\n",
       "        -1.6229012e-03, -5.7519055e-03, -1.1865041e-02],\n",
       "       [ 8.4885913e-01,  4.4799657e+00,  4.2979140e+00, ...,\n",
       "        -1.7672050e-01, -6.7367278e-02, -1.3604055e-01],\n",
       "       [-2.8954877e-02, -1.5898040e-02, -1.0180769e-02, ...,\n",
       "        -3.0768555e-01, -1.3888237e-01, -4.3958679e-01]], dtype=float32)"
      ]
     },
     "execution_count": 29,
     "metadata": {},
     "output_type": "execute_result"
    }
   ],
   "source": [
    "# embeddings for train split\n",
    "\n",
    "result[\"train_preds\"][\"emb\"]"
   ]
  },
  {
   "cell_type": "code",
   "execution_count": 30,
   "id": "95dd735a",
   "metadata": {
    "execution": {
     "iopub.execute_input": "2024-06-04T11:10:16.922282Z",
     "iopub.status.busy": "2024-06-04T11:10:16.921474Z",
     "iopub.status.idle": "2024-06-04T11:10:16.932181Z",
     "shell.execute_reply": "2024-06-04T11:10:16.930991Z",
     "shell.execute_reply.started": "2024-06-04T11:10:16.922234Z"
    }
   },
   "outputs": [
    {
     "data": {
      "text/plain": [
       "array([[ 3.8058176e+00, -3.5299242e-02,  6.4857578e+00, ...,\n",
       "         9.5812654e+00, -1.3134895e-01, -8.3783865e-02],\n",
       "       [ 2.5830977e+00,  5.0719538e+00,  7.0205364e+00, ...,\n",
       "        -1.4936209e-01, -5.3882025e-02, -8.6760461e-02],\n",
       "       [ 1.3296409e+00,  5.7701249e+00,  5.6685710e+00, ...,\n",
       "        -7.8421131e-02, -5.7891291e-02, -7.3489815e-02],\n",
       "       ...,\n",
       "       [-4.4046521e-02, -1.1343454e-02, -1.7138092e-02, ...,\n",
       "        -2.7405626e-01, -1.0182064e-01, -3.7270886e-01],\n",
       "       [-7.5560897e-03, -1.3696783e-02,  4.8613542e-01, ...,\n",
       "        -2.9631352e-02,  1.5251670e+00, -2.0398382e-02],\n",
       "       [ 6.1667042e+00, -3.7080124e-02,  6.3836689e+00, ...,\n",
       "        -1.4345302e-01, -3.9000323e-01, -2.3159283e-01]], dtype=float32)"
      ]
     },
     "execution_count": 30,
     "metadata": {},
     "output_type": "execute_result"
    }
   ],
   "source": [
    "# embeddings for test split\n",
    "\n",
    "result[\"test_preds\"][\"emb\"]"
   ]
  },
  {
   "cell_type": "markdown",
   "id": "feba45a4",
   "metadata": {},
   "source": [
    "# 2. Integration with MLFLOW <a name=\"p2\"></a>"
   ]
  },
  {
   "cell_type": "code",
   "execution_count": 20,
   "id": "cfe17cbd",
   "metadata": {
    "execution": {
     "iopub.execute_input": "2023-11-20T07:52:31.018833Z",
     "iopub.status.busy": "2023-11-20T07:52:31.017820Z",
     "iopub.status.idle": "2023-11-20T07:52:31.025728Z",
     "shell.execute_reply": "2023-11-20T07:52:31.024111Z",
     "shell.execute_reply.started": "2023-11-20T07:52:31.018760Z"
    }
   },
   "outputs": [],
   "source": [
    "# using MLflow"
   ]
  },
  {
   "cell_type": "code",
   "execution_count": 21,
   "id": "0ffc3e05",
   "metadata": {
    "execution": {
     "iopub.execute_input": "2023-11-20T07:52:33.065263Z",
     "iopub.status.busy": "2023-11-20T07:52:33.063689Z",
     "iopub.status.idle": "2023-11-20T07:52:33.127047Z",
     "shell.execute_reply": "2023-11-20T07:52:33.125832Z",
     "shell.execute_reply.started": "2023-11-20T07:52:33.065195Z"
    }
   },
   "outputs": [],
   "source": [
    "dataset = datasets.Amazon(root = './data/Amazon',name='Computers')\n",
    "data = dataset.data"
   ]
  },
  {
   "cell_type": "code",
   "execution_count": 22,
   "id": "70f3b2b2",
   "metadata": {
    "execution": {
     "iopub.execute_input": "2023-11-20T07:52:33.417884Z",
     "iopub.status.busy": "2023-11-20T07:52:33.416918Z",
     "iopub.status.idle": "2023-11-20T07:52:33.423796Z",
     "shell.execute_reply": "2023-11-20T07:52:33.422770Z",
     "shell.execute_reply.started": "2023-11-20T07:52:33.417846Z"
    }
   },
   "outputs": [
    {
     "name": "stdout",
     "output_type": "stream",
     "text": [
      "# nodes    13752 \n",
      "# features 767 \n",
      "# edges    491722 \n",
      "# classes  10\n"
     ]
    }
   ],
   "source": [
    "dataset_info(data)"
   ]
  },
  {
   "cell_type": "code",
   "execution_count": 29,
   "id": "f7e8078c",
   "metadata": {
    "execution": {
     "iopub.execute_input": "2023-11-20T07:55:50.710016Z",
     "iopub.status.busy": "2023-11-20T07:55:50.709049Z",
     "iopub.status.idle": "2023-11-20T07:55:50.716515Z",
     "shell.execute_reply": "2023-11-20T07:55:50.714938Z",
     "shell.execute_reply.started": "2023-11-20T07:55:50.709953Z"
    }
   },
   "outputs": [],
   "source": [
    "# fill the data of MLFlow in config logging/in_memory_data or if you use cli mode - logging/default"
   ]
  },
  {
   "cell_type": "markdown",
   "id": "6b24e88a",
   "metadata": {},
   "source": [
    "# 3. Multitarget <a name=\"p3\"></a>"
   ]
  },
  {
   "cell_type": "code",
   "execution_count": 33,
   "id": "cc813d42",
   "metadata": {
    "execution": {
     "iopub.execute_input": "2023-11-20T07:58:51.131278Z",
     "iopub.status.busy": "2023-11-20T07:58:51.130281Z",
     "iopub.status.idle": "2023-11-20T07:58:51.137793Z",
     "shell.execute_reply": "2023-11-20T07:58:51.136244Z",
     "shell.execute_reply.started": "2023-11-20T07:58:51.131212Z"
    }
   },
   "outputs": [],
   "source": [
    "from torch_geometric import datasets\n",
    "from cool_graph.runners import Runner\n",
    "\n",
    "dataset = datasets.Yelp(root='../data/Yelp')\n",
    "data = dataset.data\n",
    "data.y = data.y.long()"
   ]
  },
  {
   "cell_type": "code",
   "execution_count": 33,
   "id": "7d12e6b7",
   "metadata": {
    "execution": {
     "iopub.execute_input": "2024-06-04T11:11:06.371600Z",
     "iopub.status.busy": "2024-06-04T11:11:06.370674Z",
     "iopub.status.idle": "2024-06-04T11:11:06.379647Z",
     "shell.execute_reply": "2024-06-04T11:11:06.378271Z",
     "shell.execute_reply.started": "2024-06-04T11:11:06.371544Z"
    }
   },
   "outputs": [
    {
     "name": "stdout",
     "output_type": "stream",
     "text": [
      "# nodes    716847 \n",
      "# features 300 \n",
      "# edges    13954819 \n",
      "# tasks    100\n"
     ]
    }
   ],
   "source": [
    "dataset_info(data)"
   ]
  },
  {
   "cell_type": "code",
   "execution_count": 23,
   "id": "660e6d4d",
   "metadata": {},
   "outputs": [],
   "source": [
    "# you can override default params "
   ]
  },
  {
   "cell_type": "code",
   "execution_count": 37,
   "id": "07ce7f36",
   "metadata": {
    "execution": {
     "iopub.execute_input": "2024-06-04T11:11:46.239978Z",
     "iopub.status.busy": "2024-06-04T11:11:46.239098Z",
     "iopub.status.idle": "2024-06-04T11:11:46.246609Z",
     "shell.execute_reply": "2024-06-04T11:11:46.245377Z",
     "shell.execute_reply.started": "2024-06-04T11:11:46.239922Z"
    }
   },
   "outputs": [],
   "source": [
    "config_path = \"../cool_graph/config/in_memory_data.yaml\""
   ]
  },
  {
   "cell_type": "code",
   "execution_count": 38,
   "id": "059fb780",
   "metadata": {
    "execution": {
     "iopub.execute_input": "2024-06-04T11:11:46.786385Z",
     "iopub.status.busy": "2024-06-04T11:11:46.785286Z",
     "iopub.status.idle": "2024-06-04T11:11:50.911541Z",
     "shell.execute_reply": "2024-06-04T11:11:50.910561Z",
     "shell.execute_reply.started": "2024-06-04T11:11:46.786336Z"
    }
   },
   "outputs": [],
   "source": [
    "runner = Runner(data, metrics=['roc_auc','accuracy', 'f1'], batch_size='auto', train_size=0.1, test_size=0.02,\n",
    "                overrides=['training.n_epochs=1'], config_path=config_path)"
   ]
  },
  {
   "cell_type": "code",
   "execution_count": 39,
   "id": "a33772d0",
   "metadata": {
    "execution": {
     "iopub.execute_input": "2024-06-04T11:11:52.545682Z",
     "iopub.status.busy": "2024-06-04T11:11:52.545147Z",
     "iopub.status.idle": "2024-06-04T11:13:21.713057Z",
     "shell.execute_reply": "2024-06-04T11:13:21.712286Z",
     "shell.execute_reply.started": "2024-06-04T11:11:52.545651Z"
    }
   },
   "outputs": [
    {
     "name": "stderr",
     "output_type": "stream",
     "text": [
      "Sample data: 100%|██████████| 47/47 [00:28<00:00,  1.68it/s]\n",
      "Sample data: 100%|██████████| 10/10 [00:05<00:00,  1.86it/s]\n",
      "2024-06-04 14:12:57.596 | INFO     | cool_graph.train.helpers:eval_epoch:209 - test:\n",
      " {'roc_auc': 0.711, 'accuracy': 0.911, 'f1': 0.009, 'calc_time': 0.083, 'main_metric': 0.711}\n",
      "2024-06-04 14:13:21.609 | INFO     | cool_graph.train.helpers:eval_epoch:209 - train:\n",
      " {'roc_auc': 0.711, 'accuracy': 0.911, 'f1': 0.008, 'calc_time': 0.4, 'main_metric': 0.711}\n"
     ]
    },
    {
     "name": "stdout",
     "output_type": "stream",
     "text": [
      "CPU times: user 50min 57s, sys: 4min 25s, total: 55min 22s\n",
      "Wall time: 1min 29s\n"
     ]
    }
   ],
   "source": [
    "%%time\n",
    "results = runner.run()"
   ]
  },
  {
   "cell_type": "code",
   "execution_count": 40,
   "id": "df1f4320",
   "metadata": {
    "execution": {
     "iopub.execute_input": "2024-06-04T11:14:38.617101Z",
     "iopub.status.busy": "2024-06-04T11:14:38.616178Z",
     "iopub.status.idle": "2024-06-04T11:14:38.627153Z",
     "shell.execute_reply": "2024-06-04T11:14:38.626271Z",
     "shell.execute_reply.started": "2024-06-04T11:14:38.617034Z"
    }
   },
   "outputs": [
    {
     "data": {
      "text/plain": [
       "0.711"
      ]
     },
     "execution_count": 40,
     "metadata": {},
     "output_type": "execute_result"
    }
   ],
   "source": [
    "results[\"best_loss\"][\"roc_auc\"]"
   ]
  },
  {
   "cell_type": "markdown",
   "id": "c14267a4",
   "metadata": {},
   "source": [
    "# 4. Command line mode <a name=\"p4\"></a>"
   ]
  },
  {
   "cell_type": "markdown",
   "id": "31b65793",
   "metadata": {},
   "source": [
    "- feats on edges - training attention nn\n",
    "- 2+ groups in nodes with different feats on it\n",
    "- multitarget\n",
    "- categorical feats "
   ]
  },
  {
   "cell_type": "code",
   "execution_count": 36,
   "id": "faf07e53",
   "metadata": {
    "execution": {
     "iopub.execute_input": "2023-11-20T08:02:41.135558Z",
     "iopub.status.busy": "2023-11-20T08:02:41.134593Z",
     "iopub.status.idle": "2023-11-20T08:02:41.607359Z",
     "shell.execute_reply": "2023-11-20T08:02:41.605835Z",
     "shell.execute_reply.started": "2023-11-20T08:02:41.135488Z"
    }
   },
   "outputs": [
    {
     "name": "stdout",
     "output_type": "stream",
     "text": [
      "# this config is using  for data where nodes have groups\n",
      "# path to train/validation data in parquet\n",
      "train:\n",
      "  nodes_path: ../../tests/sample_data/nodes.parquet\n",
      "  edges_path: ../../tests/sample_data/edges.parquet\n",
      "  labels_path: ../../tests/sample_data/labels.parquet\n",
      "validation:\n",
      "  nodes_path: ../../tests/sample_data/nodes.parquet\n",
      "  edges_path: ../../tests/sample_data/edges.parquet\n",
      "  labels_path: ../../tests/sample_data/labels.parquet\n",
      "read_edge_attr: True # set True if you read data from disk and it has feats on edges\n",
      "group_mask_col: node_feature_1 # column for mask in groups\n",
      "label_mask_col: label_2 # column for mask in labels\n",
      "label_index_col: index # index column in labels data\n",
      "# columns with indices (edges between nodes)\n",
      "edge_index_cols: \n",
      "  - index2\n",
      "  - index1\n",
      "# names in node groups \n",
      "groups_names: \n",
      "  1: group_2\n",
      "  0: group_1\n",
      "# target columns \n",
      "label_cols: \n",
      "  - index\n"
     ]
    }
   ],
   "source": [
    "!head -n 25 ../cool_graph/config/data/default.yaml"
   ]
  },
  {
   "cell_type": "code",
   "execution_count": 41,
   "id": "723c2bcf",
   "metadata": {
    "execution": {
     "iopub.execute_input": "2023-11-20T08:03:31.351206Z",
     "iopub.status.busy": "2023-11-20T08:03:31.350506Z",
     "iopub.status.idle": "2023-11-20T08:03:31.356648Z",
     "shell.execute_reply": "2023-11-20T08:03:31.355366Z",
     "shell.execute_reply.started": "2023-11-20T08:03:31.351157Z"
    }
   },
   "outputs": [],
   "source": [
    "coolrun --config /cool_graph/config/data/full.yaml "
   ]
  },
  {
   "cell_type": "markdown",
   "id": "ad212725",
   "metadata": {},
   "source": [
    "# 5. Optuna <a name=\"p5\"></a>"
   ]
  },
  {
   "cell_type": "markdown",
   "id": "d8b6f0e3",
   "metadata": {},
   "source": [
    " - **Searching the best params for the models**\n",
    " \n",
    " - HyperRunner:\n",
    " * 1st trial - deafault params from config \n",
    " * 2nd trial - you can add own trial as argument enqueue_trial in optimazire_run method, and next trial optuna optimize model params randomly, if None -> randomly after 1st default trial\n",
    " \n",
    " returns a DataFrame with trials and metrics "
   ]
  },
  {
   "cell_type": "code",
   "execution_count": 42,
   "id": "8ef37352",
   "metadata": {
    "execution": {
     "iopub.execute_input": "2023-11-20T08:04:32.022321Z",
     "iopub.status.busy": "2023-11-20T08:04:32.021444Z",
     "iopub.status.idle": "2023-11-20T08:04:32.029007Z",
     "shell.execute_reply": "2023-11-20T08:04:32.027488Z",
     "shell.execute_reply.started": "2023-11-20T08:04:32.022256Z"
    }
   },
   "outputs": [],
   "source": [
    "from cool_graph.runners import HypeRunner\n",
    "from torch_geometric import datasets"
   ]
  },
  {
   "cell_type": "code",
   "execution_count": 43,
   "id": "8910c79a",
   "metadata": {
    "execution": {
     "iopub.execute_input": "2023-11-20T08:04:33.179917Z",
     "iopub.status.busy": "2023-11-20T08:04:33.178801Z",
     "iopub.status.idle": "2023-11-20T08:04:33.229228Z",
     "shell.execute_reply": "2023-11-20T08:04:33.228305Z",
     "shell.execute_reply.started": "2023-11-20T08:04:33.179863Z"
    }
   },
   "outputs": [],
   "source": [
    "data = datasets.Amazon(root='./data/Amazon/', name='Computers').data"
   ]
  },
  {
   "cell_type": "code",
   "execution_count": 44,
   "id": "a8c1974b",
   "metadata": {
    "execution": {
     "iopub.execute_input": "2023-11-20T08:04:35.472333Z",
     "iopub.status.busy": "2023-11-20T08:04:35.471431Z",
     "iopub.status.idle": "2023-11-20T08:04:35.669420Z",
     "shell.execute_reply": "2023-11-20T08:04:35.668317Z",
     "shell.execute_reply.started": "2023-11-20T08:04:35.472280Z"
    }
   },
   "outputs": [],
   "source": [
    "runner = HypeRunner(data)"
   ]
  },
  {
   "cell_type": "code",
   "execution_count": 45,
   "id": "1178be18",
   "metadata": {
    "execution": {
     "iopub.execute_input": "2023-11-20T08:04:39.320133Z",
     "iopub.status.busy": "2023-11-20T08:04:39.319365Z",
     "iopub.status.idle": "2023-11-20T08:04:39.332447Z",
     "shell.execute_reply": "2023-11-20T08:04:39.331142Z",
     "shell.execute_reply.started": "2023-11-20T08:04:39.320081Z"
    }
   },
   "outputs": [],
   "source": [
    "# own dict with model params for trial\n",
    "my_params1 = {'conv_type': 'GraphConv',\n",
    " 'activation': 'relu',\n",
    " 'lin_prep_dropout_rate': 0.4,\n",
    " 'lin_prep_len': 1,\n",
    " 'lin_prep_size_common': 512,\n",
    " 'lin_prep_sizes': [256],\n",
    " 'lin_prep_weight_norm_flag': True,\n",
    " 'graph_conv_weight_norm_flag': True,\n",
    " 'n_hops': 2,\n",
    " 'conv1_aggrs': {'mean': 64, 'max': 32, 'add': 16},\n",
    " 'conv1_dropout_rate': 0.2,\n",
    " 'conv2_aggrs': {'mean': 32, 'max': 16, 'add': 8},\n",
    " 'conv2_dropout_rate': 0.2}\n",
    "\n",
    "my_params2 = {'conv_type': 'GraphConv',\n",
    " 'activation': 'prelu',\n",
    " 'lin_prep_dropout_rate': 0.5,\n",
    " 'lin_prep_len': 1,\n",
    " 'lin_prep_size_common': 512,\n",
    " 'lin_prep_sizes': [256],\n",
    " 'lin_prep_weight_norm_flag': False,\n",
    " 'graph_conv_weight_norm_flag': True,\n",
    " 'n_hops': 2,\n",
    " 'conv1_aggrs': {'mean': 64, 'max': 32, 'add': 16},\n",
    " 'conv1_dropout_rate': 0.2,\n",
    " 'conv2_aggrs': {'mean': 32, 'max': 16, 'add': 8},\n",
    " 'conv2_dropout_rate': 0.2}"
   ]
  },
  {
   "cell_type": "code",
   "execution_count": 46,
   "id": "84678f52",
   "metadata": {
    "collapsed": true,
    "execution": {
     "iopub.execute_input": "2023-11-20T08:04:44.928625Z",
     "iopub.status.busy": "2023-11-20T08:04:44.927853Z",
     "iopub.status.idle": "2023-11-20T08:07:31.496402Z",
     "shell.execute_reply": "2023-11-20T08:07:31.494288Z",
     "shell.execute_reply.started": "2023-11-20T08:04:44.928572Z"
    },
    "jupyter": {
     "outputs_hidden": true
    }
   },
   "outputs": [
    {
     "name": "stderr",
     "output_type": "stream",
     "text": [
      "Sample data: 100%|██████████| 42/42 [00:04<00:00,  9.93it/s]\n",
      "Sample data: 100%|██████████| 14/14 [00:01<00:00, 10.15it/s]\n",
      "\u001b[32m[I 2023-11-20 11:04:50,648]\u001b[0m A new study created in memory with name: no-name-b21ba7cf-0d18-49fb-9b2d-0860c880a72d\u001b[0m\n",
      "/data/home/dapavlikov/coolgraph/cool_graph/runners.py:659: ExperimentalWarning: enqueue_trial is experimental (supported from v1.2.0). The interface can change in the future.\n",
      "  self.study.enqueue_trial(trial_params)\n",
      "/home/dapavlikov/.conda/envs/cool_graph_env2_py38/lib/python3.8/site-packages/optuna/study/study.py:857: ExperimentalWarning: create_trial is experimental (supported from v2.0.0). The interface can change in the future.\n",
      "  create_trial(state=TrialState.WAITING, system_attrs={\"fixed_params\": params})\n",
      "/home/dapavlikov/.conda/envs/cool_graph_env2_py38/lib/python3.8/site-packages/optuna/study/study.py:856: ExperimentalWarning: add_trial is experimental (supported from v2.0.0). The interface can change in the future.\n",
      "  self.add_trial(\n",
      "/data/home/dapavlikov/coolgraph/cool_graph/runners.py:666: ExperimentalWarning: enqueue_trial is experimental (supported from v1.2.0). The interface can change in the future.\n",
      "  self.study.enqueue_trial(user_params)\n",
      "/home/dapavlikov/.conda/envs/cool_graph_env2_py38/lib/python3.8/site-packages/optuna/distributions.py:359: FutureWarning: Samplers and other components in Optuna will assume that `step` is 1. `step` argument is deprecated and will be removed in the future. The removal of this feature is currently scheduled for v4.0.0, but this schedule is subject to change.\n",
      "  warnings.warn(\n",
      "2023-11-20 11:04:52.607 | INFO     | cool_graph.train.trainer:train:230 - \n",
      "Epoch 000: \n",
      "2023-11-20 11:04:52.819 | INFO     | cool_graph.train.helpers:eval_epoch:179 - test:\n",
      " {'accuracy': 0.459, 'cross_entropy': 1.47, 'f1_weighted': 0.335, 'calc_time': 0.004, 'main_metric': 0.459}\n",
      "2023-11-20 11:04:52.820 | INFO     | cool_graph.train.trainer:train:257 - Epoch 000: \n",
      "2023-11-20 11:04:53.484 | INFO     | cool_graph.train.helpers:eval_epoch:179 - train:\n",
      " {'accuracy': 0.479, 'cross_entropy': 1.415, 'f1_weighted': 0.359, 'calc_time': 0.011, 'main_metric': 0.479}\n",
      "2023-11-20 11:05:00.334 | INFO     | cool_graph.train.trainer:train:230 - \n",
      "Epoch 005: \n",
      "2023-11-20 11:05:00.609 | INFO     | cool_graph.train.helpers:eval_epoch:179 - test:\n",
      " {'accuracy': 0.899, 'cross_entropy': 0.342, 'f1_weighted': 0.899, 'calc_time': 0.005, 'main_metric': 0.899}\n",
      "2023-11-20 11:05:00.610 | INFO     | cool_graph.train.trainer:train:257 - Epoch 005: \n",
      "2023-11-20 11:05:01.280 | INFO     | cool_graph.train.helpers:eval_epoch:179 - train:\n",
      " {'accuracy': 0.917, 'cross_entropy': 0.275, 'f1_weighted': 0.917, 'calc_time': 0.011, 'main_metric': 0.917}\n",
      "2023-11-20 11:05:08.208 | INFO     | cool_graph.train.trainer:train:230 - \n",
      "Epoch 010: \n",
      "2023-11-20 11:05:08.532 | INFO     | cool_graph.train.helpers:eval_epoch:179 - test:\n",
      " {'accuracy': 0.911, 'cross_entropy': 0.294, 'f1_weighted': 0.911, 'calc_time': 0.005, 'main_metric': 0.911}\n",
      "2023-11-20 11:05:08.533 | INFO     | cool_graph.train.trainer:train:257 - Epoch 010: \n",
      "2023-11-20 11:05:09.225 | INFO     | cool_graph.train.helpers:eval_epoch:179 - train:\n",
      " {'accuracy': 0.951, 'cross_entropy': 0.158, 'f1_weighted': 0.951, 'calc_time': 0.012, 'main_metric': 0.951}\n",
      "2023-11-20 11:05:15.504 | INFO     | cool_graph.train.trainer:train:230 - \n",
      "Epoch 015: \n",
      "2023-11-20 11:05:15.758 | INFO     | cool_graph.train.helpers:eval_epoch:179 - test:\n",
      " {'accuracy': 0.91, 'cross_entropy': 0.323, 'f1_weighted': 0.91, 'calc_time': 0.004, 'main_metric': 0.91}\n",
      "2023-11-20 11:05:15.760 | INFO     | cool_graph.train.trainer:train:257 - Epoch 015: \n",
      "2023-11-20 11:05:16.447 | INFO     | cool_graph.train.helpers:eval_epoch:179 - train:\n",
      " {'accuracy': 0.962, 'cross_entropy': 0.13, 'f1_weighted': 0.962, 'calc_time': 0.011, 'main_metric': 0.962}\n",
      "2023-11-20 11:05:22.847 | INFO     | cool_graph.train.trainer:train:230 - \n",
      "Epoch 020: \n",
      "2023-11-20 11:05:23.089 | INFO     | cool_graph.train.helpers:eval_epoch:179 - test:\n",
      " {'accuracy': 0.916, 'cross_entropy': 0.326, 'f1_weighted': 0.916, 'calc_time': 0.004, 'main_metric': 0.916}\n",
      "2023-11-20 11:05:23.090 | INFO     | cool_graph.train.trainer:train:257 - Epoch 020: \n",
      "2023-11-20 11:05:23.757 | INFO     | cool_graph.train.helpers:eval_epoch:179 - train:\n",
      " {'accuracy': 0.973, 'cross_entropy': 0.096, 'f1_weighted': 0.973, 'calc_time': 0.011, 'main_metric': 0.973}\n",
      "\u001b[32m[I 2023-11-20 11:05:23,929]\u001b[0m Trial 0 finished with value: 0.916 and parameters: {'activation': 'leakyrelu', 'lin_prep_len': 1, 'lin_prep_dropout_rate': 0.4, 'lin_prep_weight_norm_flag': True, 'lin_prep_size_common': 512, 'lin_prep_size0_fraction': 0.5, 'conv1_aggrs_mean_fraction': 0.5, 'conv1_aggrs_max_fraction': 0.25, 'conv1_aggrs_add_fraction': 0.125, 'conv1_dropout_rate': 0.2, 'conv2_aggrs_mean_fraction': 0.2857142857142857, 'conv2_aggrs_max_fraction': 0.14285714285714285, 'conv2_aggrs_add_fraction': 0.07142857142857142, 'conv2_dropout_rate': 0.2, 'graph_conv_weight_norm_flag': True}. Best is trial 0 with value: 0.916.\u001b[0m\n",
      "/home/dapavlikov/.conda/envs/cool_graph_env2_py38/lib/python3.8/site-packages/optuna/distributions.py:359: FutureWarning: Samplers and other components in Optuna will assume that `step` is 1. `step` argument is deprecated and will be removed in the future. The removal of this feature is currently scheduled for v4.0.0, but this schedule is subject to change.\n",
      "  warnings.warn(\n",
      "2023-11-20 11:05:25.833 | INFO     | cool_graph.train.trainer:train:230 - \n",
      "Epoch 000: \n",
      "2023-11-20 11:05:26.055 | INFO     | cool_graph.train.helpers:eval_epoch:179 - test:\n",
      " {'accuracy': 0.43, 'cross_entropy': 1.478, 'f1_weighted': 0.341, 'calc_time': 0.004, 'main_metric': 0.43}\n",
      "2023-11-20 11:05:26.057 | INFO     | cool_graph.train.trainer:train:257 - Epoch 000: \n",
      "2023-11-20 11:05:26.711 | INFO     | cool_graph.train.helpers:eval_epoch:179 - train:\n",
      " {'accuracy': 0.448, 'cross_entropy': 1.428, 'f1_weighted': 0.365, 'calc_time': 0.011, 'main_metric': 0.448}\n",
      "2023-11-20 11:05:33.136 | INFO     | cool_graph.train.trainer:train:230 - \n",
      "Epoch 005: \n",
      "2023-11-20 11:05:33.384 | INFO     | cool_graph.train.helpers:eval_epoch:179 - test:\n",
      " {'accuracy': 0.88, 'cross_entropy': 0.406, 'f1_weighted': 0.88, 'calc_time': 0.004, 'main_metric': 0.88}\n",
      "2023-11-20 11:05:33.385 | INFO     | cool_graph.train.trainer:train:257 - Epoch 005: \n",
      "2023-11-20 11:05:33.994 | INFO     | cool_graph.train.helpers:eval_epoch:179 - train:\n",
      " {'accuracy': 0.901, 'cross_entropy': 0.327, 'f1_weighted': 0.901, 'calc_time': 0.01, 'main_metric': 0.901}\n",
      "2023-11-20 11:05:40.265 | INFO     | cool_graph.train.trainer:train:230 - \n",
      "Epoch 010: \n",
      "2023-11-20 11:05:40.676 | INFO     | cool_graph.train.helpers:eval_epoch:179 - test:\n",
      " {'accuracy': 0.91, 'cross_entropy': 0.305, 'f1_weighted': 0.91, 'calc_time': 0.007, 'main_metric': 0.91}\n",
      "2023-11-20 11:05:40.677 | INFO     | cool_graph.train.trainer:train:257 - Epoch 010: \n",
      "2023-11-20 11:05:41.436 | INFO     | cool_graph.train.helpers:eval_epoch:179 - train:\n",
      " {'accuracy': 0.949, 'cross_entropy': 0.164, 'f1_weighted': 0.949, 'calc_time': 0.013, 'main_metric': 0.949}\n",
      "2023-11-20 11:05:47.395 | INFO     | cool_graph.train.trainer:train:230 - \n",
      "Epoch 015: \n",
      "2023-11-20 11:05:47.637 | INFO     | cool_graph.train.helpers:eval_epoch:179 - test:\n",
      " {'accuracy': 0.913, 'cross_entropy': 0.313, 'f1_weighted': 0.913, 'calc_time': 0.004, 'main_metric': 0.913}\n",
      "2023-11-20 11:05:47.638 | INFO     | cool_graph.train.trainer:train:257 - Epoch 015: \n",
      "2023-11-20 11:05:48.317 | INFO     | cool_graph.train.helpers:eval_epoch:179 - train:\n",
      " {'accuracy': 0.961, 'cross_entropy': 0.13, 'f1_weighted': 0.961, 'calc_time': 0.011, 'main_metric': 0.961}\n",
      "2023-11-20 11:05:54.981 | INFO     | cool_graph.train.trainer:train:230 - \n",
      "Epoch 020: \n",
      "2023-11-20 11:05:55.199 | INFO     | cool_graph.train.helpers:eval_epoch:179 - test:\n",
      " {'accuracy': 0.913, 'cross_entropy': 0.335, 'f1_weighted': 0.913, 'calc_time': 0.004, 'main_metric': 0.913}\n",
      "2023-11-20 11:05:55.200 | INFO     | cool_graph.train.trainer:train:257 - Epoch 020: \n",
      "2023-11-20 11:05:55.839 | INFO     | cool_graph.train.helpers:eval_epoch:179 - train:\n",
      " {'accuracy': 0.968, 'cross_entropy': 0.107, 'f1_weighted': 0.968, 'calc_time': 0.011, 'main_metric': 0.968}\n",
      "\u001b[32m[I 2023-11-20 11:05:55,883]\u001b[0m Trial 1 finished with value: 0.913 and parameters: {'activation': 'relu', 'lin_prep_len': 1, 'lin_prep_dropout_rate': 0.4, 'lin_prep_weight_norm_flag': True, 'lin_prep_size_common': 512, 'lin_prep_size0_fraction': 0.5, 'conv1_aggrs_mean_fraction': 0.25, 'conv1_aggrs_max_fraction': 0.125, 'conv1_aggrs_add_fraction': 0.0625, 'conv1_dropout_rate': 0.2, 'conv2_aggrs_mean_fraction': 0.2857142857142857, 'conv2_aggrs_max_fraction': 0.14285714285714285, 'conv2_aggrs_add_fraction': 0.07142857142857142, 'conv2_dropout_rate': 0.2, 'graph_conv_weight_norm_flag': True}. Best is trial 0 with value: 0.916.\u001b[0m\n",
      "/home/dapavlikov/.conda/envs/cool_graph_env2_py38/lib/python3.8/site-packages/optuna/distributions.py:359: FutureWarning: Samplers and other components in Optuna will assume that `step` is 1. `step` argument is deprecated and will be removed in the future. The removal of this feature is currently scheduled for v4.0.0, but this schedule is subject to change.\n",
      "  warnings.warn(\n",
      "2023-11-20 11:05:57.898 | INFO     | cool_graph.train.trainer:train:230 - \n",
      "Epoch 000: \n",
      "2023-11-20 11:05:58.161 | INFO     | cool_graph.train.helpers:eval_epoch:179 - test:\n",
      " {'accuracy': 0.527, 'cross_entropy': 1.308, 'f1_weighted': 0.419, 'calc_time': 0.004, 'main_metric': 0.527}\n",
      "2023-11-20 11:05:58.162 | INFO     | cool_graph.train.trainer:train:257 - Epoch 000: \n",
      "2023-11-20 11:05:58.931 | INFO     | cool_graph.train.helpers:eval_epoch:179 - train:\n",
      " {'accuracy': 0.545, 'cross_entropy': 1.256, 'f1_weighted': 0.439, 'calc_time': 0.013, 'main_metric': 0.545}\n",
      "2023-11-20 11:06:05.945 | INFO     | cool_graph.train.trainer:train:230 - \n",
      "Epoch 005: \n",
      "2023-11-20 11:06:06.201 | INFO     | cool_graph.train.helpers:eval_epoch:179 - test:\n",
      " {'accuracy': 0.903, 'cross_entropy': 0.317, 'f1_weighted': 0.9, 'calc_time': 0.004, 'main_metric': 0.903}\n",
      "2023-11-20 11:06:06.202 | INFO     | cool_graph.train.trainer:train:257 - Epoch 005: \n",
      "2023-11-20 11:06:06.945 | INFO     | cool_graph.train.helpers:eval_epoch:179 - train:\n",
      " {'accuracy': 0.925, 'cross_entropy': 0.228, 'f1_weighted': 0.922, 'calc_time': 0.012, 'main_metric': 0.925}\n",
      "2023-11-20 11:06:13.997 | INFO     | cool_graph.train.trainer:train:230 - \n",
      "Epoch 010: \n",
      "2023-11-20 11:06:14.275 | INFO     | cool_graph.train.helpers:eval_epoch:179 - test:\n",
      " {'accuracy': 0.91, 'cross_entropy': 0.326, 'f1_weighted': 0.909, 'calc_time': 0.005, 'main_metric': 0.91}\n",
      "2023-11-20 11:06:14.276 | INFO     | cool_graph.train.trainer:train:257 - Epoch 010: \n",
      "2023-11-20 11:06:14.888 | INFO     | cool_graph.train.helpers:eval_epoch:179 - train:\n",
      " {'accuracy': 0.955, 'cross_entropy': 0.14, 'f1_weighted': 0.954, 'calc_time': 0.01, 'main_metric': 0.955}\n",
      "2023-11-20 11:06:21.075 | INFO     | cool_graph.train.trainer:train:230 - \n",
      "Epoch 015: \n",
      "2023-11-20 11:06:21.324 | INFO     | cool_graph.train.helpers:eval_epoch:179 - test:\n",
      " {'accuracy': 0.905, 'cross_entropy': 0.389, 'f1_weighted': 0.904, 'calc_time': 0.004, 'main_metric': 0.905}\n",
      "2023-11-20 11:06:21.326 | INFO     | cool_graph.train.trainer:train:257 - Epoch 015: \n",
      "2023-11-20 11:06:22.064 | INFO     | cool_graph.train.helpers:eval_epoch:179 - train:\n",
      " {'accuracy': 0.968, 'cross_entropy': 0.099, 'f1_weighted': 0.968, 'calc_time': 0.012, 'main_metric': 0.968}\n",
      "2023-11-20 11:06:28.623 | INFO     | cool_graph.train.trainer:train:230 - \n",
      "Epoch 020: \n",
      "2023-11-20 11:06:28.842 | INFO     | cool_graph.train.helpers:eval_epoch:179 - test:\n",
      " {'accuracy': 0.906, 'cross_entropy': 0.393, 'f1_weighted': 0.906, 'calc_time': 0.004, 'main_metric': 0.906}\n",
      "2023-11-20 11:06:28.843 | INFO     | cool_graph.train.trainer:train:257 - Epoch 020: \n",
      "2023-11-20 11:06:29.465 | INFO     | cool_graph.train.helpers:eval_epoch:179 - train:\n",
      " {'accuracy': 0.976, 'cross_entropy': 0.076, 'f1_weighted': 0.975, 'calc_time': 0.01, 'main_metric': 0.976}\n",
      "\u001b[32m[I 2023-11-20 11:06:29,519]\u001b[0m Trial 2 finished with value: 0.91 and parameters: {'activation': 'prelu', 'lin_prep_len': 1, 'lin_prep_dropout_rate': 0.5, 'lin_prep_weight_norm_flag': False, 'lin_prep_size_common': 512, 'lin_prep_size0_fraction': 0.5, 'conv1_aggrs_mean_fraction': 0.25, 'conv1_aggrs_max_fraction': 0.125, 'conv1_aggrs_add_fraction': 0.0625, 'conv1_dropout_rate': 0.2, 'conv2_aggrs_mean_fraction': 0.2857142857142857, 'conv2_aggrs_max_fraction': 0.14285714285714285, 'conv2_aggrs_add_fraction': 0.07142857142857142, 'conv2_dropout_rate': 0.2, 'graph_conv_weight_norm_flag': True}. Best is trial 0 with value: 0.916.\u001b[0m\n",
      "2023-11-20 11:06:31.174 | INFO     | cool_graph.train.trainer:train:230 - \n",
      "Epoch 000: \n",
      "2023-11-20 11:06:31.359 | INFO     | cool_graph.train.helpers:eval_epoch:179 - test:\n",
      " {'accuracy': 0.406, 'cross_entropy': 1.841, 'f1_weighted': 0.311, 'calc_time': 0.003, 'main_metric': 0.406}\n",
      "2023-11-20 11:06:31.361 | INFO     | cool_graph.train.trainer:train:257 - Epoch 000: \n",
      "2023-11-20 11:06:31.898 | INFO     | cool_graph.train.helpers:eval_epoch:179 - train:\n",
      " {'accuracy': 0.419, 'cross_entropy': 1.812, 'f1_weighted': 0.33, 'calc_time': 0.009, 'main_metric': 0.419}\n",
      "2023-11-20 11:06:37.501 | INFO     | cool_graph.train.trainer:train:230 - \n",
      "Epoch 005: \n",
      "2023-11-20 11:06:37.784 | INFO     | cool_graph.train.helpers:eval_epoch:179 - test:\n",
      " {'accuracy': 0.567, 'cross_entropy': 1.14, 'f1_weighted': 0.517, 'calc_time': 0.005, 'main_metric': 0.567}\n",
      "2023-11-20 11:06:37.786 | INFO     | cool_graph.train.trainer:train:257 - Epoch 005: \n",
      "2023-11-20 11:06:38.302 | INFO     | cool_graph.train.helpers:eval_epoch:179 - train:\n",
      " {'accuracy': 0.585, 'cross_entropy': 1.097, 'f1_weighted': 0.538, 'calc_time': 0.009, 'main_metric': 0.585}\n",
      "2023-11-20 11:06:43.716 | INFO     | cool_graph.train.trainer:train:230 - \n",
      "Epoch 010: \n",
      "2023-11-20 11:06:43.896 | INFO     | cool_graph.train.helpers:eval_epoch:179 - test:\n",
      " {'accuracy': 0.748, 'cross_entropy': 0.794, 'f1_weighted': 0.717, 'calc_time': 0.003, 'main_metric': 0.748}\n",
      "2023-11-20 11:06:43.897 | INFO     | cool_graph.train.trainer:train:257 - Epoch 010: \n",
      "2023-11-20 11:06:44.407 | INFO     | cool_graph.train.helpers:eval_epoch:179 - train:\n",
      " {'accuracy': 0.763, 'cross_entropy': 0.748, 'f1_weighted': 0.733, 'calc_time': 0.008, 'main_metric': 0.763}\n",
      "2023-11-20 11:06:49.549 | INFO     | cool_graph.train.trainer:train:230 - \n",
      "Epoch 015: \n",
      "2023-11-20 11:06:49.709 | INFO     | cool_graph.train.helpers:eval_epoch:179 - test:\n",
      " {'accuracy': 0.787, 'cross_entropy': 0.734, 'f1_weighted': 0.765, 'calc_time': 0.003, 'main_metric': 0.787}\n",
      "2023-11-20 11:06:49.710 | INFO     | cool_graph.train.trainer:train:257 - Epoch 015: \n",
      "2023-11-20 11:06:50.321 | INFO     | cool_graph.train.helpers:eval_epoch:179 - train:\n",
      " {'accuracy': 0.802, 'cross_entropy': 0.689, 'f1_weighted': 0.781, 'calc_time': 0.01, 'main_metric': 0.802}\n",
      "2023-11-20 11:06:55.893 | INFO     | cool_graph.train.trainer:train:230 - \n",
      "Epoch 020: \n",
      "2023-11-20 11:06:56.154 | INFO     | cool_graph.train.helpers:eval_epoch:179 - test:\n",
      " {'accuracy': 0.771, 'cross_entropy': 0.751, 'f1_weighted': 0.753, 'calc_time': 0.004, 'main_metric': 0.771}\n",
      "2023-11-20 11:06:56.156 | INFO     | cool_graph.train.trainer:train:257 - Epoch 020: \n",
      "2023-11-20 11:06:56.675 | INFO     | cool_graph.train.helpers:eval_epoch:179 - train:\n",
      " {'accuracy': 0.783, 'cross_entropy': 0.707, 'f1_weighted': 0.766, 'calc_time': 0.009, 'main_metric': 0.783}\n",
      "\u001b[32m[I 2023-11-20 11:06:56,706]\u001b[0m Trial 3 finished with value: 0.787 and parameters: {'activation': 'relu', 'lin_prep_len': 2, 'lin_prep_dropout_rate': 0.49228779953902047, 'lin_prep_weight_norm_flag': False, 'lin_prep_size_common': 64, 'lin_prep_size0_fraction': 0.3050786910504537, 'lin_prep_size1_fraction': 0.22256263818314473, 'conv1_aggrs_mean_fraction': 0.44354226147505976, 'conv1_aggrs_max_fraction': 0.3332191740894263, 'conv1_aggrs_add_fraction': 0.12627500595768346, 'conv1_dropout_rate': 0.47627173886539176, 'conv2_aggrs_mean_fraction': 0.318593423901017, 'conv2_aggrs_max_fraction': 0.49371487206634385, 'conv2_aggrs_add_fraction': 0.174841107689478, 'conv2_dropout_rate': 0.035856314252957044, 'graph_conv_weight_norm_flag': True}. Best is trial 0 with value: 0.916.\u001b[0m\n",
      "2023-11-20 11:06:58.520 | INFO     | cool_graph.train.trainer:train:230 - \n",
      "Epoch 000: \n",
      "2023-11-20 11:06:58.737 | INFO     | cool_graph.train.helpers:eval_epoch:179 - test:\n",
      " {'accuracy': 0.535, 'cross_entropy': 1.34, 'f1_weighted': 0.483, 'calc_time': 0.004, 'main_metric': 0.535}\n",
      "2023-11-20 11:06:58.738 | INFO     | cool_graph.train.trainer:train:257 - Epoch 000: \n",
      "2023-11-20 11:06:59.378 | INFO     | cool_graph.train.helpers:eval_epoch:179 - train:\n",
      " {'accuracy': 0.553, 'cross_entropy': 1.299, 'f1_weighted': 0.503, 'calc_time': 0.011, 'main_metric': 0.553}\n",
      "2023-11-20 11:07:06.632 | INFO     | cool_graph.train.trainer:train:230 - \n",
      "Epoch 005: \n",
      "2023-11-20 11:07:06.917 | INFO     | cool_graph.train.helpers:eval_epoch:179 - test:\n",
      " {'accuracy': 0.893, 'cross_entropy': 0.334, 'f1_weighted': 0.894, 'calc_time': 0.005, 'main_metric': 0.893}\n",
      "2023-11-20 11:07:06.919 | INFO     | cool_graph.train.trainer:train:257 - Epoch 005: \n",
      "2023-11-20 11:07:07.745 | INFO     | cool_graph.train.helpers:eval_epoch:179 - train:\n",
      " {'accuracy': 0.929, 'cross_entropy': 0.231, 'f1_weighted': 0.93, 'calc_time': 0.014, 'main_metric': 0.929}\n",
      "2023-11-20 11:07:14.627 | INFO     | cool_graph.train.trainer:train:230 - \n",
      "Epoch 010: \n",
      "2023-11-20 11:07:14.904 | INFO     | cool_graph.train.helpers:eval_epoch:179 - test:\n",
      " {'accuracy': 0.907, 'cross_entropy': 0.367, 'f1_weighted': 0.907, 'calc_time': 0.005, 'main_metric': 0.907}\n",
      "2023-11-20 11:07:14.906 | INFO     | cool_graph.train.trainer:train:257 - Epoch 010: \n",
      "2023-11-20 11:07:15.756 | INFO     | cool_graph.train.helpers:eval_epoch:179 - train:\n",
      " {'accuracy': 0.971, 'cross_entropy': 0.094, 'f1_weighted': 0.97, 'calc_time': 0.014, 'main_metric': 0.971}\n",
      "2023-11-20 11:07:22.750 | INFO     | cool_graph.train.trainer:train:230 - \n",
      "Epoch 015: \n",
      "2023-11-20 11:07:23.072 | INFO     | cool_graph.train.helpers:eval_epoch:179 - test:\n",
      " {'accuracy': 0.903, 'cross_entropy': 0.422, 'f1_weighted': 0.903, 'calc_time': 0.005, 'main_metric': 0.903}\n",
      "2023-11-20 11:07:23.073 | INFO     | cool_graph.train.trainer:train:257 - Epoch 015: \n",
      "2023-11-20 11:07:23.829 | INFO     | cool_graph.train.helpers:eval_epoch:179 - train:\n",
      " {'accuracy': 0.979, 'cross_entropy': 0.064, 'f1_weighted': 0.979, 'calc_time': 0.013, 'main_metric': 0.979}\n",
      "2023-11-20 11:07:30.436 | INFO     | cool_graph.train.trainer:train:230 - \n",
      "Epoch 020: \n",
      "2023-11-20 11:07:30.756 | INFO     | cool_graph.train.helpers:eval_epoch:179 - test:\n",
      " {'accuracy': 0.905, 'cross_entropy': 0.479, 'f1_weighted': 0.905, 'calc_time': 0.005, 'main_metric': 0.905}\n",
      "2023-11-20 11:07:30.758 | INFO     | cool_graph.train.trainer:train:257 - Epoch 020: \n",
      "2023-11-20 11:07:31.411 | INFO     | cool_graph.train.helpers:eval_epoch:179 - train:\n",
      " {'accuracy': 0.987, 'cross_entropy': 0.04, 'f1_weighted': 0.987, 'calc_time': 0.011, 'main_metric': 0.987}\n",
      "\u001b[32m[I 2023-11-20 11:07:31,459]\u001b[0m Trial 4 finished with value: 0.907 and parameters: {'activation': 'gelu', 'lin_prep_len': 2, 'lin_prep_dropout_rate': 0.033314942420079485, 'lin_prep_weight_norm_flag': False, 'lin_prep_size_common': 934, 'lin_prep_size0_fraction': 0.6273008349624243, 'lin_prep_size1_fraction': 0.22853002339679804, 'conv1_aggrs_mean_fraction': 0.35348410661054686, 'conv1_aggrs_max_fraction': 0.07281720264701268, 'conv1_aggrs_add_fraction': 0.06635131289214365, 'conv1_dropout_rate': 0.308789308964974, 'conv2_aggrs_mean_fraction': 0.5896874327555484, 'conv2_aggrs_max_fraction': 0.4020484310634823, 'conv2_aggrs_add_fraction': 0.06385376808420273, 'conv2_dropout_rate': 0.16970097118337318, 'graph_conv_weight_norm_flag': True}. Best is trial 0 with value: 0.916.\u001b[0m\n"
     ]
    },
    {
     "name": "stdout",
     "output_type": "stream",
     "text": [
      "Study statistics: \n",
      "  Number of finished trials:  5\n",
      "  Number of complete trials:  5\n",
      "Best trial:\n",
      "  Value:  0.916\n",
      "  Params: \n",
      "{'conv_type': 'GraphConv', 'activation': 'leakyrelu', 'lin_prep_len': 1, 'lin_prep_dropout_rate': 0.4, 'lin_prep_weight_norm_flag': True, 'lin_prep_size_common': 512, 'lin_prep_sizes': [256], 'n_hops': 2, 'conv1_aggrs': {'mean': 128, 'max': 64, 'add': 32}, 'conv1_dropout_rate': 0.2, 'conv2_aggrs': {'mean': 64, 'max': 32, 'add': 16}, 'conv2_dropout_rate': 0.2, 'graph_conv_weight_norm_flag': True}\n"
     ]
    }
   ],
   "source": [
    "result = runner.optimize_run(n_trials=5, enqueue_trial=[my_params1, my_params2])"
   ]
  },
  {
   "cell_type": "code",
   "execution_count": 47,
   "id": "69af1e48",
   "metadata": {
    "execution": {
     "iopub.execute_input": "2023-11-20T08:07:31.502161Z",
     "iopub.status.busy": "2023-11-20T08:07:31.501534Z",
     "iopub.status.idle": "2023-11-20T08:07:31.536731Z",
     "shell.execute_reply": "2023-11-20T08:07:31.535361Z",
     "shell.execute_reply.started": "2023-11-20T08:07:31.502137Z"
    }
   },
   "outputs": [
    {
     "data": {
      "text/html": [
       "<div>\n",
       "<style scoped>\n",
       "    .dataframe tbody tr th:only-of-type {\n",
       "        vertical-align: middle;\n",
       "    }\n",
       "\n",
       "    .dataframe tbody tr th {\n",
       "        vertical-align: top;\n",
       "    }\n",
       "\n",
       "    .dataframe thead th {\n",
       "        text-align: right;\n",
       "    }\n",
       "</style>\n",
       "<table border=\"1\" class=\"dataframe\">\n",
       "  <thead>\n",
       "    <tr style=\"text-align: right;\">\n",
       "      <th></th>\n",
       "      <th>number</th>\n",
       "      <th>value</th>\n",
       "      <th>datetime_start</th>\n",
       "      <th>datetime_complete</th>\n",
       "      <th>duration</th>\n",
       "      <th>system_attrs_fixed_params</th>\n",
       "      <th>state</th>\n",
       "      <th>conv_type</th>\n",
       "      <th>activation</th>\n",
       "      <th>lin_prep_len</th>\n",
       "      <th>lin_prep_dropout_rate</th>\n",
       "      <th>lin_prep_weight_norm_flag</th>\n",
       "      <th>lin_prep_size_common</th>\n",
       "      <th>lin_prep_sizes</th>\n",
       "      <th>n_hops</th>\n",
       "      <th>conv1_aggrs</th>\n",
       "      <th>conv1_dropout_rate</th>\n",
       "      <th>conv2_aggrs</th>\n",
       "      <th>conv2_dropout_rate</th>\n",
       "      <th>graph_conv_weight_norm_flag</th>\n",
       "    </tr>\n",
       "  </thead>\n",
       "  <tbody>\n",
       "    <tr>\n",
       "      <th>0</th>\n",
       "      <td>0</td>\n",
       "      <td>0.916</td>\n",
       "      <td>2023-11-20 11:04:50.651106</td>\n",
       "      <td>2023-11-20 11:05:23.925253</td>\n",
       "      <td>0 days 00:00:33.274147</td>\n",
       "      <td>{'activation': 'leakyrelu', 'lin_prep_len': 1,...</td>\n",
       "      <td>COMPLETE</td>\n",
       "      <td>GraphConv</td>\n",
       "      <td>leakyrelu</td>\n",
       "      <td>1</td>\n",
       "      <td>0.4</td>\n",
       "      <td>True</td>\n",
       "      <td>512</td>\n",
       "      <td>[256]</td>\n",
       "      <td>2</td>\n",
       "      <td>{'mean': 128, 'max': 64, 'add': 32}</td>\n",
       "      <td>0.2</td>\n",
       "      <td>{'mean': 64, 'max': 32, 'add': 16}</td>\n",
       "      <td>0.2</td>\n",
       "      <td>True</td>\n",
       "    </tr>\n",
       "    <tr>\n",
       "      <th>1</th>\n",
       "      <td>1</td>\n",
       "      <td>0.913</td>\n",
       "      <td>2023-11-20 11:05:23.933594</td>\n",
       "      <td>2023-11-20 11:05:55.882016</td>\n",
       "      <td>0 days 00:00:31.948422</td>\n",
       "      <td>{'activation': 'relu', 'lin_prep_len': 1, 'lin...</td>\n",
       "      <td>COMPLETE</td>\n",
       "      <td>GraphConv</td>\n",
       "      <td>relu</td>\n",
       "      <td>1</td>\n",
       "      <td>0.4</td>\n",
       "      <td>True</td>\n",
       "      <td>512</td>\n",
       "      <td>[256]</td>\n",
       "      <td>2</td>\n",
       "      <td>{'mean': 64, 'max': 32, 'add': 16}</td>\n",
       "      <td>0.2</td>\n",
       "      <td>{'mean': 32, 'max': 16, 'add': 8}</td>\n",
       "      <td>0.2</td>\n",
       "      <td>True</td>\n",
       "    </tr>\n",
       "    <tr>\n",
       "      <th>2</th>\n",
       "      <td>2</td>\n",
       "      <td>0.910</td>\n",
       "      <td>2023-11-20 11:05:55.885662</td>\n",
       "      <td>2023-11-20 11:06:29.517902</td>\n",
       "      <td>0 days 00:00:33.632240</td>\n",
       "      <td>{'activation': 'prelu', 'lin_prep_len': 1, 'li...</td>\n",
       "      <td>COMPLETE</td>\n",
       "      <td>GraphConv</td>\n",
       "      <td>prelu</td>\n",
       "      <td>1</td>\n",
       "      <td>0.5</td>\n",
       "      <td>False</td>\n",
       "      <td>512</td>\n",
       "      <td>[256]</td>\n",
       "      <td>2</td>\n",
       "      <td>{'mean': 64, 'max': 32, 'add': 16}</td>\n",
       "      <td>0.2</td>\n",
       "      <td>{'mean': 32, 'max': 16, 'add': 8}</td>\n",
       "      <td>0.2</td>\n",
       "      <td>True</td>\n",
       "    </tr>\n",
       "    <tr>\n",
       "      <th>3</th>\n",
       "      <td>3</td>\n",
       "      <td>0.787</td>\n",
       "      <td>2023-11-20 11:06:29.520728</td>\n",
       "      <td>2023-11-20 11:06:56.705546</td>\n",
       "      <td>0 days 00:00:27.184818</td>\n",
       "      <td>NaN</td>\n",
       "      <td>COMPLETE</td>\n",
       "      <td>GraphConv</td>\n",
       "      <td>relu</td>\n",
       "      <td>2</td>\n",
       "      <td>0.492288</td>\n",
       "      <td>False</td>\n",
       "      <td>64</td>\n",
       "      <td>[20, 16]</td>\n",
       "      <td>2</td>\n",
       "      <td>{'mean': 8, 'max': 5, 'add': 2}</td>\n",
       "      <td>0.476272</td>\n",
       "      <td>{'mean': 8, 'max': 7, 'add': 3}</td>\n",
       "      <td>0.035856</td>\n",
       "      <td>True</td>\n",
       "    </tr>\n",
       "    <tr>\n",
       "      <th>4</th>\n",
       "      <td>4</td>\n",
       "      <td>0.907</td>\n",
       "      <td>2023-11-20 11:06:56.707726</td>\n",
       "      <td>2023-11-20 11:07:31.458560</td>\n",
       "      <td>0 days 00:00:34.750834</td>\n",
       "      <td>NaN</td>\n",
       "      <td>COMPLETE</td>\n",
       "      <td>GraphConv</td>\n",
       "      <td>gelu</td>\n",
       "      <td>2</td>\n",
       "      <td>0.033315</td>\n",
       "      <td>False</td>\n",
       "      <td>934</td>\n",
       "      <td>[586, 134]</td>\n",
       "      <td>2</td>\n",
       "      <td>{'mean': 47, 'max': 10, 'add': 9}</td>\n",
       "      <td>0.308789</td>\n",
       "      <td>{'mean': 39, 'max': 27, 'add': 4}</td>\n",
       "      <td>0.169701</td>\n",
       "      <td>True</td>\n",
       "    </tr>\n",
       "  </tbody>\n",
       "</table>\n",
       "</div>"
      ],
      "text/plain": [
       "   number  value             datetime_start          datetime_complete  \\\n",
       "0       0  0.916 2023-11-20 11:04:50.651106 2023-11-20 11:05:23.925253   \n",
       "1       1  0.913 2023-11-20 11:05:23.933594 2023-11-20 11:05:55.882016   \n",
       "2       2  0.910 2023-11-20 11:05:55.885662 2023-11-20 11:06:29.517902   \n",
       "3       3  0.787 2023-11-20 11:06:29.520728 2023-11-20 11:06:56.705546   \n",
       "4       4  0.907 2023-11-20 11:06:56.707726 2023-11-20 11:07:31.458560   \n",
       "\n",
       "                duration                          system_attrs_fixed_params  \\\n",
       "0 0 days 00:00:33.274147  {'activation': 'leakyrelu', 'lin_prep_len': 1,...   \n",
       "1 0 days 00:00:31.948422  {'activation': 'relu', 'lin_prep_len': 1, 'lin...   \n",
       "2 0 days 00:00:33.632240  {'activation': 'prelu', 'lin_prep_len': 1, 'li...   \n",
       "3 0 days 00:00:27.184818                                                NaN   \n",
       "4 0 days 00:00:34.750834                                                NaN   \n",
       "\n",
       "      state  conv_type activation lin_prep_len lin_prep_dropout_rate  \\\n",
       "0  COMPLETE  GraphConv  leakyrelu            1                   0.4   \n",
       "1  COMPLETE  GraphConv       relu            1                   0.4   \n",
       "2  COMPLETE  GraphConv      prelu            1                   0.5   \n",
       "3  COMPLETE  GraphConv       relu            2              0.492288   \n",
       "4  COMPLETE  GraphConv       gelu            2              0.033315   \n",
       "\n",
       "  lin_prep_weight_norm_flag lin_prep_size_common lin_prep_sizes n_hops  \\\n",
       "0                      True                  512          [256]      2   \n",
       "1                      True                  512          [256]      2   \n",
       "2                     False                  512          [256]      2   \n",
       "3                     False                   64       [20, 16]      2   \n",
       "4                     False                  934     [586, 134]      2   \n",
       "\n",
       "                           conv1_aggrs conv1_dropout_rate  \\\n",
       "0  {'mean': 128, 'max': 64, 'add': 32}                0.2   \n",
       "1   {'mean': 64, 'max': 32, 'add': 16}                0.2   \n",
       "2   {'mean': 64, 'max': 32, 'add': 16}                0.2   \n",
       "3      {'mean': 8, 'max': 5, 'add': 2}           0.476272   \n",
       "4    {'mean': 47, 'max': 10, 'add': 9}           0.308789   \n",
       "\n",
       "                          conv2_aggrs conv2_dropout_rate  \\\n",
       "0  {'mean': 64, 'max': 32, 'add': 16}                0.2   \n",
       "1   {'mean': 32, 'max': 16, 'add': 8}                0.2   \n",
       "2   {'mean': 32, 'max': 16, 'add': 8}                0.2   \n",
       "3     {'mean': 8, 'max': 7, 'add': 3}           0.035856   \n",
       "4   {'mean': 39, 'max': 27, 'add': 4}           0.169701   \n",
       "\n",
       "  graph_conv_weight_norm_flag  \n",
       "0                        True  \n",
       "1                        True  \n",
       "2                        True  \n",
       "3                        True  \n",
       "4                        True  "
      ]
     },
     "execution_count": 47,
     "metadata": {},
     "output_type": "execute_result"
    }
   ],
   "source": [
    "result"
   ]
  },
  {
   "cell_type": "code",
   "execution_count": 48,
   "id": "98d0b1f7",
   "metadata": {
    "execution": {
     "iopub.execute_input": "2023-11-20T08:07:31.539616Z",
     "iopub.status.busy": "2023-11-20T08:07:31.538541Z",
     "iopub.status.idle": "2023-11-20T08:07:31.755028Z",
     "shell.execute_reply": "2023-11-20T08:07:31.753930Z",
     "shell.execute_reply.started": "2023-11-20T08:07:31.539562Z"
    }
   },
   "outputs": [],
   "source": [
    "runner2 = HypeRunner(data)"
   ]
  },
  {
   "cell_type": "code",
   "execution_count": 49,
   "id": "f3711274",
   "metadata": {
    "execution": {
     "iopub.execute_input": "2023-11-20T08:07:31.757033Z",
     "iopub.status.busy": "2023-11-20T08:07:31.756794Z",
     "iopub.status.idle": "2023-11-20T08:09:14.790387Z",
     "shell.execute_reply": "2023-11-20T08:09:14.789535Z",
     "shell.execute_reply.started": "2023-11-20T08:07:31.757012Z"
    }
   },
   "outputs": [
    {
     "name": "stderr",
     "output_type": "stream",
     "text": [
      "Sample data: 100%|██████████| 42/42 [00:03<00:00, 12.13it/s]\n",
      "Sample data: 100%|██████████| 14/14 [00:00<00:00, 15.77it/s]\n",
      "\u001b[32m[I 2023-11-20 11:07:36,220]\u001b[0m A new study created in memory with name: no-name-ca69d684-d645-47ca-937a-0ce95d9dfa29\u001b[0m\n",
      "/data/home/dapavlikov/coolgraph/cool_graph/runners.py:659: ExperimentalWarning: enqueue_trial is experimental (supported from v1.2.0). The interface can change in the future.\n",
      "  self.study.enqueue_trial(trial_params)\n",
      "/home/dapavlikov/.conda/envs/cool_graph_env2_py38/lib/python3.8/site-packages/optuna/study/study.py:857: ExperimentalWarning: create_trial is experimental (supported from v2.0.0). The interface can change in the future.\n",
      "  create_trial(state=TrialState.WAITING, system_attrs={\"fixed_params\": params})\n",
      "/home/dapavlikov/.conda/envs/cool_graph_env2_py38/lib/python3.8/site-packages/optuna/study/study.py:856: ExperimentalWarning: add_trial is experimental (supported from v2.0.0). The interface can change in the future.\n",
      "  self.add_trial(\n",
      "/home/dapavlikov/.conda/envs/cool_graph_env2_py38/lib/python3.8/site-packages/optuna/distributions.py:359: FutureWarning: Samplers and other components in Optuna will assume that `step` is 1. `step` argument is deprecated and will be removed in the future. The removal of this feature is currently scheduled for v4.0.0, but this schedule is subject to change.\n",
      "  warnings.warn(\n",
      "2023-11-20 11:07:38.563 | INFO     | cool_graph.train.trainer:train:230 - \n",
      "Epoch 000: \n",
      "2023-11-20 11:07:38.889 | INFO     | cool_graph.train.helpers:eval_epoch:179 - test:\n",
      " {'accuracy': 0.572, 'cross_entropy': 1.332, 'f1_weighted': 0.526, 'calc_time': 0.005, 'main_metric': 0.572}\n",
      "2023-11-20 11:07:38.890 | INFO     | cool_graph.train.trainer:train:257 - Epoch 000: \n",
      "2023-11-20 11:07:39.772 | INFO     | cool_graph.train.helpers:eval_epoch:179 - train:\n",
      " {'accuracy': 0.582, 'cross_entropy': 1.318, 'f1_weighted': 0.537, 'calc_time': 0.015, 'main_metric': 0.582}\n",
      "2023-11-20 11:07:46.621 | INFO     | cool_graph.train.trainer:train:230 - \n",
      "Epoch 005: \n",
      "2023-11-20 11:07:46.950 | INFO     | cool_graph.train.helpers:eval_epoch:179 - test:\n",
      " {'accuracy': 0.904, 'cross_entropy': 0.294, 'f1_weighted': 0.897, 'calc_time': 0.005, 'main_metric': 0.904}\n",
      "2023-11-20 11:07:46.951 | INFO     | cool_graph.train.trainer:train:257 - Epoch 005: \n",
      "2023-11-20 11:07:47.590 | INFO     | cool_graph.train.helpers:eval_epoch:179 - train:\n",
      " {'accuracy': 0.909, 'cross_entropy': 0.268, 'f1_weighted': 0.903, 'calc_time': 0.011, 'main_metric': 0.909}\n",
      "2023-11-20 11:07:53.785 | INFO     | cool_graph.train.trainer:train:230 - \n",
      "Epoch 010: \n",
      "2023-11-20 11:07:54.000 | INFO     | cool_graph.train.helpers:eval_epoch:179 - test:\n",
      " {'accuracy': 0.924, 'cross_entropy': 0.255, 'f1_weighted': 0.923, 'calc_time': 0.004, 'main_metric': 0.924}\n",
      "2023-11-20 11:07:54.002 | INFO     | cool_graph.train.trainer:train:257 - Epoch 010: \n",
      "2023-11-20 11:07:54.607 | INFO     | cool_graph.train.helpers:eval_epoch:179 - train:\n",
      " {'accuracy': 0.951, 'cross_entropy': 0.161, 'f1_weighted': 0.951, 'calc_time': 0.01, 'main_metric': 0.951}\n",
      "2023-11-20 11:08:00.581 | INFO     | cool_graph.train.trainer:train:230 - \n",
      "Epoch 015: \n",
      "2023-11-20 11:08:00.805 | INFO     | cool_graph.train.helpers:eval_epoch:179 - test:\n",
      " {'accuracy': 0.922, 'cross_entropy': 0.274, 'f1_weighted': 0.92, 'calc_time': 0.004, 'main_metric': 0.922}\n",
      "2023-11-20 11:08:00.807 | INFO     | cool_graph.train.trainer:train:257 - Epoch 015: \n",
      "2023-11-20 11:08:01.494 | INFO     | cool_graph.train.helpers:eval_epoch:179 - train:\n",
      " {'accuracy': 0.96, 'cross_entropy': 0.125, 'f1_weighted': 0.959, 'calc_time': 0.011, 'main_metric': 0.96}\n",
      "2023-11-20 11:08:07.858 | INFO     | cool_graph.train.trainer:train:230 - \n",
      "Epoch 020: \n",
      "2023-11-20 11:08:08.215 | INFO     | cool_graph.train.helpers:eval_epoch:179 - test:\n",
      " {'accuracy': 0.924, 'cross_entropy': 0.287, 'f1_weighted': 0.924, 'calc_time': 0.006, 'main_metric': 0.924}\n",
      "2023-11-20 11:08:08.216 | INFO     | cool_graph.train.trainer:train:257 - Epoch 020: \n",
      "2023-11-20 11:08:08.803 | INFO     | cool_graph.train.helpers:eval_epoch:179 - train:\n",
      " {'accuracy': 0.972, 'cross_entropy': 0.094, 'f1_weighted': 0.972, 'calc_time': 0.01, 'main_metric': 0.972}\n",
      "\u001b[32m[I 2023-11-20 11:08:08,834]\u001b[0m Trial 0 finished with value: 0.924 and parameters: {'activation': 'leakyrelu', 'lin_prep_len': 1, 'lin_prep_dropout_rate': 0.4, 'lin_prep_weight_norm_flag': True, 'lin_prep_size_common': 512, 'lin_prep_size0_fraction': 0.5, 'conv1_aggrs_mean_fraction': 0.5, 'conv1_aggrs_max_fraction': 0.25, 'conv1_aggrs_add_fraction': 0.125, 'conv1_dropout_rate': 0.2, 'conv2_aggrs_mean_fraction': 0.2857142857142857, 'conv2_aggrs_max_fraction': 0.14285714285714285, 'conv2_aggrs_add_fraction': 0.07142857142857142, 'conv2_dropout_rate': 0.2, 'graph_conv_weight_norm_flag': True}. Best is trial 0 with value: 0.924.\u001b[0m\n",
      "2023-11-20 11:08:10.723 | INFO     | cool_graph.train.trainer:train:230 - \n",
      "Epoch 000: \n",
      "2023-11-20 11:08:10.937 | INFO     | cool_graph.train.helpers:eval_epoch:179 - test:\n",
      " {'accuracy': 0.428, 'cross_entropy': 1.699, 'f1_weighted': 0.306, 'calc_time': 0.004, 'main_metric': 0.428}\n",
      "2023-11-20 11:08:10.938 | INFO     | cool_graph.train.trainer:train:257 - Epoch 000: \n",
      "2023-11-20 11:08:11.749 | INFO     | cool_graph.train.helpers:eval_epoch:179 - train:\n",
      " {'accuracy': 0.45, 'cross_entropy': 1.694, 'f1_weighted': 0.329, 'calc_time': 0.014, 'main_metric': 0.45}\n",
      "2023-11-20 11:08:17.364 | INFO     | cool_graph.train.trainer:train:230 - \n",
      "Epoch 005: \n",
      "2023-11-20 11:08:17.635 | INFO     | cool_graph.train.helpers:eval_epoch:179 - test:\n",
      " {'accuracy': 0.729, 'cross_entropy': 0.861, 'f1_weighted': 0.669, 'calc_time': 0.005, 'main_metric': 0.729}\n",
      "2023-11-20 11:08:17.636 | INFO     | cool_graph.train.trainer:train:257 - Epoch 005: \n",
      "2023-11-20 11:08:18.172 | INFO     | cool_graph.train.helpers:eval_epoch:179 - train:\n",
      " {'accuracy': 0.727, 'cross_entropy': 0.855, 'f1_weighted': 0.671, 'calc_time': 0.009, 'main_metric': 0.727}\n",
      "2023-11-20 11:08:23.849 | INFO     | cool_graph.train.trainer:train:230 - \n",
      "Epoch 010: \n",
      "2023-11-20 11:08:24.163 | INFO     | cool_graph.train.helpers:eval_epoch:179 - test:\n",
      " {'accuracy': 0.827, 'cross_entropy': 0.621, 'f1_weighted': 0.803, 'calc_time': 0.005, 'main_metric': 0.827}\n",
      "2023-11-20 11:08:24.165 | INFO     | cool_graph.train.trainer:train:257 - Epoch 010: \n",
      "2023-11-20 11:08:24.736 | INFO     | cool_graph.train.helpers:eval_epoch:179 - train:\n",
      " {'accuracy': 0.821, 'cross_entropy': 0.615, 'f1_weighted': 0.798, 'calc_time': 0.01, 'main_metric': 0.821}\n",
      "2023-11-20 11:08:30.639 | INFO     | cool_graph.train.trainer:train:230 - \n",
      "Epoch 015: \n",
      "2023-11-20 11:08:30.920 | INFO     | cool_graph.train.helpers:eval_epoch:179 - test:\n",
      " {'accuracy': 0.843, 'cross_entropy': 0.583, 'f1_weighted': 0.824, 'calc_time': 0.005, 'main_metric': 0.843}\n",
      "2023-11-20 11:08:30.922 | INFO     | cool_graph.train.trainer:train:257 - Epoch 015: \n",
      "2023-11-20 11:08:31.424 | INFO     | cool_graph.train.helpers:eval_epoch:179 - train:\n",
      " {'accuracy': 0.839, 'cross_entropy': 0.574, 'f1_weighted': 0.82, 'calc_time': 0.008, 'main_metric': 0.839}\n",
      "2023-11-20 11:08:36.844 | INFO     | cool_graph.train.trainer:train:230 - \n",
      "Epoch 020: \n",
      "2023-11-20 11:08:37.040 | INFO     | cool_graph.train.helpers:eval_epoch:179 - test:\n",
      " {'accuracy': 0.868, 'cross_entropy': 0.524, 'f1_weighted': 0.852, 'calc_time': 0.003, 'main_metric': 0.868}\n",
      "2023-11-20 11:08:37.041 | INFO     | cool_graph.train.trainer:train:257 - Epoch 020: \n",
      "2023-11-20 11:08:37.634 | INFO     | cool_graph.train.helpers:eval_epoch:179 - train:\n",
      " {'accuracy': 0.868, 'cross_entropy': 0.51, 'f1_weighted': 0.85, 'calc_time': 0.01, 'main_metric': 0.868}\n",
      "\u001b[32m[I 2023-11-20 11:08:37,658]\u001b[0m Trial 1 finished with value: 0.868 and parameters: {'activation': 'relu', 'lin_prep_len': 2, 'lin_prep_dropout_rate': 0.49228779953902047, 'lin_prep_weight_norm_flag': False, 'lin_prep_size_common': 64, 'lin_prep_size0_fraction': 0.3050786910504537, 'lin_prep_size1_fraction': 0.22256263818314473, 'conv1_aggrs_mean_fraction': 0.44354226147505976, 'conv1_aggrs_max_fraction': 0.3332191740894263, 'conv1_aggrs_add_fraction': 0.12627500595768346, 'conv1_dropout_rate': 0.47627173886539176, 'conv2_aggrs_mean_fraction': 0.318593423901017, 'conv2_aggrs_max_fraction': 0.49371487206634385, 'conv2_aggrs_add_fraction': 0.174841107689478, 'conv2_dropout_rate': 0.035856314252957044, 'graph_conv_weight_norm_flag': True}. Best is trial 0 with value: 0.924.\u001b[0m\n",
      "2023-11-20 11:08:39.636 | INFO     | cool_graph.train.trainer:train:230 - \n",
      "Epoch 000: \n",
      "2023-11-20 11:08:39.938 | INFO     | cool_graph.train.helpers:eval_epoch:179 - test:\n",
      " {'accuracy': 0.596, 'cross_entropy': 1.22, 'f1_weighted': 0.523, 'calc_time': 0.005, 'main_metric': 0.596}\n",
      "2023-11-20 11:08:39.940 | INFO     | cool_graph.train.trainer:train:257 - Epoch 000: \n",
      "2023-11-20 11:08:40.601 | INFO     | cool_graph.train.helpers:eval_epoch:179 - train:\n",
      " {'accuracy': 0.605, 'cross_entropy': 1.205, 'f1_weighted': 0.536, 'calc_time': 0.011, 'main_metric': 0.605}\n",
      "2023-11-20 11:08:48.313 | INFO     | cool_graph.train.trainer:train:230 - \n",
      "Epoch 005: \n",
      "2023-11-20 11:08:48.650 | INFO     | cool_graph.train.helpers:eval_epoch:179 - test:\n",
      " {'accuracy': 0.906, 'cross_entropy': 0.306, 'f1_weighted': 0.899, 'calc_time': 0.006, 'main_metric': 0.906}\n",
      "2023-11-20 11:08:48.651 | INFO     | cool_graph.train.trainer:train:257 - Epoch 005: \n",
      "2023-11-20 11:08:49.317 | INFO     | cool_graph.train.helpers:eval_epoch:179 - train:\n",
      " {'accuracy': 0.928, 'cross_entropy': 0.22, 'f1_weighted': 0.921, 'calc_time': 0.011, 'main_metric': 0.928}\n",
      "2023-11-20 11:08:56.958 | INFO     | cool_graph.train.trainer:train:230 - \n",
      "Epoch 010: \n",
      "2023-11-20 11:08:57.304 | INFO     | cool_graph.train.helpers:eval_epoch:179 - test:\n",
      " {'accuracy': 0.922, 'cross_entropy': 0.302, 'f1_weighted': 0.922, 'calc_time': 0.006, 'main_metric': 0.922}\n",
      "2023-11-20 11:08:57.309 | INFO     | cool_graph.train.trainer:train:257 - Epoch 010: \n",
      "2023-11-20 11:08:58.108 | INFO     | cool_graph.train.helpers:eval_epoch:179 - train:\n",
      " {'accuracy': 0.973, 'cross_entropy': 0.084, 'f1_weighted': 0.973, 'calc_time': 0.013, 'main_metric': 0.973}\n",
      "2023-11-20 11:09:05.615 | INFO     | cool_graph.train.trainer:train:230 - \n",
      "Epoch 015: \n",
      "2023-11-20 11:09:05.937 | INFO     | cool_graph.train.helpers:eval_epoch:179 - test:\n",
      " {'accuracy': 0.914, 'cross_entropy': 0.409, 'f1_weighted': 0.914, 'calc_time': 0.005, 'main_metric': 0.914}\n",
      "2023-11-20 11:09:05.938 | INFO     | cool_graph.train.trainer:train:257 - Epoch 015: \n",
      "2023-11-20 11:09:06.575 | INFO     | cool_graph.train.helpers:eval_epoch:179 - train:\n",
      " {'accuracy': 0.986, 'cross_entropy': 0.045, 'f1_weighted': 0.986, 'calc_time': 0.011, 'main_metric': 0.986}\n",
      "2023-11-20 11:09:13.749 | INFO     | cool_graph.train.trainer:train:230 - \n",
      "Epoch 020: \n",
      "2023-11-20 11:09:14.079 | INFO     | cool_graph.train.helpers:eval_epoch:179 - test:\n",
      " {'accuracy': 0.916, 'cross_entropy': 0.453, 'f1_weighted': 0.916, 'calc_time': 0.005, 'main_metric': 0.916}\n",
      "2023-11-20 11:09:14.080 | INFO     | cool_graph.train.trainer:train:257 - Epoch 020: \n",
      "2023-11-20 11:09:14.734 | INFO     | cool_graph.train.helpers:eval_epoch:179 - train:\n",
      " {'accuracy': 0.991, 'cross_entropy': 0.03, 'f1_weighted': 0.991, 'calc_time': 0.011, 'main_metric': 0.991}\n",
      "\u001b[32m[I 2023-11-20 11:09:14,774]\u001b[0m Trial 2 finished with value: 0.922 and parameters: {'activation': 'gelu', 'lin_prep_len': 2, 'lin_prep_dropout_rate': 0.033314942420079485, 'lin_prep_weight_norm_flag': False, 'lin_prep_size_common': 934, 'lin_prep_size0_fraction': 0.6273008349624243, 'lin_prep_size1_fraction': 0.22853002339679804, 'conv1_aggrs_mean_fraction': 0.35348410661054686, 'conv1_aggrs_max_fraction': 0.07281720264701268, 'conv1_aggrs_add_fraction': 0.06635131289214365, 'conv1_dropout_rate': 0.308789308964974, 'conv2_aggrs_mean_fraction': 0.5896874327555484, 'conv2_aggrs_max_fraction': 0.4020484310634823, 'conv2_aggrs_add_fraction': 0.06385376808420273, 'conv2_dropout_rate': 0.16970097118337318, 'graph_conv_weight_norm_flag': True}. Best is trial 0 with value: 0.924.\u001b[0m\n"
     ]
    },
    {
     "name": "stdout",
     "output_type": "stream",
     "text": [
      "Study statistics: \n",
      "  Number of finished trials:  3\n",
      "  Number of complete trials:  3\n",
      "Best trial:\n",
      "  Value:  0.924\n",
      "  Params: \n",
      "{'conv_type': 'GraphConv', 'activation': 'leakyrelu', 'lin_prep_len': 1, 'lin_prep_dropout_rate': 0.4, 'lin_prep_weight_norm_flag': True, 'lin_prep_size_common': 512, 'lin_prep_sizes': [256], 'n_hops': 2, 'conv1_aggrs': {'mean': 128, 'max': 64, 'add': 32}, 'conv1_dropout_rate': 0.2, 'conv2_aggrs': {'mean': 64, 'max': 32, 'add': 16}, 'conv2_dropout_rate': 0.2, 'graph_conv_weight_norm_flag': True}\n"
     ]
    }
   ],
   "source": [
    "# you can optimize params with no dict, optuna makes it randomly\n",
    "result2 = runner2.optimize_run(n_trials=3)"
   ]
  },
  {
   "cell_type": "code",
   "execution_count": 50,
   "id": "1d892728",
   "metadata": {
    "execution": {
     "iopub.execute_input": "2023-11-20T08:09:14.792201Z",
     "iopub.status.busy": "2023-11-20T08:09:14.791888Z",
     "iopub.status.idle": "2023-11-20T08:09:14.818130Z",
     "shell.execute_reply": "2023-11-20T08:09:14.817140Z",
     "shell.execute_reply.started": "2023-11-20T08:09:14.792172Z"
    }
   },
   "outputs": [
    {
     "data": {
      "text/html": [
       "<div>\n",
       "<style scoped>\n",
       "    .dataframe tbody tr th:only-of-type {\n",
       "        vertical-align: middle;\n",
       "    }\n",
       "\n",
       "    .dataframe tbody tr th {\n",
       "        vertical-align: top;\n",
       "    }\n",
       "\n",
       "    .dataframe thead th {\n",
       "        text-align: right;\n",
       "    }\n",
       "</style>\n",
       "<table border=\"1\" class=\"dataframe\">\n",
       "  <thead>\n",
       "    <tr style=\"text-align: right;\">\n",
       "      <th></th>\n",
       "      <th>number</th>\n",
       "      <th>value</th>\n",
       "      <th>datetime_start</th>\n",
       "      <th>datetime_complete</th>\n",
       "      <th>duration</th>\n",
       "      <th>system_attrs_fixed_params</th>\n",
       "      <th>state</th>\n",
       "      <th>conv_type</th>\n",
       "      <th>activation</th>\n",
       "      <th>lin_prep_len</th>\n",
       "      <th>lin_prep_dropout_rate</th>\n",
       "      <th>lin_prep_weight_norm_flag</th>\n",
       "      <th>lin_prep_size_common</th>\n",
       "      <th>lin_prep_sizes</th>\n",
       "      <th>n_hops</th>\n",
       "      <th>conv1_aggrs</th>\n",
       "      <th>conv1_dropout_rate</th>\n",
       "      <th>conv2_aggrs</th>\n",
       "      <th>conv2_dropout_rate</th>\n",
       "      <th>graph_conv_weight_norm_flag</th>\n",
       "    </tr>\n",
       "  </thead>\n",
       "  <tbody>\n",
       "    <tr>\n",
       "      <th>0</th>\n",
       "      <td>0</td>\n",
       "      <td>0.924</td>\n",
       "      <td>2023-11-20 11:07:36.222776</td>\n",
       "      <td>2023-11-20 11:08:08.834058</td>\n",
       "      <td>0 days 00:00:32.611282</td>\n",
       "      <td>{'activation': 'leakyrelu', 'lin_prep_len': 1,...</td>\n",
       "      <td>COMPLETE</td>\n",
       "      <td>GraphConv</td>\n",
       "      <td>leakyrelu</td>\n",
       "      <td>1</td>\n",
       "      <td>0.4</td>\n",
       "      <td>True</td>\n",
       "      <td>512</td>\n",
       "      <td>[256]</td>\n",
       "      <td>2</td>\n",
       "      <td>{'mean': 128, 'max': 64, 'add': 32}</td>\n",
       "      <td>0.2</td>\n",
       "      <td>{'mean': 64, 'max': 32, 'add': 16}</td>\n",
       "      <td>0.2</td>\n",
       "      <td>True</td>\n",
       "    </tr>\n",
       "    <tr>\n",
       "      <th>1</th>\n",
       "      <td>1</td>\n",
       "      <td>0.868</td>\n",
       "      <td>2023-11-20 11:08:08.836232</td>\n",
       "      <td>2023-11-20 11:08:37.657511</td>\n",
       "      <td>0 days 00:00:28.821279</td>\n",
       "      <td>NaN</td>\n",
       "      <td>COMPLETE</td>\n",
       "      <td>GraphConv</td>\n",
       "      <td>relu</td>\n",
       "      <td>2</td>\n",
       "      <td>0.492288</td>\n",
       "      <td>False</td>\n",
       "      <td>64</td>\n",
       "      <td>[20, 16]</td>\n",
       "      <td>2</td>\n",
       "      <td>{'mean': 8, 'max': 5, 'add': 2}</td>\n",
       "      <td>0.476272</td>\n",
       "      <td>{'mean': 8, 'max': 7, 'add': 3}</td>\n",
       "      <td>0.035856</td>\n",
       "      <td>True</td>\n",
       "    </tr>\n",
       "    <tr>\n",
       "      <th>2</th>\n",
       "      <td>2</td>\n",
       "      <td>0.922</td>\n",
       "      <td>2023-11-20 11:08:37.660058</td>\n",
       "      <td>2023-11-20 11:09:14.773085</td>\n",
       "      <td>0 days 00:00:37.113027</td>\n",
       "      <td>NaN</td>\n",
       "      <td>COMPLETE</td>\n",
       "      <td>GraphConv</td>\n",
       "      <td>gelu</td>\n",
       "      <td>2</td>\n",
       "      <td>0.033315</td>\n",
       "      <td>False</td>\n",
       "      <td>934</td>\n",
       "      <td>[586, 134]</td>\n",
       "      <td>2</td>\n",
       "      <td>{'mean': 47, 'max': 10, 'add': 9}</td>\n",
       "      <td>0.308789</td>\n",
       "      <td>{'mean': 39, 'max': 27, 'add': 4}</td>\n",
       "      <td>0.169701</td>\n",
       "      <td>True</td>\n",
       "    </tr>\n",
       "  </tbody>\n",
       "</table>\n",
       "</div>"
      ],
      "text/plain": [
       "   number  value             datetime_start          datetime_complete  \\\n",
       "0       0  0.924 2023-11-20 11:07:36.222776 2023-11-20 11:08:08.834058   \n",
       "1       1  0.868 2023-11-20 11:08:08.836232 2023-11-20 11:08:37.657511   \n",
       "2       2  0.922 2023-11-20 11:08:37.660058 2023-11-20 11:09:14.773085   \n",
       "\n",
       "                duration                          system_attrs_fixed_params  \\\n",
       "0 0 days 00:00:32.611282  {'activation': 'leakyrelu', 'lin_prep_len': 1,...   \n",
       "1 0 days 00:00:28.821279                                                NaN   \n",
       "2 0 days 00:00:37.113027                                                NaN   \n",
       "\n",
       "      state  conv_type activation lin_prep_len lin_prep_dropout_rate  \\\n",
       "0  COMPLETE  GraphConv  leakyrelu            1                   0.4   \n",
       "1  COMPLETE  GraphConv       relu            2              0.492288   \n",
       "2  COMPLETE  GraphConv       gelu            2              0.033315   \n",
       "\n",
       "  lin_prep_weight_norm_flag lin_prep_size_common lin_prep_sizes n_hops  \\\n",
       "0                      True                  512          [256]      2   \n",
       "1                     False                   64       [20, 16]      2   \n",
       "2                     False                  934     [586, 134]      2   \n",
       "\n",
       "                           conv1_aggrs conv1_dropout_rate  \\\n",
       "0  {'mean': 128, 'max': 64, 'add': 32}                0.2   \n",
       "1      {'mean': 8, 'max': 5, 'add': 2}           0.476272   \n",
       "2    {'mean': 47, 'max': 10, 'add': 9}           0.308789   \n",
       "\n",
       "                          conv2_aggrs conv2_dropout_rate  \\\n",
       "0  {'mean': 64, 'max': 32, 'add': 16}                0.2   \n",
       "1     {'mean': 8, 'max': 7, 'add': 3}           0.035856   \n",
       "2   {'mean': 39, 'max': 27, 'add': 4}           0.169701   \n",
       "\n",
       "  graph_conv_weight_norm_flag  \n",
       "0                        True  \n",
       "1                        True  \n",
       "2                        True  "
      ]
     },
     "execution_count": 50,
     "metadata": {},
     "output_type": "execute_result"
    }
   ],
   "source": [
    "result2"
   ]
  },
  {
   "cell_type": "markdown",
   "id": "4a89b09c",
   "metadata": {},
   "source": [
    "# 6. Multitarget + groups of nodes (heterogeneous graph) in jupiter for Data <a name=\"p5\"></a>"
   ]
  },
  {
   "cell_type": "code",
   "execution_count": 51,
   "id": "cca4d250",
   "metadata": {
    "execution": {
     "iopub.execute_input": "2023-11-20T08:13:06.056411Z",
     "iopub.status.busy": "2023-11-20T08:13:06.055030Z",
     "iopub.status.idle": "2023-11-20T08:13:06.069446Z",
     "shell.execute_reply": "2023-11-20T08:13:06.068308Z",
     "shell.execute_reply.started": "2023-11-20T08:13:06.056345Z"
    }
   },
   "outputs": [],
   "source": [
    "from cool_graph.runners import MultiRunner\n",
    "import torch"
   ]
  },
  {
   "cell_type": "code",
   "execution_count": 52,
   "id": "c26c6906",
   "metadata": {
    "execution": {
     "iopub.execute_input": "2023-11-20T08:13:36.567593Z",
     "iopub.status.busy": "2023-11-20T08:13:36.567090Z",
     "iopub.status.idle": "2023-11-20T08:14:55.910912Z",
     "shell.execute_reply": "2023-11-20T08:14:55.909794Z",
     "shell.execute_reply.started": "2023-11-20T08:13:36.567553Z"
    }
   },
   "outputs": [],
   "source": [
    "data = torch.load(\"../tests/sample_data/sample_of_graph\")"
   ]
  },
  {
   "cell_type": "code",
   "execution_count": 55,
   "id": "e3ab89cc",
   "metadata": {
    "execution": {
     "iopub.execute_input": "2023-11-20T08:38:56.244452Z",
     "iopub.status.busy": "2023-11-20T08:38:56.243360Z",
     "iopub.status.idle": "2023-11-20T08:38:56.423954Z",
     "shell.execute_reply": "2023-11-20T08:38:56.423146Z",
     "shell.execute_reply.started": "2023-11-20T08:38:56.244393Z"
    }
   },
   "outputs": [],
   "source": [
    "runner = MultiRunner(data)"
   ]
  },
  {
   "cell_type": "code",
   "execution_count": 56,
   "id": "2db95609",
   "metadata": {
    "execution": {
     "iopub.execute_input": "2023-11-20T08:39:06.859446Z",
     "iopub.status.busy": "2023-11-20T08:39:06.858568Z",
     "iopub.status.idle": "2023-11-20T09:02:11.933605Z",
     "shell.execute_reply": "2023-11-20T09:02:11.931863Z",
     "shell.execute_reply.started": "2023-11-20T08:39:06.859390Z"
    }
   },
   "outputs": [
    {
     "name": "stderr",
     "output_type": "stream",
     "text": [
      "Sample data: 100%|██████████| 863/863 [01:23<00:00, 10.34it/s]\n",
      "Sample data: 100%|██████████| 288/288 [00:26<00:00, 10.99it/s]\n",
      "2023-11-20 11:43:30.952 | INFO     | cool_graph.train.trainer:train:230 - \n",
      "Epoch 000: \n",
      "2023-11-20 11:43:54.536 | INFO     | cool_graph.train.helpers:eval_epoch:179 - test:\n",
      " {'label_3__accuracy__group_1': 0.928, 'label_3__accuracy__group_2': 0.944, 'label_3__cross_entropy__group_1': 0.257, 'label_3__cross_entropy__group_2': 0.208, 'label_3__f1_weighted__group_1': 0.894, 'label_3__f1_weighted__group_2': 0.917, 'label_3__roc_auc__group_1': 0.591, 'label_3__roc_auc__group_2': 0.69, 'label_4__accuracy__group_1': 0.952, 'label_4__accuracy__group_2': 0.969, 'label_4__cross_entropy__group_1': 0.194, 'label_4__cross_entropy__group_2': 0.13, 'label_4__f1_weighted__group_1': 0.928, 'label_4__f1_weighted__group_2': 0.954, 'label_4__roc_auc__group_1': 0.593, 'label_4__roc_auc__group_2': 0.747, 'label_5__accuracy__group_1': 0.944, 'label_5__accuracy__group_2': 0.96, 'label_5__cross_entropy__group_1': 0.204, 'label_5__cross_entropy__group_2': 0.161, 'label_5__f1_weighted__group_1': 0.916, 'label_5__f1_weighted__group_2': 0.94, 'label_5__roc_auc__group_1': 0.708, 'label_5__roc_auc__group_2': 0.755, 'label_6__accuracy__group_1': 0.98, 'label_6__accuracy__group_2': 0.982, 'label_6__cross_entropy__group_1': 0.093, 'label_6__cross_entropy__group_2': 0.079, 'label_6__f1_weighted__group_1': 0.971, 'label_6__f1_weighted__group_2': 0.973, 'label_6__roc_auc__group_1': 0.686, 'label_6__roc_auc__group_2': 0.801, 'calc_time': 0.393, 'main_metric': 0.957}\n",
      "2023-11-20 11:43:54.537 | INFO     | cool_graph.train.trainer:train:257 - Epoch 000: \n",
      "2023-11-20 11:44:38.745 | INFO     | cool_graph.train.helpers:eval_epoch:179 - train:\n",
      " {'label_3__accuracy__group_1': 0.934, 'label_3__accuracy__group_2': 0.95, 'label_3__cross_entropy__group_1': 0.242, 'label_3__cross_entropy__group_2': 0.194, 'label_3__f1_weighted__group_1': 0.902, 'label_3__f1_weighted__group_2': 0.926, 'label_3__roc_auc__group_1': 0.573, 'label_3__roc_auc__group_2': 0.647, 'label_4__accuracy__group_1': 0.952, 'label_4__accuracy__group_2': 0.969, 'label_4__cross_entropy__group_1': 0.19, 'label_4__cross_entropy__group_2': 0.135, 'label_4__f1_weighted__group_1': 0.929, 'label_4__f1_weighted__group_2': 0.953, 'label_4__roc_auc__group_1': 0.607, 'label_4__roc_auc__group_2': 0.703, 'label_5__accuracy__group_1': 0.942, 'label_5__accuracy__group_2': 0.957, 'label_5__cross_entropy__group_1': 0.208, 'label_5__cross_entropy__group_2': 0.167, 'label_5__f1_weighted__group_1': 0.914, 'label_5__f1_weighted__group_2': 0.936, 'label_5__roc_auc__group_1': 0.703, 'label_5__roc_auc__group_2': 0.75, 'label_6__accuracy__group_1': 0.98, 'label_6__accuracy__group_2': 0.982, 'label_6__cross_entropy__group_1': 0.091, 'label_6__cross_entropy__group_2': 0.079, 'label_6__f1_weighted__group_1': 0.971, 'label_6__f1_weighted__group_2': 0.974, 'label_6__roc_auc__group_1': 0.708, 'label_6__roc_auc__group_2': 0.783, 'calc_time': 0.737, 'main_metric': 0.958}\n",
      "2023-11-20 11:53:38.359 | INFO     | cool_graph.train.trainer:train:230 - \n",
      "Epoch 005: \n",
      "2023-11-20 11:53:55.822 | INFO     | cool_graph.train.helpers:eval_epoch:179 - test:\n",
      " {'label_3__accuracy__group_1': 0.928, 'label_3__accuracy__group_2': 0.944, 'label_3__cross_entropy__group_1': 0.251, 'label_3__cross_entropy__group_2': 0.201, 'label_3__f1_weighted__group_1': 0.894, 'label_3__f1_weighted__group_2': 0.917, 'label_3__roc_auc__group_1': 0.661, 'label_3__roc_auc__group_2': 0.731, 'label_4__accuracy__group_1': 0.952, 'label_4__accuracy__group_2': 0.969, 'label_4__cross_entropy__group_1': 0.194, 'label_4__cross_entropy__group_2': 0.127, 'label_4__f1_weighted__group_1': 0.928, 'label_4__f1_weighted__group_2': 0.954, 'label_4__roc_auc__group_1': 0.62, 'label_4__roc_auc__group_2': 0.75, 'label_5__accuracy__group_1': 0.944, 'label_5__accuracy__group_2': 0.96, 'label_5__cross_entropy__group_1': 0.201, 'label_5__cross_entropy__group_2': 0.15, 'label_5__f1_weighted__group_1': 0.916, 'label_5__f1_weighted__group_2': 0.94, 'label_5__roc_auc__group_1': 0.722, 'label_5__roc_auc__group_2': 0.779, 'label_6__accuracy__group_1': 0.98, 'label_6__accuracy__group_2': 0.982, 'label_6__cross_entropy__group_1': 0.092, 'label_6__cross_entropy__group_2': 0.078, 'label_6__f1_weighted__group_1': 0.971, 'label_6__f1_weighted__group_2': 0.973, 'label_6__roc_auc__group_1': 0.695, 'label_6__roc_auc__group_2': 0.807, 'calc_time': 0.291, 'main_metric': 0.957}\n",
      "2023-11-20 11:53:55.823 | INFO     | cool_graph.train.trainer:train:257 - Epoch 005: \n",
      "2023-11-20 11:54:43.416 | INFO     | cool_graph.train.helpers:eval_epoch:179 - train:\n",
      " {'label_3__accuracy__group_1': 0.934, 'label_3__accuracy__group_2': 0.95, 'label_3__cross_entropy__group_1': 0.241, 'label_3__cross_entropy__group_2': 0.19, 'label_3__f1_weighted__group_1': 0.902, 'label_3__f1_weighted__group_2': 0.926, 'label_3__roc_auc__group_1': 0.592, 'label_3__roc_auc__group_2': 0.669, 'label_4__accuracy__group_1': 0.952, 'label_4__accuracy__group_2': 0.969, 'label_4__cross_entropy__group_1': 0.191, 'label_4__cross_entropy__group_2': 0.131, 'label_4__f1_weighted__group_1': 0.929, 'label_4__f1_weighted__group_2': 0.953, 'label_4__roc_auc__group_1': 0.619, 'label_4__roc_auc__group_2': 0.722, 'label_5__accuracy__group_1': 0.942, 'label_5__accuracy__group_2': 0.957, 'label_5__cross_entropy__group_1': 0.204, 'label_5__cross_entropy__group_2': 0.158, 'label_5__f1_weighted__group_1': 0.914, 'label_5__f1_weighted__group_2': 0.936, 'label_5__roc_auc__group_1': 0.726, 'label_5__roc_auc__group_2': 0.778, 'label_6__accuracy__group_1': 0.98, 'label_6__accuracy__group_2': 0.982, 'label_6__cross_entropy__group_1': 0.09, 'label_6__cross_entropy__group_2': 0.078, 'label_6__f1_weighted__group_1': 0.971, 'label_6__f1_weighted__group_2': 0.974, 'label_6__roc_auc__group_1': 0.715, 'label_6__roc_auc__group_2': 0.784, 'calc_time': 0.793, 'main_metric': 0.958}\n",
      "                                                 \r"
     ]
    }
   ],
   "source": [
    "result = runner.run()"
   ]
  },
  {
   "cell_type": "code",
   "execution_count": 58,
   "id": "bfee86c0",
   "metadata": {
    "execution": {
     "iopub.execute_input": "2023-11-20T09:04:16.810471Z",
     "iopub.status.busy": "2023-11-20T09:04:16.809714Z",
     "iopub.status.idle": "2023-11-20T09:04:16.820407Z",
     "shell.execute_reply": "2023-11-20T09:04:16.819316Z",
     "shell.execute_reply.started": "2023-11-20T09:04:16.810419Z"
    }
   },
   "outputs": [
    {
     "data": {
      "text/plain": [
       "{'label_3__accuracy__group_1': 0.928,\n",
       " 'label_3__accuracy__group_2': 0.944,\n",
       " 'label_3__cross_entropy__group_1': 0.257,\n",
       " 'label_3__cross_entropy__group_2': 0.208,\n",
       " 'label_3__f1_weighted__group_1': 0.894,\n",
       " 'label_3__f1_weighted__group_2': 0.917,\n",
       " 'label_3__roc_auc__group_1': 0.591,\n",
       " 'label_3__roc_auc__group_2': 0.69,\n",
       " 'label_4__accuracy__group_1': 0.952,\n",
       " 'label_4__accuracy__group_2': 0.969,\n",
       " 'label_4__cross_entropy__group_1': 0.194,\n",
       " 'label_4__cross_entropy__group_2': 0.13,\n",
       " 'label_4__f1_weighted__group_1': 0.928,\n",
       " 'label_4__f1_weighted__group_2': 0.954,\n",
       " 'label_4__roc_auc__group_1': 0.593,\n",
       " 'label_4__roc_auc__group_2': 0.747,\n",
       " 'label_5__accuracy__group_1': 0.944,\n",
       " 'label_5__accuracy__group_2': 0.96,\n",
       " 'label_5__cross_entropy__group_1': 0.204,\n",
       " 'label_5__cross_entropy__group_2': 0.161,\n",
       " 'label_5__f1_weighted__group_1': 0.916,\n",
       " 'label_5__f1_weighted__group_2': 0.94,\n",
       " 'label_5__roc_auc__group_1': 0.708,\n",
       " 'label_5__roc_auc__group_2': 0.755,\n",
       " 'label_6__accuracy__group_1': 0.98,\n",
       " 'label_6__accuracy__group_2': 0.982,\n",
       " 'label_6__cross_entropy__group_1': 0.093,\n",
       " 'label_6__cross_entropy__group_2': 0.079,\n",
       " 'label_6__f1_weighted__group_1': 0.971,\n",
       " 'label_6__f1_weighted__group_2': 0.973,\n",
       " 'label_6__roc_auc__group_1': 0.686,\n",
       " 'label_6__roc_auc__group_2': 0.801,\n",
       " 'calc_time': 0.393,\n",
       " 'main_metric': 0.957,\n",
       " 'epoch': 0}"
      ]
     },
     "execution_count": 58,
     "metadata": {},
     "output_type": "execute_result"
    }
   ],
   "source": [
    "result[\"best_loss\"]"
   ]
  },
  {
   "cell_type": "code",
   "execution_count": 59,
   "id": "d32629da",
   "metadata": {
    "execution": {
     "iopub.execute_input": "2023-11-20T09:04:33.526031Z",
     "iopub.status.busy": "2023-11-20T09:04:33.524344Z",
     "iopub.status.idle": "2023-11-20T09:04:33.563403Z",
     "shell.execute_reply": "2023-11-20T09:04:33.562331Z",
     "shell.execute_reply.started": "2023-11-20T09:04:33.525919Z"
    }
   },
   "outputs": [
    {
     "data": {
      "text/html": [
       "<div>\n",
       "<style scoped>\n",
       "    .dataframe tbody tr th:only-of-type {\n",
       "        vertical-align: middle;\n",
       "    }\n",
       "\n",
       "    .dataframe tbody tr th {\n",
       "        vertical-align: top;\n",
       "    }\n",
       "\n",
       "    .dataframe thead th {\n",
       "        text-align: right;\n",
       "    }\n",
       "</style>\n",
       "<table border=\"1\" class=\"dataframe\">\n",
       "  <thead>\n",
       "    <tr style=\"text-align: right;\">\n",
       "      <th></th>\n",
       "      <th>label_3__accuracy__group_1</th>\n",
       "      <th>label_3__accuracy__group_2</th>\n",
       "      <th>label_3__cross_entropy__group_1</th>\n",
       "      <th>label_3__cross_entropy__group_2</th>\n",
       "      <th>label_3__f1_weighted__group_1</th>\n",
       "      <th>label_3__f1_weighted__group_2</th>\n",
       "      <th>label_3__roc_auc__group_1</th>\n",
       "      <th>label_3__roc_auc__group_2</th>\n",
       "      <th>label_4__accuracy__group_1</th>\n",
       "      <th>label_4__accuracy__group_2</th>\n",
       "      <th>...</th>\n",
       "      <th>label_6__accuracy__group_2</th>\n",
       "      <th>label_6__cross_entropy__group_1</th>\n",
       "      <th>label_6__cross_entropy__group_2</th>\n",
       "      <th>label_6__f1_weighted__group_1</th>\n",
       "      <th>label_6__f1_weighted__group_2</th>\n",
       "      <th>label_6__roc_auc__group_1</th>\n",
       "      <th>label_6__roc_auc__group_2</th>\n",
       "      <th>calc_time</th>\n",
       "      <th>main_metric</th>\n",
       "      <th>epoch</th>\n",
       "    </tr>\n",
       "  </thead>\n",
       "  <tbody>\n",
       "    <tr>\n",
       "      <th>0</th>\n",
       "      <td>0.928</td>\n",
       "      <td>0.944</td>\n",
       "      <td>0.257</td>\n",
       "      <td>0.208</td>\n",
       "      <td>0.894</td>\n",
       "      <td>0.917</td>\n",
       "      <td>0.591</td>\n",
       "      <td>0.690</td>\n",
       "      <td>0.952</td>\n",
       "      <td>0.969</td>\n",
       "      <td>...</td>\n",
       "      <td>0.982</td>\n",
       "      <td>0.093</td>\n",
       "      <td>0.079</td>\n",
       "      <td>0.971</td>\n",
       "      <td>0.973</td>\n",
       "      <td>0.686</td>\n",
       "      <td>0.801</td>\n",
       "      <td>0.393</td>\n",
       "      <td>0.957</td>\n",
       "      <td>0</td>\n",
       "    </tr>\n",
       "    <tr>\n",
       "      <th>1</th>\n",
       "      <td>0.928</td>\n",
       "      <td>0.944</td>\n",
       "      <td>0.251</td>\n",
       "      <td>0.201</td>\n",
       "      <td>0.894</td>\n",
       "      <td>0.917</td>\n",
       "      <td>0.661</td>\n",
       "      <td>0.731</td>\n",
       "      <td>0.952</td>\n",
       "      <td>0.969</td>\n",
       "      <td>...</td>\n",
       "      <td>0.982</td>\n",
       "      <td>0.092</td>\n",
       "      <td>0.078</td>\n",
       "      <td>0.971</td>\n",
       "      <td>0.973</td>\n",
       "      <td>0.695</td>\n",
       "      <td>0.807</td>\n",
       "      <td>0.291</td>\n",
       "      <td>0.957</td>\n",
       "      <td>5</td>\n",
       "    </tr>\n",
       "  </tbody>\n",
       "</table>\n",
       "<p>2 rows × 35 columns</p>\n",
       "</div>"
      ],
      "text/plain": [
       "   label_3__accuracy__group_1  label_3__accuracy__group_2  \\\n",
       "0                       0.928                       0.944   \n",
       "1                       0.928                       0.944   \n",
       "\n",
       "   label_3__cross_entropy__group_1  label_3__cross_entropy__group_2  \\\n",
       "0                            0.257                            0.208   \n",
       "1                            0.251                            0.201   \n",
       "\n",
       "   label_3__f1_weighted__group_1  label_3__f1_weighted__group_2  \\\n",
       "0                          0.894                          0.917   \n",
       "1                          0.894                          0.917   \n",
       "\n",
       "   label_3__roc_auc__group_1  label_3__roc_auc__group_2  \\\n",
       "0                      0.591                      0.690   \n",
       "1                      0.661                      0.731   \n",
       "\n",
       "   label_4__accuracy__group_1  label_4__accuracy__group_2  ...  \\\n",
       "0                       0.952                       0.969  ...   \n",
       "1                       0.952                       0.969  ...   \n",
       "\n",
       "   label_6__accuracy__group_2  label_6__cross_entropy__group_1  \\\n",
       "0                       0.982                            0.093   \n",
       "1                       0.982                            0.092   \n",
       "\n",
       "   label_6__cross_entropy__group_2  label_6__f1_weighted__group_1  \\\n",
       "0                            0.079                          0.971   \n",
       "1                            0.078                          0.971   \n",
       "\n",
       "   label_6__f1_weighted__group_2  label_6__roc_auc__group_1  \\\n",
       "0                          0.973                      0.686   \n",
       "1                          0.973                      0.695   \n",
       "\n",
       "   label_6__roc_auc__group_2  calc_time  main_metric  epoch  \n",
       "0                      0.801      0.393        0.957      0  \n",
       "1                      0.807      0.291        0.957      5  \n",
       "\n",
       "[2 rows x 35 columns]"
      ]
     },
     "execution_count": 59,
     "metadata": {},
     "output_type": "execute_result"
    }
   ],
   "source": [
    "result[\"test_metric\"]"
   ]
  }
 ],
 "metadata": {
  "kernelspec": {
   "display_name": "CGKerner",
   "language": "python",
   "name": "cgkerner"
  },
  "language_info": {
   "codemirror_mode": {
    "name": "ipython",
    "version": 3
   },
   "file_extension": ".py",
   "mimetype": "text/x-python",
   "name": "python",
   "nbconvert_exporter": "python",
   "pygments_lexer": "ipython3",
   "version": "3.8.13"
  }
 },
 "nbformat": 4,
 "nbformat_minor": 5
}
