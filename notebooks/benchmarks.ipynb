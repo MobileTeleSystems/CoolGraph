{
 "cells": [
  {
   "cell_type": "markdown",
   "id": "55eef61f",
   "metadata": {},
   "source": [
    "# Measurement of benchmarks and comparison with SOTA "
   ]
  },
  {
   "cell_type": "code",
   "execution_count": 2,
   "id": "188ab776",
   "metadata": {
    "execution": {
     "iopub.execute_input": "2024-07-26T12:54:57.807289Z",
     "iopub.status.busy": "2024-07-26T12:54:57.806564Z",
     "iopub.status.idle": "2024-07-26T12:55:00.680593Z",
     "shell.execute_reply": "2024-07-26T12:55:00.679687Z",
     "shell.execute_reply.started": "2024-07-26T12:54:57.807262Z"
    }
   },
   "outputs": [],
   "source": [
    "from cool_graph.datasets import *\n",
    "from cool_graph.train.metrics import calc_metrics\n",
    "from cool_graph.runners import Runner, HypeRunner\n",
    "\n",
    "import numpy as np\n",
    "import pandas as pd\n",
    "import torch\n",
    "from torch_geometric.data import Data\n",
    "from sklearn.model_selection import train_test_split\n",
    "import os.path as osp"
   ]
  },
  {
   "cell_type": "code",
   "execution_count": 4,
   "id": "a3063b0c",
   "metadata": {
    "execution": {
     "iopub.execute_input": "2024-07-25T21:32:03.802804Z",
     "iopub.status.busy": "2024-07-25T21:32:03.802609Z",
     "iopub.status.idle": "2024-07-25T21:32:03.805495Z",
     "shell.execute_reply": "2024-07-25T21:32:03.804970Z",
     "shell.execute_reply.started": "2024-07-25T21:32:03.802788Z"
    }
   },
   "outputs": [],
   "source": [
    "names = [\n",
    "    'AntiFraud Amazon',\n",
    "    'AntiFraud YelpChi',\n",
    "    'Multitarget 10k',\n",
    "    'Multitarget 50k',\n",
    "    'NonHomophilous Penn94',\n",
    "    'NonHomophilous Genius',\n",
    "    'S_FFSD',\n",
    "    'OgbnProteins',\n",
    "]"
   ]
  },
  {
   "cell_type": "markdown",
   "id": "453d6eab",
   "metadata": {},
   "source": [
    "Genius dataset is processed for quite a long time, but quickly comes to good results. <br>\n",
    "OgbnProteins takes a very long time to process."
   ]
  },
  {
   "cell_type": "code",
   "execution_count": 5,
   "id": "3e991e76",
   "metadata": {
    "execution": {
     "iopub.execute_input": "2024-07-25T21:32:03.806280Z",
     "iopub.status.busy": "2024-07-25T21:32:03.806105Z",
     "iopub.status.idle": "2024-07-25T21:32:03.809041Z",
     "shell.execute_reply": "2024-07-25T21:32:03.808571Z",
     "shell.execute_reply.started": "2024-07-25T21:32:03.806266Z"
    }
   },
   "outputs": [],
   "source": [
    "overrides = {\n",
    "    'AntiFraud Amazon': [],\n",
    "    'AntiFraud YelpChi': [],\n",
    "    'Multitarget 10k': [],\n",
    "    'Multitarget 50k': [],\n",
    "    'NonHomophilous Penn94': [],\n",
    "    'NonHomophilous Genius': ['training.n_epochs=20'],\n",
    "    'S_FFSD': [],\n",
    "    'OgbnProteins': ['training.n_epochs=20'],\n",
    "}"
   ]
  },
  {
   "cell_type": "markdown",
   "id": "0ba5bc74",
   "metadata": {},
   "source": [
    "The processing time of datasets is different, so the number of trials is different"
   ]
  },
  {
   "cell_type": "code",
   "execution_count": 6,
   "id": "aa7c2c24",
   "metadata": {
    "execution": {
     "iopub.execute_input": "2024-07-25T21:32:03.809820Z",
     "iopub.status.busy": "2024-07-25T21:32:03.809641Z",
     "iopub.status.idle": "2024-07-25T21:32:03.812528Z",
     "shell.execute_reply": "2024-07-25T21:32:03.812034Z",
     "shell.execute_reply.started": "2024-07-25T21:32:03.809805Z"
    }
   },
   "outputs": [],
   "source": [
    "n_trials = {\n",
    "    'AntiFraud Amazon': 50,\n",
    "    'AntiFraud YelpChi': 20,\n",
    "    'Multitarget 10k': 50,\n",
    "    'Multitarget 50k': 50,\n",
    "    'NonHomophilous Penn94': 40,\n",
    "    'NonHomophilous Genius': 20,\n",
    "    'S_FFSD': 40,\n",
    "    'OgbnProteins': 3,\n",
    "}"
   ]
  },
  {
   "cell_type": "markdown",
   "id": "d2161c64",
   "metadata": {},
   "source": [
    "The metrics are taken from paperswithcode.com"
   ]
  },
  {
   "cell_type": "code",
   "execution_count": 7,
   "id": "b7ca63b1",
   "metadata": {
    "execution": {
     "iopub.execute_input": "2024-07-25T21:32:03.813261Z",
     "iopub.status.busy": "2024-07-25T21:32:03.813091Z",
     "iopub.status.idle": "2024-07-25T21:32:03.815954Z",
     "shell.execute_reply": "2024-07-25T21:32:03.815480Z",
     "shell.execute_reply.started": "2024-07-25T21:32:03.813245Z"
    }
   },
   "outputs": [],
   "source": [
    "main_metrics = {\n",
    "    'AntiFraud Amazon': 'roc_auc',\n",
    "    'AntiFraud YelpChi': 'roc_auc',\n",
    "    'Multitarget 10k': 'roc_auc',\n",
    "    'Multitarget 50k': 'roc_auc',\n",
    "    'NonHomophilous Penn94': 'accuracy',\n",
    "    'NonHomophilous Genius': 'accuracy',\n",
    "    'S_FFSD': 'accuracy',\n",
    "    'OgbnProteins': 'roc_auc',\n",
    "}"
   ]
  },
  {
   "cell_type": "code",
   "execution_count": 8,
   "id": "32ab7c4d",
   "metadata": {
    "execution": {
     "iopub.execute_input": "2024-07-25T21:32:03.816691Z",
     "iopub.status.busy": "2024-07-25T21:32:03.816503Z",
     "iopub.status.idle": "2024-07-25T21:32:03.818929Z",
     "shell.execute_reply": "2024-07-25T21:32:03.818429Z",
     "shell.execute_reply.started": "2024-07-25T21:32:03.816676Z"
    }
   },
   "outputs": [],
   "source": [
    "root = './data/benchmarks'"
   ]
  },
  {
   "cell_type": "code",
   "execution_count": 9,
   "id": "c042253f",
   "metadata": {
    "execution": {
     "iopub.execute_input": "2024-07-25T21:32:03.819678Z",
     "iopub.status.busy": "2024-07-25T21:32:03.819492Z",
     "iopub.status.idle": "2024-07-25T21:32:16.943929Z",
     "shell.execute_reply": "2024-07-25T21:32:16.943217Z",
     "shell.execute_reply.started": "2024-07-25T21:32:03.819662Z"
    }
   },
   "outputs": [
    {
     "name": "stderr",
     "output_type": "stream",
     "text": [
      "Using existing file ./data/benchmarks/amazon/Amazon_data.pt\n",
      "Using existing file ./data/benchmarks/yelpchi/YelpChi_data.pt\n",
      "Using existing file ./data/benchmarks/10k/10k_data.pt\n",
      "Using existing file ./data/benchmarks/50k/50k_data.pt\n",
      "Using existing file ./data/benchmarks/penn94/Penn94_data.pt\n",
      "Using existing file ./data/benchmarks/genius/Genius_data.pt\n",
      "Using existing file ./data/benchmarks/s_ffsd/S-FFSD_data.pt\n",
      "Using existing file ./data/benchmarks/ogbnproteins/ogbn-proteins_data.pt\n"
     ]
    }
   ],
   "source": [
    "all_data = {}\n",
    "for dataname in names:\n",
    "    if ' ' in dataname:\n",
    "        dataset, name = dataname.split(' ')\n",
    "        all_data[dataname] = globals()[dataset](root=root, name=name).data\n",
    "    else:\n",
    "        folder = dataname.lower()\n",
    "        all_data[dataname] = globals()[dataname](root=osp.join(root, folder)).data\n",
    "    "
   ]
  },
  {
   "cell_type": "markdown",
   "id": "22e31508",
   "metadata": {},
   "source": [
    "In the Penn94 dataset, all features are categorical"
   ]
  },
  {
   "cell_type": "code",
   "execution_count": 10,
   "id": "10f02e05",
   "metadata": {
    "execution": {
     "iopub.execute_input": "2024-07-25T21:32:16.945099Z",
     "iopub.status.busy": "2024-07-25T21:32:16.944870Z",
     "iopub.status.idle": "2024-07-25T21:32:16.948684Z",
     "shell.execute_reply": "2024-07-25T21:32:16.948137Z",
     "shell.execute_reply.started": "2024-07-25T21:32:16.945080Z"
    }
   },
   "outputs": [],
   "source": [
    "all_data['NonHomophilous Penn94'].x_cat = all_data['NonHomophilous Penn94'].x[:, 0:6]\n",
    "all_data['NonHomophilous Penn94'].x = all_data['NonHomophilous Penn94'].x[:, 0:1]"
   ]
  },
  {
   "cell_type": "markdown",
   "id": "5fed5c94",
   "metadata": {},
   "source": [
    "In the Genius dataset, some features are categorical"
   ]
  },
  {
   "cell_type": "code",
   "execution_count": 11,
   "id": "23bf8cea",
   "metadata": {
    "execution": {
     "iopub.execute_input": "2024-07-25T21:32:16.949486Z",
     "iopub.status.busy": "2024-07-25T21:32:16.949308Z",
     "iopub.status.idle": "2024-07-25T21:32:16.952474Z",
     "shell.execute_reply": "2024-07-25T21:32:16.951845Z",
     "shell.execute_reply.started": "2024-07-25T21:32:16.949470Z"
    }
   },
   "outputs": [],
   "source": [
    "all_data['NonHomophilous Genius'].x_cat = all_data['NonHomophilous Genius'].x[:, 7:12]\n",
    "all_data['NonHomophilous Genius'].x = all_data['NonHomophilous Genius'].x[:, 0:7]"
   ]
  },
  {
   "cell_type": "markdown",
   "id": "934fa227",
   "metadata": {},
   "source": [
    "Process only the homogeneous part of Multitarget datasets"
   ]
  },
  {
   "cell_type": "code",
   "execution_count": 12,
   "id": "32c18281",
   "metadata": {
    "execution": {
     "iopub.execute_input": "2024-07-25T21:32:16.953230Z",
     "iopub.status.busy": "2024-07-25T21:32:16.953057Z",
     "iopub.status.idle": "2024-07-25T21:32:17.000607Z",
     "shell.execute_reply": "2024-07-25T21:32:16.999865Z",
     "shell.execute_reply.started": "2024-07-25T21:32:16.953215Z"
    }
   },
   "outputs": [],
   "source": [
    "hetero_data = all_data['Multitarget 10k']\n",
    "all_data['Multitarget 10k'] = Data(**hetero_data['node_1'], **hetero_data[('node_1', 'to', 'node_1')])\n",
    "all_data['Multitarget 10k'].y = torch.tensor(all_data['Multitarget 10k'].y.max(dim=1).values)"
   ]
  },
  {
   "cell_type": "code",
   "execution_count": 13,
   "id": "5653a0e7",
   "metadata": {
    "execution": {
     "iopub.execute_input": "2024-07-25T21:32:17.005790Z",
     "iopub.status.busy": "2024-07-25T21:32:17.004739Z",
     "iopub.status.idle": "2024-07-25T21:32:17.221534Z",
     "shell.execute_reply": "2024-07-25T21:32:17.220675Z",
     "shell.execute_reply.started": "2024-07-25T21:32:17.005764Z"
    }
   },
   "outputs": [],
   "source": [
    "hetero_data = all_data['Multitarget 50k']\n",
    "all_data['Multitarget 50k'] = Data(**hetero_data['node_1'], **hetero_data[('node_1', 'to', 'node_1')])\n",
    "all_data['Multitarget 50k'].y = torch.tensor(all_data['Multitarget 50k'].y.max(dim=1).values)"
   ]
  },
  {
   "cell_type": "code",
   "execution_count": 14,
   "id": "b1856f67",
   "metadata": {
    "execution": {
     "iopub.execute_input": "2024-07-25T21:32:17.223390Z",
     "iopub.status.busy": "2024-07-25T21:32:17.222861Z",
     "iopub.status.idle": "2024-07-25T21:32:17.227105Z",
     "shell.execute_reply": "2024-07-25T21:32:17.226447Z",
     "shell.execute_reply.started": "2024-07-25T21:32:17.223363Z"
    }
   },
   "outputs": [],
   "source": [
    "metrics = ['accuracy', 'roc_auc']"
   ]
  },
  {
   "cell_type": "markdown",
   "id": "769cb806",
   "metadata": {},
   "source": [
    "Divide the node indexes into train, validation and test with sizes 0.6, 0.2, 0.2"
   ]
  },
  {
   "cell_type": "code",
   "execution_count": 15,
   "id": "f5306725",
   "metadata": {
    "execution": {
     "iopub.execute_input": "2024-07-25T21:32:17.228570Z",
     "iopub.status.busy": "2024-07-25T21:32:17.228136Z",
     "iopub.status.idle": "2024-07-25T21:32:17.232890Z",
     "shell.execute_reply": "2024-07-25T21:32:17.232122Z",
     "shell.execute_reply.started": "2024-07-25T21:32:17.228547Z"
    }
   },
   "outputs": [],
   "source": [
    "def train_val_test_split(data, seed=None):\n",
    "    idx = list(range(data.x.shape[0]))\n",
    "    train_idx, test_idx = train_test_split(idx, test_size=0.4, random_state=seed)\n",
    "    valid_idx, test_idx = train_test_split(test_idx, test_size=0.5, random_state=seed)\n",
    "    return train_idx, valid_idx, test_idx"
   ]
  },
  {
   "cell_type": "markdown",
   "id": "e501b2eb",
   "metadata": {},
   "source": [
    "Each dataset is processed using HypeRunner <br>\n",
    "The model is trained on the train and validation nodes, after which the quality is calculated on the test nodes"
   ]
  },
  {
   "cell_type": "code",
   "execution_count": 16,
   "id": "ad5fec24",
   "metadata": {
    "execution": {
     "iopub.execute_input": "2024-07-25T21:32:17.234158Z",
     "iopub.status.busy": "2024-07-25T21:32:17.233932Z",
     "iopub.status.idle": "2024-07-26T05:08:54.287160Z",
     "shell.execute_reply": "2024-07-26T05:08:54.285222Z",
     "shell.execute_reply.started": "2024-07-25T21:32:17.234139Z"
    }
   },
   "outputs": [
    {
     "name": "stdout",
     "output_type": "stream",
     "text": [
      "AntiFraud Amazon\n"
     ]
    },
    {
     "name": "stderr",
     "output_type": "stream",
     "text": [
      "                                              \r"
     ]
    },
    {
     "name": "stdout",
     "output_type": "stream",
     "text": [
      "AntiFraud YelpChi\n"
     ]
    },
    {
     "name": "stderr",
     "output_type": "stream",
     "text": [
      "                                               \r"
     ]
    },
    {
     "name": "stdout",
     "output_type": "stream",
     "text": [
      "Multitarget 10k\n"
     ]
    },
    {
     "name": "stderr",
     "output_type": "stream",
     "text": [
      "                                     \r"
     ]
    },
    {
     "name": "stdout",
     "output_type": "stream",
     "text": [
      "Multitarget 50k\n"
     ]
    },
    {
     "name": "stderr",
     "output_type": "stream",
     "text": [
      "                                               \r"
     ]
    },
    {
     "name": "stdout",
     "output_type": "stream",
     "text": [
      "NonHomophilous Penn94\n"
     ]
    },
    {
     "name": "stderr",
     "output_type": "stream",
     "text": [
      "                                               \r"
     ]
    },
    {
     "name": "stdout",
     "output_type": "stream",
     "text": [
      "NonHomophilous Genius\n"
     ]
    },
    {
     "name": "stderr",
     "output_type": "stream",
     "text": [
      "                                                  \r"
     ]
    },
    {
     "name": "stdout",
     "output_type": "stream",
     "text": [
      "S_FFSD\n"
     ]
    },
    {
     "name": "stderr",
     "output_type": "stream",
     "text": [
      "                                                \r"
     ]
    },
    {
     "name": "stdout",
     "output_type": "stream",
     "text": [
      "OgbnProteins\n"
     ]
    },
    {
     "name": "stderr",
     "output_type": "stream",
     "text": [
      "                                                 \r"
     ]
    }
   ],
   "source": [
    "results = {}\n",
    "seed=42\n",
    "for name, data in all_data.items():\n",
    "    train_idx, valid_idx, test_idx = train_val_test_split(data, seed)\n",
    "    if hasattr(data, 'label_mask') and data.label_mask != None:\n",
    "        test_idx = [id for id in test_idx if data.label_mask[id]]\n",
    "        valid_idx = [id for id in valid_idx if data.label_mask[id]]\n",
    "        train_idx = [id for id in train_idx if data.label_mask[id]]\n",
    "\n",
    "    print(name)\n",
    "    runner = HypeRunner(\n",
    "        data,\n",
    "        seed=seed,\n",
    "        use_edge_attr = hasattr(data, 'edge_attr') and data.edge_attr != None,\n",
    "        train_idx=train_idx,\n",
    "        test_idx=valid_idx,\n",
    "        overrides=overrides[name],\n",
    "        main_metric=main_metrics[name],\n",
    "        verbose=False\n",
    "    )\n",
    "    runner.optimize_run(n_trials=n_trials[name])\n",
    "    preds, indices = runner.predict_proba(data, test_idx)\n",
    "    results[name] = calc_metrics(\n",
    "        data,\n",
    "        preds,\n",
    "        metrics,\n",
    "        indices,\n",
    "    )"
   ]
  },
  {
   "cell_type": "markdown",
   "id": "f287c8a4",
   "metadata": {},
   "source": [
    "for OgbnProteins, the metric is the arithmetic mean of the metrics for all targets"
   ]
  },
  {
   "cell_type": "code",
   "execution_count": 17,
   "id": "b853df60",
   "metadata": {
    "execution": {
     "iopub.execute_input": "2024-07-26T05:08:54.289898Z",
     "iopub.status.busy": "2024-07-26T05:08:54.289577Z",
     "iopub.status.idle": "2024-07-26T05:08:54.297417Z",
     "shell.execute_reply": "2024-07-26T05:08:54.296303Z",
     "shell.execute_reply.started": "2024-07-26T05:08:54.289870Z"
    }
   },
   "outputs": [],
   "source": [
    "results['OgbnProteins'] = {\n",
    "    'y': {\n",
    "        'accuracy': np.mean([results['OgbnProteins']['y' + str(i)]['accuracy'] for i in range(112)]),\n",
    "        'roc_auc': np.mean([results['OgbnProteins']['y' + str(i)]['roc_auc'] for i in range(112)])\n",
    "    }\n",
    "}"
   ]
  },
  {
   "cell_type": "markdown",
   "id": "7ab4f2cd",
   "metadata": {},
   "source": [
    "Process the results and tabulate them"
   ]
  },
  {
   "cell_type": "code",
   "execution_count": 18,
   "id": "ce99aeb5",
   "metadata": {
    "execution": {
     "iopub.execute_input": "2024-07-26T05:08:54.298570Z",
     "iopub.status.busy": "2024-07-26T05:08:54.298374Z",
     "iopub.status.idle": "2024-07-26T05:08:54.302402Z",
     "shell.execute_reply": "2024-07-26T05:08:54.301704Z",
     "shell.execute_reply.started": "2024-07-26T05:08:54.298553Z"
    }
   },
   "outputs": [],
   "source": [
    "for dataset in results.keys():\n",
    "    results[dataset] = results[dataset]['y']"
   ]
  },
  {
   "cell_type": "code",
   "execution_count": 19,
   "id": "adb2c70f",
   "metadata": {
    "execution": {
     "iopub.execute_input": "2024-07-26T05:08:54.303338Z",
     "iopub.status.busy": "2024-07-26T05:08:54.303157Z",
     "iopub.status.idle": "2024-07-26T05:08:54.309967Z",
     "shell.execute_reply": "2024-07-26T05:08:54.309200Z",
     "shell.execute_reply.started": "2024-07-26T05:08:54.303322Z"
    }
   },
   "outputs": [],
   "source": [
    "benchmarks = pd.DataFrame(results).transpose()"
   ]
  },
  {
   "cell_type": "code",
   "execution_count": 20,
   "id": "0d176fae",
   "metadata": {
    "execution": {
     "iopub.execute_input": "2024-07-26T05:08:54.310751Z",
     "iopub.status.busy": "2024-07-26T05:08:54.310548Z",
     "iopub.status.idle": "2024-07-26T05:08:54.315499Z",
     "shell.execute_reply": "2024-07-26T05:08:54.314700Z",
     "shell.execute_reply.started": "2024-07-26T05:08:54.310735Z"
    }
   },
   "outputs": [],
   "source": [
    "sota_roc_auc = {\n",
    "    'AntiFraud Amazon': 0.9750,\n",
    "    'AntiFraud YelpChi': 0.9498,\n",
    "    'Multitarget 10k': '-',\n",
    "    'Multitarget 50k': '-',\n",
    "    'NonHomophilous Penn94': '-',\n",
    "    'NonHomophilous Genius': '-',\n",
    "    'S_FFSD': 0.8461,\n",
    "    'OgbnProteins': 0.8942,\n",
    "}\n",
    "sota_accuracy = {\n",
    "    'AntiFraud Amazon': '-',\n",
    "    'AntiFraud YelpChi': '-',\n",
    "    'Multitarget 10k': '-',\n",
    "    'Multitarget 50k': '-',\n",
    "    'NonHomophilous Penn94': 0.8609,\n",
    "    'NonHomophilous Genius': 0.9145,\n",
    "    'S_FFSD': '-',\n",
    "    'OgbnProteins': '-',\n",
    "}"
   ]
  },
  {
   "cell_type": "code",
   "execution_count": 21,
   "id": "b3634c43",
   "metadata": {
    "execution": {
     "iopub.execute_input": "2024-07-26T05:08:54.316268Z",
     "iopub.status.busy": "2024-07-26T05:08:54.316092Z",
     "iopub.status.idle": "2024-07-26T05:08:54.321908Z",
     "shell.execute_reply": "2024-07-26T05:08:54.321090Z",
     "shell.execute_reply.started": "2024-07-26T05:08:54.316253Z"
    }
   },
   "outputs": [],
   "source": [
    "benchmarks['sota_accuracy'] = pd.Series(sota_accuracy)\n",
    "benchmarks['sota_roc_auc'] = pd.Series(sota_roc_auc)"
   ]
  },
  {
   "cell_type": "code",
   "execution_count": 22,
   "id": "42166037",
   "metadata": {
    "execution": {
     "iopub.execute_input": "2024-07-26T05:08:54.322682Z",
     "iopub.status.busy": "2024-07-26T05:08:54.322483Z",
     "iopub.status.idle": "2024-07-26T05:08:54.326284Z",
     "shell.execute_reply": "2024-07-26T05:08:54.325513Z",
     "shell.execute_reply.started": "2024-07-26T05:08:54.322666Z"
    }
   },
   "outputs": [],
   "source": [
    "pd.options.display.float_format = '{:,.4f}'.format"
   ]
  },
  {
   "cell_type": "code",
   "execution_count": 23,
   "id": "fb66ce40",
   "metadata": {
    "execution": {
     "iopub.execute_input": "2024-07-26T05:08:54.327046Z",
     "iopub.status.busy": "2024-07-26T05:08:54.326869Z",
     "iopub.status.idle": "2024-07-26T05:08:54.342748Z",
     "shell.execute_reply": "2024-07-26T05:08:54.342030Z",
     "shell.execute_reply.started": "2024-07-26T05:08:54.327030Z"
    }
   },
   "outputs": [
    {
     "data": {
      "text/html": [
       "<div>\n",
       "<style scoped>\n",
       "    .dataframe tbody tr th:only-of-type {\n",
       "        vertical-align: middle;\n",
       "    }\n",
       "\n",
       "    .dataframe tbody tr th {\n",
       "        vertical-align: top;\n",
       "    }\n",
       "\n",
       "    .dataframe thead th {\n",
       "        text-align: right;\n",
       "    }\n",
       "</style>\n",
       "<table border=\"1\" class=\"dataframe\">\n",
       "  <thead>\n",
       "    <tr style=\"text-align: right;\">\n",
       "      <th></th>\n",
       "      <th>accuracy</th>\n",
       "      <th>roc_auc</th>\n",
       "      <th>sota_accuracy</th>\n",
       "      <th>sota_roc_auc</th>\n",
       "    </tr>\n",
       "  </thead>\n",
       "  <tbody>\n",
       "    <tr>\n",
       "      <th>AntiFraud Amazon</th>\n",
       "      <td>0.9828</td>\n",
       "      <td>0.9617</td>\n",
       "      <td>-</td>\n",
       "      <td>0.9750</td>\n",
       "    </tr>\n",
       "    <tr>\n",
       "      <th>AntiFraud YelpChi</th>\n",
       "      <td>0.9050</td>\n",
       "      <td>0.9176</td>\n",
       "      <td>-</td>\n",
       "      <td>0.9498</td>\n",
       "    </tr>\n",
       "    <tr>\n",
       "      <th>Multitarget 10k</th>\n",
       "      <td>0.8651</td>\n",
       "      <td>0.7415</td>\n",
       "      <td>-</td>\n",
       "      <td>-</td>\n",
       "    </tr>\n",
       "    <tr>\n",
       "      <th>Multitarget 50k</th>\n",
       "      <td>0.8637</td>\n",
       "      <td>0.7973</td>\n",
       "      <td>-</td>\n",
       "      <td>-</td>\n",
       "    </tr>\n",
       "    <tr>\n",
       "      <th>NonHomophilous Penn94</th>\n",
       "      <td>0.7829</td>\n",
       "      <td>0.8714</td>\n",
       "      <td>0.8609</td>\n",
       "      <td>-</td>\n",
       "    </tr>\n",
       "    <tr>\n",
       "      <th>NonHomophilous Genius</th>\n",
       "      <td>0.8405</td>\n",
       "      <td>0.9016</td>\n",
       "      <td>0.9145</td>\n",
       "      <td>-</td>\n",
       "    </tr>\n",
       "    <tr>\n",
       "      <th>S_FFSD</th>\n",
       "      <td>0.8961</td>\n",
       "      <td>0.8932</td>\n",
       "      <td>-</td>\n",
       "      <td>0.8461</td>\n",
       "    </tr>\n",
       "    <tr>\n",
       "      <th>OgbnProteins</th>\n",
       "      <td>0.8967</td>\n",
       "      <td>0.8058</td>\n",
       "      <td>-</td>\n",
       "      <td>0.8942</td>\n",
       "    </tr>\n",
       "  </tbody>\n",
       "</table>\n",
       "</div>"
      ],
      "text/plain": [
       "                       accuracy  roc_auc sota_accuracy sota_roc_auc\n",
       "AntiFraud Amazon         0.9828   0.9617             -       0.9750\n",
       "AntiFraud YelpChi        0.9050   0.9176             -       0.9498\n",
       "Multitarget 10k          0.8651   0.7415             -            -\n",
       "Multitarget 50k          0.8637   0.7973             -            -\n",
       "NonHomophilous Penn94    0.7829   0.8714        0.8609            -\n",
       "NonHomophilous Genius    0.8405   0.9016        0.9145            -\n",
       "S_FFSD                   0.8961   0.8932             -       0.8461\n",
       "OgbnProteins             0.8967   0.8058             -       0.8942"
      ]
     },
     "execution_count": 23,
     "metadata": {},
     "output_type": "execute_result"
    }
   ],
   "source": [
    "benchmarks"
   ]
  },
  {
   "cell_type": "code",
   "execution_count": 24,
   "id": "a6dfc266",
   "metadata": {
    "execution": {
     "iopub.execute_input": "2024-07-26T05:08:54.343497Z",
     "iopub.status.busy": "2024-07-26T05:08:54.343321Z",
     "iopub.status.idle": "2024-07-26T05:08:54.348741Z",
     "shell.execute_reply": "2024-07-26T05:08:54.348039Z",
     "shell.execute_reply.started": "2024-07-26T05:08:54.343482Z"
    }
   },
   "outputs": [
    {
     "data": {
      "text/plain": [
       "{'AntiFraud Amazon': {'accuracy': 0.9828380075345333,\n",
       "  'roc_auc': 0.9617322331178102},\n",
       " 'AntiFraud YelpChi': {'accuracy': 0.905015776302905,\n",
       "  'roc_auc': 0.9176270039168578},\n",
       " 'Multitarget 10k': {'accuracy': 0.8651102464332037,\n",
       "  'roc_auc': 0.7415073352573353},\n",
       " 'Multitarget 50k': {'accuracy': 0.8637289862455425,\n",
       "  'roc_auc': 0.7973168463199725},\n",
       " 'NonHomophilous Penn94': {'accuracy': 0.78285566744126,\n",
       "  'roc_auc': 0.8713995158595165},\n",
       " 'NonHomophilous Genius': {'accuracy': 0.8404844003649592,\n",
       "  'roc_auc': 0.9015878814798921},\n",
       " 'S_FFSD': {'accuracy': 0.8960579514824798, 'roc_auc': 0.8932157615617693},\n",
       " 'OgbnProteins': {'accuracy': 0.8967105724094443,\n",
       "  'roc_auc': 0.8057667823357261}}"
      ]
     },
     "execution_count": 24,
     "metadata": {},
     "output_type": "execute_result"
    }
   ],
   "source": [
    "results"
   ]
  }
 ],
 "metadata": {
  "kernelspec": {
   "display_name": "cool_graph_kernel2",
   "language": "python",
   "name": "cool_graph_kernel2"
  },
  "language_info": {
   "codemirror_mode": {
    "name": "ipython",
    "version": 3
   },
   "file_extension": ".py",
   "mimetype": "text/x-python",
   "name": "python",
   "nbconvert_exporter": "python",
   "pygments_lexer": "ipython3",
   "version": "3.8.13"
  }
 },
 "nbformat": 4,
 "nbformat_minor": 5
}
