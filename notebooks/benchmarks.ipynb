{
 "cells": [
  {
   "cell_type": "markdown",
   "id": "e1189a1e",
   "metadata": {},
   "source": [
    "# Measurement of benchmarks and comparison with SOTA \n",
    "1. [Amazon Computers](amazon_computers)\n",
    "2. [Amazon Photo](amazon_photo)\n",
    "3. [Amazon-Fraud](amazon_fraud)\n",
    "4. [YelpChi](yelp_chi)\n",
    "5. [Multitarget 10k](multitarget_10k)\n",
    "6. [Multitarget 50k](multitarget_50k)\n",
    "7. [Penn94](penn_94)\n",
    "8. [Genius](genius)"
   ]
  },
  {
   "cell_type": "markdown",
   "id": "1d7eb9bb",
   "metadata": {},
   "source": []
  },
  {
   "cell_type": "code",
   "execution_count": 1,
   "id": "78540763",
   "metadata": {
    "execution": {
     "iopub.execute_input": "2024-08-20T00:11:02.133696Z",
     "iopub.status.busy": "2024-08-20T00:11:02.132482Z",
     "iopub.status.idle": "2024-08-20T00:11:02.140784Z",
     "shell.execute_reply": "2024-08-20T00:11:02.140190Z",
     "shell.execute_reply.started": "2024-08-20T00:11:02.133667Z"
    }
   },
   "outputs": [],
   "source": [
    "import warnings\n",
    "warnings.filterwarnings(\"ignore\")"
   ]
  },
  {
   "cell_type": "code",
   "execution_count": 2,
   "id": "6c01d8a7",
   "metadata": {
    "execution": {
     "iopub.execute_input": "2024-08-20T00:11:02.984107Z",
     "iopub.status.busy": "2024-08-20T00:11:02.983576Z",
     "iopub.status.idle": "2024-08-20T00:11:06.114554Z",
     "shell.execute_reply": "2024-08-20T00:11:06.113862Z",
     "shell.execute_reply.started": "2024-08-20T00:11:02.984068Z"
    }
   },
   "outputs": [],
   "source": [
    "from cool_graph.data.utils import count_degree\n",
    "from torch_geometric.datasets import Amazon\n",
    "from torch_geometric.utils.convert import to_networkx\n",
    "import matplotlib.pyplot as plt\n",
    "import networkx as nx\n",
    "import numpy as np\n",
    "from tqdm import tqdm\n",
    "import cool_graph\n",
    "from cool_graph.runners import Runner, HypeRunner\n",
    "from sklearn.model_selection import train_test_split\n",
    "from cool_graph.train.metrics import calc_metrics\n",
    "import pandas as pd\n",
    "from tqdm.contrib import itertools\n",
    "import seaborn as sns\n",
    "from scipy import stats\n",
    "from typing import List, Optional, Literal\n",
    "from torch_geometric.data import Data\n",
    "from cool_graph.datasets import AntiFraud, Multitarget, NonHomophilous, OgbnProteins"
   ]
  },
  {
   "cell_type": "code",
   "execution_count": 3,
   "id": "722b6985",
   "metadata": {
    "execution": {
     "iopub.execute_input": "2024-08-20T00:11:19.155232Z",
     "iopub.status.busy": "2024-08-20T00:11:19.154116Z",
     "iopub.status.idle": "2024-08-20T00:11:19.159699Z",
     "shell.execute_reply": "2024-08-20T00:11:19.159047Z",
     "shell.execute_reply.started": "2024-08-20T00:11:19.155205Z"
    }
   },
   "outputs": [],
   "source": [
    "class DataInfo:\n",
    "    name: str\n",
    "    data: Data\n",
    "    preproc_data: callable\n",
    "    split_data: callable\n",
    "    preproc_results: callable\n",
    "        \n",
    "    def __init__(\n",
    "        self,\n",
    "        name: str,\n",
    "        data: Data,\n",
    "        preproc_data: callable,\n",
    "        split_data: callable,\n",
    "        preproc_results: callable\n",
    "    ):\n",
    "        self.name=name\n",
    "        self.data=data\n",
    "        self.preproc_data=preproc_data\n",
    "        self.split_data=split_data\n",
    "        self.preproc_results=preproc_results"
   ]
  },
  {
   "cell_type": "code",
   "execution_count": 4,
   "id": "1d58fff1",
   "metadata": {
    "execution": {
     "iopub.execute_input": "2024-08-20T00:11:22.382725Z",
     "iopub.status.busy": "2024-08-20T00:11:22.381994Z",
     "iopub.status.idle": "2024-08-20T00:11:22.389874Z",
     "shell.execute_reply": "2024-08-20T00:11:22.389082Z",
     "shell.execute_reply.started": "2024-08-20T00:11:22.382693Z"
    }
   },
   "outputs": [],
   "source": [
    "class RunnerInfo:\n",
    "    model_type: Literal['Runner', 'HypeRunner']\n",
    "    main_metric: 'str'\n",
    "    overrides: List[str]\n",
    "    n_trials: int\n",
    "    verbose: bool\n",
    "        \n",
    "    def __init__(\n",
    "        self,\n",
    "        model_type,\n",
    "        main_metric,\n",
    "        overrides,\n",
    "        verbose = False,\n",
    "        n_trials = 1,\n",
    "    ):\n",
    "        self.model_type = model_type\n",
    "        self.main_metric = main_metric\n",
    "        self.overrides = overrides\n",
    "        self.verbose = verbose\n",
    "        self.n_trials = n_trials if model_type == 'HypeRunner' else 0\n",
    "        \n",
    "    def init_runner(self, data, train_idx=None, valid_idx=None, seed=None):\n",
    "        ModelType = Runner if self.model_type == 'Runner' else HypeRunner\n",
    "        self.model = ModelType(\n",
    "            data=data,\n",
    "            seed=seed,\n",
    "            train_idx=train_idx,\n",
    "            test_idx=valid_idx,\n",
    "            main_metric=self.main_metric,\n",
    "            overrides=self.overrides,\n",
    "            verbose=self.verbose\n",
    "        )\n",
    "    \n",
    "    def run(self):\n",
    "        if self.model_type == 'Runner':\n",
    "            _ = self.model.run()\n",
    "        elif self.model_type == 'HypeRunner':\n",
    "            _ = self.model.optimize_run(n_trials=self.n_trials)\n",
    "    \n",
    "    def predict(self, data, test_idx):\n",
    "        preds, indices = self.model.predict_proba(data, test_idx)\n",
    "        res = calc_metrics(\n",
    "            data,\n",
    "            preds,\n",
    "            self.main_metric,\n",
    "            indices,\n",
    "        )\n",
    "        return res"
   ]
  },
  {
   "cell_type": "code",
   "execution_count": 5,
   "id": "b3167ef5",
   "metadata": {
    "execution": {
     "iopub.execute_input": "2024-08-20T00:11:24.667921Z",
     "iopub.status.busy": "2024-08-20T00:11:24.667113Z",
     "iopub.status.idle": "2024-08-20T00:11:24.672712Z",
     "shell.execute_reply": "2024-08-20T00:11:24.671968Z",
     "shell.execute_reply.started": "2024-08-20T00:11:24.667894Z"
    }
   },
   "outputs": [],
   "source": [
    "def eval_score(data_info: DataInfo, runner_info: RunnerInfo, n_tests=5, verbose=True):\n",
    "    scores = []\n",
    "    \n",
    "    for i in tqdm(range(n_tests)) if verbose else range(n_tests):\n",
    "        seed = 42 + i\n",
    "        data = data_info.preproc_data(data_info.data.clone())\n",
    "        train_idx, valid_idx, test_idx = data_info.split_data(data, seed=seed)\n",
    "        \n",
    "        runner_info.init_runner(data, train_idx, valid_idx, seed)\n",
    "        runner_info.run()\n",
    "        score = runner_info.predict(data, test_idx)\n",
    "        \n",
    "        scores.append(data_info.preproc_results(score))\n",
    "    \n",
    "    return scores"
   ]
  },
  {
   "cell_type": "code",
   "execution_count": 6,
   "id": "60aa067a",
   "metadata": {
    "execution": {
     "iopub.execute_input": "2024-08-20T00:11:28.672476Z",
     "iopub.status.busy": "2024-08-20T00:11:28.671878Z",
     "iopub.status.idle": "2024-08-20T00:11:28.676938Z",
     "shell.execute_reply": "2024-08-20T00:11:28.676401Z",
     "shell.execute_reply.started": "2024-08-20T00:11:28.672455Z"
    }
   },
   "outputs": [],
   "source": [
    "def data_split_default(data, train_size=0.6, valid_size=0.2, test_size=0.2, seed=None):\n",
    "    idx = list(range(data.x.shape[0]))\n",
    "    if hasattr(data, 'label_mask') and data.label_mask != None:\n",
    "        idx = [id for id in idx if data.label_mask[id]]\n",
    "        \n",
    "    train_idx, test_idx = train_test_split(idx, test_size=valid_size + test_size, random_state=seed)\n",
    "    valid_idx, test_idx = train_test_split(test_idx, test_size=test_size / (valid_size + test_size), random_state=seed)\n",
    "\n",
    "    return train_idx, valid_idx, test_idx"
   ]
  },
  {
   "cell_type": "markdown",
   "id": "4f304332",
   "metadata": {},
   "source": [
    "## 1. Amazon Computers <a name=\"amazon_computers\"></a>"
   ]
  },
  {
   "cell_type": "code",
   "execution_count": 7,
   "id": "63bf6500",
   "metadata": {
    "execution": {
     "iopub.execute_input": "2024-08-16T22:55:15.949182Z",
     "iopub.status.busy": "2024-08-16T22:55:15.948564Z",
     "iopub.status.idle": "2024-08-16T22:55:16.010492Z",
     "shell.execute_reply": "2024-08-16T22:55:16.009074Z",
     "shell.execute_reply.started": "2024-08-16T22:55:15.949156Z"
    }
   },
   "outputs": [],
   "source": [
    "amazon_computers_data = DataInfo(\n",
    "    name = 'Amazon Computers',\n",
    "    data = Amazon(root='./data', name='Computers').data,\n",
    "    preproc_data = lambda data: data,\n",
    "    split_data = data_split_default,\n",
    "    preproc_results = lambda data: list(data['y'].values())[0],\n",
    ")"
   ]
  },
  {
   "cell_type": "code",
   "execution_count": 8,
   "id": "047830dc",
   "metadata": {
    "execution": {
     "iopub.execute_input": "2024-08-16T22:55:16.015033Z",
     "iopub.status.busy": "2024-08-16T22:55:16.013546Z",
     "iopub.status.idle": "2024-08-16T22:55:24.705233Z",
     "shell.execute_reply": "2024-08-16T22:55:24.702053Z",
     "shell.execute_reply.started": "2024-08-16T22:55:16.015002Z"
    }
   },
   "outputs": [],
   "source": [
    "G = to_networkx(amazon_computers_data.data)\n",
    "degrees = [G.degree(i) for i in range(G.number_of_nodes())]"
   ]
  },
  {
   "cell_type": "code",
   "execution_count": 12,
   "id": "c4f5837e",
   "metadata": {
    "execution": {
     "iopub.execute_input": "2024-08-16T23:44:37.930477Z",
     "iopub.status.busy": "2024-08-16T23:44:37.929992Z",
     "iopub.status.idle": "2024-08-16T23:44:37.941061Z",
     "shell.execute_reply": "2024-08-16T23:44:37.940271Z",
     "shell.execute_reply.started": "2024-08-16T23:44:37.930441Z"
    }
   },
   "outputs": [],
   "source": [
    "amazon_computers_runner = RunnerInfo(\n",
    "    model_type='Runner',\n",
    "    main_metric='accuracy',\n",
    "    overrides = ['training.n_epochs=60', f'training.num_neighbors=[{int(np.quantile(degrees, 0.9))}, {int(np.quantile(degrees, 0.8))}]'],\n",
    "    verbose = False,\n",
    ")"
   ]
  },
  {
   "cell_type": "code",
   "execution_count": 25,
   "id": "fd42a225",
   "metadata": {
    "execution": {
     "iopub.execute_input": "2024-08-17T12:23:25.297579Z",
     "iopub.status.busy": "2024-08-17T12:23:25.297031Z",
     "iopub.status.idle": "2024-08-17T12:23:25.306819Z",
     "shell.execute_reply": "2024-08-17T12:23:25.305819Z",
     "shell.execute_reply.started": "2024-08-17T12:23:25.297539Z"
    }
   },
   "outputs": [
    {
     "data": {
      "text/plain": [
       "['training.n_epochs=60', 'training.num_neighbors=[146, 94]']"
      ]
     },
     "execution_count": 25,
     "metadata": {},
     "output_type": "execute_result"
    }
   ],
   "source": [
    "amazon_computers_runner.overrides"
   ]
  },
  {
   "cell_type": "code",
   "execution_count": 19,
   "id": "a7f68af9",
   "metadata": {
    "execution": {
     "iopub.execute_input": "2024-08-16T23:47:06.905544Z",
     "iopub.status.busy": "2024-08-16T23:47:06.904438Z",
     "iopub.status.idle": "2024-08-17T01:39:02.133883Z",
     "shell.execute_reply": "2024-08-17T01:39:02.130879Z",
     "shell.execute_reply.started": "2024-08-16T23:47:06.905501Z"
    }
   },
   "outputs": [
    {
     "name": "stderr",
     "output_type": "stream",
     "text": [
      "100%|██████████| 10/10 [1:51:55<00:00, 671.52s/it]\n"
     ]
    }
   ],
   "source": [
    "runner_scores = eval_score(amazon_computers_data, amazon_computers_runner, 10, True)"
   ]
  },
  {
   "cell_type": "code",
   "execution_count": 20,
   "id": "17819c1f",
   "metadata": {
    "execution": {
     "iopub.execute_input": "2024-08-17T01:39:02.146903Z",
     "iopub.status.busy": "2024-08-17T01:39:02.142828Z",
     "iopub.status.idle": "2024-08-17T01:39:02.164493Z",
     "shell.execute_reply": "2024-08-17T01:39:02.163331Z",
     "shell.execute_reply.started": "2024-08-17T01:39:02.146858Z"
    }
   },
   "outputs": [
    {
     "name": "stdout",
     "output_type": "stream",
     "text": [
      "0.9181 += 0.0039\n"
     ]
    }
   ],
   "source": [
    "print(f'{np.mean(runner_scores):.4f} += {np.std(runner_scores):.4f}')"
   ]
  },
  {
   "cell_type": "code",
   "execution_count": 26,
   "id": "8de8eacf",
   "metadata": {
    "execution": {
     "iopub.execute_input": "2024-08-17T12:23:54.624511Z",
     "iopub.status.busy": "2024-08-17T12:23:54.623987Z",
     "iopub.status.idle": "2024-08-17T12:23:54.646399Z",
     "shell.execute_reply": "2024-08-17T12:23:54.645391Z",
     "shell.execute_reply.started": "2024-08-17T12:23:54.624483Z"
    }
   },
   "outputs": [],
   "source": [
    "amazon_computers_hyperunner = RunnerInfo(\n",
    "    model_type='HypeRunner',\n",
    "    main_metric='accuracy',\n",
    "    overrides = ['training.n_epochs=60', f'training.num_neighbors=[{int(np.quantile(degrees, 0.9))}, {int(np.quantile(degrees, 0.8))}]'],\n",
    "    verbose = False,\n",
    "    n_trials=40\n",
    ")"
   ]
  },
  {
   "cell_type": "code",
   "execution_count": 27,
   "id": "fd8a3305",
   "metadata": {
    "execution": {
     "iopub.execute_input": "2024-08-17T12:24:07.487290Z",
     "iopub.status.busy": "2024-08-17T12:24:07.486508Z",
     "iopub.status.idle": "2024-08-18T00:39:59.415467Z",
     "shell.execute_reply": "2024-08-18T00:39:59.414517Z",
     "shell.execute_reply.started": "2024-08-17T12:24:07.487249Z"
    }
   },
   "outputs": [
    {
     "name": "stderr",
     "output_type": "stream",
     "text": [
      "100%|██████████| 5/5 [12:15:51<00:00, 8830.38s/it]   \n"
     ]
    }
   ],
   "source": [
    "hyperunner_scores = eval_score(amazon_computers_data, amazon_computers_hyperunner, 5, True)"
   ]
  },
  {
   "cell_type": "code",
   "execution_count": 28,
   "id": "0dfe43f3",
   "metadata": {
    "execution": {
     "iopub.execute_input": "2024-08-18T00:39:59.418581Z",
     "iopub.status.busy": "2024-08-18T00:39:59.417608Z",
     "iopub.status.idle": "2024-08-18T00:39:59.425949Z",
     "shell.execute_reply": "2024-08-18T00:39:59.424785Z",
     "shell.execute_reply.started": "2024-08-18T00:39:59.418551Z"
    }
   },
   "outputs": [
    {
     "name": "stdout",
     "output_type": "stream",
     "text": [
      "0.9150 += 0.0069\n"
     ]
    }
   ],
   "source": [
    "print(f'{np.mean(hyperunner_scores):.4f} += {np.std(hyperunner_scores):.4f}')"
   ]
  },
  {
   "cell_type": "markdown",
   "id": "32fa13f8",
   "metadata": {},
   "source": [
    "## 2. Amazon Photo <a name=\"amazon_photo\"></a>"
   ]
  },
  {
   "cell_type": "code",
   "execution_count": 7,
   "id": "15f56b1d",
   "metadata": {
    "execution": {
     "iopub.execute_input": "2024-08-16T13:24:47.113679Z",
     "iopub.status.busy": "2024-08-16T13:24:47.111834Z",
     "iopub.status.idle": "2024-08-16T13:24:47.235226Z",
     "shell.execute_reply": "2024-08-16T13:24:47.234320Z",
     "shell.execute_reply.started": "2024-08-16T13:24:47.113622Z"
    }
   },
   "outputs": [],
   "source": [
    "amazon_photo_data = DataInfo(\n",
    "    name = 'Amazon Photo',\n",
    "    data = Amazon(root='./data', name='Photo').data,\n",
    "    preproc_data = lambda data: data,\n",
    "    split_data = data_split_default,\n",
    "    preproc_results = lambda data: list(data['y'].values())[0],\n",
    ")"
   ]
  },
  {
   "cell_type": "code",
   "execution_count": 8,
   "id": "f891c6f5",
   "metadata": {
    "execution": {
     "iopub.execute_input": "2024-08-16T13:24:47.243755Z",
     "iopub.status.busy": "2024-08-16T13:24:47.240999Z",
     "iopub.status.idle": "2024-08-16T13:24:51.189419Z",
     "shell.execute_reply": "2024-08-16T13:24:51.188462Z",
     "shell.execute_reply.started": "2024-08-16T13:24:47.243716Z"
    }
   },
   "outputs": [],
   "source": [
    "G = to_networkx(amazon_photo_data.data)\n",
    "degrees = [G.degree(i) for i in range(G.number_of_nodes())]"
   ]
  },
  {
   "cell_type": "code",
   "execution_count": 15,
   "id": "151847cc",
   "metadata": {
    "execution": {
     "iopub.execute_input": "2024-08-16T13:55:33.710764Z",
     "iopub.status.busy": "2024-08-16T13:55:33.710271Z",
     "iopub.status.idle": "2024-08-16T13:55:33.727458Z",
     "shell.execute_reply": "2024-08-16T13:55:33.726447Z",
     "shell.execute_reply.started": "2024-08-16T13:55:33.710733Z"
    }
   },
   "outputs": [],
   "source": [
    "amazon_photo_runner = RunnerInfo(\n",
    "    model_type='Runner',\n",
    "    main_metric='accuracy',\n",
    "    overrides = ['training.n_epochs=60', f'training.num_neighbors=[{int(np.quantile(degrees, 0.95))}, {int(np.quantile(degrees, 0.8))}]', 'training.batch_size=50'],\n",
    "    verbose = False,\n",
    ")"
   ]
  },
  {
   "cell_type": "code",
   "execution_count": 17,
   "id": "d76e8952",
   "metadata": {
    "execution": {
     "iopub.execute_input": "2024-08-16T13:55:47.957495Z",
     "iopub.status.busy": "2024-08-16T13:55:47.957039Z",
     "iopub.status.idle": "2024-08-16T16:10:05.251277Z",
     "shell.execute_reply": "2024-08-16T16:10:05.249171Z",
     "shell.execute_reply.started": "2024-08-16T13:55:47.957465Z"
    }
   },
   "outputs": [
    {
     "name": "stderr",
     "output_type": "stream",
     "text": [
      "100%|██████████| 10/10 [2:14:17<00:00, 805.73s/it] \n"
     ]
    }
   ],
   "source": [
    "runner_scores = eval_score(amazon_photo_data, amazon_photo_runner, 10, verbose=True)"
   ]
  },
  {
   "cell_type": "code",
   "execution_count": 18,
   "id": "1000b4a9",
   "metadata": {
    "execution": {
     "iopub.execute_input": "2024-08-16T16:10:05.255973Z",
     "iopub.status.busy": "2024-08-16T16:10:05.255593Z",
     "iopub.status.idle": "2024-08-16T16:10:05.274396Z",
     "shell.execute_reply": "2024-08-16T16:10:05.273679Z",
     "shell.execute_reply.started": "2024-08-16T16:10:05.255917Z"
    }
   },
   "outputs": [
    {
     "name": "stdout",
     "output_type": "stream",
     "text": [
      "0.9585 += 0.0040\n"
     ]
    }
   ],
   "source": [
    "print(f'{np.mean(runner_scores):.4f} += {np.std(runner_scores):.4f}')"
   ]
  },
  {
   "cell_type": "code",
   "execution_count": 19,
   "id": "cc1ae0e6",
   "metadata": {
    "execution": {
     "iopub.execute_input": "2024-08-16T16:10:05.275878Z",
     "iopub.status.busy": "2024-08-16T16:10:05.275601Z",
     "iopub.status.idle": "2024-08-16T16:10:05.286290Z",
     "shell.execute_reply": "2024-08-16T16:10:05.285598Z",
     "shell.execute_reply.started": "2024-08-16T16:10:05.275858Z"
    }
   },
   "outputs": [],
   "source": [
    "amazon_photo_hyperunner = RunnerInfo(\n",
    "    model_type='HypeRunner',\n",
    "    main_metric='accuracy',\n",
    "    overrides = ['training.n_epochs=60', f'training.num_neighbors=[{int(np.quantile(degrees, 0.95))}, {int(np.quantile(degrees, 0.8))}]', 'training.batch_size=50'],\n",
    "    verbose = False,\n",
    "    n_trials=40\n",
    ")"
   ]
  },
  {
   "cell_type": "code",
   "execution_count": 20,
   "id": "d85ab4c9",
   "metadata": {
    "execution": {
     "iopub.execute_input": "2024-08-16T16:10:05.289597Z",
     "iopub.status.busy": "2024-08-16T16:10:05.288687Z",
     "iopub.status.idle": "2024-08-17T19:15:28.573081Z",
     "shell.execute_reply": "2024-08-17T19:15:28.572045Z",
     "shell.execute_reply.started": "2024-08-16T16:10:05.289574Z"
    }
   },
   "outputs": [
    {
     "name": "stderr",
     "output_type": "stream",
     "text": [
      "100%|██████████| 5/5 [27:05:23<00:00, 19504.65s/it]   \n"
     ]
    }
   ],
   "source": [
    "hyperunner_scores = eval_score(amazon_photo_data, amazon_photo_hyperunner, 5)"
   ]
  },
  {
   "cell_type": "code",
   "execution_count": 21,
   "id": "997e7f30",
   "metadata": {
    "execution": {
     "iopub.execute_input": "2024-08-17T19:15:28.575583Z",
     "iopub.status.busy": "2024-08-17T19:15:28.574855Z",
     "iopub.status.idle": "2024-08-17T19:15:28.582845Z",
     "shell.execute_reply": "2024-08-17T19:15:28.581885Z",
     "shell.execute_reply.started": "2024-08-17T19:15:28.575514Z"
    }
   },
   "outputs": [
    {
     "name": "stdout",
     "output_type": "stream",
     "text": [
      "0.9610 += 0.0021\n"
     ]
    }
   ],
   "source": [
    "print(f'{np.mean(hyperunner_scores):.4f} += {np.std(hyperunner_scores):.4f}')"
   ]
  },
  {
   "cell_type": "markdown",
   "id": "2154626e",
   "metadata": {},
   "source": [
    "## 3. Amazon-Fraud <a name=\"amazon_fraud\"></a>"
   ]
  },
  {
   "cell_type": "code",
   "execution_count": 7,
   "id": "4bc27329",
   "metadata": {
    "execution": {
     "iopub.execute_input": "2024-08-16T22:56:25.647321Z",
     "iopub.status.busy": "2024-08-16T22:56:25.646852Z",
     "iopub.status.idle": "2024-08-16T22:56:27.015575Z",
     "shell.execute_reply": "2024-08-16T22:56:27.014544Z",
     "shell.execute_reply.started": "2024-08-16T22:56:25.647297Z"
    }
   },
   "outputs": [
    {
     "name": "stderr",
     "output_type": "stream",
     "text": [
      "Using existing file ./data/amazon/Amazon_data.pt\n"
     ]
    }
   ],
   "source": [
    "amazon_fraud_data = DataInfo(\n",
    "    name = 'Amazon Fraud',\n",
    "    data = AntiFraud(root='./data', name='Amazon').data,\n",
    "    preproc_data = lambda data: data,\n",
    "    split_data = lambda data, seed: data_split_default(data, 0.4, 0.2, 0.4, seed),\n",
    "    preproc_results = lambda data: list(data['y'].values())[0],\n",
    ")"
   ]
  },
  {
   "cell_type": "code",
   "execution_count": 10,
   "id": "78165b84",
   "metadata": {
    "execution": {
     "iopub.execute_input": "2024-08-16T22:59:59.015092Z",
     "iopub.status.busy": "2024-08-16T22:59:59.014504Z",
     "iopub.status.idle": "2024-08-16T22:59:59.021233Z",
     "shell.execute_reply": "2024-08-16T22:59:59.020293Z",
     "shell.execute_reply.started": "2024-08-16T22:59:59.015062Z"
    }
   },
   "outputs": [],
   "source": [
    "amazon_fraud_runner = RunnerInfo(\n",
    "    model_type='Runner',\n",
    "    main_metric='roc_auc',\n",
    "    overrides = ['training.n_epochs=50'],\n",
    "    verbose = False,\n",
    ")"
   ]
  },
  {
   "cell_type": "code",
   "execution_count": 11,
   "id": "f36a33e2",
   "metadata": {
    "execution": {
     "iopub.execute_input": "2024-08-16T22:59:59.726859Z",
     "iopub.status.busy": "2024-08-16T22:59:59.725243Z",
     "iopub.status.idle": "2024-08-16T23:35:28.455959Z",
     "shell.execute_reply": "2024-08-16T23:35:28.453343Z",
     "shell.execute_reply.started": "2024-08-16T22:59:59.726794Z"
    }
   },
   "outputs": [
    {
     "name": "stderr",
     "output_type": "stream",
     "text": [
      "100%|██████████| 10/10 [35:28<00:00, 212.87s/it]\n"
     ]
    }
   ],
   "source": [
    "runner_scores = eval_score(amazon_fraud_data, amazon_fraud_runner, 10)"
   ]
  },
  {
   "cell_type": "code",
   "execution_count": 12,
   "id": "db7876dc",
   "metadata": {
    "execution": {
     "iopub.execute_input": "2024-08-16T23:35:28.464879Z",
     "iopub.status.busy": "2024-08-16T23:35:28.459025Z",
     "iopub.status.idle": "2024-08-16T23:35:28.479444Z",
     "shell.execute_reply": "2024-08-16T23:35:28.478278Z",
     "shell.execute_reply.started": "2024-08-16T23:35:28.464845Z"
    }
   },
   "outputs": [
    {
     "name": "stdout",
     "output_type": "stream",
     "text": [
      "0.9559 += 0.0060\n"
     ]
    }
   ],
   "source": [
    "print(f'{np.mean(runner_scores):.4f} += {np.std(runner_scores):.4f}')"
   ]
  },
  {
   "cell_type": "code",
   "execution_count": 16,
   "id": "0fd00b18",
   "metadata": {
    "execution": {
     "iopub.execute_input": "2024-08-17T09:35:37.841190Z",
     "iopub.status.busy": "2024-08-17T09:35:37.839786Z",
     "iopub.status.idle": "2024-08-17T09:35:37.849565Z",
     "shell.execute_reply": "2024-08-17T09:35:37.848766Z",
     "shell.execute_reply.started": "2024-08-17T09:35:37.841132Z"
    }
   },
   "outputs": [],
   "source": [
    "amazon_fraud_hyperunner = RunnerInfo(\n",
    "    model_type='HypeRunner',\n",
    "    main_metric='roc_auc',\n",
    "    overrides = ['training.n_epochs=50'],\n",
    "    verbose = False,\n",
    "    n_trials=40\n",
    ")"
   ]
  },
  {
   "cell_type": "code",
   "execution_count": 17,
   "id": "a29a6ee8",
   "metadata": {
    "execution": {
     "iopub.execute_input": "2024-08-17T09:35:38.950654Z",
     "iopub.status.busy": "2024-08-17T09:35:38.950109Z",
     "iopub.status.idle": "2024-08-17T16:16:21.688712Z",
     "shell.execute_reply": "2024-08-17T16:16:21.687013Z",
     "shell.execute_reply.started": "2024-08-17T09:35:38.950596Z"
    }
   },
   "outputs": [
    {
     "name": "stderr",
     "output_type": "stream",
     "text": [
      "100%|██████████| 5/5 [6:40:42<00:00, 4808.54s/it]  \n"
     ]
    }
   ],
   "source": [
    "hyperunner_scores = eval_score(amazon_fraud_data, amazon_fraud_hyperunner, 5)"
   ]
  },
  {
   "cell_type": "code",
   "execution_count": 18,
   "id": "344872b4",
   "metadata": {
    "execution": {
     "iopub.execute_input": "2024-08-17T16:16:21.694949Z",
     "iopub.status.busy": "2024-08-17T16:16:21.690577Z",
     "iopub.status.idle": "2024-08-17T16:16:21.706860Z",
     "shell.execute_reply": "2024-08-17T16:16:21.704697Z",
     "shell.execute_reply.started": "2024-08-17T16:16:21.694923Z"
    }
   },
   "outputs": [
    {
     "name": "stdout",
     "output_type": "stream",
     "text": [
      "0.9601 += 0.0097\n"
     ]
    }
   ],
   "source": [
    "print(f'{np.mean(hyperunner_scores):.4f} += {np.std(hyperunner_scores):.4f}')"
   ]
  },
  {
   "cell_type": "markdown",
   "id": "fa690108",
   "metadata": {},
   "source": [
    "## 4. YelpChi <a name=\"yelp_chi\"></a>"
   ]
  },
  {
   "cell_type": "code",
   "execution_count": 7,
   "id": "b2fa85db",
   "metadata": {
    "execution": {
     "iopub.execute_input": "2024-08-16T01:50:46.492378Z",
     "iopub.status.busy": "2024-08-16T01:50:46.491468Z",
     "iopub.status.idle": "2024-08-16T01:50:47.091964Z",
     "shell.execute_reply": "2024-08-16T01:50:47.091051Z",
     "shell.execute_reply.started": "2024-08-16T01:50:46.492355Z"
    }
   },
   "outputs": [
    {
     "name": "stderr",
     "output_type": "stream",
     "text": [
      "Using existing file ./data/yelpchi/YelpChi_data.pt\n"
     ]
    }
   ],
   "source": [
    "yelpchi_data = DataInfo(\n",
    "    name = 'YelpChi',\n",
    "    data = AntiFraud(root='./data', name='YelpChi').data,\n",
    "    preproc_data = lambda data: data,\n",
    "    split_data = lambda data, seed: data_split_default(data, 0.4, 0.2, 0.4, seed),\n",
    "    preproc_results = lambda data: list(data['y'].values())[0],\n",
    ")"
   ]
  },
  {
   "cell_type": "code",
   "execution_count": 8,
   "id": "9b2aec19",
   "metadata": {
    "execution": {
     "iopub.execute_input": "2024-08-16T01:50:47.099361Z",
     "iopub.status.busy": "2024-08-16T01:50:47.093209Z",
     "iopub.status.idle": "2024-08-16T01:50:47.107714Z",
     "shell.execute_reply": "2024-08-16T01:50:47.107009Z",
     "shell.execute_reply.started": "2024-08-16T01:50:47.099330Z"
    }
   },
   "outputs": [],
   "source": [
    "yelpchi_runner = RunnerInfo(\n",
    "    model_type='Runner',\n",
    "    main_metric='roc_auc',\n",
    "    overrides = ['training.n_epochs=50'],\n",
    "    verbose = False,\n",
    ")"
   ]
  },
  {
   "cell_type": "code",
   "execution_count": 9,
   "id": "b078a160",
   "metadata": {
    "execution": {
     "iopub.execute_input": "2024-08-16T01:50:47.114848Z",
     "iopub.status.busy": "2024-08-16T01:50:47.108691Z",
     "iopub.status.idle": "2024-08-16T03:43:27.450551Z",
     "shell.execute_reply": "2024-08-16T03:43:27.448782Z",
     "shell.execute_reply.started": "2024-08-16T01:50:47.114820Z"
    }
   },
   "outputs": [
    {
     "name": "stderr",
     "output_type": "stream",
     "text": [
      "100%|██████████| 10/10 [1:52:40<00:00, 676.03s/it]\n"
     ]
    }
   ],
   "source": [
    "runner_scores = eval_score(yelpchi_data, yelpchi_runner, 10)"
   ]
  },
  {
   "cell_type": "code",
   "execution_count": 10,
   "id": "c1a521ff",
   "metadata": {
    "execution": {
     "iopub.execute_input": "2024-08-16T03:43:27.455783Z",
     "iopub.status.busy": "2024-08-16T03:43:27.452974Z",
     "iopub.status.idle": "2024-08-16T03:43:27.468211Z",
     "shell.execute_reply": "2024-08-16T03:43:27.466694Z",
     "shell.execute_reply.started": "2024-08-16T03:43:27.455745Z"
    }
   },
   "outputs": [
    {
     "name": "stdout",
     "output_type": "stream",
     "text": [
      "0.8561 += 0.0055\n"
     ]
    }
   ],
   "source": [
    "print(f'{np.mean(runner_scores):.4f} += {np.std(runner_scores):.4f}')"
   ]
  },
  {
   "cell_type": "code",
   "execution_count": 11,
   "id": "7cc5232d",
   "metadata": {
    "execution": {
     "iopub.execute_input": "2024-08-16T03:43:27.471720Z",
     "iopub.status.busy": "2024-08-16T03:43:27.470127Z",
     "iopub.status.idle": "2024-08-16T03:43:27.481068Z",
     "shell.execute_reply": "2024-08-16T03:43:27.480299Z",
     "shell.execute_reply.started": "2024-08-16T03:43:27.471694Z"
    }
   },
   "outputs": [],
   "source": [
    "yelpchi_hyperunner = RunnerInfo(\n",
    "    model_type='HypeRunner',\n",
    "    main_metric='accuracy',\n",
    "    overrides = ['training.n_epochs=50'],\n",
    "    verbose = False,\n",
    "    n_trials=40\n",
    ")"
   ]
  },
  {
   "cell_type": "code",
   "execution_count": 12,
   "id": "c7b11ed3",
   "metadata": {
    "execution": {
     "iopub.execute_input": "2024-08-16T03:43:27.484227Z",
     "iopub.status.busy": "2024-08-16T03:43:27.482788Z",
     "iopub.status.idle": "2024-08-17T04:12:07.729890Z",
     "shell.execute_reply": "2024-08-17T04:12:07.728917Z",
     "shell.execute_reply.started": "2024-08-16T03:43:27.484202Z"
    }
   },
   "outputs": [
    {
     "name": "stderr",
     "output_type": "stream",
     "text": [
      "100%|██████████| 5/5 [24:28:40<00:00, 17624.05s/it]   \n"
     ]
    }
   ],
   "source": [
    "hyperunner_scores = eval_score(yelpchi_data, yelpchi_hyperunner, 5)"
   ]
  },
  {
   "cell_type": "code",
   "execution_count": 13,
   "id": "918ea448",
   "metadata": {
    "execution": {
     "iopub.execute_input": "2024-08-17T04:12:07.734057Z",
     "iopub.status.busy": "2024-08-17T04:12:07.733214Z",
     "iopub.status.idle": "2024-08-17T04:12:07.741481Z",
     "shell.execute_reply": "2024-08-17T04:12:07.740497Z",
     "shell.execute_reply.started": "2024-08-17T04:12:07.734024Z"
    }
   },
   "outputs": [
    {
     "name": "stdout",
     "output_type": "stream",
     "text": [
      "0.8901 += 0.0012\n"
     ]
    }
   ],
   "source": [
    "print(f'{np.mean(hyperunner_scores):.4f} += {np.std(hyperunner_scores):.4f}')"
   ]
  },
  {
   "cell_type": "markdown",
   "id": "4bd9c863",
   "metadata": {},
   "source": [
    "## 5. Multitarget 10k <a name=\"multitarget_10k\"></a>"
   ]
  },
  {
   "cell_type": "code",
   "execution_count": 7,
   "id": "4f1e5afc",
   "metadata": {
    "execution": {
     "iopub.execute_input": "2024-08-16T08:51:47.539032Z",
     "iopub.status.busy": "2024-08-16T08:51:47.538154Z",
     "iopub.status.idle": "2024-08-16T08:51:47.550424Z",
     "shell.execute_reply": "2024-08-16T08:51:47.549484Z",
     "shell.execute_reply.started": "2024-08-16T08:51:47.539004Z"
    }
   },
   "outputs": [],
   "source": [
    "def preproc_multitarget_data(data):\n",
    "    data = Data(**data['node_1'], **data[('node_1', 'to', 'node_1')])\n",
    "    data.y = torch.tensor(data.y.max(dim=1).values)\n",
    "    return data"
   ]
  },
  {
   "cell_type": "code",
   "execution_count": 8,
   "id": "c9626ff0",
   "metadata": {
    "execution": {
     "iopub.execute_input": "2024-08-16T08:51:47.552151Z",
     "iopub.status.busy": "2024-08-16T08:51:47.551901Z",
     "iopub.status.idle": "2024-08-16T08:51:50.218802Z",
     "shell.execute_reply": "2024-08-16T08:51:50.217817Z",
     "shell.execute_reply.started": "2024-08-16T08:51:47.552133Z"
    }
   },
   "outputs": [
    {
     "name": "stderr",
     "output_type": "stream",
     "text": [
      "Using existing file ./data/10k/10k_data.pt\n"
     ]
    }
   ],
   "source": [
    "multitarget10k_data = DataInfo(\n",
    "    name = 'Multitarget 10k',\n",
    "    data = Multitarget(root='./data', name='10k').data,\n",
    "    preproc_data = preproc_multitarget_data,\n",
    "    split_data = data_split_default,\n",
    "    preproc_results = lambda data: list(data['y'].values())[0],\n",
    ")"
   ]
  },
  {
   "cell_type": "code",
   "execution_count": 9,
   "id": "cc2fb171",
   "metadata": {
    "execution": {
     "iopub.execute_input": "2024-08-16T08:51:50.221141Z",
     "iopub.status.busy": "2024-08-16T08:51:50.220464Z",
     "iopub.status.idle": "2024-08-16T08:51:50.225563Z",
     "shell.execute_reply": "2024-08-16T08:51:50.224898Z",
     "shell.execute_reply.started": "2024-08-16T08:51:50.221097Z"
    }
   },
   "outputs": [],
   "source": [
    "multitarget10k_runner = RunnerInfo(\n",
    "    model_type='Runner',\n",
    "    main_metric='roc_auc',\n",
    "    overrides = ['training.n_epochs=50'],\n",
    "    verbose = False,\n",
    ")"
   ]
  },
  {
   "cell_type": "code",
   "execution_count": 10,
   "id": "f2c840e7",
   "metadata": {
    "execution": {
     "iopub.execute_input": "2024-08-16T08:51:50.227251Z",
     "iopub.status.busy": "2024-08-16T08:51:50.226748Z",
     "iopub.status.idle": "2024-08-16T09:03:50.104598Z",
     "shell.execute_reply": "2024-08-16T09:03:50.102772Z",
     "shell.execute_reply.started": "2024-08-16T08:51:50.227225Z"
    }
   },
   "outputs": [
    {
     "name": "stderr",
     "output_type": "stream",
     "text": [
      "100%|██████████| 10/10 [11:59<00:00, 71.99s/it]\n"
     ]
    }
   ],
   "source": [
    "runner_scores = eval_score(multitarget10k_data, multitarget10k_runner, 10)"
   ]
  },
  {
   "cell_type": "code",
   "execution_count": 11,
   "id": "706cbe18",
   "metadata": {
    "execution": {
     "iopub.execute_input": "2024-08-16T09:03:50.107729Z",
     "iopub.status.busy": "2024-08-16T09:03:50.107371Z",
     "iopub.status.idle": "2024-08-16T09:03:50.118969Z",
     "shell.execute_reply": "2024-08-16T09:03:50.117996Z",
     "shell.execute_reply.started": "2024-08-16T09:03:50.107703Z"
    }
   },
   "outputs": [
    {
     "name": "stdout",
     "output_type": "stream",
     "text": [
      "0.7302 += 0.0133\n"
     ]
    }
   ],
   "source": [
    "print(f'{np.mean(runner_scores):.4f} += {np.std(runner_scores):.4f}')"
   ]
  },
  {
   "cell_type": "code",
   "execution_count": 12,
   "id": "8470874c",
   "metadata": {
    "execution": {
     "iopub.execute_input": "2024-08-16T09:03:50.122717Z",
     "iopub.status.busy": "2024-08-16T09:03:50.121140Z",
     "iopub.status.idle": "2024-08-16T09:03:50.131043Z",
     "shell.execute_reply": "2024-08-16T09:03:50.130205Z",
     "shell.execute_reply.started": "2024-08-16T09:03:50.122689Z"
    }
   },
   "outputs": [],
   "source": [
    "multitarget10k_hyperunner = RunnerInfo(\n",
    "    model_type='HypeRunner',\n",
    "    main_metric='accuracy',\n",
    "    overrides = ['training.n_epochs=50'],\n",
    "    verbose = False,\n",
    "    n_trials=40\n",
    ")"
   ]
  },
  {
   "cell_type": "code",
   "execution_count": 13,
   "id": "2bef8ccb",
   "metadata": {
    "execution": {
     "iopub.execute_input": "2024-08-16T09:03:50.139592Z",
     "iopub.status.busy": "2024-08-16T09:03:50.137953Z",
     "iopub.status.idle": "2024-08-16T11:39:08.729416Z",
     "shell.execute_reply": "2024-08-16T11:39:08.728491Z",
     "shell.execute_reply.started": "2024-08-16T09:03:50.139567Z"
    }
   },
   "outputs": [
    {
     "name": "stderr",
     "output_type": "stream",
     "text": [
      "100%|██████████| 5/5 [2:35:18<00:00, 1863.72s/it]  \n"
     ]
    }
   ],
   "source": [
    "hyperunner_scores = eval_score(multitarget10k_data, multitarget10k_hyperunner, 5)"
   ]
  },
  {
   "cell_type": "code",
   "execution_count": 14,
   "id": "1c8a11c7",
   "metadata": {
    "execution": {
     "iopub.execute_input": "2024-08-16T11:39:08.731855Z",
     "iopub.status.busy": "2024-08-16T11:39:08.731075Z",
     "iopub.status.idle": "2024-08-16T11:39:08.737847Z",
     "shell.execute_reply": "2024-08-16T11:39:08.737188Z",
     "shell.execute_reply.started": "2024-08-16T11:39:08.731829Z"
    }
   },
   "outputs": [
    {
     "name": "stdout",
     "output_type": "stream",
     "text": [
      "0.8375 += 0.0194\n"
     ]
    }
   ],
   "source": [
    "print(f'{np.mean(hyperunner_scores):.4f} += {np.std(hyperunner_scores):.4f}')"
   ]
  },
  {
   "cell_type": "markdown",
   "id": "4190431c",
   "metadata": {},
   "source": [
    "## 6. Multitarget 50k <a name=\"multitarget_50k\"></a>"
   ]
  },
  {
   "cell_type": "code",
   "execution_count": 8,
   "id": "ec840914",
   "metadata": {
    "execution": {
     "iopub.execute_input": "2024-08-16T08:51:57.216655Z",
     "iopub.status.busy": "2024-08-16T08:51:57.216101Z",
     "iopub.status.idle": "2024-08-16T08:52:16.629545Z",
     "shell.execute_reply": "2024-08-16T08:52:16.628353Z",
     "shell.execute_reply.started": "2024-08-16T08:51:57.216601Z"
    }
   },
   "outputs": [
    {
     "name": "stderr",
     "output_type": "stream",
     "text": [
      "Using existing file ./data/50k/50k_data.pt\n"
     ]
    }
   ],
   "source": [
    "multitarget50k_data = DataInfo(\n",
    "    name = 'Multitarget 50k',\n",
    "    data = Multitarget(root='./data', name='50k').data,\n",
    "    preproc_data = preproc_multitarget_data,\n",
    "    split_data = data_split_default,\n",
    "    preproc_results = lambda data: list(data['y'].values())[0],\n",
    ")"
   ]
  },
  {
   "cell_type": "code",
   "execution_count": 9,
   "id": "8c2016c8",
   "metadata": {
    "execution": {
     "iopub.execute_input": "2024-08-16T08:52:16.632443Z",
     "iopub.status.busy": "2024-08-16T08:52:16.631029Z",
     "iopub.status.idle": "2024-08-16T08:52:16.639337Z",
     "shell.execute_reply": "2024-08-16T08:52:16.638553Z",
     "shell.execute_reply.started": "2024-08-16T08:52:16.632411Z"
    }
   },
   "outputs": [],
   "source": [
    "multitarget50k_runner = RunnerInfo(\n",
    "    model_type='Runner',\n",
    "    main_metric='roc_auc',\n",
    "    overrides = ['training.n_epochs=50'],\n",
    "    verbose = False,\n",
    ")"
   ]
  },
  {
   "cell_type": "code",
   "execution_count": 10,
   "id": "63761d73",
   "metadata": {
    "execution": {
     "iopub.execute_input": "2024-08-16T08:52:16.642025Z",
     "iopub.status.busy": "2024-08-16T08:52:16.640918Z",
     "iopub.status.idle": "2024-08-16T09:55:52.985307Z",
     "shell.execute_reply": "2024-08-16T09:55:52.983586Z",
     "shell.execute_reply.started": "2024-08-16T08:52:16.641998Z"
    }
   },
   "outputs": [
    {
     "name": "stderr",
     "output_type": "stream",
     "text": [
      "100%|██████████| 10/10 [1:03:36<00:00, 381.63s/it]\n"
     ]
    }
   ],
   "source": [
    "runner_scores = eval_score(multitarget50k_data, multitarget50k_runner, 10)"
   ]
  },
  {
   "cell_type": "code",
   "execution_count": 11,
   "id": "e1be6f16",
   "metadata": {
    "execution": {
     "iopub.execute_input": "2024-08-16T09:55:52.990110Z",
     "iopub.status.busy": "2024-08-16T09:55:52.987139Z",
     "iopub.status.idle": "2024-08-16T09:55:52.999226Z",
     "shell.execute_reply": "2024-08-16T09:55:52.998324Z",
     "shell.execute_reply.started": "2024-08-16T09:55:52.990079Z"
    }
   },
   "outputs": [
    {
     "name": "stdout",
     "output_type": "stream",
     "text": [
      "0.7557 += 0.0118\n"
     ]
    }
   ],
   "source": [
    "print(f'{np.mean(runner_scores):.4f} += {np.std(runner_scores):.4f}')"
   ]
  },
  {
   "cell_type": "code",
   "execution_count": 12,
   "id": "ee1521e6",
   "metadata": {
    "execution": {
     "iopub.execute_input": "2024-08-16T09:55:53.002271Z",
     "iopub.status.busy": "2024-08-16T09:55:53.000391Z",
     "iopub.status.idle": "2024-08-16T09:55:53.009120Z",
     "shell.execute_reply": "2024-08-16T09:55:53.008405Z",
     "shell.execute_reply.started": "2024-08-16T09:55:53.002246Z"
    }
   },
   "outputs": [],
   "source": [
    "multitarget50k_hyperunner = RunnerInfo(\n",
    "    model_type='HypeRunner',\n",
    "    main_metric='accuracy',\n",
    "    overrides = ['training.n_epochs=50'],\n",
    "    verbose = False,\n",
    "    n_trials=40\n",
    ")"
   ]
  },
  {
   "cell_type": "code",
   "execution_count": 13,
   "id": "a1534370",
   "metadata": {
    "execution": {
     "iopub.execute_input": "2024-08-16T09:55:53.011931Z",
     "iopub.status.busy": "2024-08-16T09:55:53.010130Z",
     "iopub.status.idle": "2024-08-17T04:01:58.962827Z",
     "shell.execute_reply": "2024-08-17T04:01:58.961778Z",
     "shell.execute_reply.started": "2024-08-16T09:55:53.011908Z"
    }
   },
   "outputs": [
    {
     "name": "stderr",
     "output_type": "stream",
     "text": [
      "100%|██████████| 5/5 [18:06:05<00:00, 13033.19s/it]  \n"
     ]
    }
   ],
   "source": [
    "hyperunner_scores = eval_score(multitarget50k_data, multitarget50k_hyperunner, 5)"
   ]
  },
  {
   "cell_type": "code",
   "execution_count": 14,
   "id": "3dd6a231",
   "metadata": {
    "execution": {
     "iopub.execute_input": "2024-08-17T04:01:58.969854Z",
     "iopub.status.busy": "2024-08-17T04:01:58.968141Z",
     "iopub.status.idle": "2024-08-17T04:01:58.979463Z",
     "shell.execute_reply": "2024-08-17T04:01:58.978750Z",
     "shell.execute_reply.started": "2024-08-17T04:01:58.969817Z"
    }
   },
   "outputs": [
    {
     "name": "stdout",
     "output_type": "stream",
     "text": [
      "0.8413 += 0.0094\n"
     ]
    }
   ],
   "source": [
    "print(f'{np.mean(hyperunner_scores):.4f} += {np.std(hyperunner_scores):.4f}')"
   ]
  },
  {
   "cell_type": "markdown",
   "id": "1dddc4a2",
   "metadata": {},
   "source": [
    "## 7. Penn94 <a name=\"penn_94\"></a>"
   ]
  },
  {
   "cell_type": "code",
   "execution_count": 7,
   "id": "6d0119a3",
   "metadata": {
    "execution": {
     "iopub.execute_input": "2024-08-16T02:00:17.038697Z",
     "iopub.status.busy": "2024-08-16T02:00:17.037804Z",
     "iopub.status.idle": "2024-08-16T02:00:17.044095Z",
     "shell.execute_reply": "2024-08-16T02:00:17.043465Z",
     "shell.execute_reply.started": "2024-08-16T02:00:17.038675Z"
    }
   },
   "outputs": [],
   "source": [
    "def preproc_penn94_data(data):\n",
    "    data.x_cat = data.x[:, 0:6]\n",
    "    data.x = data.x[:, 0:1]\n",
    "    return data"
   ]
  },
  {
   "cell_type": "code",
   "execution_count": 8,
   "id": "65012d71",
   "metadata": {
    "execution": {
     "iopub.execute_input": "2024-08-16T02:00:17.045894Z",
     "iopub.status.busy": "2024-08-16T02:00:17.045052Z",
     "iopub.status.idle": "2024-08-16T02:00:17.173237Z",
     "shell.execute_reply": "2024-08-16T02:00:17.172412Z",
     "shell.execute_reply.started": "2024-08-16T02:00:17.045872Z"
    }
   },
   "outputs": [
    {
     "name": "stderr",
     "output_type": "stream",
     "text": [
      "Using existing file ./data/penn94/Penn94_data.pt\n"
     ]
    }
   ],
   "source": [
    "penn94_data = DataInfo(\n",
    "    name = 'Penn94',\n",
    "    data = NonHomophilous(root='./data', name='Penn94').data,\n",
    "    preproc_data = preproc_penn94_data,\n",
    "    split_data = data_split_default,\n",
    "    preproc_results = lambda data: list(data['y'].values())[0],\n",
    ")"
   ]
  },
  {
   "cell_type": "code",
   "execution_count": 9,
   "id": "9b6f0cef",
   "metadata": {
    "execution": {
     "iopub.execute_input": "2024-08-16T02:00:17.175286Z",
     "iopub.status.busy": "2024-08-16T02:00:17.174778Z",
     "iopub.status.idle": "2024-08-16T02:00:17.179694Z",
     "shell.execute_reply": "2024-08-16T02:00:17.179022Z",
     "shell.execute_reply.started": "2024-08-16T02:00:17.175259Z"
    }
   },
   "outputs": [],
   "source": [
    "penn94_runner = RunnerInfo(\n",
    "    model_type='Runner',\n",
    "    main_metric='accuracy',\n",
    "    overrides = ['training.n_epochs=50', 'training.num_neighbors=[100, 40]'],\n",
    "    verbose = False,\n",
    ")"
   ]
  },
  {
   "cell_type": "code",
   "execution_count": 10,
   "id": "b583098d",
   "metadata": {
    "execution": {
     "iopub.execute_input": "2024-08-16T02:00:17.181225Z",
     "iopub.status.busy": "2024-08-16T02:00:17.180786Z",
     "iopub.status.idle": "2024-08-16T07:04:51.316503Z",
     "shell.execute_reply": "2024-08-16T07:04:51.314173Z",
     "shell.execute_reply.started": "2024-08-16T02:00:17.181200Z"
    }
   },
   "outputs": [
    {
     "name": "stderr",
     "output_type": "stream",
     "text": [
      "100%|██████████| 10/10 [5:04:34<00:00, 1827.41s/it] \n"
     ]
    }
   ],
   "source": [
    "runner_scores = eval_score(penn94_data, penn94_runner, 10)"
   ]
  },
  {
   "cell_type": "code",
   "execution_count": 11,
   "id": "813bc92f",
   "metadata": {
    "execution": {
     "iopub.execute_input": "2024-08-16T07:04:51.320755Z",
     "iopub.status.busy": "2024-08-16T07:04:51.320411Z",
     "iopub.status.idle": "2024-08-16T07:04:51.335660Z",
     "shell.execute_reply": "2024-08-16T07:04:51.334560Z",
     "shell.execute_reply.started": "2024-08-16T07:04:51.320726Z"
    }
   },
   "outputs": [
    {
     "name": "stdout",
     "output_type": "stream",
     "text": [
      "0.7912 += 0.0340\n"
     ]
    }
   ],
   "source": [
    "print(f'{np.mean(runner_scores):.4f} += {np.std(runner_scores):.4f}')"
   ]
  },
  {
   "cell_type": "code",
   "execution_count": 12,
   "id": "e6b2f89b",
   "metadata": {
    "execution": {
     "iopub.execute_input": "2024-08-16T07:04:51.339588Z",
     "iopub.status.busy": "2024-08-16T07:04:51.337047Z",
     "iopub.status.idle": "2024-08-16T07:04:51.348554Z",
     "shell.execute_reply": "2024-08-16T07:04:51.347539Z",
     "shell.execute_reply.started": "2024-08-16T07:04:51.339563Z"
    }
   },
   "outputs": [],
   "source": [
    "penn94_hyperunner = RunnerInfo(\n",
    "    model_type='HypeRunner',\n",
    "    main_metric='accuracy',\n",
    "    overrides = ['training.n_epochs=50', 'training.num_neighbors=[100, 40]'],\n",
    "    verbose = False,\n",
    "    n_trials=40\n",
    ")"
   ]
  },
  {
   "cell_type": "code",
   "execution_count": 13,
   "id": "f3caeb7a",
   "metadata": {
    "execution": {
     "iopub.execute_input": "2024-08-16T07:04:51.352215Z",
     "iopub.status.busy": "2024-08-16T07:04:51.349914Z",
     "iopub.status.idle": "2024-08-18T01:05:10.980080Z",
     "shell.execute_reply": "2024-08-18T01:05:10.978825Z",
     "shell.execute_reply.started": "2024-08-16T07:04:51.352189Z"
    }
   },
   "outputs": [
    {
     "name": "stderr",
     "output_type": "stream",
     "text": [
      "100%|██████████| 5/5 [42:00:19<00:00, 30243.92s/it]   \n"
     ]
    }
   ],
   "source": [
    "hyperunner_scores = eval_score(penn94_data, penn94_hyperunner, 5)"
   ]
  },
  {
   "cell_type": "code",
   "execution_count": 14,
   "id": "c3a1c7ba",
   "metadata": {
    "execution": {
     "iopub.execute_input": "2024-08-18T01:05:10.984171Z",
     "iopub.status.busy": "2024-08-18T01:05:10.983682Z",
     "iopub.status.idle": "2024-08-18T01:05:10.990368Z",
     "shell.execute_reply": "2024-08-18T01:05:10.989717Z",
     "shell.execute_reply.started": "2024-08-18T01:05:10.984144Z"
    }
   },
   "outputs": [
    {
     "name": "stdout",
     "output_type": "stream",
     "text": [
      "0.8293 += 0.0023\n"
     ]
    }
   ],
   "source": [
    "print(f'{np.mean(hyperunner_scores):.4f} += {np.std(hyperunner_scores):.4f}')"
   ]
  },
  {
   "cell_type": "markdown",
   "id": "29ba0b2c",
   "metadata": {},
   "source": [
    "## 8. Genius <a name=\"genius\"></a>"
   ]
  },
  {
   "cell_type": "code",
   "execution_count": 8,
   "id": "01b39244",
   "metadata": {
    "execution": {
     "iopub.execute_input": "2024-08-16T23:07:18.680376Z",
     "iopub.status.busy": "2024-08-16T23:07:18.677484Z",
     "iopub.status.idle": "2024-08-16T23:07:18.828512Z",
     "shell.execute_reply": "2024-08-16T23:07:18.823693Z",
     "shell.execute_reply.started": "2024-08-16T23:07:18.680341Z"
    }
   },
   "outputs": [
    {
     "name": "stderr",
     "output_type": "stream",
     "text": [
      "Using existing file ./data/genius/Genius_data.pt\n"
     ]
    }
   ],
   "source": [
    "genius_data = DataInfo(\n",
    "    name = 'Genius',\n",
    "    data = NonHomophilous(root='./data', name='Genius').data,\n",
    "    preproc_data = preproc_genius_data,\n",
    "    split_data = data_split_default,\n",
    "    preproc_results = lambda data: list(data['y'].values())[0],\n",
    ")"
   ]
  },
  {
   "cell_type": "code",
   "execution_count": 32,
   "id": "26e95d98",
   "metadata": {
    "execution": {
     "iopub.execute_input": "2024-08-17T16:54:23.728000Z",
     "iopub.status.busy": "2024-08-17T16:54:23.726751Z",
     "iopub.status.idle": "2024-08-17T16:54:23.783855Z",
     "shell.execute_reply": "2024-08-17T16:54:23.782798Z",
     "shell.execute_reply.started": "2024-08-17T16:54:23.727955Z"
    }
   },
   "outputs": [],
   "source": [
    "genius_hyperunner = RunnerInfo(\n",
    "    model_type='HypeRunner',\n",
    "    main_metric='roc_auc',\n",
    "    overrides = ['training.n_epochs=40'],\n",
    "    verbose = False,\n",
    "    n_trials=40\n",
    ")"
   ]
  },
  {
   "cell_type": "code",
   "execution_count": 33,
   "id": "25ccddce",
   "metadata": {
    "execution": {
     "iopub.execute_input": "2024-08-17T16:54:23.786002Z",
     "iopub.status.busy": "2024-08-17T16:54:23.785261Z",
     "iopub.status.idle": "2024-08-19T02:50:28.497227Z",
     "shell.execute_reply": "2024-08-19T02:50:28.496354Z",
     "shell.execute_reply.started": "2024-08-17T16:54:23.785971Z"
    }
   },
   "outputs": [
    {
     "name": "stderr",
     "output_type": "stream",
     "text": [
      "100%|██████████| 5/5 [33:56:04<00:00, 24432.94s/it]   \n"
     ]
    }
   ],
   "source": [
    "hyperunner_scores = eval_score(genius_data, genius_hyperunner, 5)"
   ]
  },
  {
   "cell_type": "code",
   "execution_count": 34,
   "id": "09f97287",
   "metadata": {
    "execution": {
     "iopub.execute_input": "2024-08-19T02:50:28.499915Z",
     "iopub.status.busy": "2024-08-19T02:50:28.499427Z",
     "iopub.status.idle": "2024-08-19T02:50:28.505020Z",
     "shell.execute_reply": "2024-08-19T02:50:28.504354Z",
     "shell.execute_reply.started": "2024-08-19T02:50:28.499884Z"
    }
   },
   "outputs": [
    {
     "name": "stdout",
     "output_type": "stream",
     "text": [
      "0.9026 += 0.0010\n"
     ]
    }
   ],
   "source": [
    "print(f'{np.mean(hyperunner_scores):.4f} += {np.std(hyperunner_scores):.4f}')"
   ]
  },
  {
   "cell_type": "code",
   "execution_count": null,
   "id": "753d9355",
   "metadata": {},
   "outputs": [],
   "source": []
  }
 ],
 "metadata": {
  "kernelspec": {
   "display_name": "cool_graph_kernel2",
   "language": "python",
   "name": "cool_graph_kernel2"
  },
  "language_info": {
   "codemirror_mode": {
    "name": "ipython",
    "version": 3
   },
   "file_extension": ".py",
   "mimetype": "text/x-python",
   "name": "python",
   "nbconvert_exporter": "python",
   "pygments_lexer": "ipython3",
   "version": "3.8.13"
  }
 },
 "nbformat": 4,
 "nbformat_minor": 5
}
