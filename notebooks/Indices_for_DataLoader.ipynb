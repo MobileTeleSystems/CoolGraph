{
 "cells": [
  {
   "cell_type": "markdown",
   "id": "a84cafaa",
   "metadata": {},
   "source": [
    "### Creating Loader for Dataset Amazon Computers"
   ]
  },
  {
   "cell_type": "markdown",
   "id": "2f14f3bd",
   "metadata": {},
   "source": [
    "##### For the runner to work correctly with custom loaders, the data must be divided into batches each having index field. This notebook shows how to create loader properly"
   ]
  },
  {
   "cell_type": "code",
   "execution_count": 2,
   "id": "798e26b5",
   "metadata": {
    "execution": {
     "iopub.execute_input": "2024-07-26T00:39:28.161699Z",
     "iopub.status.busy": "2024-07-26T00:39:28.161365Z",
     "iopub.status.idle": "2024-07-26T00:39:28.164670Z",
     "shell.execute_reply": "2024-07-26T00:39:28.164101Z",
     "shell.execute_reply.started": "2024-07-26T00:39:28.161678Z"
    }
   },
   "outputs": [],
   "source": [
    "from torch_geometric import datasets\n",
    "import torch\n",
    "import pandas as pd\n",
    "from torch_geometric.data import Data"
   ]
  },
  {
   "cell_type": "code",
   "execution_count": 3,
   "id": "fc9a1167",
   "metadata": {
    "execution": {
     "iopub.execute_input": "2024-07-26T00:39:28.756410Z",
     "iopub.status.busy": "2024-07-26T00:39:28.756223Z",
     "iopub.status.idle": "2024-07-26T00:39:28.905674Z",
     "shell.execute_reply": "2024-07-26T00:39:28.905126Z",
     "shell.execute_reply.started": "2024-07-26T00:39:28.756393Z"
    }
   },
   "outputs": [
    {
     "data": {
      "text/plain": [
       "Data(x=[13752, 767], edge_index=[2, 491722], y=[13752])"
      ]
     },
     "execution_count": 3,
     "metadata": {},
     "output_type": "execute_result"
    }
   ],
   "source": [
    "# use simple Amazon dataset with Computers\n",
    "dataset = datasets.Amazon(root='./data/Amazon', name='Computers')\n",
    "data = dataset.data\n",
    "data"
   ]
  },
  {
   "cell_type": "code",
   "execution_count": 4,
   "id": "a7933345",
   "metadata": {
    "execution": {
     "iopub.execute_input": "2024-07-26T00:39:29.707663Z",
     "iopub.status.busy": "2024-07-26T00:39:29.707400Z",
     "iopub.status.idle": "2024-07-26T00:39:29.730180Z",
     "shell.execute_reply": "2024-07-26T00:39:29.729735Z",
     "shell.execute_reply.started": "2024-07-26T00:39:29.707644Z"
    }
   },
   "outputs": [
    {
     "data": {
      "text/plain": [
       "Data(x=[13752, 767], edge_index=[2, 491722], y=[13752], index=[13752], label_mask=[13752], group_mask=[13752])"
      ]
     },
     "execution_count": 4,
     "metadata": {},
     "output_type": "execute_result"
    }
   ],
   "source": [
    "# adding field index for nodes before putting data into loader\n",
    "data.index = torch.tensor(range(0, len(data.x)))\n",
    "# creating label_mask field - indices of nodes with non empty labels\n",
    "data.label_mask = data.y != -100\n",
    "# creating group_mask field - in homogeneous graph: all zeros\n",
    "data.group_mask = torch.zeros(len(data.x), dtype=torch.int8)\n",
    "data"
   ]
  },
  {
   "cell_type": "code",
   "execution_count": 5,
   "id": "8896acd6",
   "metadata": {
    "execution": {
     "iopub.execute_input": "2024-07-26T00:39:30.287146Z",
     "iopub.status.busy": "2024-07-26T00:39:30.286957Z",
     "iopub.status.idle": "2024-07-26T00:39:30.291181Z",
     "shell.execute_reply": "2024-07-26T00:39:30.290725Z",
     "shell.execute_reply.started": "2024-07-26T00:39:30.287130Z"
    }
   },
   "outputs": [
    {
     "data": {
      "text/plain": [
       "tensor([    0,     1,     2,  ..., 13749, 13750, 13751])"
      ]
     },
     "execution_count": 5,
     "metadata": {},
     "output_type": "execute_result"
    }
   ],
   "source": [
    "# getting indices of nodes with non empty labels\n",
    "non_empty_indices = torch.nonzero(data.label_mask)[:, 0]\n",
    "non_empty_indices"
   ]
  },
  {
   "cell_type": "code",
   "execution_count": 6,
   "id": "c2271596",
   "metadata": {
    "execution": {
     "iopub.execute_input": "2024-07-26T00:39:30.728599Z",
     "iopub.status.busy": "2024-07-26T00:39:30.728419Z",
     "iopub.status.idle": "2024-07-26T00:39:31.022970Z",
     "shell.execute_reply": "2024-07-26T00:39:31.022245Z",
     "shell.execute_reply.started": "2024-07-26T00:39:30.728584Z"
    }
   },
   "outputs": [
    {
     "name": "stdout",
     "output_type": "stream",
     "text": [
      "tensor([ 9240,  9553, 11218,  ...,  5390,   860,  7270])\n",
      "tensor([ 4045, 13231,  4417,  ...,  6101,  6127, 11061])\n"
     ]
    }
   ],
   "source": [
    "# making train/test split for non_empty_inidces\n",
    "from sklearn.model_selection import train_test_split\n",
    "train_idx, test_idx = train_test_split(\n",
    "                non_empty_indices,\n",
    "                train_size=10314,\n",
    "                test_size=3438,\n",
    "                random_state=42,\n",
    "                shuffle=True,\n",
    "            )\n",
    "print(train_idx)\n",
    "print(test_idx)"
   ]
  },
  {
   "cell_type": "code",
   "execution_count": 7,
   "id": "9dc25b0a",
   "metadata": {
    "execution": {
     "iopub.execute_input": "2024-07-26T00:39:31.145130Z",
     "iopub.status.busy": "2024-07-26T00:39:31.144741Z",
     "iopub.status.idle": "2024-07-26T00:39:31.535310Z",
     "shell.execute_reply": "2024-07-26T00:39:31.534457Z",
     "shell.execute_reply.started": "2024-07-26T00:39:31.145107Z"
    }
   },
   "outputs": [
    {
     "name": "stderr",
     "output_type": "stream",
     "text": [
      "Sample data: 100%|██████████| 42/42 [00:00<00:00, 194.61it/s]\n",
      "Sample data: 100%|██████████| 14/14 [00:00<00:00, 197.74it/s]\n"
     ]
    }
   ],
   "source": [
    "from torch_geometric.loader import NeighborLoader\n",
    "from tqdm import tqdm\n",
    "# making test and train loaders\n",
    "train_loader = NeighborLoader(\n",
    "        data,\n",
    "        num_neighbors=[2, 1],\n",
    "        batch_size=250,\n",
    "        shuffle=True,\n",
    "        input_nodes=train_idx,\n",
    "    )\n",
    "# creating list of batches sampled with train_loader\n",
    "list_train_loader = []\n",
    "for sampled_data in tqdm(train_loader, desc=\"Sample data\"):\n",
    "    sampled_data.label_mask[sampled_data.batch_size :] = False\n",
    "    list_train_loader.append(sampled_data)\n",
    "\n",
    "test_loader = NeighborLoader(\n",
    "        data,\n",
    "        num_neighbors=[2, 1],\n",
    "        batch_size=250,\n",
    "        shuffle=True,\n",
    "        input_nodes=test_idx,\n",
    "    )\n",
    "# creating list of batches sampled with test_loader\n",
    "list_test_loader = []\n",
    "for sampled_data in tqdm(test_loader, desc=\"Sample data\"):\n",
    "    sampled_data.label_mask[sampled_data.batch_size :] = False\n",
    "    list_test_loader.append(sampled_data)"
   ]
  },
  {
   "cell_type": "code",
   "execution_count": 8,
   "id": "f9d9da4e",
   "metadata": {
    "execution": {
     "iopub.execute_input": "2024-07-26T00:39:32.069152Z",
     "iopub.status.busy": "2024-07-26T00:39:32.068905Z",
     "iopub.status.idle": "2024-07-26T00:39:56.251269Z",
     "shell.execute_reply": "2024-07-26T00:39:56.244579Z",
     "shell.execute_reply.started": "2024-07-26T00:39:32.069132Z"
    }
   },
   "outputs": [
    {
     "name": "stderr",
     "output_type": "stream",
     "text": [
      "2024-07-26 03:39:36.899 | INFO     | cool_graph.train.helpers:eval_epoch:218 - test:\n",
      " {'accuracy': 0.617, 'cross_entropy': 1.071, 'f1_weighted': 0.565, 'calc_time': 0.004, 'main_metric': 0.617}\n",
      "2024-07-26 03:39:37.283 | INFO     | cool_graph.train.helpers:eval_epoch:218 - train:\n",
      " {'accuracy': 0.608, 'cross_entropy': 1.079, 'f1_weighted': 0.556, 'calc_time': 0.006, 'main_metric': 0.608}\n",
      "2024-07-26 03:39:41.805 | INFO     | cool_graph.train.helpers:eval_epoch:218 - test:\n",
      " {'accuracy': 0.874, 'cross_entropy': 0.401, 'f1_weighted': 0.869, 'calc_time': 0.002, 'main_metric': 0.874}\n",
      "2024-07-26 03:39:42.108 | INFO     | cool_graph.train.helpers:eval_epoch:218 - train:\n",
      " {'accuracy': 0.91, 'cross_entropy': 0.26, 'f1_weighted': 0.905, 'calc_time': 0.005, 'main_metric': 0.91}\n",
      "2024-07-26 03:39:46.144 | INFO     | cool_graph.train.helpers:eval_epoch:218 - test:\n",
      " {'accuracy': 0.891, 'cross_entropy': 0.377, 'f1_weighted': 0.89, 'calc_time': 0.003, 'main_metric': 0.891}\n",
      "2024-07-26 03:39:46.484 | INFO     | cool_graph.train.helpers:eval_epoch:218 - train:\n",
      " {'accuracy': 0.958, 'cross_entropy': 0.132, 'f1_weighted': 0.958, 'calc_time': 0.006, 'main_metric': 0.958}\n",
      "2024-07-26 03:39:50.952 | INFO     | cool_graph.train.helpers:eval_epoch:218 - test:\n",
      " {'accuracy': 0.89, 'cross_entropy': 0.426, 'f1_weighted': 0.889, 'calc_time': 0.002, 'main_metric': 0.89}\n",
      "2024-07-26 03:39:51.289 | INFO     | cool_graph.train.helpers:eval_epoch:218 - train:\n",
      " {'accuracy': 0.971, 'cross_entropy': 0.09, 'f1_weighted': 0.971, 'calc_time': 0.006, 'main_metric': 0.971}\n",
      "2024-07-26 03:39:55.806 | INFO     | cool_graph.train.helpers:eval_epoch:218 - test:\n",
      " {'accuracy': 0.887, 'cross_entropy': 0.473, 'f1_weighted': 0.886, 'calc_time': 0.002, 'main_metric': 0.887}\n",
      "2024-07-26 03:39:56.149 | INFO     | cool_graph.train.helpers:eval_epoch:218 - train:\n",
      " {'accuracy': 0.981, 'cross_entropy': 0.066, 'f1_weighted': 0.981, 'calc_time': 0.006, 'main_metric': 0.981}\n"
     ]
    }
   ],
   "source": [
    "#now let's run Runner with our loaders\n",
    "from cool_graph.runners import Runner\n",
    "runner = Runner(data)\n",
    "result = runner.run(train_loader=list_train_loader, test_loader=list_test_loader)"
   ]
  },
  {
   "cell_type": "code",
   "execution_count": 9,
   "id": "e48ca4cb",
   "metadata": {
    "execution": {
     "iopub.execute_input": "2024-07-26T00:39:56.275711Z",
     "iopub.status.busy": "2024-07-26T00:39:56.266707Z",
     "iopub.status.idle": "2024-07-26T00:39:56.303212Z",
     "shell.execute_reply": "2024-07-26T00:39:56.302364Z",
     "shell.execute_reply.started": "2024-07-26T00:39:56.275607Z"
    }
   },
   "outputs": [
    {
     "data": {
      "text/plain": [
       "{'accuracy': 0.891,\n",
       " 'cross_entropy': 0.377,\n",
       " 'f1_weighted': 0.89,\n",
       " 'calc_time': 0.003,\n",
       " 'main_metric': 0.891,\n",
       " 'tasks': {'y': {'accuracy': 0.8906340895869692,\n",
       "   'cross_entropy': 0.3774034082889557,\n",
       "   'f1_weighted': 0.8904671303679038}},\n",
       " 'epoch': 10}"
      ]
     },
     "execution_count": 9,
     "metadata": {},
     "output_type": "execute_result"
    }
   ],
   "source": [
    "result[\"best_loss\"]"
   ]
  },
  {
   "cell_type": "code",
   "execution_count": null,
   "id": "106c10b3",
   "metadata": {},
   "outputs": [],
   "source": []
  }
 ],
 "metadata": {
  "kernelspec": {
   "display_name": "CGKernel",
   "language": "python",
   "name": "cgkernel"
  },
  "language_info": {
   "codemirror_mode": {
    "name": "ipython",
    "version": 3
   },
   "file_extension": ".py",
   "mimetype": "text/x-python",
   "name": "python",
   "nbconvert_exporter": "python",
   "pygments_lexer": "ipython3",
   "version": "3.8.13"
  }
 },
 "nbformat": 4,
 "nbformat_minor": 5
}
