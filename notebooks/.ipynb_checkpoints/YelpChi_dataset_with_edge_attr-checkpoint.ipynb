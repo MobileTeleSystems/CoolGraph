{
 "cells": [
  {
   "cell_type": "markdown",
   "id": "013fab93",
   "metadata": {},
   "source": [
    "# Load Dataset"
   ]
  },
  {
   "cell_type": "code",
   "execution_count": 21,
   "id": "29e7b050",
   "metadata": {},
   "outputs": [],
   "source": [
    "import sys\n",
    "import os\n",
    "import os.path as osp\n",
    "from zipfile import ZipFile \n",
    "import requests\n",
    "from scipy.io import loadmat\n",
    "\n",
    "import pandas as pd\n",
    "import numpy as np\n",
    "import torch\n",
    "import urllib.request\n",
    "from torch_geometric.data import Data\n",
    "\n",
    "def load_YelpChi_dataset(DATADIR = './data/YelpChi', log=True):   \n",
    "    \"\"\"\n",
    "    load dataset YelpChi (fraud) with edge attributes\n",
    "    \"\"\"\n",
    "    if osp.exists(osp.join(DATADIR,'YelpChi_data.pt')):  \n",
    "        filename = osp.join(DATADIR,'YelpChi_data.pt')\n",
    "        if log:\n",
    "            print(f'Using existing file {filename}', file=sys.stderr)\n",
    "        data = torch.load(filename)\n",
    "        return data\n",
    "        \n",
    "    \n",
    "    else:\n",
    "        if not osp.exists(DATADIR):\n",
    "            os.makedirs(DATADIR)\n",
    "        \n",
    "        download_dir = 'https://github.com/finint/antifraud/raw/main/data/'\n",
    "        filename = 'YelpChi.zip'\n",
    "        url = osp.join(download_dir, filename)\n",
    "        \n",
    "        print(f'Downloading {url}', file=sys.stderr)        \n",
    "        r = requests.get(url)\n",
    "        with open(osp.join(DATADIR, filename),'wb') as f:\n",
    "            f.write(r.content)\n",
    "        \n",
    "        #unzip\n",
    "        print(f'Extracting {osp.join(DATADIR, filename)}', file=sys.stderr)\n",
    "        with ZipFile(osp.join(DATADIR, filename), 'r') as zObject: \n",
    "            zObject.extractall( path=DATADIR\n",
    "                              )        \n",
    "        print(f'Preprocessing ', file=sys.stderr)\n",
    "        yelp = loadmat(osp.join(DATADIR, 'YelpChi.mat'))\n",
    "        net_rur = yelp['net_rur']\n",
    "        net_rtr = yelp['net_rtr']\n",
    "        net_rsr = yelp['net_rsr']\n",
    "        yelp_homo = yelp['homo']\n",
    "\n",
    "        # 1) R-U-R: it connects reviews posted by the same user; \n",
    "        # 2) R-S-R: it connects reviews under the same product with the same star rating (1-5 stars); \n",
    "        # 3) R-T-R: it connects two reviews under the same product posted in the same month.\n",
    "\n",
    "        # Relation\t Edges\n",
    "        # R-U-R\t49,315\n",
    "        # R-T-R\t573,616\n",
    "        # R-S-R\t3,402,743\n",
    "        # All\t3,846,979\n",
    "\n",
    "\n",
    "        data_file = yelp\n",
    "        labels = pd.DataFrame(data_file['label'].flatten())[0]\n",
    "        feat_data = pd.DataFrame(data_file['features'].todense().A)\n",
    "\n",
    "        adj_rur = np.vstack(net_rur.nonzero())\n",
    "        adj_rtr = np.vstack(net_rtr.nonzero())\n",
    "        adj_rsr = np.vstack(net_rsr.nonzero())\n",
    "        adj_homo = np.vstack(yelp_homo.nonzero())\n",
    "\n",
    "        df_rur_edges = pd.DataFrame(adj_rur.T)\n",
    "        df_rtr_edges = pd.DataFrame(adj_rtr.T)\n",
    "        df_rsr_edges = pd.DataFrame(adj_rsr.T)\n",
    "        df_homo_edges = pd.DataFrame(adj_homo.T)\n",
    "\n",
    "        df_rur_edges['rur'] = 1\n",
    "        df_rtr_edges['rtr'] = 1\n",
    "        df_rsr_edges['rsr'] = 1\n",
    "\n",
    "        df_all_edges = df_rtr_edges.merge(\n",
    "                df_rsr_edges,on=[0,1],how='outer'\n",
    "            ).merge(df_rur_edges,on=[0,1],how='outer'\n",
    "               ).fillna(0)\n",
    "\n",
    "        df_all_edges = df_all_edges.rename(columns = {0:'index1', 1:'index2'})\n",
    "\n",
    "        df_all_edges['rstr'] = df_all_edges['rsr'] * df_all_edges['rtr']\n",
    "        extra_feats = df_all_edges.groupby('index1')[['rtr', 'rsr', 'rur', 'rstr']].sum().reset_index()\\\n",
    "            .rename(columns={'index1':'index'})\n",
    "\n",
    "        from sklearn.preprocessing import MinMaxScaler\n",
    "        scaler = MinMaxScaler()\n",
    "\n",
    "        extra_feats[['rsr', 'rur', 'rtr','rstr']] = scaler.fit_transform(\n",
    "            np.log10(extra_feats[['rsr', 'rur', 'rtr','rstr']] + 1)\n",
    "        )\n",
    "\n",
    "        df_all_edges_extra = df_all_edges\\\n",
    "            .merge(\n",
    "                    extra_feats.rename(columns={'index':'index1'}), \n",
    "                    suffixes=('','_lhs'),\n",
    "                    on=['index1']\n",
    "            )\\\n",
    "            .merge(\n",
    "                    extra_feats.rename(columns={'index':'index2'}), \n",
    "                    suffixes=('','_rhs'),\n",
    "                    on=['index2']\n",
    "            )\n",
    "\n",
    "        feat_data['index'] = np.arange(len(feat_data))\n",
    "        df_feats_all = feat_data.drop(columns=['index'])\n",
    "\n",
    "        x = torch.FloatTensor(df_feats_all.values)\n",
    "        edge_index = torch.LongTensor(df_all_edges_extra[['index1','index2']].values.T)\n",
    "\n",
    "        edge_attr = torch.FloatTensor(df_all_edges_extra.drop(columns=['index1','index2']).values)\n",
    "        y = torch.LongTensor(labels.sort_index().values)\n",
    "\n",
    "        data = Data(x=x,edge_index=edge_index, edge_attr=edge_attr, y=y)\n",
    "\n",
    "\n",
    "        torch.save(data,osp.join(DATADIR,'YelpChi_data.pt'))\n",
    "        return data"
   ]
  },
  {
   "cell_type": "code",
   "execution_count": 38,
   "id": "8167e792",
   "metadata": {},
   "outputs": [
    {
     "name": "stderr",
     "output_type": "stream",
     "text": [
      "Downloading https://github.com/finint/antifraud/raw/main/data/YelpChi.zip\n",
      "Extracting ./data/YelpChi/YelpChi.zip\n",
      "Preprocessing \n"
     ]
    },
    {
     "name": "stdout",
     "output_type": "stream",
     "text": [
      "CPU times: user 45.6 s, sys: 10.2 s, total: 55.7 s\n",
      "Wall time: 45.2 s\n"
     ]
    }
   ],
   "source": [
    "%%time\n",
    "data = load_YelpChi_dataset(DATADIR = './data/YelpChi', log=True)"
   ]
  },
  {
   "cell_type": "code",
   "execution_count": 39,
   "id": "b434f44e",
   "metadata": {},
   "outputs": [
    {
     "data": {
      "text/plain": [
       "Data(x=[45954, 32], edge_index=[2, 7693958], edge_attr=[7693958, 12], y=[45954])"
      ]
     },
     "execution_count": 39,
     "metadata": {},
     "output_type": "execute_result"
    }
   ],
   "source": [
    "data"
   ]
  },
  {
   "cell_type": "markdown",
   "id": "253a6a78",
   "metadata": {},
   "source": [
    "# RUN with edge attr"
   ]
  },
  {
   "cell_type": "code",
   "execution_count": 29,
   "id": "ec2aac0b",
   "metadata": {},
   "outputs": [],
   "source": [
    "from cool_graph.runners import Runner"
   ]
  },
  {
   "cell_type": "code",
   "execution_count": 31,
   "id": "08fb0572",
   "metadata": {},
   "outputs": [],
   "source": [
    "runner = Runner(data, \n",
    "                use_edge_attr=True, \n",
    "                overrides=['training.n_epochs=25',],\n",
    "                seed=42,\n",
    "                metrics = ['roc_auc','accuracy', 'f1'])#'training.initial_lr=0.01'"
   ]
  },
  {
   "cell_type": "code",
   "execution_count": 32,
   "id": "60b04874",
   "metadata": {},
   "outputs": [
    {
     "name": "stderr",
     "output_type": "stream",
     "text": [
      "Sample data: 100%|██████████| 138/138 [00:29<00:00,  4.69it/s]\n",
      "Sample data: 100%|██████████| 46/46 [00:09<00:00,  4.75it/s]\n",
      "2023-10-27 19:59:38.948 | INFO     | cool_graph.train.trainer:train:230 - \n",
      "Epoch 000: \n",
      "2023-10-27 19:59:40.457 | INFO     | cool_graph.train.helpers:eval_epoch:176 - test:\n",
      " {'roc_auc': 0.61113194562671, 'accuracy': 0.8515971799112194, 'f1': 0.0, 'calc_time': 0.02510395844777425, 'main_metric': 0.61113194562671}\n",
      "2023-10-27 19:59:40.458 | INFO     | cool_graph.train.trainer:train:257 - Epoch 000: \n",
      "2023-10-27 19:59:44.809 | INFO     | cool_graph.train.helpers:eval_epoch:176 - train:\n",
      " {'roc_auc': 0.6104388215549136, 'accuracy': 0.8557377049180328, 'f1': 0.0, 'calc_time': 0.07250570853551229, 'main_metric': 0.6104388215549136}\n",
      "2023-10-27 20:00:46.468 | INFO     | cool_graph.train.trainer:train:230 - \n",
      "Epoch 005: \n",
      "2023-10-27 20:00:48.392 | INFO     | cool_graph.train.helpers:eval_epoch:176 - test:\n",
      " {'roc_auc': 0.8934165062115897, 'accuracy': 0.8911132387501088, 'f1': 0.5552790615001778, 'calc_time': 0.03204327424367269, 'main_metric': 0.8934165062115897}\n",
      "2023-10-27 20:00:48.393 | INFO     | cool_graph.train.trainer:train:257 - Epoch 005: \n",
      "2023-10-27 20:00:53.487 | INFO     | cool_graph.train.helpers:eval_epoch:176 - train:\n",
      " {'roc_auc': 0.8930016262500513, 'accuracy': 0.8911649499492239, 'f1': 0.5429511392713537, 'calc_time': 0.08488843043645224, 'main_metric': 0.8930016262500513}\n",
      "2023-10-27 20:01:55.752 | INFO     | cool_graph.train.trainer:train:230 - \n",
      "Epoch 010: \n",
      "2023-10-27 20:01:57.642 | INFO     | cool_graph.train.helpers:eval_epoch:176 - test:\n",
      " {'roc_auc': 0.9010051721285336, 'accuracy': 0.8935503525110976, 'f1': 0.6063727067911168, 'calc_time': 0.03143475850423177, 'main_metric': 0.9010051721285336}\n",
      "2023-10-27 20:01:57.643 | INFO     | cool_graph.train.trainer:train:257 - Epoch 010: \n",
      "2023-10-27 20:02:02.520 | INFO     | cool_graph.train.helpers:eval_epoch:176 - train:\n",
      " {'roc_auc': 0.9017184941466809, 'accuracy': 0.8953721166400697, 'f1': 0.6004874806115665, 'calc_time': 0.08126909335454305, 'main_metric': 0.9017184941466809}\n",
      "2023-10-27 20:03:03.671 | INFO     | cool_graph.train.trainer:train:230 - \n",
      "Epoch 015: \n",
      "2023-10-27 20:03:05.499 | INFO     | cool_graph.train.helpers:eval_epoch:176 - test:\n",
      " {'roc_auc': 0.9045269912215287, 'accuracy': 0.8967708242666899, 'f1': 0.5960490463215259, 'calc_time': 0.030441478888193766, 'main_metric': 0.9045269912215287}\n",
      "2023-10-27 20:03:05.500 | INFO     | cool_graph.train.trainer:train:257 - Epoch 015: \n",
      "2023-10-27 20:03:10.294 | INFO     | cool_graph.train.helpers:eval_epoch:176 - train:\n",
      " {'roc_auc': 0.9050597222314284, 'accuracy': 0.9005367764398665, 'f1': 0.5959453088165959, 'calc_time': 0.07989779313405355, 'main_metric': 0.9050597222314284}\n",
      "2023-10-27 20:04:11.735 | INFO     | cool_graph.train.trainer:train:230 - \n",
      "Epoch 020: \n",
      "2023-10-27 20:04:13.395 | INFO     | cool_graph.train.helpers:eval_epoch:176 - test:\n",
      " {'roc_auc': 0.9058595576475329, 'accuracy': 0.8985986595874315, 'f1': 0.5959070412764481, 'calc_time': 0.027647717793782552, 'main_metric': 0.9058595576475329}\n",
      "2023-10-27 20:04:13.396 | INFO     | cool_graph.train.trainer:train:257 - Epoch 020: \n",
      "2023-10-27 20:04:18.063 | INFO     | cool_graph.train.helpers:eval_epoch:176 - train:\n",
      " {'roc_auc': 0.9067027549714608, 'accuracy': 0.9011170752937763, 'f1': 0.5911708253358925, 'calc_time': 0.07777320543924968, 'main_metric': 0.9067027549714608}\n",
      "                                                 \r"
     ]
    }
   ],
   "source": [
    "result = runner.run()"
   ]
  },
  {
   "cell_type": "code",
   "execution_count": 33,
   "id": "8468be2f",
   "metadata": {},
   "outputs": [
    {
     "data": {
      "text/plain": [
       "0.9058595576475329"
      ]
     },
     "execution_count": 33,
     "metadata": {},
     "output_type": "execute_result"
    }
   ],
   "source": [
    "result['best_loss']['roc_auc']"
   ]
  },
  {
   "cell_type": "markdown",
   "id": "bda90015",
   "metadata": {},
   "source": [
    "# RUN without edge attr"
   ]
  },
  {
   "cell_type": "code",
   "execution_count": 34,
   "id": "bf821d86",
   "metadata": {},
   "outputs": [
    {
     "name": "stderr",
     "output_type": "stream",
     "text": [
      "Sample data: 100%|██████████| 138/138 [00:25<00:00,  5.35it/s]\n",
      "Sample data: 100%|██████████| 46/46 [00:07<00:00,  6.20it/s]\n",
      "2023-10-27 20:05:46.389 | INFO     | cool_graph.train.trainer:train:230 - \n",
      "Epoch 000: \n",
      "2023-10-27 20:05:46.999 | INFO     | cool_graph.train.helpers:eval_epoch:176 - test:\n",
      " {'roc_auc': 0.7727286514819814, 'accuracy': 0.8569066063190878, 'f1': 0.09868421052631579, 'calc_time': 0.010153059164683025, 'main_metric': 0.7727286514819814}\n",
      "2023-10-27 20:05:47.000 | INFO     | cool_graph.train.trainer:train:257 - Epoch 000: \n",
      "2023-10-27 20:05:49.877 | INFO     | cool_graph.train.helpers:eval_epoch:176 - train:\n",
      " {'roc_auc': 0.7718866107258253, 'accuracy': 0.8592485129841868, 'f1': 0.09882964889466841, 'calc_time': 0.047935350735982256, 'main_metric': 0.7718866107258253}\n",
      "2023-10-27 20:06:12.761 | INFO     | cool_graph.train.trainer:train:230 - \n",
      "Epoch 005: \n",
      "2023-10-27 20:06:13.562 | INFO     | cool_graph.train.helpers:eval_epoch:176 - test:\n",
      " {'roc_auc': 0.840267670240239, 'accuracy': 0.8801462268256594, 'f1': 0.4000000000000001, 'calc_time': 0.013333948453267415, 'main_metric': 0.840267670240239}\n",
      "2023-10-27 20:06:13.563 | INFO     | cool_graph.train.trainer:train:257 - Epoch 005: \n",
      "2023-10-27 20:06:15.337 | INFO     | cool_graph.train.helpers:eval_epoch:176 - train:\n",
      " {'roc_auc': 0.845072524129224, 'accuracy': 0.8792688234440736, 'f1': 0.3792331791735044, 'calc_time': 0.029557021458943684, 'main_metric': 0.845072524129224}\n",
      "2023-10-27 20:06:39.075 | INFO     | cool_graph.train.trainer:train:230 - \n",
      "Epoch 010: \n",
      "2023-10-27 20:06:39.677 | INFO     | cool_graph.train.helpers:eval_epoch:176 - test:\n",
      " {'roc_auc': 0.8616917200384613, 'accuracy': 0.8846722952389242, 'f1': 0.4894026974951831, 'calc_time': 0.010024007161458333, 'main_metric': 0.8616917200384613}\n",
      "2023-10-27 20:06:39.678 | INFO     | cool_graph.train.trainer:train:257 - Epoch 010: \n",
      "2023-10-27 20:06:41.474 | INFO     | cool_graph.train.helpers:eval_epoch:176 - train:\n",
      " {'roc_auc': 0.8664283320265886, 'accuracy': 0.8894240533874945, 'f1': 0.5020253495361297, 'calc_time': 0.02991341749827067, 'main_metric': 0.8664283320265886}\n",
      "2023-10-27 20:07:04.762 | INFO     | cool_graph.train.trainer:train:230 - \n",
      "Epoch 015: \n",
      "2023-10-27 20:07:06.008 | INFO     | cool_graph.train.helpers:eval_epoch:176 - test:\n",
      " {'roc_auc': 0.8654926770141207, 'accuracy': 0.8860649316737749, 'f1': 0.476609356257497, 'calc_time': 0.02074920336405436, 'main_metric': 0.8654926770141207}\n",
      "2023-10-27 20:07:06.009 | INFO     | cool_graph.train.trainer:train:257 - Epoch 015: \n",
      "2023-10-27 20:07:07.723 | INFO     | cool_graph.train.helpers:eval_epoch:176 - train:\n",
      " {'roc_auc': 0.8755286410599252, 'accuracy': 0.8923545625997389, 'f1': 0.4949632453035665, 'calc_time': 0.02855195999145508, 'main_metric': 0.8755286410599252}\n",
      "2023-10-27 20:07:29.823 | INFO     | cool_graph.train.trainer:train:230 - \n",
      "Epoch 020: \n",
      "2023-10-27 20:07:30.400 | INFO     | cool_graph.train.helpers:eval_epoch:176 - test:\n",
      " {'roc_auc': 0.8723677774234312, 'accuracy': 0.8886761249891201, 'f1': 0.5123903926801372, 'calc_time': 0.00960154930750529, 'main_metric': 0.8723677774234312}\n",
      "2023-10-27 20:07:30.401 | INFO     | cool_graph.train.trainer:train:257 - Epoch 020: \n",
      "2023-10-27 20:07:32.197 | INFO     | cool_graph.train.helpers:eval_epoch:176 - train:\n",
      " {'roc_auc': 0.8836702432547435, 'accuracy': 0.8961845350355433, 'f1': 0.5326541274817137, 'calc_time': 0.029933615525563558, 'main_metric': 0.8836702432547435}\n",
      "                                                 \r"
     ]
    }
   ],
   "source": [
    "runner2 = Runner(data, \n",
    "                 use_edge_attr=False, \n",
    "                 overrides=['training.n_epochs=25'],\n",
    "                 seed=42,\n",
    "                 metrics = ['roc_auc','accuracy', 'f1'])\n",
    "result2 = runner2.run()"
   ]
  },
  {
   "cell_type": "code",
   "execution_count": 35,
   "id": "de1cabe3",
   "metadata": {},
   "outputs": [
    {
     "data": {
      "text/plain": [
       "0.8723677774234312"
      ]
     },
     "execution_count": 35,
     "metadata": {},
     "output_type": "execute_result"
    }
   ],
   "source": [
    "result2['best_loss']['roc_auc']"
   ]
  },
  {
   "cell_type": "markdown",
   "id": "d95ae86f",
   "metadata": {},
   "source": [
    "# So with edge attributes roc_auc better \n",
    "# 0.906 vs 0.872"
   ]
  },
  {
   "cell_type": "code",
   "execution_count": null,
   "id": "e8940ffa",
   "metadata": {},
   "outputs": [],
   "source": []
  }
 ],
 "metadata": {
  "kernelspec": {
   "display_name": "cool_graph_env2_py38",
   "language": "python",
   "name": "cool_graph_env2_py38"
  },
  "language_info": {
   "codemirror_mode": {
    "name": "ipython",
    "version": 3
   },
   "file_extension": ".py",
   "mimetype": "text/x-python",
   "name": "python",
   "nbconvert_exporter": "python",
   "pygments_lexer": "ipython3",
   "version": "3.8.13"
  }
 },
 "nbformat": 4,
 "nbformat_minor": 5
}
