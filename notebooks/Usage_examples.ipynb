{
 "cells": [
  {
   "cell_type": "markdown",
   "id": "d3884e9b",
   "metadata": {},
   "source": [
    "# CoolGraph usage Examples"
   ]
  },
  {
   "cell_type": "markdown",
   "id": "11f7f298",
   "metadata": {},
   "source": [
    "1. [Multitarget prediction](#p1)\n",
    "2. [Predict_proba](#p2)\n",
    "3. [Edge attributes (dataset YelpChi)](#p3)\n",
    "4. [HypeRunner example](#p4)"
   ]
  },
  {
   "cell_type": "markdown",
   "id": "0b236132",
   "metadata": {},
   "source": [
    "# 1. <a id=\"p1\"> Multitarget prediction </a> "
   ]
  },
  {
   "cell_type": "markdown",
   "id": "23505c1c",
   "metadata": {},
   "source": [
    "### Training `Runner` on `Multitarget 10k` dataset which has 4 targets"
   ]
  },
  {
   "cell_type": "code",
   "execution_count": 2,
   "id": "5197e120",
   "metadata": {
    "execution": {
     "iopub.execute_input": "2024-07-26T14:05:06.579044Z",
     "iopub.status.busy": "2024-07-26T14:05:06.578528Z",
     "iopub.status.idle": "2024-07-26T14:05:20.144187Z",
     "shell.execute_reply": "2024-07-26T14:05:20.143371Z",
     "shell.execute_reply.started": "2024-07-26T14:05:06.579017Z"
    }
   },
   "outputs": [
    {
     "name": "stderr",
     "output_type": "stream",
     "text": [
      "Using existing file ./data/50k/50k_data.pt\n"
     ]
    },
    {
     "data": {
      "text/plain": [
       "Data(x=[5860353, 162], edge_index=[2, 4444748], edge_attr=[4444748, 44], y=[5860353, 4], label_3=[5860353], label_4=[5860353], label_5=[5860353], label_6=[5860353], label_mask=[5860353], index=[5860353])"
      ]
     },
     "execution_count": 2,
     "metadata": {},
     "output_type": "execute_result"
    }
   ],
   "source": [
    "# importing loader of dataset\n",
    "from cool_graph.datasets.multitarget import Multitarget\n",
    "import torch\n",
    "import pandas as pd\n",
    "from torch_geometric.data import Data\n",
    "# initializing loader and downloading dataset heterogeneous Multitarget 50k\n",
    "dataset = Multitarget(root=\"./data\", name=\"50k\")\n",
    "hetero_data = dataset.data\n",
    "# Take just <node_1> node type\n",
    "# So we use homogenious data (standard)\n",
    "data_50k = Data(**hetero_data['node_1'], **hetero_data[('node_1', 'to', 'node_1')])\n",
    "data_50k"
   ]
  },
  {
   "cell_type": "code",
   "execution_count": 3,
   "id": "929b6d07",
   "metadata": {
    "execution": {
     "iopub.execute_input": "2024-07-26T14:05:20.146753Z",
     "iopub.status.busy": "2024-07-26T14:05:20.146069Z",
     "iopub.status.idle": "2024-07-26T14:05:20.153039Z",
     "shell.execute_reply": "2024-07-26T14:05:20.152399Z",
     "shell.execute_reply.started": "2024-07-26T14:05:20.146724Z"
    }
   },
   "outputs": [],
   "source": [
    "def dataset_info(data):\n",
    "    n_features = data.x.shape[1]\n",
    "    n_nodes = data.x.shape[0]\n",
    "    n_edges = data.edge_index.shape[1]\n",
    "    if len(data.y.shape) == 1:\n",
    "        print(f'# nodes    {n_nodes} \\n# features {n_features} \\n# edges    {n_edges} \\n# classes  {len(data.y.unique())}')\n",
    "    else:\n",
    "        print(f'# nodes    {n_nodes} \\n# features {n_features} \\n# edges    {n_edges} \\n# tasks    {data.y.shape[1]}')"
   ]
  },
  {
   "cell_type": "code",
   "execution_count": 4,
   "id": "5504e1bd",
   "metadata": {
    "execution": {
     "iopub.execute_input": "2024-07-26T14:05:22.084092Z",
     "iopub.status.busy": "2024-07-26T14:05:22.083680Z",
     "iopub.status.idle": "2024-07-26T14:05:22.094671Z",
     "shell.execute_reply": "2024-07-26T14:05:22.093851Z",
     "shell.execute_reply.started": "2024-07-26T14:05:22.084064Z"
    }
   },
   "outputs": [
    {
     "name": "stdout",
     "output_type": "stream",
     "text": [
      "# nodes    5860353 \n",
      "# features 162 \n",
      "# edges    4444748 \n",
      "# tasks    4\n"
     ]
    }
   ],
   "source": [
    "dataset_info(data_50k)"
   ]
  },
  {
   "cell_type": "markdown",
   "id": "ac0385c9",
   "metadata": {},
   "source": [
    "#### As we see, data_50k  has 4 tasks"
   ]
  },
  {
   "cell_type": "code",
   "execution_count": 38,
   "id": "e3709084",
   "metadata": {
    "execution": {
     "iopub.execute_input": "2024-07-26T13:00:44.807689Z",
     "iopub.status.busy": "2024-07-26T13:00:44.807431Z",
     "iopub.status.idle": "2024-07-26T13:01:50.720198Z",
     "shell.execute_reply": "2024-07-26T13:01:50.719157Z",
     "shell.execute_reply.started": "2024-07-26T13:00:44.807669Z"
    }
   },
   "outputs": [],
   "source": [
    "from cool_graph.runners import Runner\n",
    "# initializing runner\n",
    "runner = Runner(data_50k, \n",
    "                metrics=[\"accuracy\", \"roc_auc\"],\n",
    "                overrides=[\"training.n_epochs=20\"], #using overrides to change config parameters e.g num of epochs\n",
    "                use_edge_attr=True,\n",
    "                verbose=False) # clear output \n",
    "# running\n",
    "result = runner.run()"
   ]
  },
  {
   "cell_type": "code",
   "execution_count": 39,
   "id": "8e6f9232",
   "metadata": {
    "execution": {
     "iopub.execute_input": "2024-07-26T13:01:50.721510Z",
     "iopub.status.busy": "2024-07-26T13:01:50.721282Z",
     "iopub.status.idle": "2024-07-26T13:01:50.727167Z",
     "shell.execute_reply": "2024-07-26T13:01:50.726386Z",
     "shell.execute_reply.started": "2024-07-26T13:01:50.721490Z"
    }
   },
   "outputs": [
    {
     "data": {
      "text/plain": [
       "{'y0': {'accuracy': 0.7876106194690266, 'roc_auc': 0.6368211610486891},\n",
       " 'y1': {'accuracy': 0.8382789317507419, 'roc_auc': 0.7481407810343428},\n",
       " 'y2': {'accuracy': 0.8130030959752322, 'roc_auc': 0.7789663762662671},\n",
       " 'y3': {'accuracy': 0.9183564567769477, 'roc_auc': 0.772605226479513}}"
      ]
     },
     "execution_count": 39,
     "metadata": {},
     "output_type": "execute_result"
    }
   ],
   "source": [
    "result[\"best_loss\"][\"tasks\"]"
   ]
  },
  {
   "cell_type": "markdown",
   "id": "16ae3df8",
   "metadata": {},
   "source": [
    "#### Success! Runner returned result for each of 4 tasks"
   ]
  },
  {
   "cell_type": "markdown",
   "id": "3d590b05",
   "metadata": {},
   "source": [
    "# 2. Predict_proba"
   ]
  },
  {
   "cell_type": "markdown",
   "id": "1fb25d8c",
   "metadata": {},
   "source": [
    "#### Now when `Runner` is trained on `Multitarget 50k` let's try to make predictions of probabilities on its smaller version `Multitarget 10k` using `predict_proba()` function"
   ]
  },
  {
   "cell_type": "code",
   "execution_count": 40,
   "id": "83c9e854",
   "metadata": {
    "execution": {
     "iopub.execute_input": "2024-07-26T13:01:50.728768Z",
     "iopub.status.busy": "2024-07-26T13:01:50.728553Z",
     "iopub.status.idle": "2024-07-26T13:01:52.250012Z",
     "shell.execute_reply": "2024-07-26T13:01:52.249187Z",
     "shell.execute_reply.started": "2024-07-26T13:01:50.728751Z"
    }
   },
   "outputs": [
    {
     "name": "stderr",
     "output_type": "stream",
     "text": [
      "Using existing file ./data/10k/10k_data.pt\n"
     ]
    },
    {
     "data": {
      "text/plain": [
       "Data(x=[5860353, 162], edge_index=[2, 4444748], edge_attr=[4444748, 44], y=[5860353, 4], label_3=[5860353], label_4=[5860353], label_5=[5860353], label_6=[5860353], label_mask=[5860353], index=[5860353])"
      ]
     },
     "execution_count": 40,
     "metadata": {},
     "output_type": "execute_result"
    }
   ],
   "source": [
    "# initializing loader and downloading dataset heterogeneous Multitarget 50k\n",
    "dataset_10k = Multitarget(root=\"./data\", name=\"10k\")\n",
    "hetero_data_10k = dataset.data\n",
    "# Take just <node_1> node type\n",
    "# So we use homogenious data (standard)\n",
    "data_10k = Data(**hetero_data_10k['node_1'], **hetero_data_10k[('node_1', 'to', 'node_1')])\n",
    "data_10k"
   ]
  },
  {
   "cell_type": "code",
   "execution_count": 41,
   "id": "afe87079",
   "metadata": {
    "execution": {
     "iopub.execute_input": "2024-07-26T13:02:50.819676Z",
     "iopub.status.busy": "2024-07-26T13:02:50.819359Z",
     "iopub.status.idle": "2024-07-26T13:05:24.198513Z",
     "shell.execute_reply": "2024-07-26T13:05:24.197433Z",
     "shell.execute_reply.started": "2024-07-26T13:02:50.819653Z"
    }
   },
   "outputs": [],
   "source": [
    "# getting prediction of probabilities of nodes from dataset 10k belonging to each of 2 classes \n",
    "# for each of 4 tasks\n",
    "preds, indices = runner.predict_proba(data_10k)"
   ]
  },
  {
   "cell_type": "code",
   "execution_count": 42,
   "id": "0bad3f82",
   "metadata": {
    "execution": {
     "iopub.execute_input": "2024-07-26T13:05:24.214190Z",
     "iopub.status.busy": "2024-07-26T13:05:24.213900Z",
     "iopub.status.idle": "2024-07-26T13:05:24.223960Z",
     "shell.execute_reply": "2024-07-26T13:05:24.223236Z",
     "shell.execute_reply.started": "2024-07-26T13:05:24.214168Z"
    }
   },
   "outputs": [
    {
     "data": {
      "text/plain": [
       "{'y0': array([[0.9017693 , 0.09823073],\n",
       "        [0.7370497 , 0.26295033],\n",
       "        [0.8555638 , 0.14443615],\n",
       "        ...,\n",
       "        [0.47313455, 0.5268655 ],\n",
       "        [0.8173959 , 0.18260406],\n",
       "        [0.73850167, 0.26149836]], dtype=float32),\n",
       " 'y1': array([[0.9371028 , 0.06289722],\n",
       "        [0.69243616, 0.30756384],\n",
       "        [0.9101161 , 0.08988392],\n",
       "        ...,\n",
       "        [0.5783753 , 0.4216247 ],\n",
       "        [0.9145268 , 0.08547316],\n",
       "        [0.8037039 , 0.1962961 ]], dtype=float32),\n",
       " 'y2': array([[0.9348664 , 0.06513356],\n",
       "        [0.68636143, 0.31363857],\n",
       "        [0.9185518 , 0.08144818],\n",
       "        ...,\n",
       "        [0.5885619 , 0.41143805],\n",
       "        [0.8848064 , 0.11519361],\n",
       "        [0.84842014, 0.15157993]], dtype=float32),\n",
       " 'y3': array([[0.9589429 , 0.04105709],\n",
       "        [0.7329957 , 0.26700428],\n",
       "        [0.9534491 , 0.04655091],\n",
       "        ...,\n",
       "        [0.68484616, 0.3151538 ],\n",
       "        [0.93870944, 0.06129053],\n",
       "        [0.89100754, 0.10899248]], dtype=float32)}"
      ]
     },
     "execution_count": 42,
     "metadata": {},
     "output_type": "execute_result"
    }
   ],
   "source": [
    "preds"
   ]
  },
  {
   "cell_type": "code",
   "execution_count": 43,
   "id": "4f4936ab",
   "metadata": {
    "execution": {
     "iopub.execute_input": "2024-07-26T13:05:24.224945Z",
     "iopub.status.busy": "2024-07-26T13:05:24.224738Z",
     "iopub.status.idle": "2024-07-26T13:05:24.346878Z",
     "shell.execute_reply": "2024-07-26T13:05:24.346052Z",
     "shell.execute_reply.started": "2024-07-26T13:05:24.224927Z"
    }
   },
   "outputs": [
    {
     "data": {
      "text/plain": [
       "{'y0': {'roc_auc': 0.7670744391065326, 'accuracy': 0.7940828402366864},\n",
       " 'y1': {'roc_auc': 0.7991345626270197, 'accuracy': 0.8475287251504651},\n",
       " 'y2': {'roc_auc': 0.8403112528995542, 'accuracy': 0.8343036978756885},\n",
       " 'y3': {'roc_auc': 0.8375078288720048, 'accuracy': 0.914281946459185}}"
      ]
     },
     "execution_count": 43,
     "metadata": {},
     "output_type": "execute_result"
    }
   ],
   "source": [
    "#lets try to calculate accuracy on our predictions with calc_metrics function\n",
    "from cool_graph.train.metrics import calc_metrics\n",
    "# passing data_10k as our true labels, predictions from predict_proba and indices of nodes from predict_proba\n",
    "metrics = calc_metrics(data_10k, preds, metrics=[\"roc_auc\", \"accuracy\"], indices=indices)\n",
    "metrics"
   ]
  },
  {
   "cell_type": "markdown",
   "id": "101c6300",
   "metadata": {},
   "source": [
    "#### Success!"
   ]
  },
  {
   "cell_type": "markdown",
   "id": "2afde5b5",
   "metadata": {},
   "source": [
    "# 3. <a id=\"p3\"> Edge attributes (dataset YelpChi) </a>"
   ]
  },
  {
   "cell_type": "markdown",
   "id": "7631387c",
   "metadata": {},
   "source": [
    "#### Training `Runner` on `YelpChi` dataset which has edge attributes <br> Firstly without using edge_attributes <br> Secondly with using edge attributes"
   ]
  },
  {
   "cell_type": "code",
   "execution_count": 26,
   "id": "9d9f67dc",
   "metadata": {
    "execution": {
     "iopub.execute_input": "2024-07-26T12:38:31.895755Z",
     "iopub.status.busy": "2024-07-26T12:38:31.895495Z",
     "iopub.status.idle": "2024-07-26T12:38:32.274608Z",
     "shell.execute_reply": "2024-07-26T12:38:32.273768Z",
     "shell.execute_reply.started": "2024-07-26T12:38:31.895734Z"
    }
   },
   "outputs": [
    {
     "name": "stderr",
     "output_type": "stream",
     "text": [
      "Using existing file ./data/yelpchi/YelpChi_data.pt\n"
     ]
    },
    {
     "data": {
      "text/plain": [
       "Data(x=[45954, 32], edge_index=[2, 7693958], edge_attr=[7693958, 12], y=[45954])"
      ]
     },
     "execution_count": 26,
     "metadata": {},
     "output_type": "execute_result"
    }
   ],
   "source": [
    "# importing loader for YelpChi dataset\n",
    "from cool_graph.datasets.antifraud import AntiFraud\n",
    "# initializing dataset\n",
    "dataset = AntiFraud(root=\"./data\", name=\"YelpChi\")\n",
    "data = dataset.data\n",
    "data"
   ]
  },
  {
   "cell_type": "markdown",
   "id": "f525bd58",
   "metadata": {},
   "source": [
    "#### As we see, data has edge_attributes"
   ]
  },
  {
   "cell_type": "markdown",
   "id": "80cb1352",
   "metadata": {},
   "source": [
    "### Running with flag `use_edge_attr=False`"
   ]
  },
  {
   "cell_type": "code",
   "execution_count": 19,
   "id": "b8650e4b",
   "metadata": {
    "execution": {
     "iopub.execute_input": "2024-07-26T12:29:24.494816Z",
     "iopub.status.busy": "2024-07-26T12:29:24.493980Z",
     "iopub.status.idle": "2024-07-26T12:31:52.468064Z",
     "shell.execute_reply": "2024-07-26T12:31:52.458977Z",
     "shell.execute_reply.started": "2024-07-26T12:29:24.494717Z"
    }
   },
   "outputs": [],
   "source": [
    "seed = 42 # using same seed for both runs\n",
    "runner_no_edge = Runner(data, \n",
    "                        use_edge_attr=False,\n",
    "                        metrics = ['roc_auc','accuracy', 'f1'], # defining metrics\n",
    "                        seed=seed,\n",
    "                        verbose=False) # clear output \n",
    "result_no_edge = runner_no_edge.run()"
   ]
  },
  {
   "cell_type": "markdown",
   "id": "2ede6eaf",
   "metadata": {},
   "source": [
    "### Running with flag `use_edge_attr=True`"
   ]
  },
  {
   "cell_type": "code",
   "execution_count": 27,
   "id": "7a30c15e",
   "metadata": {
    "execution": {
     "iopub.execute_input": "2024-07-26T12:38:35.959219Z",
     "iopub.status.busy": "2024-07-26T12:38:35.958954Z",
     "iopub.status.idle": "2024-07-26T12:43:49.119185Z",
     "shell.execute_reply": "2024-07-26T12:43:49.117570Z",
     "shell.execute_reply.started": "2024-07-26T12:38:35.959199Z"
    }
   },
   "outputs": [],
   "source": [
    "runner_with_edge = Runner(data, \n",
    "                        use_edge_attr=True,\n",
    "                        metrics = ['roc_auc','accuracy', 'f1'], # defining metrics\n",
    "                        seed=seed,\n",
    "                        verbose=False) # clear output \n",
    "result_with_edge = runner_with_edge.run()"
   ]
  },
  {
   "cell_type": "code",
   "execution_count": 30,
   "id": "c9fa9a18",
   "metadata": {
    "execution": {
     "iopub.execute_input": "2024-07-26T12:44:18.959012Z",
     "iopub.status.busy": "2024-07-26T12:44:18.958723Z",
     "iopub.status.idle": "2024-07-26T12:44:18.963731Z",
     "shell.execute_reply": "2024-07-26T12:44:18.962860Z",
     "shell.execute_reply.started": "2024-07-26T12:44:18.958990Z"
    }
   },
   "outputs": [
    {
     "name": "stdout",
     "output_type": "stream",
     "text": [
      "with no edge attributes: 0.869\n",
      "with using edge attributes: 0.906\n"
     ]
    }
   ],
   "source": [
    "print(\"with no edge attributes:\", result_no_edge[\"best_loss\"][\"roc_auc\"])\n",
    "print(\"with using edge attributes:\", result_with_edge[\"best_loss\"][\"roc_auc\"])"
   ]
  },
  {
   "cell_type": "markdown",
   "id": "778d2990",
   "metadata": {},
   "source": [
    "### Roc_auc 0.869 vs 0.906 on same seed, so using edge attributes makes predictions better"
   ]
  },
  {
   "cell_type": "markdown",
   "id": "9792a65d",
   "metadata": {},
   "source": [
    "# 4. <a id=\"p4\"> HypeRunner example </a>"
   ]
  },
  {
   "cell_type": "markdown",
   "id": "71665b8c",
   "metadata": {},
   "source": [
    "### Unlike Runner, HypeRunner selects hyperparameters with `Optuna`, it has `optimize_run()` instead of `run()` and the rest of the usage is no different from the runner"
   ]
  },
  {
   "cell_type": "code",
   "execution_count": 2,
   "id": "2d667be6",
   "metadata": {
    "execution": {
     "iopub.execute_input": "2024-07-26T13:16:04.805850Z",
     "iopub.status.busy": "2024-07-26T13:16:04.805240Z",
     "iopub.status.idle": "2024-07-26T13:16:06.323615Z",
     "shell.execute_reply": "2024-07-26T13:16:06.323071Z",
     "shell.execute_reply.started": "2024-07-26T13:16:04.805829Z"
    }
   },
   "outputs": [
    {
     "data": {
      "text/plain": [
       "Data(x=[13752, 767], edge_index=[2, 491722], y=[13752])"
      ]
     },
     "execution_count": 2,
     "metadata": {},
     "output_type": "execute_result"
    }
   ],
   "source": [
    "from torch_geometric import datasets\n",
    "import torch\n",
    "import pandas as pd\n",
    "from torch_geometric.data import Data\n",
    "# use simple Amazon dataset with Computers\n",
    "dataset = datasets.Amazon(root='./data/Amazon', name='Computers')\n",
    "data = dataset.data\n",
    "data"
   ]
  },
  {
   "cell_type": "code",
   "execution_count": null,
   "id": "d01838a8",
   "metadata": {},
   "outputs": [],
   "source": [
    "from cool_graph.runners import HypeRunner\n",
    "# initializing hyperunner\n",
    "hyperunner = HypeRunner(data, \n",
    "                seed=42,\n",
    "                verbose=False)\n",
    "hyperunner_result = hyperunner.optimize_run(n_trials=10)"
   ]
  },
  {
   "cell_type": "code",
   "execution_count": null,
   "id": "3bc2b359",
   "metadata": {},
   "outputs": [],
   "source": [
    "hyperunner_result"
   ]
  },
  {
   "cell_type": "code",
   "execution_count": null,
   "id": "bbaef5d1",
   "metadata": {},
   "outputs": [],
   "source": []
  }
 ],
 "metadata": {
  "kernelspec": {
   "display_name": "CGKernel",
   "language": "python",
   "name": "cgkernel"
  },
  "language_info": {
   "codemirror_mode": {
    "name": "ipython",
    "version": 3
   },
   "file_extension": ".py",
   "mimetype": "text/x-python",
   "name": "python",
   "nbconvert_exporter": "python",
   "pygments_lexer": "ipython3",
   "version": "3.8.13"
  }
 },
 "nbformat": 4,
 "nbformat_minor": 5
}
