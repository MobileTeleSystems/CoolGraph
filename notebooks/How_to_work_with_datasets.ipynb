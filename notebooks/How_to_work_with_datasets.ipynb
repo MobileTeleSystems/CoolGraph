{
 "cells": [
  {
   "cell_type": "markdown",
   "id": "ab49cddb",
   "metadata": {},
   "source": [
    "# How to work with datasets in CoolGraph <a name=\"toc\"></a>\n",
    "\n",
    "1. [Uploading a dataset](#p1)\n",
    "2. [Using data from a dataset](#p2)\n",
    "3. [Uploading a dataset using a name](#p2)"
   ]
  },
  {
   "cell_type": "markdown",
   "id": "508ca8ba",
   "metadata": {},
   "source": [
    "CoolGraph implements some graph datasets that are not available in other libraries \\\n",
    "The syntax for working with them is very similar to the syntax of PyG"
   ]
  },
  {
   "cell_type": "markdown",
   "id": "a25dfc60",
   "metadata": {},
   "source": [
    "# Uploading a dataset <a name=\"p1\"></a>\n",
    "all datasets are located in the cool_graph.datasets module. To load a dataset, you need to import a class with it."
   ]
  },
  {
   "cell_type": "code",
   "execution_count": 2,
   "id": "01826117",
   "metadata": {
    "execution": {
     "iopub.status.idle": "2024-07-26T00:11:42.822184Z",
     "shell.execute_reply": "2024-07-26T00:11:42.821380Z",
     "shell.execute_reply.started": "2024-07-26T00:11:40.125713Z"
    }
   },
   "outputs": [],
   "source": [
    "from cool_graph.datasets import S_FFSD, AntiFraud\n",
    "from cool_graph.runners import Runner, HypeRunner"
   ]
  },
  {
   "cell_type": "markdown",
   "id": "e460c650",
   "metadata": {},
   "source": [
    "When creating a dataset, you need to specify the folder where the file with it will be saved. \\\n",
    "If you are creating a dataset for the first time, the raw file is downloaded from the Internet."
   ]
  },
  {
   "cell_type": "code",
   "execution_count": 3,
   "id": "95a275ce",
   "metadata": {
    "execution": {
     "iopub.execute_input": "2024-07-26T00:11:42.823578Z",
     "iopub.status.busy": "2024-07-26T00:11:42.823213Z",
     "iopub.status.idle": "2024-07-26T00:12:02.774927Z",
     "shell.execute_reply": "2024-07-26T00:12:02.774051Z",
     "shell.execute_reply.started": "2024-07-26T00:11:42.823557Z"
    }
   },
   "outputs": [
    {
     "name": "stderr",
     "output_type": "stream",
     "text": [
      "Downloading https://drive.usercontent.google.com/download?id=1pODQWJFS7-dwUmnwl6YNFYQ17241j26b&export=download&confirm=t\n",
      "Preprocessing \n",
      "Source: 100%|██████████| 30346/30346 [00:05<00:00, 5136.23it/s]\n",
      "Target: 100%|██████████| 886/886 [00:00<00:00, 1555.96it/s]\n",
      "Location: 100%|██████████| 296/296 [00:00<00:00, 658.03it/s]\n",
      "Type: 100%|██████████| 166/166 [00:00<00:00, 301.12it/s]\n",
      "dataset saved as ./data/s_ffsd/S-FFSD_data.pt\n"
     ]
    }
   ],
   "source": [
    "s_ffsd = S_FFSD(root='./data/s_ffsd')"
   ]
  },
  {
   "cell_type": "markdown",
   "id": "55aeccdc",
   "metadata": {},
   "source": [
    "When you re-create the dataset using the same path, the downloaded raw file will be used"
   ]
  },
  {
   "cell_type": "code",
   "execution_count": 4,
   "id": "7106b7aa",
   "metadata": {
    "execution": {
     "iopub.execute_input": "2024-07-26T00:12:02.776548Z",
     "iopub.status.busy": "2024-07-26T00:12:02.776255Z",
     "iopub.status.idle": "2024-07-26T00:12:02.820011Z",
     "shell.execute_reply": "2024-07-26T00:12:02.819346Z",
     "shell.execute_reply.started": "2024-07-26T00:12:02.776523Z"
    }
   },
   "outputs": [
    {
     "name": "stderr",
     "output_type": "stream",
     "text": [
      "Using existing file ./data/s_ffsd/S-FFSD_data.pt\n"
     ]
    }
   ],
   "source": [
    "s_ffsd_copy = S_FFSD(root='./data/s_ffsd')"
   ]
  },
  {
   "cell_type": "markdown",
   "id": "86bb31b9",
   "metadata": {},
   "source": [
    "# 2. Using data from a dataset <a name=\"p2\"></a>"
   ]
  },
  {
   "cell_type": "markdown",
   "id": "ffd51994",
   "metadata": {},
   "source": [
    "Graph in the format \"torch_geometric.data.data.Data\" is located in the data field of the dataset"
   ]
  },
  {
   "cell_type": "code",
   "execution_count": 5,
   "id": "b8795dbc",
   "metadata": {
    "execution": {
     "iopub.execute_input": "2024-07-26T00:12:02.822281Z",
     "iopub.status.busy": "2024-07-26T00:12:02.822019Z",
     "iopub.status.idle": "2024-07-26T00:12:02.825518Z",
     "shell.execute_reply": "2024-07-26T00:12:02.824888Z",
     "shell.execute_reply.started": "2024-07-26T00:12:02.822260Z"
    }
   },
   "outputs": [],
   "source": [
    "data = s_ffsd.data"
   ]
  },
  {
   "cell_type": "code",
   "execution_count": 6,
   "id": "00a0a3bc",
   "metadata": {
    "execution": {
     "iopub.execute_input": "2024-07-26T00:12:02.828434Z",
     "iopub.status.busy": "2024-07-26T00:12:02.828223Z",
     "iopub.status.idle": "2024-07-26T00:13:21.863464Z",
     "shell.execute_reply": "2024-07-26T00:13:21.862481Z",
     "shell.execute_reply.started": "2024-07-26T00:12:02.828415Z"
    }
   },
   "outputs": [
    {
     "name": "stderr",
     "output_type": "stream",
     "text": [
      "Sample data: 100%|██████████| 89/89 [00:00<00:00, 455.38it/s]\n",
      "Sample data: 100%|██████████| 30/30 [00:00<00:00, 459.25it/s]\n",
      "2024-07-26 03:12:11 - epoch 0 test:            \n",
      " {'accuracy': 0.878, 'cross_entropy': 0.33, 'f1_weighted': 0.855, 'calc_time': 0.009, 'main_metric': 0.878}\n",
      "2024-07-26 03:12:12 - epoch 0 train:           \n",
      " {'accuracy': 0.889, 'cross_entropy': 0.311, 'f1_weighted': 0.868, 'calc_time': 0.026, 'main_metric': 0.889}\n",
      "2024-07-26 03:12:30 - epoch 5 test:            \n",
      " {'accuracy': 0.884, 'cross_entropy': 0.293, 'f1_weighted': 0.867, 'calc_time': 0.007, 'main_metric': 0.884}\n",
      "2024-07-26 03:12:31 - epoch 5 train:           \n",
      " {'accuracy': 0.896, 'cross_entropy': 0.268, 'f1_weighted': 0.881, 'calc_time': 0.021, 'main_metric': 0.896}\n",
      "2024-07-26 03:12:49 - epoch 10 test:           \n",
      " {'accuracy': 0.884, 'cross_entropy': 0.284, 'f1_weighted': 0.866, 'calc_time': 0.009, 'main_metric': 0.884}\n",
      "2024-07-26 03:12:50 - epoch 10 train:          \n",
      " {'accuracy': 0.9, 'cross_entropy': 0.248, 'f1_weighted': 0.885, 'calc_time': 0.026, 'main_metric': 0.9}\n",
      "2024-07-26 03:13:09 - epoch 15 test:           \n",
      " {'accuracy': 0.884, 'cross_entropy': 0.28, 'f1_weighted': 0.868, 'calc_time': 0.009, 'main_metric': 0.884}\n",
      "2024-07-26 03:13:11 - epoch 15 train:          \n",
      " {'accuracy': 0.902, 'cross_entropy': 0.238, 'f1_weighted': 0.889, 'calc_time': 0.022, 'main_metric': 0.902}\n",
      "2024-07-26 03:13:21 - epoch 20 test:            \n",
      " {'accuracy': 0.884, 'cross_entropy': 0.279, 'f1_weighted': 0.868, 'calc_time': 0.004, 'main_metric': 0.884}\n",
      "2024-07-26 03:13:21 - epoch 20 train:           \n",
      " {'accuracy': 0.903, 'cross_entropy': 0.225, 'f1_weighted': 0.889, 'calc_time': 0.012, 'main_metric': 0.903}\n"
     ]
    }
   ],
   "source": [
    "runner = Runner(data)\n",
    "result = runner.run()"
   ]
  },
  {
   "cell_type": "markdown",
   "id": "245b5c6c",
   "metadata": {},
   "source": [
    "# 3. Uploading a dataset using a name <a name=\"p3\"></a>"
   ]
  },
  {
   "cell_type": "markdown",
   "id": "72dcae4b",
   "metadata": {},
   "source": [
    "If there are several datasets in the class, specify the name of the dataset you want to work with in the arguments."
   ]
  },
  {
   "cell_type": "code",
   "execution_count": 7,
   "id": "0fc692d4",
   "metadata": {
    "execution": {
     "iopub.execute_input": "2024-07-26T00:13:21.865866Z",
     "iopub.status.busy": "2024-07-26T00:13:21.865271Z",
     "iopub.status.idle": "2024-07-26T00:13:22.268532Z",
     "shell.execute_reply": "2024-07-26T00:13:22.267857Z",
     "shell.execute_reply.started": "2024-07-26T00:13:21.865835Z"
    }
   },
   "outputs": [
    {
     "name": "stderr",
     "output_type": "stream",
     "text": [
      "Using existing file ./data/yelpchi/yelpchi/YelpChi_data.pt\n"
     ]
    }
   ],
   "source": [
    "yelpchi = AntiFraud(root='./data/yelpchi', name='YelpChi')"
   ]
  },
  {
   "cell_type": "code",
   "execution_count": 8,
   "id": "ae6b88de",
   "metadata": {
    "execution": {
     "iopub.execute_input": "2024-07-26T00:13:22.269835Z",
     "iopub.status.busy": "2024-07-26T00:13:22.269595Z",
     "iopub.status.idle": "2024-07-26T00:16:39.678051Z",
     "shell.execute_reply": "2024-07-26T00:16:39.677407Z",
     "shell.execute_reply.started": "2024-07-26T00:13:22.269815Z"
    }
   },
   "outputs": [
    {
     "name": "stderr",
     "output_type": "stream",
     "text": [
      "Sample data: 100%|██████████| 138/138 [00:33<00:00,  4.13it/s]\n",
      "Sample data: 100%|██████████| 46/46 [00:11<00:00,  4.12it/s]\n",
      "\u001b[32m[I 2024-07-26 03:14:07,905]\u001b[0m A new study created in memory with name: no-name-9983a2a8-a5e3-4607-b99e-aadfc94bed2c\u001b[0m\n",
      "2024-07-26 03:14:17 - epoch 0 test:              \n",
      " {'accuracy': 0.854, 'cross_entropy': 0.359, 'f1_weighted': 0.787, 'calc_time': 0.022, 'main_metric': 0.854}\n",
      "2024-07-26 03:14:20 - epoch 0 train:             \n",
      " {'accuracy': 0.855, 'cross_entropy': 0.354, 'f1_weighted': 0.788, 'calc_time': 0.045, 'main_metric': 0.855}\n",
      "2024-07-26 03:14:53 - epoch 5 test:              \n",
      " {'accuracy': 0.872, 'cross_entropy': 0.324, 'f1_weighted': 0.856, 'calc_time': 0.023, 'main_metric': 0.872}\n",
      "2024-07-26 03:14:55 - epoch 5 train:             \n",
      " {'accuracy': 0.872, 'cross_entropy': 0.322, 'f1_weighted': 0.855, 'calc_time': 0.045, 'main_metric': 0.872}\n",
      "2024-07-26 03:15:25 - epoch 10 test:             \n",
      " {'accuracy': 0.884, 'cross_entropy': 0.294, 'f1_weighted': 0.86, 'calc_time': 0.015, 'main_metric': 0.884}\n",
      "2024-07-26 03:15:27 - epoch 10 train:            \n",
      " {'accuracy': 0.884, 'cross_entropy': 0.292, 'f1_weighted': 0.859, 'calc_time': 0.039, 'main_metric': 0.884}\n",
      "2024-07-26 03:15:57 - epoch 15 test:             \n",
      " {'accuracy': 0.885, 'cross_entropy': 0.285, 'f1_weighted': 0.867, 'calc_time': 0.015, 'main_metric': 0.885}\n",
      "2024-07-26 03:16:00 - epoch 15 train:            \n",
      " {'accuracy': 0.889, 'cross_entropy': 0.278, 'f1_weighted': 0.872, 'calc_time': 0.048, 'main_metric': 0.889}\n",
      "2024-07-26 03:16:36 - epoch 20 test:             \n",
      " {'accuracy': 0.889, 'cross_entropy': 0.279, 'f1_weighted': 0.873, 'calc_time': 0.016, 'main_metric': 0.889}\n",
      "2024-07-26 03:16:39 - epoch 20 train:            \n",
      " {'accuracy': 0.892, 'cross_entropy': 0.27, 'f1_weighted': 0.877, 'calc_time': 0.048, 'main_metric': 0.892}\n",
      "\u001b[32m[I 2024-07-26 03:16:39,417]\u001b[0m Trial 0 finished with value: 0.889 and parameters: {'activation': 'leakyrelu', 'lin_prep_len': 1, 'lin_prep_dropout_rate': 0.4, 'lin_prep_weight_norm_flag': True, 'lin_prep_size_common': 512, 'lin_prep_size0_fraction': 0.5, 'conv1_aggrs_mean_fraction': 0.5, 'conv1_aggrs_max_fraction': 0.25, 'conv1_aggrs_add_fraction': 0.125, 'conv1_dropout_rate': 0.2, 'conv2_aggrs_mean_fraction': 0.2857142857142857, 'conv2_aggrs_max_fraction': 0.14285714285714285, 'conv2_aggrs_add_fraction': 0.07142857142857142, 'conv2_dropout_rate': 0.2, 'graph_conv_weight_norm_flag': True}. Best is trial 0 with value: 0.889.\u001b[0m\n"
     ]
    },
    {
     "name": "stdout",
     "output_type": "stream",
     "text": [
      "Study statistics: \n",
      "  Number of finished trials:  1\n",
      "  Number of complete trials:  1\n",
      "Best trial:\n",
      "  Value:  0.889\n",
      "  Params: \n",
      "{'conv_type': 'GraphConv', 'activation': 'leakyrelu', 'lin_prep_len': 1, 'lin_prep_dropout_rate': 0.4, 'lin_prep_weight_norm_flag': True, 'lin_prep_size_common': 512, 'lin_prep_sizes': [256], 'n_hops': 2, 'conv1_aggrs': {'mean': 128, 'max': 64, 'add': 32}, 'conv1_dropout_rate': 0.2, 'conv2_aggrs': {'mean': 64, 'max': 32, 'add': 16}, 'conv2_dropout_rate': 0.2, 'graph_conv_weight_norm_flag': True}\n"
     ]
    }
   ],
   "source": [
    "runner = HypeRunner(yelpchi.data)\n",
    "result = runner.optimize_run(n_trials=1)"
   ]
  }
 ],
 "metadata": {
  "kernelspec": {
   "display_name": "cool_graph_kernel2",
   "language": "python",
   "name": "cool_graph_kernel2"
  },
  "language_info": {
   "codemirror_mode": {
    "name": "ipython",
    "version": 3
   },
   "file_extension": ".py",
   "mimetype": "text/x-python",
   "name": "python",
   "nbconvert_exporter": "python",
   "pygments_lexer": "ipython3",
   "version": "3.8.13"
  }
 },
 "nbformat": 4,
 "nbformat_minor": 5
}
